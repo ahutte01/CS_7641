{
 "cells": [
  {
   "cell_type": "code",
   "execution_count": 1,
   "metadata": {},
   "outputs": [],
   "source": [
    "import pandas as pd\n",
    "import numpy as np \n",
    "import matplotlib.pyplot as plt\n",
    "import os\n",
    "pd.set_option('max_columns', None)\n",
    "pd.set_option('max_rows', None)\n",
    "\n",
    "import warnings\n",
    "warnings.simplefilter(action='ignore', category=FutureWarning)\n",
    "\n",
    "import time\n",
    "\n",
    "from sklearn.model_selection import train_test_split\n",
    "from sklearn.preprocessing import MinMaxScaler, OneHotEncoder\n",
    "from sklearn.metrics import accuracy_score, f1_score"
   ]
  },
  {
   "cell_type": "code",
   "execution_count": 2,
   "metadata": {},
   "outputs": [],
   "source": [
    "import six\n",
    "import sys\n",
    "sys.modules['sklearn.externals.six'] = six\n",
    "import mlrose"
   ]
  },
  {
   "cell_type": "markdown",
   "metadata": {},
   "source": [
    "## Part 1"
   ]
  },
  {
   "cell_type": "markdown",
   "metadata": {},
   "source": [
    "What is an optimization problem? \n",
    "\n",
    "- We aim to find the best state, according to some objective function. \n",
    "- An example of a state is the weights used in a machine learning model, such as a neural network\n",
    "- State is represented by a one-dimensional vector \n",
    "- \"Best\" state is defined using the Cost Function/Fitness Function/Objective Function \n",
    "- Function takes in a State Array as Input and returns a Fitness Value as Output\n"
   ]
  },
  {
   "cell_type": "markdown",
   "metadata": {},
   "source": [
    "We will make 3 steps to solve an optimization problem with mlrose:\n",
    " - 1) Define fitness function object\n",
    " - 2) Define an optimization problem object\n",
    " - 3) Select and run a randomized optimization algorithm"
   ]
  },
  {
   "cell_type": "markdown",
   "metadata": {},
   "source": [
    "#### 1) Define Fitness Function Object"
   ]
  },
  {
   "cell_type": "code",
   "execution_count": 121,
   "metadata": {},
   "outputs": [],
   "source": [
    "#fitness1 = mlrose.FourPeaks(t_pct=0.1)\n",
    "#fitness2 = mlrose.MaxKColor(edges=edges)\n",
    "#fitness3 = mlrose.FlipFlop()\n",
    "\n",
    "import random\n",
    "\n",
    "random.seed(42)\n",
    "weights = []\n",
    "values = []\n",
    "\n",
    "for i in range(100):    \n",
    "    weights.append(random.randint(1, 100))\n",
    "    values.append(random.randint(1, 100))\n",
    "\n",
    "    \n",
    "#fitness4 = mlrose.Knapsack(weights=weights, values=values, max_weight_pct = 0.35)\n",
    "\n",
    "fitness4 = mlrose.Knapsack(weights=weights, values=values, max_weight_pct = 0.35)"
   ]
  },
  {
   "cell_type": "markdown",
   "metadata": {},
   "source": [
    "#### 2) Define an Optimization Problem Object"
   ]
  },
  {
   "cell_type": "code",
   "execution_count": 122,
   "metadata": {},
   "outputs": [],
   "source": [
    "#this requires a LENGTH of Edges - we can tune this \n",
    "\n",
    "problem4 = mlrose.DiscreteOpt(length = 100, fitness_fn = fitness4, maximize = True, max_val = 2)"
   ]
  },
  {
   "cell_type": "code",
   "execution_count": 123,
   "metadata": {},
   "outputs": [
    {
     "data": {
      "text/plain": [
       "100"
      ]
     },
     "execution_count": 123,
     "metadata": {},
     "output_type": "execute_result"
    }
   ],
   "source": [
    "problem4.length"
   ]
  },
  {
   "cell_type": "markdown",
   "metadata": {},
   "source": [
    "#### 3) Select and Run Randomized Optimization Algorithm"
   ]
  },
  {
   "cell_type": "markdown",
   "metadata": {},
   "source": [
    "##### Find Optimzal Parameters for RHC, SA, GA, Mimic for the Knap Sack Problem"
   ]
  },
  {
   "cell_type": "markdown",
   "metadata": {},
   "source": [
    "##### Random Hill Climbing"
   ]
  },
  {
   "cell_type": "markdown",
   "metadata": {},
   "source": [
    "restarts"
   ]
  },
  {
   "cell_type": "code",
   "execution_count": 124,
   "metadata": {},
   "outputs": [
    {
     "name": "stdout",
     "output_type": "stream",
     "text": [
      "restarts: 0.0 best_fitness: 0.0\n",
      "restarts: 1.0 best_fitness: 0.0\n",
      "restarts: 2.0 best_fitness: 0.0\n",
      "restarts: 3.0 best_fitness: 0.0\n",
      "restarts: 4.0 best_fitness: 0.0\n",
      "restarts: 5.0 best_fitness: 0.0\n",
      "restarts: 6.0 best_fitness: 0.0\n",
      "restarts: 7.0 best_fitness: 0.0\n",
      "restarts: 8.0 best_fitness: 0.0\n",
      "restarts: 9.0 best_fitness: 0.0\n",
      "restarts: 10.0 best_fitness: 0.0\n",
      "restarts: 25.0 best_fitness: 0.0\n",
      "restarts: 50.0 best_fitness: 0.0\n",
      "restarts: 75.0 best_fitness: 0.0\n",
      "restarts: 100.0 best_fitness: 0.0\n",
      "restarts: 200.0 best_fitness: 0.0\n"
     ]
    }
   ],
   "source": [
    "restarts_list = np.arange(0, 11, 1)\n",
    "\n",
    "restarts_probs = [.25, .50, .75, 1.0, 2.0]\n",
    "problem_length = np.array(problem4.length)\n",
    "\n",
    "restarts_list2 = np.dot(restarts_probs, problem_length)\n",
    "\n",
    "restarts_list_full =  np.concatenate((restarts_list, restarts_list2))\n",
    "\n",
    "for num in restarts_list_full:\n",
    "    best_state, best_fitness = mlrose.random_hill_climb(problem=problem4, restarts = int(num),\n",
    "                                                   max_attempts = 10, max_iters = 1000,\n",
    "                                                        random_state = 42)\n",
    "    #print(best_state)\n",
    "    print(\"restarts:\",num, \"best_fitness:\",best_fitness)\n"
   ]
  },
  {
   "cell_type": "markdown",
   "metadata": {},
   "source": [
    "max_attempts"
   ]
  },
  {
   "cell_type": "code",
   "execution_count": 125,
   "metadata": {},
   "outputs": [
    {
     "name": "stdout",
     "output_type": "stream",
     "text": [
      "0.0\n",
      "0.0\n",
      "0.0\n",
      "0.0\n",
      "0.0\n"
     ]
    }
   ],
   "source": [
    "max_attempts_list = [10, 100, 1000, 10000, 100000]\n",
    "\n",
    "for num in max_attempts_list:\n",
    "    \n",
    "    best_state, best_fitness = mlrose.random_hill_climb(problem=problem4, restarts = 1,\n",
    "                                                   max_attempts = int(num), max_iters = 1000,\n",
    "                                                   random_state = 42)\n",
    "    #print(best_state)\n",
    "    print(best_fitness)\n"
   ]
  },
  {
   "cell_type": "markdown",
   "metadata": {},
   "source": [
    "max_iters"
   ]
  },
  {
   "cell_type": "code",
   "execution_count": 126,
   "metadata": {},
   "outputs": [
    {
     "name": "stdout",
     "output_type": "stream",
     "text": [
      "0.0\n",
      "0.0\n",
      "0.0\n",
      "0.0\n",
      "0.0\n"
     ]
    }
   ],
   "source": [
    "max_iters_list = [10, 100, 1000, 10000, 100000]\n",
    "\n",
    "for num in max_iters_list:\n",
    "    \n",
    "    best_state, best_fitness = mlrose.random_hill_climb(problem=problem4, restarts = 1,\n",
    "                                                   max_attempts = 10, max_iters = int(num),\n",
    "                                                    random_state = 42)\n",
    "    #print(best_state)\n",
    "    print(best_fitness)\n"
   ]
  },
  {
   "cell_type": "markdown",
   "metadata": {},
   "source": [
    "##### Simulated Annealing"
   ]
  },
  {
   "cell_type": "markdown",
   "metadata": {},
   "source": [
    "schedule"
   ]
  },
  {
   "cell_type": "code",
   "execution_count": 127,
   "metadata": {},
   "outputs": [
    {
     "name": "stdout",
     "output_type": "stream",
     "text": [
      "2239.0\n"
     ]
    },
    {
     "name": "stderr",
     "output_type": "stream",
     "text": [
      "/Users/amandahutter/anaconda3/lib/python3.7/site-packages/mlrose/algorithms.py:311: RuntimeWarning: overflow encountered in exp\n",
      "  prob = np.exp(delta_e/temp)\n"
     ]
    }
   ],
   "source": [
    "scheduleG = mlrose.GeomDecay()\n",
    "scheduleA = mlrose.ArithDecay()\n",
    "scheduleE = mlrose.ExpDecay()\n",
    "\n",
    "best_state, best_fitness = mlrose.simulated_annealing(problem=problem4, schedule = scheduleG,\n",
    "                                               max_attempts = 10, max_iters = 1000,\n",
    "                                                    random_state = 42)\n",
    "\n",
    "#print(best_state)\n",
    "\n",
    "print(best_fitness)"
   ]
  },
  {
   "cell_type": "code",
   "execution_count": 128,
   "metadata": {},
   "outputs": [
    {
     "name": "stdout",
     "output_type": "stream",
     "text": [
      "2239.0\n"
     ]
    }
   ],
   "source": [
    "best_state, best_fitness = mlrose.simulated_annealing(problem=problem4, schedule = scheduleA,\n",
    "                                               max_attempts = 10, max_iters = 1000,\n",
    "                                                    random_state = 42)\n",
    "\n",
    "#print(best_state)\n",
    "\n",
    "print(best_fitness)"
   ]
  },
  {
   "cell_type": "code",
   "execution_count": 129,
   "metadata": {},
   "outputs": [
    {
     "name": "stdout",
     "output_type": "stream",
     "text": [
      "2239.0\n"
     ]
    }
   ],
   "source": [
    "best_state, best_fitness = mlrose.simulated_annealing(problem=problem4, schedule = scheduleE,\n",
    "                                               max_attempts = 10, max_iters = 1000,\n",
    "                                                    random_state = 42)\n",
    "\n",
    "#print(best_state)\n",
    "\n",
    "print(best_fitness)"
   ]
  },
  {
   "cell_type": "markdown",
   "metadata": {},
   "source": [
    "Max Attempts"
   ]
  },
  {
   "cell_type": "code",
   "execution_count": 130,
   "metadata": {},
   "outputs": [
    {
     "name": "stdout",
     "output_type": "stream",
     "text": [
      "2239.0\n",
      "2239.0\n",
      "2239.0\n",
      "2239.0\n",
      "2239.0\n"
     ]
    }
   ],
   "source": [
    "max_attempts_list = [10, 100, 1000, 10000, 100000]\n",
    "\n",
    "for num in max_attempts_list:\n",
    "    \n",
    "    best_state, best_fitness = mlrose.simulated_annealing(problem=problem4, schedule = scheduleG,\n",
    "                                                   max_attempts = num, max_iters = 1000,\n",
    "                                                        random_state = 42)\n",
    "\n",
    "    #print(best_state)\n",
    "    print(best_fitness)\n"
   ]
  },
  {
   "cell_type": "markdown",
   "metadata": {},
   "source": [
    "Max Iters"
   ]
  },
  {
   "cell_type": "code",
   "execution_count": 131,
   "metadata": {},
   "outputs": [
    {
     "name": "stdout",
     "output_type": "stream",
     "text": [
      "0.0\n",
      "0.0\n",
      "2239.0\n",
      "2239.0\n",
      "2239.0\n"
     ]
    }
   ],
   "source": [
    "max_iters_list = [10, 100, 1000, 10000, 100000]\n",
    "\n",
    "for num in max_iters_list:\n",
    "    \n",
    "    best_state, best_fitness = mlrose.simulated_annealing(problem=problem4, schedule = scheduleG,\n",
    "                                                   max_attempts = 10, max_iters = num,\n",
    "                                                        random_state = 42)\n",
    "    \n",
    "    #print(best_state)\n",
    "    print(best_fitness)\n"
   ]
  },
  {
   "cell_type": "markdown",
   "metadata": {},
   "source": [
    "##### Genetic Alg"
   ]
  },
  {
   "cell_type": "code",
   "execution_count": 132,
   "metadata": {},
   "outputs": [
    {
     "name": "stdout",
     "output_type": "stream",
     "text": [
      "2700.0\n"
     ]
    }
   ],
   "source": [
    "best_state, best_fitness = mlrose.genetic_alg(problem=problem4, \n",
    "                                              pop_size = 200, mutation_prob = 0.1,\n",
    "                                              max_attempts = 10, max_iters = 1000,\n",
    "                                               random_state = 42)\n",
    "\n",
    "\n",
    "print(best_fitness)"
   ]
  },
  {
   "cell_type": "markdown",
   "metadata": {},
   "source": [
    "pop_size"
   ]
  },
  {
   "cell_type": "code",
   "execution_count": 88,
   "metadata": {},
   "outputs": [
    {
     "name": "stdout",
     "output_type": "stream",
     "text": [
      "pop_size: 10.0  best_fitness: 2494.0\n",
      "pop_size: 25.0  best_fitness: 2666.0\n",
      "pop_size: 50.0  best_fitness: 2714.0\n",
      "pop_size: 75.0  best_fitness: 2747.0\n",
      "pop_size: 100.0  best_fitness: 2806.0\n",
      "pop_size: 150.0  best_fitness: 2761.0\n",
      "pop_size: 200.0  best_fitness: 2890.0\n",
      "pop_size: 250.0  best_fitness: 2911.0\n",
      "pop_size: 300.0  best_fitness: 2888.0\n",
      "pop_size: 500.0  best_fitness: 2969.0\n",
      "pop_size: 750.0  best_fitness: 2865.0\n",
      "pop_size: 1000  best_fitness: 3003.0\n"
     ]
    }
   ],
   "source": [
    "pop_size_list = [.10, .25, .50, .75, 1.0, 1.50, 2.0, 2.50, 3.0, 5.0, 7.5, 10]\n",
    "problem_length = problem4.length\n",
    "\n",
    "for num in pop_size_list:\n",
    "    size =  problem_length*num\n",
    "    best_state, best_fitness = mlrose.genetic_alg(problem=problem4, \n",
    "                                                  pop_size = int(size), mutation_prob = 0.1,\n",
    "                                                   max_attempts = 100, max_iters = 1000,\n",
    "                                                        random_state = 42)\n",
    "\n",
    "    print(\"pop_size:\", size, \" best_fitness:\", best_fitness)\n"
   ]
  },
  {
   "cell_type": "code",
   "execution_count": 138,
   "metadata": {},
   "outputs": [
    {
     "name": "stdout",
     "output_type": "stream",
     "text": [
      "pop_size: 10.0  best_fitness: 0.0\n",
      "pop_size: 25.0  best_fitness: 3050.0\n",
      "pop_size: 50.0  best_fitness: 3137.0\n",
      "pop_size: 75.0  best_fitness: 3150.0\n",
      "pop_size: 100.0  best_fitness: 3127.0\n",
      "pop_size: 150.0  best_fitness: 3109.0\n",
      "pop_size: 200.0  best_fitness: 3205.0\n",
      "pop_size: 250.0  best_fitness: 3168.0\n",
      "pop_size: 300.0  best_fitness: 3269.0\n",
      "pop_size: 500.0  best_fitness: 3266.0\n",
      "pop_size: 750.0  best_fitness: 3235.0\n",
      "pop_size: 1000  best_fitness: 3249.0\n"
     ]
    }
   ],
   "source": [
    "pop_size_list = [.10, .25, .50, .75, 1.0, 1.50, 2.0, 2.50, 3.0, 5.0, 7.5, 10]\n",
    "problem_length = problem4.length\n",
    "\n",
    "ga_dict1 = {\n",
    "    'pop_size': [],\n",
    "    'best_fitness':[],\n",
    "    'curve':[]\n",
    "}\n",
    "for num in pop_size_list:\n",
    "    size =  problem_length*num\n",
    "    best_state, best_fitness,curve = mlrose.genetic_alg(problem=problem4, \n",
    "                                                  #pop_size = int(size), mutation_prob = 0.1,\n",
    "                                                  pop_size = int(size), mutation_prob = 0.01,\n",
    "                                                   max_attempts = 100, max_iters = 1000,\n",
    "                                                        random_state = 42,curve=True)\n",
    "\n",
    "    print(\"pop_size:\", size, \" best_fitness:\", best_fitness)\n",
    "    ga_dict1['pop_size'].append(size)\n",
    "    ga_dict1['best_fitness'].append(best_fitness)\n",
    "    ga_dict1['curve'].append(curve)\n",
    "    \n"
   ]
  },
  {
   "cell_type": "code",
   "execution_count": 139,
   "metadata": {},
   "outputs": [
    {
     "data": {
      "image/png": "[encoded data removed]",
      "text/plain": [
       "<Figure size 432x288 with 1 Axes>"
      ]
     },
     "metadata": {
      "needs_background": "light"
     },
     "output_type": "display_data"
    }
   ],
   "source": [
    "for i in range(len(ga_dict1['curve'])):\n",
    "    y = ga_dict1['curve'][i]\n",
    "    label = ga_dict1['pop_size'][i]\n",
    "\n",
    "    plt.plot(y, label=label)\n",
    "\n",
    "plt.title(\"KnapSack GA Population Size Tuning\")\n",
    "plt.ylabel(\"Fitness\")\n",
    "plt.xlabel(\"Iterations\")\n",
    "plt.legend(title='Pop Size as % of\\nProblem Length ', bbox_to_anchor=(1.05, 1), loc='upper left',fontsize='small', fancybox=True)\n",
    "plt.show()"
   ]
  },
  {
   "cell_type": "markdown",
   "metadata": {},
   "source": [
    "mutation_prob"
   ]
  },
  {
   "cell_type": "code",
   "execution_count": 92,
   "metadata": {},
   "outputs": [
    {
     "name": "stdout",
     "output_type": "stream",
     "text": [
      "mutation_prob: 0.1 best_fitness: 3003.0\n",
      "mutation_prob: 0.2 best_fitness: 2839.0\n",
      "mutation_prob: 0.30000000000000004 best_fitness: 2865.0\n",
      "mutation_prob: 0.4 best_fitness: 2835.0\n",
      "mutation_prob: 0.5 best_fitness: 2677.0\n",
      "mutation_prob: 0.6 best_fitness: 2644.0\n",
      "mutation_prob: 0.7000000000000001 best_fitness: 2664.0\n",
      "mutation_prob: 0.8 best_fitness: 2767.0\n",
      "mutation_prob: 0.9 best_fitness: 2842.0\n"
     ]
    }
   ],
   "source": [
    "mutation_prob_list = np.arange(0.1, 1, 0.1) \n",
    "\n",
    "for num in mutation_prob_list:\n",
    "    best_state, best_fitness = mlrose.genetic_alg(problem=problem4, \n",
    "                                                  pop_size = 10*problem4.length, mutation_prob = num,\n",
    "                                                   max_attempts = 100, max_iters = 1000,\n",
    "                                                        random_state = 42)\n",
    "\n",
    "    print(\"mutation_prob:\", num, \"best_fitness:\", best_fitness)"
   ]
  },
  {
   "cell_type": "code",
   "execution_count": 133,
   "metadata": {},
   "outputs": [
    {
     "name": "stdout",
     "output_type": "stream",
     "text": [
      "mutation_prob: 0.05 best_fitness: 3058.0\n",
      "mutation_prob: 0.060000000000000005 best_fitness: 2996.0\n",
      "mutation_prob: 0.07 best_fitness: 2987.0\n",
      "mutation_prob: 0.08000000000000002 best_fitness: 2955.0\n",
      "mutation_prob: 0.09000000000000001 best_fitness: 2989.0\n",
      "mutation_prob: 0.1 best_fitness: 3003.0\n",
      "mutation_prob: 0.11000000000000001 best_fitness: 2843.0\n",
      "mutation_prob: 0.12000000000000001 best_fitness: 2904.0\n",
      "mutation_prob: 0.13 best_fitness: 2820.0\n",
      "mutation_prob: 0.14 best_fitness: 2894.0\n",
      "mutation_prob: 0.15000000000000002 best_fitness: 2996.0\n"
     ]
    }
   ],
   "source": [
    "mutation_prob_list = np.arange(0.05, .16, 0.01) \n",
    "\n",
    "for num in mutation_prob_list:\n",
    "    best_state, best_fitness = mlrose.genetic_alg(problem=problem4, \n",
    "                                                  pop_size = 10*problem4.length, mutation_prob = num,\n",
    "                                                   max_attempts = 100, max_iters = 1000,\n",
    "                                                        random_state = 42)\n",
    "\n",
    "    print(\"mutation_prob:\", num, \"best_fitness:\", best_fitness)"
   ]
  },
  {
   "cell_type": "code",
   "execution_count": 134,
   "metadata": {},
   "outputs": [
    {
     "name": "stdout",
     "output_type": "stream",
     "text": [
      "mutation_prob: 0.01 best_fitness: 3249.0\n",
      "mutation_prob: 0.02 best_fitness: 3148.0\n",
      "mutation_prob: 0.03 best_fitness: 3037.0\n",
      "mutation_prob: 0.04 best_fitness: 3088.0\n",
      "mutation_prob: 0.05 best_fitness: 3058.0\n"
     ]
    }
   ],
   "source": [
    "mutation_prob_list = np.arange(0.01, .06, 0.01) \n",
    "\n",
    "for num in mutation_prob_list:\n",
    "    best_state, best_fitness = mlrose.genetic_alg(problem=problem4, \n",
    "                                                  pop_size = 10*problem4.length, mutation_prob = num,\n",
    "                                                   max_attempts = 100, max_iters = 1000,\n",
    "                                                        random_state = 42)\n",
    "\n",
    "    print(\"mutation_prob:\", num, \"best_fitness:\", best_fitness)"
   ]
  },
  {
   "cell_type": "code",
   "execution_count": 101,
   "metadata": {},
   "outputs": [
    {
     "name": "stdout",
     "output_type": "stream",
     "text": [
      "mutation_prob: 0.1  best_fitness: 3003.0\n",
      "mutation_prob: 0.2  best_fitness: 2839.0\n",
      "mutation_prob: 0.30000000000000004  best_fitness: 2865.0\n",
      "mutation_prob: 0.4  best_fitness: 2835.0\n",
      "mutation_prob: 0.5  best_fitness: 2677.0\n",
      "mutation_prob: 0.6  best_fitness: 2644.0\n",
      "mutation_prob: 0.7000000000000001  best_fitness: 2664.0\n",
      "mutation_prob: 0.8  best_fitness: 2767.0\n",
      "mutation_prob: 0.9  best_fitness: 2842.0\n"
     ]
    }
   ],
   "source": [
    "mutation_prob_list = np.arange(0.1, 1, 0.1) \n",
    "\n",
    "ga_dict2 = {\n",
    "    'mutation_prob': [],\n",
    "    'best_fitness':[],\n",
    "    'curve':[]\n",
    "}\n",
    "for num in mutation_prob_list:\n",
    "    \n",
    "    best_state, best_fitness,curve = mlrose.genetic_alg(problem=problem4, \n",
    "                                                  pop_size = 10*problem4.length, mutation_prob = num,\n",
    "                                                   max_attempts = 100, max_iters = 1000,\n",
    "                                                        random_state = 42,curve=True)\n",
    "\n",
    "    print(\"mutation_prob:\", num, \" best_fitness:\", best_fitness)\n",
    "    ga_dict2['mutation_prob'].append(num)\n",
    "    ga_dict2['best_fitness'].append(best_fitness)\n",
    "    ga_dict2['curve'].append(curve)\n",
    "    \n"
   ]
  },
  {
   "cell_type": "code",
   "execution_count": 151,
   "metadata": {},
   "outputs": [
    {
     "data": {
      "image/png": "[encoded data removed]",
      "text/plain": [
       "<Figure size 432x288 with 1 Axes>"
      ]
     },
     "metadata": {
      "needs_background": "light"
     },
     "output_type": "display_data"
    }
   ],
   "source": [
    "for i in range(len(ga_dict2['curve'])):\n",
    "    y = ga_dict2['curve'][i]\n",
    "    label = ga_dict2['mutation_prob'][i]\n",
    "    label = np.around(label, 1)\n",
    "    label = '{:.0%}'.format(label)\n",
    "    plt.plot(y, label=label)\n",
    "\n",
    "plt.title(\"KnapSack GA Mutation Probability Size Tuning\")\n",
    "plt.ylabel(\"Fitness\")\n",
    "plt.xlabel(\"Iterations\")\n",
    "plt.legend(title='Mutation %', bbox_to_anchor=(1.05, 1), loc='upper left',fontsize='small', fancybox=True)\n",
    "plt.show()"
   ]
  },
  {
   "cell_type": "code",
   "execution_count": 135,
   "metadata": {},
   "outputs": [
    {
     "name": "stdout",
     "output_type": "stream",
     "text": [
      "mutation_prob: 0.01  best_fitness: 3249.0\n",
      "mutation_prob: 0.02  best_fitness: 3148.0\n",
      "mutation_prob: 0.03  best_fitness: 3037.0\n",
      "mutation_prob: 0.04  best_fitness: 3088.0\n",
      "mutation_prob: 0.05  best_fitness: 3058.0\n",
      "mutation_prob: 0.060000000000000005  best_fitness: 2996.0\n",
      "mutation_prob: 0.06999999999999999  best_fitness: 2987.0\n",
      "mutation_prob: 0.08  best_fitness: 2955.0\n",
      "mutation_prob: 0.09  best_fitness: 2989.0\n",
      "mutation_prob: 0.09999999999999999  best_fitness: 3003.0\n",
      "mutation_prob: 0.11  best_fitness: 2843.0\n",
      "mutation_prob: 0.12  best_fitness: 2904.0\n",
      "mutation_prob: 0.13  best_fitness: 2820.0\n",
      "mutation_prob: 0.14  best_fitness: 2894.0\n",
      "mutation_prob: 0.15000000000000002  best_fitness: 2996.0\n"
     ]
    }
   ],
   "source": [
    "mutation_prob_list = np.arange(0.01, 0.16, 0.01) \n",
    "\n",
    "ga_dict3 = {\n",
    "    'mutation_prob': [],\n",
    "    'best_fitness':[],\n",
    "    'curve':[]\n",
    "}\n",
    "for num in mutation_prob_list:\n",
    "    \n",
    "    best_state, best_fitness,curve = mlrose.genetic_alg(problem=problem4, \n",
    "                                                  pop_size = 10*problem4.length, mutation_prob = num,\n",
    "                                                   max_attempts = 100, max_iters = 1000,\n",
    "                                                        random_state = 42,curve=True)\n",
    "\n",
    "    print(\"mutation_prob:\", num, \" best_fitness:\", best_fitness)\n",
    "    ga_dict3['mutation_prob'].append(num)\n",
    "    ga_dict3['best_fitness'].append(best_fitness)\n",
    "    ga_dict3['curve'].append(curve)\n",
    "    \n"
   ]
  },
  {
   "cell_type": "code",
   "execution_count": 156,
   "metadata": {},
   "outputs": [
    {
     "data": {
      "image/png": "[encoded data removed]",
      "text/plain": [
       "<Figure size 432x288 with 1 Axes>"
      ]
     },
     "metadata": {
      "needs_background": "light"
     },
     "output_type": "display_data"
    }
   ],
   "source": [
    "for i in range(len(ga_dict3['curve'])):\n",
    "    y = ga_dict3['curve'][i]\n",
    "    label = ga_dict3['mutation_prob'][i]\n",
    "    label = np.around(label, 2)\n",
    "    label = '{:.0%}'.format(label)\n",
    "    plt.plot(y, label=label)\n",
    "\n",
    "plt.title(\"KnapSack GA Mutation Probability Size Tuning\")\n",
    "plt.ylabel(\"Fitness\")\n",
    "plt.xlabel(\"Iterations\")\n",
    "plt.legend(title='Mutation %', bbox_to_anchor=(1.05, 1), loc='upper left',fontsize='small', fancybox=True)\n",
    "plt.show()"
   ]
  },
  {
   "cell_type": "markdown",
   "metadata": {},
   "source": [
    "max_iters"
   ]
  },
  {
   "cell_type": "code",
   "execution_count": 84,
   "metadata": {},
   "outputs": [
    {
     "name": "stdout",
     "output_type": "stream",
     "text": [
      "max_iters: 10  best_fitness: 2707.0\n",
      "max_iters: 100  best_fitness: 2824.0\n",
      "max_iters: 1000  best_fitness: 2824.0\n",
      "max_iters: 10000  best_fitness: 2824.0\n",
      "max_iters: 100000  best_fitness: 2824.0\n"
     ]
    }
   ],
   "source": [
    "max_iters_list = [10, 100, 1000, 10000, 100000]\n",
    "\n",
    "for num in max_iters_list:\n",
    "    best_state, best_fitness = mlrose.genetic_alg(problem=problem4, \n",
    "                                                  pop_size = 5*problem4.length, mutation_prob = 0.1,\n",
    "                                                   max_attempts = 10, max_iters = num,\n",
    "                                                        random_state = 42)\n",
    "\n",
    "    print(\"max_iters:\",num ,\" best_fitness:\", best_fitness)\n"
   ]
  },
  {
   "cell_type": "markdown",
   "metadata": {},
   "source": [
    "max_attempts"
   ]
  },
  {
   "cell_type": "code",
   "execution_count": 85,
   "metadata": {},
   "outputs": [
    {
     "name": "stdout",
     "output_type": "stream",
     "text": [
      "max_attempts 10  best_fitness: 2824.0\n",
      "max_attempts 100  best_fitness: 2969.0\n",
      "max_attempts 1000  best_fitness: 2969.0\n",
      "max_attempts 10000  best_fitness: 2969.0\n",
      "max_attempts 100000  best_fitness: 2969.0\n"
     ]
    }
   ],
   "source": [
    "max_attempts_list = [10, 100, 1000, 10000, 100000]\n",
    "\n",
    "for num in max_attempts_list:\n",
    "    best_state, best_fitness = mlrose.genetic_alg(problem=problem4, \n",
    "                                                  pop_size = 5*problem4.length, mutation_prob = 0.1,\n",
    "                                                   max_attempts = num, max_iters = 1000,\n",
    "                                                    random_state = 42)\n",
    "\n",
    "    print(\"max_attempts\",num ,\" best_fitness:\", best_fitness)\n"
   ]
  },
  {
   "cell_type": "markdown",
   "metadata": {},
   "source": [
    "##### Mimic "
   ]
  },
  {
   "cell_type": "markdown",
   "metadata": {},
   "source": [
    "keep_pct"
   ]
  },
  {
   "cell_type": "code",
   "execution_count": 86,
   "metadata": {},
   "outputs": [
    {
     "name": "stdout",
     "output_type": "stream",
     "text": [
      "keep_pct: 0.1  best_fitness: 2289.0\n",
      "keep_pct: 0.2  best_fitness: 2289.0\n",
      "keep_pct: 0.30000000000000004  best_fitness: 2289.0\n",
      "keep_pct: 0.4  best_fitness: 2289.0\n",
      "keep_pct: 0.5  best_fitness: 2289.0\n",
      "keep_pct: 0.6  best_fitness: 2289.0\n",
      "keep_pct: 0.7000000000000001  best_fitness: 2289.0\n",
      "keep_pct: 0.8  best_fitness: 2289.0\n",
      "keep_pct: 0.9  best_fitness: 2289.0\n"
     ]
    }
   ],
   "source": [
    "keep_pct_list = np.arange(0.1, 1, 0.1) \n",
    "\n",
    "for num in keep_pct_list:\n",
    "    best_state, best_fitness = mlrose.mimic(problem=problem4, \n",
    "                                                  pop_size = 200, keep_pct = num,\n",
    "                                                   max_attempts = 10, max_iters = 1000,\n",
    "                                                        random_state = 42)\n",
    "\n",
    "    print(\"keep_pct:\", num,\" best_fitness:\",best_fitness)"
   ]
  },
  {
   "cell_type": "code",
   "execution_count": 141,
   "metadata": {},
   "outputs": [
    {
     "name": "stdout",
     "output_type": "stream",
     "text": [
      "keep_pct: 0.1  best_fitness: 2623.0\n",
      "keep_pct: 0.2  best_fitness: 2623.0\n",
      "keep_pct: 0.30000000000000004  best_fitness: 2623.0\n",
      "keep_pct: 0.4  best_fitness: 2623.0\n",
      "keep_pct: 0.5  best_fitness: 2623.0\n",
      "keep_pct: 0.6  best_fitness: 2623.0\n",
      "keep_pct: 0.7000000000000001  best_fitness: 2623.0\n",
      "keep_pct: 0.8  best_fitness: 2623.0\n",
      "keep_pct: 0.9  best_fitness: 2623.0\n"
     ]
    }
   ],
   "source": [
    "keep_pct_list = np.arange(0.1, 1, 0.1) \n",
    "\n",
    "for num in keep_pct_list:\n",
    "    best_state, best_fitness = mlrose.mimic(problem=problem4, \n",
    "                                                  pop_size = 1*problem4.length, keep_pct = num,\n",
    "                                                   max_attempts = 10, max_iters = 1000,\n",
    "                                                        random_state = 42)\n",
    "\n",
    "    print(\"keep_pct:\", num,\" best_fitness:\",best_fitness)"
   ]
  },
  {
   "cell_type": "markdown",
   "metadata": {},
   "source": [
    "pop_size"
   ]
  },
  {
   "cell_type": "code",
   "execution_count": 87,
   "metadata": {},
   "outputs": [
    {
     "name": "stdout",
     "output_type": "stream",
     "text": [
      "pop_size: 10.0  best_fitness: 0.0\n",
      "pop_size: 25.0  best_fitness: 0.0\n",
      "pop_size: 50.0  best_fitness: 1847.0\n",
      "pop_size: 75.0  best_fitness: 2365.0\n",
      "pop_size: 100.0  best_fitness: 2623.0\n",
      "pop_size: 150.0  best_fitness: 2439.0\n",
      "pop_size: 200.0  best_fitness: 2289.0\n",
      "pop_size: 250.0  best_fitness: 2581.0\n",
      "pop_size: 300.0  best_fitness: 2319.0\n",
      "pop_size: 500.0  best_fitness: 2497.0\n"
     ]
    }
   ],
   "source": [
    "pop_size_list = [.10, .25, .50, .75, 1.0, 1.50, 2.0, 2.50, 3.0, 5.0]\n",
    "problem_length = problem4.length\n",
    "\n",
    "\n",
    "for num in pop_size_list:\n",
    "    size =  num * problem_length\n",
    "    \n",
    "    best_state, best_fitness = mlrose.mimic(problem=problem4, \n",
    "                                                  pop_size = int(size), keep_pct = 0.20,\n",
    "                                                   max_attempts = 10, max_iters = 1000,\n",
    "                                                        random_state = 42)\n",
    "\n",
    "\n",
    "    print(\"pop_size:\", size, \" best_fitness:\",best_fitness)"
   ]
  },
  {
   "cell_type": "code",
   "execution_count": 94,
   "metadata": {},
   "outputs": [
    {
     "name": "stdout",
     "output_type": "stream",
     "text": [
      "pop_size: 750.0  best_fitness: 2475.0\n",
      "pop_size: 1000  best_fitness: 2327.0\n"
     ]
    }
   ],
   "source": [
    "pop_size_list = [7.5, 10]\n",
    "problem_length = problem4.length\n",
    "\n",
    "\n",
    "for num in pop_size_list:\n",
    "    size =  num * problem_length\n",
    "    \n",
    "    best_state, best_fitness = mlrose.mimic(problem=problem4, \n",
    "                                                  pop_size = int(size), keep_pct = 0.20,\n",
    "                                                   max_attempts = 10, max_iters = 1000,\n",
    "                                                        random_state = 42)\n",
    "\n",
    "\n",
    "    print(\"pop_size:\", size, \" best_fitness:\",best_fitness)"
   ]
  },
  {
   "cell_type": "markdown",
   "metadata": {},
   "source": [
    "max_iters"
   ]
  },
  {
   "cell_type": "code",
   "execution_count": 66,
   "metadata": {},
   "outputs": [
    {
     "name": "stdout",
     "output_type": "stream",
     "text": [
      "max_iters: 10  best_fitness: 56.0\n",
      "max_iters: 100  best_fitness: 56.0\n",
      "max_iters: 1000  best_fitness: 56.0\n",
      "max_iters: 10000  best_fitness: 56.0\n"
     ]
    }
   ],
   "source": [
    "#max_iters_list = [10, 100, 1000, 10000, 100000]\n",
    "max_iters_list = [10, 100, 1000, 10000]\n",
    "\n",
    "\n",
    "for num in max_iters_list:\n",
    "    \n",
    "    best_state, best_fitness = mlrose.mimic(problem=problem4, \n",
    "                                              pop_size = problem4.length*5, keep_pct = 0.20,\n",
    "                                               max_attempts = 10, max_iters = int(num),\n",
    "                                                    random_state = 42)\n",
    "\n",
    "\n",
    "    print(\"max_iters:\", num, \" best_fitness:\",best_fitness)\n"
   ]
  },
  {
   "cell_type": "markdown",
   "metadata": {},
   "source": [
    "max_attempts"
   ]
  },
  {
   "cell_type": "code",
   "execution_count": 67,
   "metadata": {},
   "outputs": [
    {
     "name": "stdout",
     "output_type": "stream",
     "text": [
      "max_attempts: 10  best_fitness: 56.0\n",
      "max_attempts: 100  best_fitness: 59.0\n",
      "max_attempts: 1000  best_fitness: 62.0\n",
      "max_attempts: 10000  best_fitness: 62.0\n"
     ]
    }
   ],
   "source": [
    "#max_attempts_list = [10, 100, 1000, 10000, 100000]\n",
    "max_attempts_list = [10, 100, 1000, 10000]\n",
    "\n",
    "\n",
    "for num in max_attempts_list:\n",
    "    \n",
    "    best_state, best_fitness = mlrose.mimic(problem=problem4, \n",
    "                                              pop_size = problem4.length*5, keep_pct = 0.20,\n",
    "                                               max_attempts = int(num), max_iters = 1000,\n",
    "                                                    random_state = 42)\n",
    "\n",
    "\n",
    "    print(\"max_attempts:\", num, \" best_fitness:\",best_fitness)\n",
    "    "
   ]
  },
  {
   "cell_type": "code",
   "execution_count": null,
   "metadata": {},
   "outputs": [],
   "source": []
  },
  {
   "cell_type": "code",
   "execution_count": null,
   "metadata": {},
   "outputs": [],
   "source": []
  },
  {
   "cell_type": "code",
   "execution_count": null,
   "metadata": {},
   "outputs": [],
   "source": []
  },
  {
   "cell_type": "code",
   "execution_count": null,
   "metadata": {},
   "outputs": [],
   "source": []
  }
 ],
 "metadata": {
  "kernelspec": {
   "display_name": "Python 3",
   "language": "python",
   "name": "python3"
  },
  "language_info": {
   "codemirror_mode": {
    "name": "ipython",
    "version": 3
   },
   "file_extension": ".py",
   "mimetype": "text/x-python",
   "name": "python",
   "nbconvert_exporter": "python",
   "pygments_lexer": "ipython3",
   "version": "3.7.9"
  }
 },
 "nbformat": 4,
 "nbformat_minor": 4
}
