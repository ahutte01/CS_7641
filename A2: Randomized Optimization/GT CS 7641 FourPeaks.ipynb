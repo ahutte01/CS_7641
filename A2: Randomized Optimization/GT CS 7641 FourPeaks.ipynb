{
 "cells": [
  {
   "cell_type": "code",
   "execution_count": 1,
   "metadata": {},
   "outputs": [],
   "source": [
    "import pandas as pd\n",
    "import numpy as np \n",
    "import matplotlib.pyplot as plt\n",
    "import os\n",
    "pd.set_option('max_columns', None)\n",
    "pd.set_option('max_rows', None)\n",
    "\n",
    "import warnings\n",
    "warnings.simplefilter(action='ignore', category=FutureWarning)\n",
    "\n",
    "import time\n",
    "\n",
    "from sklearn.model_selection import train_test_split\n",
    "from sklearn.preprocessing import MinMaxScaler, OneHotEncoder\n",
    "from sklearn.metrics import accuracy_score, f1_score"
   ]
  },
  {
   "cell_type": "code",
   "execution_count": 2,
   "metadata": {},
   "outputs": [],
   "source": [
    "import six\n",
    "import sys\n",
    "sys.modules['sklearn.externals.six'] = six\n",
    "import mlrose"
   ]
  },
  {
   "cell_type": "markdown",
   "metadata": {},
   "source": [
    "## Part 1"
   ]
  },
  {
   "cell_type": "markdown",
   "metadata": {},
   "source": [
    "What is an optimization problem? \n",
    "\n",
    "- We aim to find the best state, according to some objective function. \n",
    "- An example of a state is the weights used in a machine learning model, such as a neural network\n",
    "- State is represented by a one-dimensional vector \n",
    "- \"Best\" state is defined using the Cost Function/Fitness Function/Objective Function \n",
    "- Function takes in a State Array as Input and returns a Fitness Value as Output\n"
   ]
  },
  {
   "cell_type": "markdown",
   "metadata": {},
   "source": [
    "We will make 3 steps to solve an optimization problem with mlrose:\n",
    " - 1) Define fitness function object\n",
    " - 2) Define an optimization problem object\n",
    " - 3) Select and run a randomized optimization algorithm"
   ]
  },
  {
   "cell_type": "markdown",
   "metadata": {},
   "source": [
    "#### 1) Define Fitness Function Object"
   ]
  },
  {
   "cell_type": "code",
   "execution_count": 236,
   "metadata": {},
   "outputs": [],
   "source": [
    "fitness1 = mlrose.FourPeaks(t_pct=0.1)\n",
    "\n",
    "#fitness2 = mlrose.MaxKColor(edges=)\n",
    "#fitness3 = mlrose.FlipFlop()"
   ]
  },
  {
   "cell_type": "markdown",
   "metadata": {},
   "source": [
    "#### 2) Define an Optimization Problem Object"
   ]
  },
  {
   "cell_type": "code",
   "execution_count": 261,
   "metadata": {},
   "outputs": [],
   "source": [
    "#this requires a LENGTH - we can tune this \n",
    "\n",
    "length = 100\n",
    "problem1 = mlrose.DiscreteOpt(length = length, fitness_fn = fitness1, maximize = True, max_val = 2)"
   ]
  },
  {
   "cell_type": "markdown",
   "metadata": {},
   "source": [
    "#### 3) Select and Run Randomized Optimization Algorithm"
   ]
  },
  {
   "cell_type": "markdown",
   "metadata": {},
   "source": [
    "##### Find Optimzal Parameters for RHC, SA, GA, Mimic for the Four Peaks Problem "
   ]
  },
  {
   "cell_type": "markdown",
   "metadata": {},
   "source": [
    "##### Random Hill Climbing"
   ]
  },
  {
   "cell_type": "markdown",
   "metadata": {},
   "source": [
    "restarts"
   ]
  },
  {
   "cell_type": "code",
   "execution_count": 262,
   "metadata": {},
   "outputs": [
    {
     "name": "stdout",
     "output_type": "stream",
     "text": [
      "restarts: 0.0 best_fitness: 1.0\n",
      "restarts: 1.0 best_fitness: 1.0\n",
      "restarts: 2.0 best_fitness: 3.0\n",
      "restarts: 3.0 best_fitness: 3.0\n",
      "restarts: 4.0 best_fitness: 4.0\n",
      "restarts: 5.0 best_fitness: 4.0\n",
      "restarts: 6.0 best_fitness: 5.0\n",
      "restarts: 7.0 best_fitness: 5.0\n",
      "restarts: 8.0 best_fitness: 5.0\n",
      "restarts: 9.0 best_fitness: 5.0\n",
      "restarts: 10.0 best_fitness: 8.0\n",
      "restarts: 25.0 best_fitness: 9.0\n",
      "restarts: 50.0 best_fitness: 13.0\n",
      "restarts: 75.0 best_fitness: 13.0\n",
      "restarts: 100.0 best_fitness: 13.0\n",
      "restarts: 200.0 best_fitness: 13.0\n"
     ]
    }
   ],
   "source": [
    "\n",
    "restarts_list = np.arange(0, 11, 1)\n",
    "\n",
    "restarts_probs = [.25, .50, .75, 1.0, 2.0]\n",
    "problem_length = np.array(problem1.length)\n",
    "\n",
    "restarts_list2 = np.dot(restarts_probs, problem_length)\n",
    "\n",
    "restarts_list_full =  np.concatenate((restarts_list, restarts_list2))\n",
    "\n",
    "for num in restarts_list_full:\n",
    "    \n",
    "    best_state, best_fitness = mlrose.random_hill_climb(problem=problem1, restarts = int(num),\n",
    "                                                   max_attempts = 10, max_iters = 1000,\n",
    "                                                        random_state = 42)\n",
    "    #print(best_state)\n",
    "    print(\"restarts:\",num, \"best_fitness:\",best_fitness)\n"
   ]
  },
  {
   "cell_type": "markdown",
   "metadata": {},
   "source": [
    "max_attempts"
   ]
  },
  {
   "cell_type": "code",
   "execution_count": 303,
   "metadata": {},
   "outputs": [
    {
     "name": "stdout",
     "output_type": "stream",
     "text": [
      "13.0\n",
      "28.0\n",
      "42.0\n",
      "42.0\n",
      "42.0\n"
     ]
    }
   ],
   "source": [
    "max_attempts_list = [10, 100, 1000, 10000, 100000]\n",
    "\n",
    "for num in max_attempts_list:\n",
    "    \n",
    "    best_state, best_fitness = mlrose.random_hill_climb(problem=problem1, restarts = 50,\n",
    "                                                   max_attempts = int(num), max_iters = 1000,\n",
    "                                                   random_state = 42)\n",
    "    #print(best_state)\n",
    "    print(best_fitness)\n"
   ]
  },
  {
   "cell_type": "markdown",
   "metadata": {},
   "source": [
    "max_iters"
   ]
  },
  {
   "cell_type": "code",
   "execution_count": 264,
   "metadata": {},
   "outputs": [
    {
     "name": "stdout",
     "output_type": "stream",
     "text": [
      "8.0\n",
      "8.0\n",
      "8.0\n",
      "8.0\n",
      "8.0\n"
     ]
    }
   ],
   "source": [
    "max_iters_list = [10, 100, 1000, 10000, 100000]\n",
    "\n",
    "for num in max_iters_list:\n",
    "    \n",
    "    best_state, best_fitness = mlrose.random_hill_climb(problem=problem1, restarts = 10,\n",
    "                                                   max_attempts = 10, max_iters = int(num),\n",
    "                                                    random_state = 42)\n",
    "    #print(best_state)\n",
    "    print(best_fitness)\n"
   ]
  },
  {
   "cell_type": "code",
   "execution_count": null,
   "metadata": {},
   "outputs": [],
   "source": []
  },
  {
   "cell_type": "markdown",
   "metadata": {},
   "source": [
    "##### Simulated Annealing"
   ]
  },
  {
   "cell_type": "code",
   "execution_count": 265,
   "metadata": {},
   "outputs": [
    {
     "name": "stdout",
     "output_type": "stream",
     "text": [
      "32.0\n"
     ]
    }
   ],
   "source": [
    "scheduleG = mlrose.GeomDecay()\n",
    "scheduleA = mlrose.ArithDecay()\n",
    "scheduleE = mlrose.ExpDecay()\n",
    "\n",
    "best_state, best_fitness = mlrose.simulated_annealing(problem=problem1, schedule = scheduleG,\n",
    "                                               max_attempts = 10, max_iters = 1000,\n",
    "                                                    random_state = 42)\n",
    "\n",
    "#print(best_state)\n",
    "\n",
    "print(best_fitness)"
   ]
  },
  {
   "cell_type": "code",
   "execution_count": 266,
   "metadata": {},
   "outputs": [
    {
     "name": "stdout",
     "output_type": "stream",
     "text": [
      "14.0\n"
     ]
    }
   ],
   "source": [
    "best_state, best_fitness = mlrose.simulated_annealing(problem=problem1, schedule = scheduleA,\n",
    "                                               max_attempts = 10, max_iters = 1000,\n",
    "                                               #init_state=init_state, \n",
    "                                                    random_state = 42)\n",
    "\n",
    "#print(best_state)\n",
    "\n",
    "print(best_fitness)"
   ]
  },
  {
   "cell_type": "code",
   "execution_count": 267,
   "metadata": {},
   "outputs": [
    {
     "name": "stdout",
     "output_type": "stream",
     "text": [
      "18.0\n"
     ]
    }
   ],
   "source": [
    "best_state, best_fitness = mlrose.simulated_annealing(problem=problem1, schedule = scheduleE,\n",
    "                                               max_attempts = 10, max_iters = 1000,\n",
    "                                               #init_state=init_state, \n",
    "                                                    random_state = 42)\n",
    "\n",
    "#print(best_state)\n",
    "\n",
    "print(best_fitness)"
   ]
  },
  {
   "cell_type": "markdown",
   "metadata": {},
   "source": [
    "Max Attempts"
   ]
  },
  {
   "cell_type": "code",
   "execution_count": 268,
   "metadata": {},
   "outputs": [
    {
     "name": "stdout",
     "output_type": "stream",
     "text": [
      "32.0\n",
      "32.0\n",
      "32.0\n",
      "32.0\n",
      "32.0\n"
     ]
    }
   ],
   "source": [
    "max_attempts_list = [10, 100, 1000, 10000, 100000]\n",
    "\n",
    "for num in max_attempts_list:\n",
    "    \n",
    "    best_state, best_fitness = mlrose.simulated_annealing(problem=problem1, schedule = scheduleG,\n",
    "                                                   max_attempts = num, max_iters = 1000,\n",
    "                                                   #init_state=init_state, \n",
    "                                                        random_state = 42)\n",
    "\n",
    "    #print(best_state)\n",
    "    print(best_fitness)\n"
   ]
  },
  {
   "cell_type": "markdown",
   "metadata": {},
   "source": [
    "Max Iters"
   ]
  },
  {
   "cell_type": "code",
   "execution_count": 269,
   "metadata": {},
   "outputs": [
    {
     "name": "stdout",
     "output_type": "stream",
     "text": [
      "1.0\n",
      "1.0\n",
      "32.0\n",
      "51.0\n",
      "51.0\n"
     ]
    }
   ],
   "source": [
    "max_iters_list = [10, 100, 1000, 10000, 100000]\n",
    "\n",
    "for num in max_iters_list:\n",
    "    \n",
    "    best_state, best_fitness = mlrose.simulated_annealing(problem=problem1, schedule = scheduleG,\n",
    "                                                   max_attempts = 10, max_iters = num,\n",
    "                                                   #init_state=init_state, \n",
    "                                                        random_state = 42)\n",
    "    \n",
    "    #print(best_state)\n",
    "    print(best_fitness)\n"
   ]
  },
  {
   "cell_type": "markdown",
   "metadata": {},
   "source": [
    "##### Genetic Alg"
   ]
  },
  {
   "cell_type": "code",
   "execution_count": 270,
   "metadata": {},
   "outputs": [
    {
     "name": "stdout",
     "output_type": "stream",
     "text": [
      "114.0\n"
     ]
    }
   ],
   "source": [
    "best_state, best_fitness = mlrose.genetic_alg(problem=problem1, \n",
    "                                              pop_size = 200, mutation_prob = 0.1,\n",
    "                                              max_attempts = 10, max_iters = 1000,\n",
    "                                               random_state = 42)\n",
    "\n",
    "\n",
    "print(best_fitness)"
   ]
  },
  {
   "cell_type": "markdown",
   "metadata": {},
   "source": [
    "pop_size"
   ]
  },
  {
   "cell_type": "code",
   "execution_count": 271,
   "metadata": {},
   "outputs": [
    {
     "name": "stdout",
     "output_type": "stream",
     "text": [
      "pop_size: 10.0  best_fitness: 8.0\n",
      "pop_size: 25.0  best_fitness: 15.0\n",
      "pop_size: 50.0  best_fitness: 26.0\n",
      "pop_size: 75.0  best_fitness: 16.0\n",
      "pop_size: 100.0  best_fitness: 115.0\n",
      "pop_size: 150.0  best_fitness: 14.0\n",
      "pop_size: 200.0  best_fitness: 114.0\n",
      "pop_size: 250.0  best_fitness: 17.0\n",
      "pop_size: 300.0  best_fitness: 117.0\n",
      "pop_size: 500.0  best_fitness: 120.0\n",
      "pop_size: 700.0  best_fitness: 113.0\n",
      "pop_size: 1000.0  best_fitness: 117.0\n"
     ]
    }
   ],
   "source": [
    "pop_size_list = [.10, .25, .50, .75, 1.0, 1.50, 2.0, 2.50, 3.0, 5.0, 7.0, 10.0]\n",
    "problem_length = problem1.length\n",
    "\n",
    "for num in pop_size_list:\n",
    "    size =  problem_length*num\n",
    "    best_state, best_fitness = mlrose.genetic_alg(problem=problem1, \n",
    "                                                  pop_size = int(size), mutation_prob = 0.1,\n",
    "                                                   max_attempts = 10, max_iters = 1000,\n",
    "                                                        random_state = 42)\n",
    "\n",
    "    print(\"pop_size:\", size, \" best_fitness:\", best_fitness)\n"
   ]
  },
  {
   "cell_type": "markdown",
   "metadata": {},
   "source": [
    "mutation_prob"
   ]
  },
  {
   "cell_type": "code",
   "execution_count": 248,
   "metadata": {},
   "outputs": [
    {
     "name": "stdout",
     "output_type": "stream",
     "text": [
      "mutation_prob: 0.1 best_fitness: 114.0\n",
      "mutation_prob: 0.2 best_fitness: 17.0\n",
      "mutation_prob: 0.30000000000000004 best_fitness: 13.0\n",
      "mutation_prob: 0.4 best_fitness: 12.0\n",
      "mutation_prob: 0.5 best_fitness: 13.0\n",
      "mutation_prob: 0.6 best_fitness: 12.0\n",
      "mutation_prob: 0.7000000000000001 best_fitness: 15.0\n",
      "mutation_prob: 0.8 best_fitness: 14.0\n",
      "mutation_prob: 0.9 best_fitness: 12.0\n"
     ]
    }
   ],
   "source": [
    "mutation_prob_list = np.arange(0.1, 1, 0.1) \n",
    "\n",
    "for num in mutation_prob_list:\n",
    "    best_state, best_fitness = mlrose.genetic_alg(problem=problem1, \n",
    "                                                  pop_size = 200, mutation_prob = num,\n",
    "                                                   max_attempts = 10, max_iters = 1000,\n",
    "                                                        random_state = 42)\n",
    "\n",
    "    print(\"mutation_prob:\", num, \"best_fitness:\", best_fitness)"
   ]
  },
  {
   "cell_type": "markdown",
   "metadata": {},
   "source": [
    "max_attempts"
   ]
  },
  {
   "cell_type": "code",
   "execution_count": 194,
   "metadata": {},
   "outputs": [
    {
     "name": "stdout",
     "output_type": "stream",
     "text": [
      "max_attempts 10  best_fitness: 120.0\n",
      "max_attempts 100  best_fitness: 122.0\n",
      "max_attempts 1000  best_fitness: 127.0\n",
      "max_attempts 10000  best_fitness: 127.0\n",
      "max_attempts 100000  best_fitness: 127.0\n"
     ]
    }
   ],
   "source": [
    "max_attempts_list = [10, 100, 1000, 10000, 100000]\n",
    "\n",
    "for num in max_attempts_list:\n",
    "    best_state, best_fitness = mlrose.genetic_alg(problem=problem1, \n",
    "                                                  pop_size = 5*problem1.length, mutation_prob = 0.1,\n",
    "                                                   max_attempts = num, max_iters = 1000,\n",
    "                                                    random_state = 42)\n",
    "\n",
    "    print(\"max_attempts\",num ,\" best_fitness:\", best_fitness)\n"
   ]
  },
  {
   "cell_type": "markdown",
   "metadata": {},
   "source": [
    "max_iters"
   ]
  },
  {
   "cell_type": "code",
   "execution_count": 195,
   "metadata": {},
   "outputs": [
    {
     "name": "stdout",
     "output_type": "stream",
     "text": [
      "max_iters 10  best_fitness: 112.0\n",
      "max_iters 100  best_fitness: 120.0\n",
      "max_iters 1000  best_fitness: 120.0\n",
      "max_iters 10000  best_fitness: 120.0\n",
      "max_iters 100000  best_fitness: 120.0\n"
     ]
    }
   ],
   "source": [
    "max_iters_list = [10, 100, 1000, 10000, 100000]\n",
    "\n",
    "for num in max_iters_list:\n",
    "    best_state, best_fitness = mlrose.genetic_alg(problem=problem1, \n",
    "                                                  pop_size = 5*problem1.length, mutation_prob = 0.1,\n",
    "                                                   max_attempts = 10, max_iters = num,\n",
    "                                                        random_state = 42)\n",
    "\n",
    "    print(\"max_iters\",num ,\" best_fitness:\", best_fitness)\n"
   ]
  },
  {
   "cell_type": "markdown",
   "metadata": {},
   "source": [
    "##### Mimic "
   ]
  },
  {
   "cell_type": "markdown",
   "metadata": {},
   "source": [
    "keep_pct"
   ]
  },
  {
   "cell_type": "code",
   "execution_count": 196,
   "metadata": {},
   "outputs": [
    {
     "name": "stdout",
     "output_type": "stream",
     "text": [
      "keep_pct: 0.1  best_fitness: 114.0\n",
      "keep_pct: 0.2  best_fitness: 20.0\n",
      "keep_pct: 0.30000000000000004  best_fitness: 26.0\n",
      "keep_pct: 0.4  best_fitness: 115.0\n",
      "keep_pct: 0.5  best_fitness: 13.0\n",
      "keep_pct: 0.6  best_fitness: 12.0\n",
      "keep_pct: 0.7000000000000001  best_fitness: 12.0\n",
      "keep_pct: 0.8  best_fitness: 11.0\n",
      "keep_pct: 0.9  best_fitness: 11.0\n"
     ]
    }
   ],
   "source": [
    "keep_pct_list = np.arange(0.1, 1, 0.1) \n",
    "\n",
    "for num in keep_pct_list:\n",
    "    best_state, best_fitness = mlrose.mimic(problem=problem1, \n",
    "                                                  pop_size = 200, keep_pct = num,\n",
    "                                                   max_attempts = 10, max_iters = 1000,\n",
    "                                                        random_state = 42)\n",
    "\n",
    "    print(\"keep_pct:\", num,\" best_fitness:\",best_fitness)"
   ]
  },
  {
   "cell_type": "markdown",
   "metadata": {},
   "source": [
    "pop_size"
   ]
  },
  {
   "cell_type": "markdown",
   "metadata": {},
   "source": [
    "pop_size varies, keep_pct = 40%"
   ]
  },
  {
   "cell_type": "code",
   "execution_count": 296,
   "metadata": {},
   "outputs": [
    {
     "name": "stdout",
     "output_type": "stream",
     "text": [
      "pop_size: 10.0  best_fitness: 6.0\n",
      "pop_size: 25.0  best_fitness: 9.0\n",
      "pop_size: 50.0  best_fitness: 14.0\n",
      "pop_size: 75.0  best_fitness: 113.0\n",
      "pop_size: 100.0  best_fitness: 13.0\n",
      "pop_size: 150.0  best_fitness: 18.0\n",
      "pop_size: 200.0  best_fitness: 115.0\n",
      "pop_size: 250.0  best_fitness: 21.0\n",
      "pop_size: 300.0  best_fitness: 22.0\n",
      "pop_size: 500.0  best_fitness: 115.0\n",
      "pop_size: 750.0  best_fitness: 26.0\n",
      "pop_size: 1000  best_fitness: 36.0\n"
     ]
    }
   ],
   "source": [
    "pop_size_list = [.10, .25, .50, .75, 1.0, 1.50, 2.0, 2.50, 3.0, 5.0, 7.5, 10]\n",
    "problem_length = problem1.length\n",
    "\n",
    "\n",
    "for num in pop_size_list:\n",
    "    size =  num * problem_length\n",
    "    \n",
    "    best_state, best_fitness = mlrose.mimic(problem=problem1, \n",
    "                                                  pop_size = int(size), keep_pct = 0.40,\n",
    "                                                   max_attempts = 10, max_iters = 1000,\n",
    "                                                        random_state = 42)\n",
    "\n",
    "\n",
    "    print(\"pop_size:\", size, \" best_fitness:\",best_fitness)"
   ]
  },
  {
   "cell_type": "markdown",
   "metadata": {},
   "source": [
    "pop_size varies, keep_pct = 10%"
   ]
  },
  {
   "cell_type": "code",
   "execution_count": 293,
   "metadata": {},
   "outputs": [
    {
     "name": "stdout",
     "output_type": "stream",
     "text": [
      "pop_size: 10.0  best_fitness: 6.0\n",
      "pop_size: 25.0  best_fitness: 8.0\n",
      "pop_size: 50.0  best_fitness: 12.0\n",
      "pop_size: 75.0  best_fitness: 14.0\n",
      "pop_size: 100.0  best_fitness: 14.0\n",
      "pop_size: 150.0  best_fitness: 12.0\n",
      "pop_size: 200.0  best_fitness: 114.0\n",
      "pop_size: 250.0  best_fitness: 113.0\n",
      "pop_size: 300.0  best_fitness: 122.0\n",
      "pop_size: 500.0  best_fitness: 144.0\n",
      "pop_size: 750.0  best_fitness: 120.0\n",
      "pop_size: 1000  best_fitness: 147.0\n"
     ]
    }
   ],
   "source": [
    "pop_size_list = [.10, .25, .50, .75, 1.0, 1.50, 2.0, 2.50, 3.0, 5.0, 7.5, 10]\n",
    "problem_length = problem1.length\n",
    "\n",
    "\n",
    "for num in pop_size_list:\n",
    "    size =  num * problem_length\n",
    "    \n",
    "    best_state, best_fitness = mlrose.mimic(problem=problem1, \n",
    "                                                  pop_size = int(size), keep_pct = 0.10,\n",
    "                                                   max_attempts = 10, max_iters = 1000,\n",
    "                                                        random_state = 42)\n",
    "\n",
    "\n",
    "    print(\"pop_size:\", size, \" best_fitness:\",best_fitness)"
   ]
  },
  {
   "cell_type": "code",
   "execution_count": 302,
   "metadata": {},
   "outputs": [
    {
     "name": "stdout",
     "output_type": "stream",
     "text": [
      "pop_size: 10.0  best_fitness: 6.0\n",
      "pop_size: 25.0  best_fitness: 10.0\n",
      "pop_size: 50.0  best_fitness: 14.0\n",
      "pop_size: 75.0  best_fitness: 15.0\n",
      "pop_size: 100.0  best_fitness: 13.0\n",
      "pop_size: 150.0  best_fitness: 17.0\n",
      "pop_size: 200.0  best_fitness: 20.0\n",
      "pop_size: 250.0  best_fitness: 23.0\n",
      "pop_size: 300.0  best_fitness: 130.0\n",
      "pop_size: 500.0  best_fitness: 134.0\n",
      "pop_size: 750.0  best_fitness: 131.0\n",
      "pop_size: 1000  best_fitness: 119.0\n"
     ]
    }
   ],
   "source": [
    "pop_size_list = [.10, .25, .50, .75, 1.0, 1.50, 2.0, 2.50, 3.0, 5.0, 7.5, 10]\n",
    "problem_length = problem1.length\n",
    "\n",
    "for num in pop_size_list:\n",
    "    size =  num * problem_length\n",
    "    \n",
    "    best_state, best_fitness = mlrose.mimic(problem=problem1, \n",
    "                                                  pop_size = int(size), keep_pct = 0.20,\n",
    "                                                   max_attempts = 10, max_iters = 1000,\n",
    "                                                        random_state = 42)\n",
    "\n",
    "\n",
    "    print(\"pop_size:\", size, \" best_fitness:\",best_fitness)"
   ]
  },
  {
   "cell_type": "code",
   "execution_count": 297,
   "metadata": {},
   "outputs": [
    {
     "name": "stdout",
     "output_type": "stream",
     "text": [
      "pop_size: 10.0  best_fitness: 6.0\n",
      "pop_size: 25.0  best_fitness: 8.0\n",
      "pop_size: 50.0  best_fitness: 12.0\n",
      "pop_size: 75.0  best_fitness: 14.0\n",
      "pop_size: 100.0  best_fitness: 14.0\n",
      "pop_size: 150.0  best_fitness: 12.0\n",
      "pop_size: 200.0  best_fitness: 114.0\n",
      "pop_size: 250.0  best_fitness: 113.0\n",
      "pop_size: 300.0  best_fitness: 122.0\n",
      "pop_size: 500.0  best_fitness: 144.0\n",
      "pop_size: 750.0  best_fitness: 120.0\n",
      "pop_size: 1000.0  best_fitness: 147.0\n"
     ]
    }
   ],
   "source": [
    "pop_size_list = [.10, .25, .50, .75, 1.0, 1.50, 2.0, 2.50, 3.0, 5.0, 7.5, 10.0]\n",
    "problem_length = problem1.length\n",
    "\n",
    "mimic_dict = {'pop_size':[],\n",
    "          'best_fitness':[],\n",
    "         'curve':[]}\n",
    "\n",
    "for num in pop_size_list:\n",
    "    size =  num * problem_length\n",
    "    \n",
    "    best_state, best_fitness, curve = mlrose.mimic(problem=problem1, \n",
    "                                                  pop_size = int(size), keep_pct = 0.10,\n",
    "                                                   max_attempts = 10, max_iters = 1000,\n",
    "                                                        random_state = 42, curve = True)\n",
    "    mimic_dict['pop_size'].append(size)\n",
    "    mimic_dict['best_fitness'].append(best_fitness)\n",
    "    mimic_dict['curve'].append(curve)\n",
    "    \n",
    "    print(\"pop_size:\", size, \" best_fitness:\",best_fitness)"
   ]
  },
  {
   "cell_type": "code",
   "execution_count": 312,
   "metadata": {},
   "outputs": [
    {
     "data": {
      "image/png": "[encoded data removed]",
      "text/plain": [
       "<Figure size 432x288 with 1 Axes>"
      ]
     },
     "metadata": {
      "needs_background": "light"
     },
     "output_type": "display_data"
    }
   ],
   "source": [
    "for i in range(len(mimic_dict['curve'])):\n",
    "    y = mimic_dict['curve'][i]\n",
    "    label = mimic_dict['pop_size'][i]\n",
    "\n",
    "    plt.plot(y, label=label)\n",
    "\n",
    "plt.title(\"FourPeaks MIMIC Population Size Tuning\")\n",
    "plt.ylabel(\"Fitness\")\n",
    "plt.xlabel(\"Iterations\")\n",
    "plt.legend(title='Pop Size as % of\\nProblem Length', bbox_to_anchor=(1.05, 1), loc='upper left',fontsize='small', fancybox=True)\n",
    "plt.show()"
   ]
  },
  {
   "cell_type": "markdown",
   "metadata": {},
   "source": [
    "max_attempts"
   ]
  },
  {
   "cell_type": "code",
   "execution_count": 201,
   "metadata": {},
   "outputs": [
    {
     "name": "stdout",
     "output_type": "stream",
     "text": [
      "max_attempts: 10  best_fitness: 115.0\n",
      "max_attempts: 100  best_fitness: 115.0\n",
      "max_attempts: 1000  best_fitness: 115.0\n"
     ]
    },
    {
     "ename": "KeyboardInterrupt",
     "evalue": "",
     "output_type": "error",
     "traceback": [
      "\u001b[0;31m---------------------------------------------------------------------------\u001b[0m",
      "\u001b[0;31mKeyboardInterrupt\u001b[0m                         Traceback (most recent call last)",
      "\u001b[0;32m<ipython-input-201-96762d2d0765>\u001b[0m in \u001b[0;36m<module>\u001b[0;34m\u001b[0m\n\u001b[1;32m      6\u001b[0m                                               \u001b[0mpop_size\u001b[0m \u001b[0;34m=\u001b[0m \u001b[0mproblem1\u001b[0m\u001b[0;34m.\u001b[0m\u001b[0mlength\u001b[0m\u001b[0;34m*\u001b[0m\u001b[0;36m5\u001b[0m\u001b[0;34m,\u001b[0m \u001b[0mkeep_pct\u001b[0m \u001b[0;34m=\u001b[0m \u001b[0;36m0.40\u001b[0m\u001b[0;34m,\u001b[0m\u001b[0;34m\u001b[0m\u001b[0;34m\u001b[0m\u001b[0m\n\u001b[1;32m      7\u001b[0m                                                \u001b[0mmax_attempts\u001b[0m \u001b[0;34m=\u001b[0m \u001b[0mint\u001b[0m\u001b[0;34m(\u001b[0m\u001b[0mnum\u001b[0m\u001b[0;34m)\u001b[0m\u001b[0;34m,\u001b[0m \u001b[0mmax_iters\u001b[0m \u001b[0;34m=\u001b[0m \u001b[0;36m1000\u001b[0m\u001b[0;34m,\u001b[0m\u001b[0;34m\u001b[0m\u001b[0;34m\u001b[0m\u001b[0m\n\u001b[0;32m----> 8\u001b[0;31m                                                     random_state = 42)\n\u001b[0m\u001b[1;32m      9\u001b[0m \u001b[0;34m\u001b[0m\u001b[0m\n\u001b[1;32m     10\u001b[0m \u001b[0;34m\u001b[0m\u001b[0m\n",
      "\u001b[0;32m~/anaconda3/lib/python3.7/site-packages/mlrose/algorithms.py\u001b[0m in \u001b[0;36mmimic\u001b[0;34m(problem, pop_size, keep_pct, max_attempts, max_iters, curve, random_state, fast_mimic)\u001b[0m\n\u001b[1;32m    553\u001b[0m \u001b[0;34m\u001b[0m\u001b[0m\n\u001b[1;32m    554\u001b[0m         \u001b[0;31m# Update probability estimates\u001b[0m\u001b[0;34m\u001b[0m\u001b[0;34m\u001b[0m\u001b[0;34m\u001b[0m\u001b[0m\n\u001b[0;32m--> 555\u001b[0;31m         \u001b[0mproblem\u001b[0m\u001b[0;34m.\u001b[0m\u001b[0meval_node_probs\u001b[0m\u001b[0;34m(\u001b[0m\u001b[0;34m)\u001b[0m\u001b[0;34m\u001b[0m\u001b[0;34m\u001b[0m\u001b[0m\n\u001b[0m\u001b[1;32m    556\u001b[0m \u001b[0;34m\u001b[0m\u001b[0m\n\u001b[1;32m    557\u001b[0m         \u001b[0;31m# Generate new sample\u001b[0m\u001b[0;34m\u001b[0m\u001b[0;34m\u001b[0m\u001b[0;34m\u001b[0m\u001b[0m\n",
      "\u001b[0;32m~/anaconda3/lib/python3.7/site-packages/mlrose/opt_probs.py\u001b[0m in \u001b[0;36meval_node_probs\u001b[0;34m(self)\u001b[0m\n\u001b[1;32m    284\u001b[0m                     mutual_info[i, j] = -1 * mutual_info_score(\n\u001b[1;32m    285\u001b[0m                         \u001b[0mself\u001b[0m\u001b[0;34m.\u001b[0m\u001b[0mkeep_sample\u001b[0m\u001b[0;34m[\u001b[0m\u001b[0;34m:\u001b[0m\u001b[0;34m,\u001b[0m \u001b[0mi\u001b[0m\u001b[0;34m]\u001b[0m\u001b[0;34m,\u001b[0m\u001b[0;34m\u001b[0m\u001b[0;34m\u001b[0m\u001b[0m\n\u001b[0;32m--> 286\u001b[0;31m                         self.keep_sample[:, j])\n\u001b[0m\u001b[1;32m    287\u001b[0m \u001b[0;34m\u001b[0m\u001b[0m\n\u001b[1;32m    288\u001b[0m         \u001b[0;32melif\u001b[0m \u001b[0mself\u001b[0m\u001b[0;34m.\u001b[0m\u001b[0mmimic_speed\u001b[0m\u001b[0;34m:\u001b[0m\u001b[0;34m\u001b[0m\u001b[0;34m\u001b[0m\u001b[0m\n",
      "\u001b[0;32m~/anaconda3/lib/python3.7/site-packages/sklearn/utils/validation.py\u001b[0m in \u001b[0;36minner_f\u001b[0;34m(*args, **kwargs)\u001b[0m\n\u001b[1;32m     70\u001b[0m                           FutureWarning)\n\u001b[1;32m     71\u001b[0m         \u001b[0mkwargs\u001b[0m\u001b[0;34m.\u001b[0m\u001b[0mupdate\u001b[0m\u001b[0;34m(\u001b[0m\u001b[0;34m{\u001b[0m\u001b[0mk\u001b[0m\u001b[0;34m:\u001b[0m \u001b[0marg\u001b[0m \u001b[0;32mfor\u001b[0m \u001b[0mk\u001b[0m\u001b[0;34m,\u001b[0m \u001b[0marg\u001b[0m \u001b[0;32min\u001b[0m \u001b[0mzip\u001b[0m\u001b[0;34m(\u001b[0m\u001b[0msig\u001b[0m\u001b[0;34m.\u001b[0m\u001b[0mparameters\u001b[0m\u001b[0;34m,\u001b[0m \u001b[0margs\u001b[0m\u001b[0;34m)\u001b[0m\u001b[0;34m}\u001b[0m\u001b[0;34m)\u001b[0m\u001b[0;34m\u001b[0m\u001b[0;34m\u001b[0m\u001b[0m\n\u001b[0;32m---> 72\u001b[0;31m         \u001b[0;32mreturn\u001b[0m \u001b[0mf\u001b[0m\u001b[0;34m(\u001b[0m\u001b[0;34m**\u001b[0m\u001b[0mkwargs\u001b[0m\u001b[0;34m)\u001b[0m\u001b[0;34m\u001b[0m\u001b[0;34m\u001b[0m\u001b[0m\n\u001b[0m\u001b[1;32m     73\u001b[0m     \u001b[0;32mreturn\u001b[0m \u001b[0minner_f\u001b[0m\u001b[0;34m\u001b[0m\u001b[0;34m\u001b[0m\u001b[0m\n\u001b[1;32m     74\u001b[0m \u001b[0;34m\u001b[0m\u001b[0m\n",
      "\u001b[0;32m~/anaconda3/lib/python3.7/site-packages/sklearn/metrics/cluster/_supervised.py\u001b[0m in \u001b[0;36mmutual_info_score\u001b[0;34m(labels_true, labels_pred, contingency)\u001b[0m\n\u001b[1;32m    643\u001b[0m     \u001b[0mcontingency_sum\u001b[0m \u001b[0;34m=\u001b[0m \u001b[0mcontingency\u001b[0m\u001b[0;34m.\u001b[0m\u001b[0msum\u001b[0m\u001b[0;34m(\u001b[0m\u001b[0;34m)\u001b[0m\u001b[0;34m\u001b[0m\u001b[0;34m\u001b[0m\u001b[0m\n\u001b[1;32m    644\u001b[0m     \u001b[0mpi\u001b[0m \u001b[0;34m=\u001b[0m \u001b[0mnp\u001b[0m\u001b[0;34m.\u001b[0m\u001b[0mravel\u001b[0m\u001b[0;34m(\u001b[0m\u001b[0mcontingency\u001b[0m\u001b[0;34m.\u001b[0m\u001b[0msum\u001b[0m\u001b[0;34m(\u001b[0m\u001b[0maxis\u001b[0m\u001b[0;34m=\u001b[0m\u001b[0;36m1\u001b[0m\u001b[0;34m)\u001b[0m\u001b[0;34m)\u001b[0m\u001b[0;34m\u001b[0m\u001b[0;34m\u001b[0m\u001b[0m\n\u001b[0;32m--> 645\u001b[0;31m     \u001b[0mpj\u001b[0m \u001b[0;34m=\u001b[0m \u001b[0mnp\u001b[0m\u001b[0;34m.\u001b[0m\u001b[0mravel\u001b[0m\u001b[0;34m(\u001b[0m\u001b[0mcontingency\u001b[0m\u001b[0;34m.\u001b[0m\u001b[0msum\u001b[0m\u001b[0;34m(\u001b[0m\u001b[0maxis\u001b[0m\u001b[0;34m=\u001b[0m\u001b[0;36m0\u001b[0m\u001b[0;34m)\u001b[0m\u001b[0;34m)\u001b[0m\u001b[0;34m\u001b[0m\u001b[0;34m\u001b[0m\u001b[0m\n\u001b[0m\u001b[1;32m    646\u001b[0m     \u001b[0mlog_contingency_nm\u001b[0m \u001b[0;34m=\u001b[0m \u001b[0mnp\u001b[0m\u001b[0;34m.\u001b[0m\u001b[0mlog\u001b[0m\u001b[0;34m(\u001b[0m\u001b[0mnz_val\u001b[0m\u001b[0;34m)\u001b[0m\u001b[0;34m\u001b[0m\u001b[0;34m\u001b[0m\u001b[0m\n\u001b[1;32m    647\u001b[0m     \u001b[0mcontingency_nm\u001b[0m \u001b[0;34m=\u001b[0m \u001b[0mnz_val\u001b[0m \u001b[0;34m/\u001b[0m \u001b[0mcontingency_sum\u001b[0m\u001b[0;34m\u001b[0m\u001b[0;34m\u001b[0m\u001b[0m\n",
      "\u001b[0;32m~/anaconda3/lib/python3.7/site-packages/scipy/sparse/compressed.py\u001b[0m in \u001b[0;36msum\u001b[0;34m(self, axis, dtype, out)\u001b[0m\n\u001b[1;32m    609\u001b[0m         \u001b[0;31m# is in {None, -1, 0, 1}\u001b[0m\u001b[0;34m\u001b[0m\u001b[0;34m\u001b[0m\u001b[0;34m\u001b[0m\u001b[0m\n\u001b[1;32m    610\u001b[0m         \u001b[0;32melse\u001b[0m\u001b[0;34m:\u001b[0m\u001b[0;34m\u001b[0m\u001b[0;34m\u001b[0m\u001b[0m\n\u001b[0;32m--> 611\u001b[0;31m             \u001b[0;32mreturn\u001b[0m \u001b[0mspmatrix\u001b[0m\u001b[0;34m.\u001b[0m\u001b[0msum\u001b[0m\u001b[0;34m(\u001b[0m\u001b[0mself\u001b[0m\u001b[0;34m,\u001b[0m \u001b[0maxis\u001b[0m\u001b[0;34m=\u001b[0m\u001b[0maxis\u001b[0m\u001b[0;34m,\u001b[0m \u001b[0mdtype\u001b[0m\u001b[0;34m=\u001b[0m\u001b[0mdtype\u001b[0m\u001b[0;34m,\u001b[0m \u001b[0mout\u001b[0m\u001b[0;34m=\u001b[0m\u001b[0mout\u001b[0m\u001b[0;34m)\u001b[0m\u001b[0;34m\u001b[0m\u001b[0;34m\u001b[0m\u001b[0m\n\u001b[0m\u001b[1;32m    612\u001b[0m \u001b[0;34m\u001b[0m\u001b[0m\n\u001b[1;32m    613\u001b[0m     \u001b[0msum\u001b[0m\u001b[0;34m.\u001b[0m\u001b[0m__doc__\u001b[0m \u001b[0;34m=\u001b[0m \u001b[0mspmatrix\u001b[0m\u001b[0;34m.\u001b[0m\u001b[0msum\u001b[0m\u001b[0;34m.\u001b[0m\u001b[0m__doc__\u001b[0m\u001b[0;34m\u001b[0m\u001b[0;34m\u001b[0m\u001b[0m\n",
      "\u001b[0;32m~/anaconda3/lib/python3.7/site-packages/scipy/sparse/base.py\u001b[0m in \u001b[0;36msum\u001b[0;34m(self, axis, dtype, out)\u001b[0m\n\u001b[1;32m   1014\u001b[0m             \u001b[0;31m# sum over columns\u001b[0m\u001b[0;34m\u001b[0m\u001b[0;34m\u001b[0m\u001b[0;34m\u001b[0m\u001b[0m\n\u001b[1;32m   1015\u001b[0m             ret = asmatrix(np.ones(\n\u001b[0;32m-> 1016\u001b[0;31m                 (1, m), dtype=res_dtype)) * self\n\u001b[0m\u001b[1;32m   1017\u001b[0m         \u001b[0;32melse\u001b[0m\u001b[0;34m:\u001b[0m\u001b[0;34m\u001b[0m\u001b[0;34m\u001b[0m\u001b[0m\n\u001b[1;32m   1018\u001b[0m             \u001b[0;31m# sum over rows\u001b[0m\u001b[0;34m\u001b[0m\u001b[0;34m\u001b[0m\u001b[0;34m\u001b[0m\u001b[0m\n",
      "\u001b[0;32m~/anaconda3/lib/python3.7/site-packages/scipy/sparse/base.py\u001b[0m in \u001b[0;36m__rmul__\u001b[0;34m(self, other)\u001b[0m\n\u001b[1;32m    552\u001b[0m             \u001b[0;32mexcept\u001b[0m \u001b[0mAttributeError\u001b[0m\u001b[0;34m:\u001b[0m\u001b[0;34m\u001b[0m\u001b[0;34m\u001b[0m\u001b[0m\n\u001b[1;32m    553\u001b[0m                 \u001b[0mtr\u001b[0m \u001b[0;34m=\u001b[0m \u001b[0mnp\u001b[0m\u001b[0;34m.\u001b[0m\u001b[0masarray\u001b[0m\u001b[0;34m(\u001b[0m\u001b[0mother\u001b[0m\u001b[0;34m)\u001b[0m\u001b[0;34m.\u001b[0m\u001b[0mtranspose\u001b[0m\u001b[0;34m(\u001b[0m\u001b[0;34m)\u001b[0m\u001b[0;34m\u001b[0m\u001b[0;34m\u001b[0m\u001b[0m\n\u001b[0;32m--> 554\u001b[0;31m             \u001b[0;32mreturn\u001b[0m \u001b[0;34m(\u001b[0m\u001b[0mself\u001b[0m\u001b[0;34m.\u001b[0m\u001b[0mtranspose\u001b[0m\u001b[0;34m(\u001b[0m\u001b[0;34m)\u001b[0m \u001b[0;34m*\u001b[0m \u001b[0mtr\u001b[0m\u001b[0;34m)\u001b[0m\u001b[0;34m.\u001b[0m\u001b[0mtranspose\u001b[0m\u001b[0;34m(\u001b[0m\u001b[0;34m)\u001b[0m\u001b[0;34m\u001b[0m\u001b[0;34m\u001b[0m\u001b[0m\n\u001b[0m\u001b[1;32m    555\u001b[0m \u001b[0;34m\u001b[0m\u001b[0m\n\u001b[1;32m    556\u001b[0m     \u001b[0;31m#####################################\u001b[0m\u001b[0;34m\u001b[0m\u001b[0;34m\u001b[0m\u001b[0;34m\u001b[0m\u001b[0m\n",
      "\u001b[0;32m~/anaconda3/lib/python3.7/site-packages/scipy/sparse/base.py\u001b[0m in \u001b[0;36m__mul__\u001b[0;34m(self, other)\u001b[0m\n\u001b[1;32m    505\u001b[0m \u001b[0;34m\u001b[0m\u001b[0m\n\u001b[1;32m    506\u001b[0m             \u001b[0;32mif\u001b[0m \u001b[0misinstance\u001b[0m\u001b[0;34m(\u001b[0m\u001b[0mother\u001b[0m\u001b[0;34m,\u001b[0m \u001b[0mnp\u001b[0m\u001b[0;34m.\u001b[0m\u001b[0mmatrix\u001b[0m\u001b[0;34m)\u001b[0m\u001b[0;34m:\u001b[0m\u001b[0;34m\u001b[0m\u001b[0;34m\u001b[0m\u001b[0m\n\u001b[0;32m--> 507\u001b[0;31m                 \u001b[0mresult\u001b[0m \u001b[0;34m=\u001b[0m \u001b[0masmatrix\u001b[0m\u001b[0;34m(\u001b[0m\u001b[0mresult\u001b[0m\u001b[0;34m)\u001b[0m\u001b[0;34m\u001b[0m\u001b[0;34m\u001b[0m\u001b[0m\n\u001b[0m\u001b[1;32m    508\u001b[0m \u001b[0;34m\u001b[0m\u001b[0m\n\u001b[1;32m    509\u001b[0m             \u001b[0;32mif\u001b[0m \u001b[0mother\u001b[0m\u001b[0;34m.\u001b[0m\u001b[0mndim\u001b[0m \u001b[0;34m==\u001b[0m \u001b[0;36m2\u001b[0m \u001b[0;32mand\u001b[0m \u001b[0mother\u001b[0m\u001b[0;34m.\u001b[0m\u001b[0mshape\u001b[0m\u001b[0;34m[\u001b[0m\u001b[0;36m1\u001b[0m\u001b[0;34m]\u001b[0m \u001b[0;34m==\u001b[0m \u001b[0;36m1\u001b[0m\u001b[0;34m:\u001b[0m\u001b[0;34m\u001b[0m\u001b[0;34m\u001b[0m\u001b[0m\n",
      "\u001b[0;32m~/anaconda3/lib/python3.7/site-packages/scipy/sparse/sputils.py\u001b[0m in \u001b[0;36masmatrix\u001b[0;34m(*args, **kwargs)\u001b[0m\n\u001b[1;32m    354\u001b[0m         warnings.filterwarnings(\n\u001b[1;32m    355\u001b[0m             'ignore', '.*the matrix subclass is not the recommended way.*')\n\u001b[0;32m--> 356\u001b[0;31m         \u001b[0;32mreturn\u001b[0m \u001b[0mnp\u001b[0m\u001b[0;34m.\u001b[0m\u001b[0masmatrix\u001b[0m\u001b[0;34m(\u001b[0m\u001b[0;34m*\u001b[0m\u001b[0margs\u001b[0m\u001b[0;34m,\u001b[0m \u001b[0;34m**\u001b[0m\u001b[0mkwargs\u001b[0m\u001b[0;34m)\u001b[0m\u001b[0;34m\u001b[0m\u001b[0;34m\u001b[0m\u001b[0m\n\u001b[0m\u001b[1;32m    357\u001b[0m \u001b[0;34m\u001b[0m\u001b[0m\n\u001b[1;32m    358\u001b[0m \u001b[0;34m\u001b[0m\u001b[0m\n",
      "\u001b[0;32m~/anaconda3/lib/python3.7/site-packages/numpy/matrixlib/defmatrix.py\u001b[0m in \u001b[0;36masmatrix\u001b[0;34m(data, dtype)\u001b[0m\n\u001b[1;32m     69\u001b[0m \u001b[0;34m\u001b[0m\u001b[0m\n\u001b[1;32m     70\u001b[0m     \"\"\"\n\u001b[0;32m---> 71\u001b[0;31m     \u001b[0;32mreturn\u001b[0m \u001b[0mmatrix\u001b[0m\u001b[0;34m(\u001b[0m\u001b[0mdata\u001b[0m\u001b[0;34m,\u001b[0m \u001b[0mdtype\u001b[0m\u001b[0;34m=\u001b[0m\u001b[0mdtype\u001b[0m\u001b[0;34m,\u001b[0m \u001b[0mcopy\u001b[0m\u001b[0;34m=\u001b[0m\u001b[0;32mFalse\u001b[0m\u001b[0;34m)\u001b[0m\u001b[0;34m\u001b[0m\u001b[0;34m\u001b[0m\u001b[0m\n\u001b[0m\u001b[1;32m     72\u001b[0m \u001b[0;34m\u001b[0m\u001b[0m\n\u001b[1;32m     73\u001b[0m \u001b[0;34m\u001b[0m\u001b[0m\n",
      "\u001b[0;32m~/anaconda3/lib/python3.7/site-packages/numpy/matrixlib/defmatrix.py\u001b[0m in \u001b[0;36m__new__\u001b[0;34m(subtype, data, dtype, copy)\u001b[0m\n\u001b[1;32m    121\u001b[0m                       \u001b[0;34m'numpy-for-matlab-users.html). '\u001b[0m\u001b[0;34m\u001b[0m\u001b[0;34m\u001b[0m\u001b[0m\n\u001b[1;32m    122\u001b[0m                       \u001b[0;34m'Please adjust your code to use regular ndarray.'\u001b[0m\u001b[0;34m,\u001b[0m\u001b[0;34m\u001b[0m\u001b[0;34m\u001b[0m\u001b[0m\n\u001b[0;32m--> 123\u001b[0;31m                       PendingDeprecationWarning, stacklevel=2)\n\u001b[0m\u001b[1;32m    124\u001b[0m         \u001b[0;32mif\u001b[0m \u001b[0misinstance\u001b[0m\u001b[0;34m(\u001b[0m\u001b[0mdata\u001b[0m\u001b[0;34m,\u001b[0m \u001b[0mmatrix\u001b[0m\u001b[0;34m)\u001b[0m\u001b[0;34m:\u001b[0m\u001b[0;34m\u001b[0m\u001b[0;34m\u001b[0m\u001b[0m\n\u001b[1;32m    125\u001b[0m             \u001b[0mdtype2\u001b[0m \u001b[0;34m=\u001b[0m \u001b[0mdata\u001b[0m\u001b[0;34m.\u001b[0m\u001b[0mdtype\u001b[0m\u001b[0;34m\u001b[0m\u001b[0;34m\u001b[0m\u001b[0m\n",
      "\u001b[0;31mKeyboardInterrupt\u001b[0m: "
     ]
    }
   ],
   "source": [
    "max_attempts_list = [10, 100, 1000]\n",
    "\n",
    "for num in max_attempts_list:\n",
    "    \n",
    "    best_state, best_fitness = mlrose.mimic(problem=problem1, \n",
    "                                              pop_size = problem1.length*5, keep_pct = 0.40,\n",
    "                                               max_attempts = int(num), max_iters = 1000,\n",
    "                                                    random_state = 42)\n",
    "\n",
    "\n",
    "    print(\"max_attempts:\", num, \" best_fitness:\",best_fitness)\n",
    "    "
   ]
  },
  {
   "cell_type": "markdown",
   "metadata": {},
   "source": [
    "max_iters"
   ]
  },
  {
   "cell_type": "code",
   "execution_count": 199,
   "metadata": {},
   "outputs": [
    {
     "name": "stdout",
     "output_type": "stream",
     "text": [
      "max_iters: 10  best_fitness: 22.0\n",
      "max_iters: 100  best_fitness: 115.0\n",
      "max_iters: 1000  best_fitness: 115.0\n",
      "max_iters: 10000  best_fitness: 115.0\n",
      "max_iters: 100000  best_fitness: 115.0\n"
     ]
    }
   ],
   "source": [
    "max_iters_list = [10, 100, 1000, 10000, 100000]\n",
    "\n",
    "for num in max_iters_list:\n",
    "    \n",
    "    best_state, best_fitness = mlrose.mimic(problem=problem1, \n",
    "                                              pop_size = problem1.length*5, keep_pct = 0.40,\n",
    "                                               max_attempts = 10, max_iters = int(num),\n",
    "                                                    random_state = 42)\n",
    "\n",
    "\n",
    "    print(\"max_iters:\", num, \" best_fitness:\",best_fitness)\n"
   ]
  },
  {
   "cell_type": "code",
   "execution_count": null,
   "metadata": {},
   "outputs": [],
   "source": []
  },
  {
   "cell_type": "code",
   "execution_count": null,
   "metadata": {},
   "outputs": [],
   "source": []
  },
  {
   "cell_type": "code",
   "execution_count": null,
   "metadata": {},
   "outputs": [],
   "source": []
  },
  {
   "cell_type": "code",
   "execution_count": null,
   "metadata": {},
   "outputs": [],
   "source": []
  }
 ],
 "metadata": {
  "kernelspec": {
   "display_name": "Python 3",
   "language": "python",
   "name": "python3"
  },
  "language_info": {
   "codemirror_mode": {
    "name": "ipython",
    "version": 3
   },
   "file_extension": ".py",
   "mimetype": "text/x-python",
   "name": "python",
   "nbconvert_exporter": "python",
   "pygments_lexer": "ipython3",
   "version": "3.7.9"
  }
 },
 "nbformat": 4,
 "nbformat_minor": 4
}
