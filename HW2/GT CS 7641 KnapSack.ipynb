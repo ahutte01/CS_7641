{
 "cells": [
  {
   "cell_type": "code",
   "execution_count": 1,
   "metadata": {},
   "outputs": [],
   "source": [
    "import pandas as pd\n",
    "import numpy as np \n",
    "import matplotlib.pyplot as plt\n",
    "import os\n",
    "pd.set_option('max_columns', None)\n",
    "pd.set_option('max_rows', None)\n",
    "\n",
    "import warnings\n",
    "warnings.simplefilter(action='ignore', category=FutureWarning)\n",
    "\n",
    "import time\n",
    "\n",
    "from sklearn.model_selection import train_test_split\n",
    "from sklearn.preprocessing import MinMaxScaler, OneHotEncoder\n",
    "from sklearn.metrics import accuracy_score, f1_score"
   ]
  },
  {
   "cell_type": "code",
   "execution_count": 2,
   "metadata": {},
   "outputs": [],
   "source": [
    "import six\n",
    "import sys\n",
    "sys.modules['sklearn.externals.six'] = six\n",
    "import mlrose"
   ]
  },
  {
   "cell_type": "markdown",
   "metadata": {},
   "source": [
    "## Part 1"
   ]
  },
  {
   "cell_type": "markdown",
   "metadata": {},
   "source": [
    "What is an optimization problem? \n",
    "\n",
    "- We aim to find the best state, according to some objective function. \n",
    "- An example of a state is the weights used in a machine learning model, such as a neural network\n",
    "- State is represented by a one-dimensional vector \n",
    "- \"Best\" state is defined using the Cost Function/Fitness Function/Objective Function \n",
    "- Function takes in a State Array as Input and returns a Fitness Value as Output\n"
   ]
  },
  {
   "cell_type": "markdown",
   "metadata": {},
   "source": [
    "We will make 3 steps to solve an optimization problem with mlrose:\n",
    " - 1) Define fitness function object\n",
    " - 2) Define an optimization problem object\n",
    " - 3) Select and run a randomized optimization algorithm"
   ]
  },
  {
   "cell_type": "markdown",
   "metadata": {},
   "source": [
    "#### 1) Define Fitness Function Object"
   ]
  },
  {
   "cell_type": "code",
   "execution_count": 47,
   "metadata": {},
   "outputs": [
    {
     "name": "stdout",
     "output_type": "stream",
     "text": [
      "[1, 2, 1, 1, 2, 1, 1, 1, 2, 2, 1, 2, 2, 1, 1, 2, 2, 2, 2, 2, 2, 1, 1, 2, 1, 2, 2, 1, 2, 2, 1, 1, 2, 1, 1, 1, 2, 1, 2, 2, 2, 2, 1, 2, 2, 1, 1, 1, 1, 1, 2, 2, 1, 2, 2, 1, 1, 1, 2, 1, 1, 2, 1, 2, 1, 1, 1, 1, 1, 1, 2, 1, 2, 2, 1, 1, 2, 1, 1, 1, 1, 2, 1, 2, 1, 1, 2, 1, 2, 2, 2, 1, 2, 1, 1, 2, 2, 2, 1, 2]\n",
      "[1, 1, 1, 1, 1, 1, 1, 1, 1, 2, 1, 2, 1, 2, 1, 1, 2, 1, 1, 1, 2, 1, 1, 1, 1, 2, 2, 2, 1, 1, 1, 2, 2, 2, 1, 2, 2, 1, 1, 2, 1, 1, 2, 2, 1, 2, 1, 1, 2, 2, 2, 1, 2, 1, 2, 2, 2, 1, 1, 2, 1, 2, 1, 2, 1, 1, 2, 1, 2, 2, 1, 2, 2, 2, 1, 1, 1, 1, 1, 1, 1, 1, 2, 1, 2, 2, 1, 1, 2, 2, 1, 1, 2, 1, 1, 1, 1, 2, 1, 1]\n"
     ]
    }
   ],
   "source": [
    "#fitness1 = mlrose.FourPeaks(t_pct=0.1)\n",
    "#fitness2 = mlrose.MaxKColor(edges=edges)\n",
    "#fitness3 = mlrose.FlipFlop()\n",
    "\n",
    "import random\n",
    "\n",
    "random.seed(42)\n",
    "weights = []\n",
    "values = []\n",
    "\n",
    "for i in range(100):    \n",
    "    weights.append(random.randint(1, 2))\n",
    "    values.append(random.randint(1, 2))\n",
    "\n",
    "print(weights)\n",
    "print(values)\n",
    "fitness4 = mlrose.Knapsack(weights=weights, values=values, max_weight_pct = 0.35)"
   ]
  },
  {
   "cell_type": "markdown",
   "metadata": {},
   "source": [
    "#### 2) Define an Optimization Problem Object"
   ]
  },
  {
   "cell_type": "code",
   "execution_count": 48,
   "metadata": {},
   "outputs": [],
   "source": [
    "#this requires a LENGTH of Edges - we can tune this \n",
    "\n",
    "problem4 = mlrose.DiscreteOpt(length = 100, fitness_fn = fitness4, maximize = True, max_val = 2)"
   ]
  },
  {
   "cell_type": "code",
   "execution_count": 49,
   "metadata": {},
   "outputs": [
    {
     "data": {
      "text/plain": [
       "100"
      ]
     },
     "execution_count": 49,
     "metadata": {},
     "output_type": "execute_result"
    }
   ],
   "source": [
    "problem4.length"
   ]
  },
  {
   "cell_type": "markdown",
   "metadata": {},
   "source": [
    "#### 3) Select and Run Randomized Optimization Algorithm"
   ]
  },
  {
   "cell_type": "markdown",
   "metadata": {},
   "source": [
    "##### Find Optimzal Parameters for RHC, SA, GA, Mimic for the Knap Sack Problem"
   ]
  },
  {
   "cell_type": "markdown",
   "metadata": {},
   "source": [
    "##### Random Hill Climbing"
   ]
  },
  {
   "cell_type": "markdown",
   "metadata": {},
   "source": [
    "restarts"
   ]
  },
  {
   "cell_type": "code",
   "execution_count": 69,
   "metadata": {},
   "outputs": [
    {
     "name": "stdout",
     "output_type": "stream",
     "text": [
      "restarts: 0.0 best_fitness: 0.0\n",
      "restarts: 1.0 best_fitness: 0.0\n",
      "restarts: 2.0 best_fitness: 0.0\n",
      "restarts: 3.0 best_fitness: 0.0\n",
      "restarts: 4.0 best_fitness: 0.0\n",
      "restarts: 5.0 best_fitness: 0.0\n",
      "restarts: 6.0 best_fitness: 0.0\n",
      "restarts: 7.0 best_fitness: 0.0\n",
      "restarts: 8.0 best_fitness: 0.0\n",
      "restarts: 9.0 best_fitness: 0.0\n",
      "restarts: 10.0 best_fitness: 0.0\n",
      "restarts: 25.0 best_fitness: 0.0\n",
      "restarts: 50.0 best_fitness: 0.0\n",
      "restarts: 75.0 best_fitness: 0.0\n",
      "restarts: 100.0 best_fitness: 0.0\n",
      "restarts: 200.0 best_fitness: 52.0\n"
     ]
    }
   ],
   "source": [
    "restarts_list = np.arange(0, 11, 1)\n",
    "\n",
    "restarts_probs = [.25, .50, .75, 1.0, 2.0]\n",
    "problem_length = np.array(problem4.length)\n",
    "\n",
    "restarts_list2 = np.dot(restarts_probs, problem_length)\n",
    "\n",
    "restarts_list_full =  np.concatenate((restarts_list, restarts_list2))\n",
    "\n",
    "for num in restarts_list_full:\n",
    "    best_state, best_fitness = mlrose.random_hill_climb(problem=problem4, restarts = int(num),\n",
    "                                                   max_attempts = 10, max_iters = 1000,\n",
    "                                                        random_state = 42)\n",
    "    #print(best_state)\n",
    "    print(\"restarts:\",num, \"best_fitness:\",best_fitness)\n"
   ]
  },
  {
   "cell_type": "markdown",
   "metadata": {},
   "source": [
    "max_attempts"
   ]
  },
  {
   "cell_type": "code",
   "execution_count": 51,
   "metadata": {},
   "outputs": [
    {
     "name": "stdout",
     "output_type": "stream",
     "text": [
      "0.0\n",
      "0.0\n",
      "0.0\n",
      "0.0\n",
      "0.0\n"
     ]
    }
   ],
   "source": [
    "max_attempts_list = [10, 100, 1000, 10000, 100000]\n",
    "\n",
    "for num in max_attempts_list:\n",
    "    \n",
    "    best_state, best_fitness = mlrose.random_hill_climb(problem=problem4, restarts = 1,\n",
    "                                                   max_attempts = int(num), max_iters = 1000,\n",
    "                                                   random_state = 42)\n",
    "    #print(best_state)\n",
    "    print(best_fitness)\n"
   ]
  },
  {
   "cell_type": "markdown",
   "metadata": {},
   "source": [
    "max_iters"
   ]
  },
  {
   "cell_type": "code",
   "execution_count": 52,
   "metadata": {},
   "outputs": [
    {
     "name": "stdout",
     "output_type": "stream",
     "text": [
      "0.0\n",
      "0.0\n",
      "0.0\n",
      "0.0\n",
      "0.0\n"
     ]
    }
   ],
   "source": [
    "max_iters_list = [10, 100, 1000, 10000, 100000]\n",
    "\n",
    "for num in max_iters_list:\n",
    "    \n",
    "    best_state, best_fitness = mlrose.random_hill_climb(problem=problem4, restarts = 1,\n",
    "                                                   max_attempts = 10, max_iters = int(num),\n",
    "                                                    random_state = 42)\n",
    "    #print(best_state)\n",
    "    print(best_fitness)\n"
   ]
  },
  {
   "cell_type": "markdown",
   "metadata": {},
   "source": [
    "##### Simulated Annealing"
   ]
  },
  {
   "cell_type": "markdown",
   "metadata": {},
   "source": [
    "schedule"
   ]
  },
  {
   "cell_type": "code",
   "execution_count": 54,
   "metadata": {},
   "outputs": [
    {
     "name": "stdout",
     "output_type": "stream",
     "text": [
      "51.0\n"
     ]
    },
    {
     "name": "stderr",
     "output_type": "stream",
     "text": [
      "/Users/amandahutter/anaconda3/lib/python3.7/site-packages/mlrose/algorithms.py:311: RuntimeWarning: overflow encountered in exp\n",
      "  prob = np.exp(delta_e/temp)\n"
     ]
    }
   ],
   "source": [
    "scheduleG = mlrose.GeomDecay()\n",
    "scheduleA = mlrose.ArithDecay()\n",
    "scheduleE = mlrose.ExpDecay()\n",
    "\n",
    "best_state, best_fitness = mlrose.simulated_annealing(problem=problem4, schedule = scheduleG,\n",
    "                                               max_attempts = 10, max_iters = 1000,\n",
    "                                                    random_state = 42)\n",
    "\n",
    "#print(best_state)\n",
    "\n",
    "print(best_fitness)"
   ]
  },
  {
   "cell_type": "code",
   "execution_count": 55,
   "metadata": {},
   "outputs": [
    {
     "name": "stdout",
     "output_type": "stream",
     "text": [
      "51.0\n"
     ]
    }
   ],
   "source": [
    "best_state, best_fitness = mlrose.simulated_annealing(problem=problem4, schedule = scheduleA,\n",
    "                                               max_attempts = 10, max_iters = 1000,\n",
    "                                                    random_state = 42)\n",
    "\n",
    "#print(best_state)\n",
    "\n",
    "print(best_fitness)"
   ]
  },
  {
   "cell_type": "code",
   "execution_count": 56,
   "metadata": {},
   "outputs": [
    {
     "name": "stdout",
     "output_type": "stream",
     "text": [
      "51.0\n"
     ]
    }
   ],
   "source": [
    "best_state, best_fitness = mlrose.simulated_annealing(problem=problem4, schedule = scheduleE,\n",
    "                                               max_attempts = 10, max_iters = 1000,\n",
    "                                                    random_state = 42)\n",
    "\n",
    "#print(best_state)\n",
    "\n",
    "print(best_fitness)"
   ]
  },
  {
   "cell_type": "markdown",
   "metadata": {},
   "source": [
    "Max Attempts"
   ]
  },
  {
   "cell_type": "code",
   "execution_count": 57,
   "metadata": {},
   "outputs": [
    {
     "name": "stdout",
     "output_type": "stream",
     "text": [
      "51.0\n",
      "51.0\n",
      "51.0\n",
      "51.0\n",
      "51.0\n"
     ]
    }
   ],
   "source": [
    "max_attempts_list = [10, 100, 1000, 10000, 100000]\n",
    "\n",
    "for num in max_attempts_list:\n",
    "    \n",
    "    best_state, best_fitness = mlrose.simulated_annealing(problem=problem4, schedule = scheduleG,\n",
    "                                                   max_attempts = num, max_iters = 1000,\n",
    "                                                        random_state = 42)\n",
    "\n",
    "    #print(best_state)\n",
    "    print(best_fitness)\n"
   ]
  },
  {
   "cell_type": "markdown",
   "metadata": {},
   "source": [
    "Max Iters"
   ]
  },
  {
   "cell_type": "code",
   "execution_count": 58,
   "metadata": {},
   "outputs": [
    {
     "name": "stdout",
     "output_type": "stream",
     "text": [
      "0.0\n",
      "0.0\n",
      "51.0\n",
      "51.0\n",
      "51.0\n"
     ]
    }
   ],
   "source": [
    "max_iters_list = [10, 100, 1000, 10000, 100000]\n",
    "\n",
    "for num in max_iters_list:\n",
    "    \n",
    "    best_state, best_fitness = mlrose.simulated_annealing(problem=problem4, schedule = scheduleG,\n",
    "                                                   max_attempts = 10, max_iters = num,\n",
    "                                                        random_state = 42)\n",
    "    \n",
    "    #print(best_state)\n",
    "    print(best_fitness)\n"
   ]
  },
  {
   "cell_type": "markdown",
   "metadata": {},
   "source": [
    "##### Genetic Alg"
   ]
  },
  {
   "cell_type": "code",
   "execution_count": 59,
   "metadata": {},
   "outputs": [
    {
     "name": "stdout",
     "output_type": "stream",
     "text": [
      "58.0\n"
     ]
    }
   ],
   "source": [
    "best_state, best_fitness = mlrose.genetic_alg(problem=problem4, \n",
    "                                              pop_size = 200, mutation_prob = 0.1,\n",
    "                                              max_attempts = 10, max_iters = 1000,\n",
    "                                               random_state = 42)\n",
    "\n",
    "\n",
    "print(best_fitness)"
   ]
  },
  {
   "cell_type": "markdown",
   "metadata": {},
   "source": [
    "pop_size"
   ]
  },
  {
   "cell_type": "code",
   "execution_count": 60,
   "metadata": {},
   "outputs": [
    {
     "name": "stdout",
     "output_type": "stream",
     "text": [
      "pop_size: 10.0  best_fitness: 0.0\n",
      "pop_size: 25.0  best_fitness: 0.0\n",
      "pop_size: 50.0  best_fitness: 0.0\n",
      "pop_size: 75.0  best_fitness: 59.0\n",
      "pop_size: 100.0  best_fitness: 0.0\n",
      "pop_size: 150.0  best_fitness: 0.0\n",
      "pop_size: 200.0  best_fitness: 58.0\n",
      "pop_size: 250.0  best_fitness: 60.0\n",
      "pop_size: 300.0  best_fitness: 0.0\n",
      "pop_size: 500.0  best_fitness: 64.0\n"
     ]
    }
   ],
   "source": [
    "pop_size_list = [.10, .25, .50, .75, 1.0, 1.50, 2.0, 2.50, 3.0, 5.0]\n",
    "problem_length = problem4.length\n",
    "\n",
    "for num in pop_size_list:\n",
    "    size =  problem_length*num\n",
    "    best_state, best_fitness = mlrose.genetic_alg(problem=problem4, \n",
    "                                                  pop_size = int(size), mutation_prob = 0.1,\n",
    "                                                   max_attempts = 10, max_iters = 1000,\n",
    "                                                        random_state = 42)\n",
    "\n",
    "    print(\"pop_size:\", size, \" best_fitness:\", best_fitness)\n"
   ]
  },
  {
   "cell_type": "markdown",
   "metadata": {},
   "source": [
    "mutation_prob"
   ]
  },
  {
   "cell_type": "code",
   "execution_count": 61,
   "metadata": {},
   "outputs": [
    {
     "name": "stdout",
     "output_type": "stream",
     "text": [
      "mutation_prob: 0.1 best_fitness: 58.0\n",
      "mutation_prob: 0.2 best_fitness: 61.0\n",
      "mutation_prob: 0.30000000000000004 best_fitness: 59.0\n",
      "mutation_prob: 0.4 best_fitness: 55.0\n",
      "mutation_prob: 0.5 best_fitness: 58.0\n",
      "mutation_prob: 0.6 best_fitness: 57.0\n",
      "mutation_prob: 0.7000000000000001 best_fitness: 54.0\n",
      "mutation_prob: 0.8 best_fitness: 58.0\n",
      "mutation_prob: 0.9 best_fitness: 58.0\n"
     ]
    }
   ],
   "source": [
    "mutation_prob_list = np.arange(0.1, 1, 0.1) \n",
    "\n",
    "for num in mutation_prob_list:\n",
    "    best_state, best_fitness = mlrose.genetic_alg(problem=problem4, \n",
    "                                                  pop_size = 200, mutation_prob = num,\n",
    "                                                   max_attempts = 10, max_iters = 1000,\n",
    "                                                        random_state = 42)\n",
    "\n",
    "    print(\"mutation_prob:\", num, \"best_fitness:\", best_fitness)"
   ]
  },
  {
   "cell_type": "markdown",
   "metadata": {},
   "source": [
    "max_iters"
   ]
  },
  {
   "cell_type": "code",
   "execution_count": 62,
   "metadata": {},
   "outputs": [
    {
     "name": "stdout",
     "output_type": "stream",
     "text": [
      "max_iters: 10  best_fitness: 60.0\n",
      "max_iters: 100  best_fitness: 64.0\n",
      "max_iters: 1000  best_fitness: 64.0\n",
      "max_iters: 10000  best_fitness: 64.0\n",
      "max_iters: 100000  best_fitness: 64.0\n"
     ]
    }
   ],
   "source": [
    "max_iters_list = [10, 100, 1000, 10000, 100000]\n",
    "\n",
    "for num in max_iters_list:\n",
    "    best_state, best_fitness = mlrose.genetic_alg(problem=problem4, \n",
    "                                                  pop_size = 5*problem4.length, mutation_prob = 0.1,\n",
    "                                                   max_attempts = 10, max_iters = num,\n",
    "                                                        random_state = 42)\n",
    "\n",
    "    print(\"max_iters:\",num ,\" best_fitness:\", best_fitness)\n"
   ]
  },
  {
   "cell_type": "markdown",
   "metadata": {},
   "source": [
    "max_attempts"
   ]
  },
  {
   "cell_type": "code",
   "execution_count": 63,
   "metadata": {},
   "outputs": [
    {
     "name": "stdout",
     "output_type": "stream",
     "text": [
      "max_attempts 10  best_fitness: 64.0\n",
      "max_attempts 100  best_fitness: 64.0\n",
      "max_attempts 1000  best_fitness: 64.0\n",
      "max_attempts 10000  best_fitness: 64.0\n",
      "max_attempts 100000  best_fitness: 64.0\n"
     ]
    }
   ],
   "source": [
    "max_attempts_list = [10, 100, 1000, 10000, 100000]\n",
    "\n",
    "for num in max_attempts_list:\n",
    "    best_state, best_fitness = mlrose.genetic_alg(problem=problem4, \n",
    "                                                  pop_size = 5*problem4.length, mutation_prob = 0.1,\n",
    "                                                   max_attempts = num, max_iters = 1000,\n",
    "                                                    random_state = 42)\n",
    "\n",
    "    print(\"max_attempts\",num ,\" best_fitness:\", best_fitness)\n"
   ]
  },
  {
   "cell_type": "markdown",
   "metadata": {},
   "source": [
    "##### Mimic "
   ]
  },
  {
   "cell_type": "markdown",
   "metadata": {},
   "source": [
    "keep_pct"
   ]
  },
  {
   "cell_type": "code",
   "execution_count": 64,
   "metadata": {},
   "outputs": [
    {
     "name": "stdout",
     "output_type": "stream",
     "text": [
      "keep_pct: 0.1  best_fitness: 55.0\n",
      "keep_pct: 0.2  best_fitness: 55.0\n",
      "keep_pct: 0.30000000000000004  best_fitness: 55.0\n",
      "keep_pct: 0.4  best_fitness: 55.0\n",
      "keep_pct: 0.5  best_fitness: 55.0\n",
      "keep_pct: 0.6  best_fitness: 55.0\n",
      "keep_pct: 0.7000000000000001  best_fitness: 55.0\n",
      "keep_pct: 0.8  best_fitness: 55.0\n",
      "keep_pct: 0.9  best_fitness: 55.0\n"
     ]
    }
   ],
   "source": [
    "keep_pct_list = np.arange(0.1, 1, 0.1) \n",
    "\n",
    "for num in keep_pct_list:\n",
    "    best_state, best_fitness = mlrose.mimic(problem=problem4, \n",
    "                                                  pop_size = 200, keep_pct = num,\n",
    "                                                   max_attempts = 10, max_iters = 1000,\n",
    "                                                        random_state = 42)\n",
    "\n",
    "    print(\"keep_pct:\", num,\" best_fitness:\",best_fitness)"
   ]
  },
  {
   "cell_type": "markdown",
   "metadata": {},
   "source": [
    "pop_size"
   ]
  },
  {
   "cell_type": "code",
   "execution_count": 65,
   "metadata": {},
   "outputs": [
    {
     "name": "stdout",
     "output_type": "stream",
     "text": [
      "pop_size: 10.0  best_fitness: 0.0\n",
      "pop_size: 25.0  best_fitness: 0.0\n",
      "pop_size: 50.0  best_fitness: 50.0\n",
      "pop_size: 75.0  best_fitness: 0.0\n",
      "pop_size: 100.0  best_fitness: 48.0\n",
      "pop_size: 150.0  best_fitness: 53.0\n",
      "pop_size: 200.0  best_fitness: 55.0\n",
      "pop_size: 250.0  best_fitness: 53.0\n",
      "pop_size: 300.0  best_fitness: 54.0\n",
      "pop_size: 500.0  best_fitness: 56.0\n"
     ]
    }
   ],
   "source": [
    "pop_size_list = [.10, .25, .50, .75, 1.0, 1.50, 2.0, 2.50, 3.0, 5.0]\n",
    "problem_length = problem4.length\n",
    "\n",
    "\n",
    "for num in pop_size_list:\n",
    "    size =  num * problem_length\n",
    "    \n",
    "    best_state, best_fitness = mlrose.mimic(problem=problem4, \n",
    "                                                  pop_size = int(size), keep_pct = 0.20,\n",
    "                                                   max_attempts = 10, max_iters = 1000,\n",
    "                                                        random_state = 42)\n",
    "\n",
    "\n",
    "    print(\"pop_size:\", size, \" best_fitness:\",best_fitness)"
   ]
  },
  {
   "cell_type": "markdown",
   "metadata": {},
   "source": [
    "max_iters"
   ]
  },
  {
   "cell_type": "code",
   "execution_count": 66,
   "metadata": {},
   "outputs": [
    {
     "name": "stdout",
     "output_type": "stream",
     "text": [
      "max_iters: 10  best_fitness: 56.0\n",
      "max_iters: 100  best_fitness: 56.0\n",
      "max_iters: 1000  best_fitness: 56.0\n",
      "max_iters: 10000  best_fitness: 56.0\n"
     ]
    }
   ],
   "source": [
    "#max_iters_list = [10, 100, 1000, 10000, 100000]\n",
    "max_iters_list = [10, 100, 1000, 10000]\n",
    "\n",
    "\n",
    "for num in max_iters_list:\n",
    "    \n",
    "    best_state, best_fitness = mlrose.mimic(problem=problem4, \n",
    "                                              pop_size = problem4.length*5, keep_pct = 0.20,\n",
    "                                               max_attempts = 10, max_iters = int(num),\n",
    "                                                    random_state = 42)\n",
    "\n",
    "\n",
    "    print(\"max_iters:\", num, \" best_fitness:\",best_fitness)\n"
   ]
  },
  {
   "cell_type": "markdown",
   "metadata": {},
   "source": [
    "max_attempts"
   ]
  },
  {
   "cell_type": "code",
   "execution_count": 67,
   "metadata": {},
   "outputs": [
    {
     "name": "stdout",
     "output_type": "stream",
     "text": [
      "max_attempts: 10  best_fitness: 56.0\n",
      "max_attempts: 100  best_fitness: 59.0\n",
      "max_attempts: 1000  best_fitness: 62.0\n",
      "max_attempts: 10000  best_fitness: 62.0\n"
     ]
    }
   ],
   "source": [
    "#max_attempts_list = [10, 100, 1000, 10000, 100000]\n",
    "max_attempts_list = [10, 100, 1000, 10000]\n",
    "\n",
    "\n",
    "for num in max_attempts_list:\n",
    "    \n",
    "    best_state, best_fitness = mlrose.mimic(problem=problem4, \n",
    "                                              pop_size = problem4.length*5, keep_pct = 0.20,\n",
    "                                               max_attempts = int(num), max_iters = 1000,\n",
    "                                                    random_state = 42)\n",
    "\n",
    "\n",
    "    print(\"max_attempts:\", num, \" best_fitness:\",best_fitness)\n",
    "    "
   ]
  },
  {
   "cell_type": "code",
   "execution_count": null,
   "metadata": {},
   "outputs": [],
   "source": []
  },
  {
   "cell_type": "code",
   "execution_count": null,
   "metadata": {},
   "outputs": [],
   "source": []
  },
  {
   "cell_type": "code",
   "execution_count": 108,
   "metadata": {},
   "outputs": [
    {
     "name": "stdout",
     "output_type": "stream",
     "text": [
      "<function random_hill_climb at 0x7feee32d0a70>\n",
      "[0 1 0 0 0 1 0 0 0 1]\n",
      "0.0\n",
      "<function simulated_annealing at 0x7feee32d0cb0>\n",
      "[1 1 1 1 1 1 1 1 0 0]\n",
      "18.0\n",
      "<function genetic_alg at 0x7feee32d0f80>\n",
      "[1 1 0 0 0 0 0 0 0 0]\n",
      "18.0\n",
      "<function mimic at 0x7feee32d0830>\n",
      "[1 1 1 1 1 1 1 1 0 0]\n",
      "18.0\n"
     ]
    }
   ],
   "source": [
    "list_algorithms = [mlrose.random_hill_climb , mlrose.simulated_annealing , mlrose.genetic_alg , mlrose.mimic]\n",
    "\n",
    "init_state = [1, 1, 1, 1, 1, 1, 1, 1, 1, 1]\n",
    "\n",
    "for alg in list_algorithms:\n",
    "    bs, bf =  alg(problem=problem1, random_state = 42)\n",
    "    print(alg)\n",
    "    print(bs)\n",
    "    print(bf)"
   ]
  },
  {
   "cell_type": "code",
   "execution_count": 134,
   "metadata": {},
   "outputs": [
    {
     "name": "stdout",
     "output_type": "stream",
     "text": [
      "algorithm <function random_hill_climb at 0x7feee32d0a70>\n",
      "init_state [1, 0, 1, 0, 1, 0, 1, 0, 1, 0]\n",
      "restarts 1\n",
      "[0 1 0 0 0 1 0 0 0 1]\n",
      "0.0\n",
      "algorithm <function simulated_annealing at 0x7feee32d0cb0>\n",
      "init_state [1, 0, 1, 0, 1, 0, 1, 0, 1, 0]\n",
      "schedule <mlrose.decay.GeomDecay object at 0x7feee34230d0>\n",
      "[1 1 1 1 1 1 1 1 0 0]\n",
      "18.0\n",
      "algorithm <function genetic_alg at 0x7feee32d0f80>\n",
      "pop_size 200\n",
      "mutation_prob 0.1\n",
      "[1 1 0 0 0 0 0 0 0 0]\n",
      "18.0\n",
      "algorithm <function mimic at 0x7feee32d0830>\n",
      "pop_size 200\n",
      "keep_pct 0.2\n",
      "[1 1 1 1 1 1 1 1 0 0]\n",
      "18.0\n"
     ]
    }
   ],
   "source": [
    "dict_algs = {\n",
    "    'RHC': {\"algorithm\": mlrose.random_hill_climb, \n",
    "            \"init_state\": [1, 0, 1, 0, 1, 0, 1, 0, 1, 0],\n",
    "            \"restarts\": 1},\n",
    "    'SA': {\"algorithm\": mlrose.simulated_annealing,\n",
    "          \"init_state\": [1, 0, 1, 0, 1, 0, 1, 0, 1, 0],\n",
    "           \"schedule\": mlrose.GeomDecay(init_temp=10, decay=0.95, min_temp=1)},\n",
    "    'GA': {\"algorithm\": mlrose.genetic_alg,\n",
    "          \"pop_size\": 200,\n",
    "          \"mutation_prob\": .1},\n",
    "    'MIMIC': {\"algorithm\": mlrose.mimic,\n",
    "             \"pop_size\": 200,\n",
    "             \"keep_pct\": 0.2}\n",
    "}\n",
    "\n",
    "for key, value in dict_algs.items():\n",
    "    #print(key)\n",
    "    #print(value)\n",
    "    #print(dict_algs[alg])\n",
    "    a = value['algorithm']\n",
    "    for keys, vals in value.items():\n",
    "        print(keys, vals)\n",
    "        \n",
    "\n",
    "    bs, bf =  a(problem=problem1, random_state = 42)\n",
    "    print(bs)\n",
    "    print(bf)\n",
    "    \n"
   ]
  },
  {
   "cell_type": "code",
   "execution_count": null,
   "metadata": {},
   "outputs": [],
   "source": []
  },
  {
   "cell_type": "code",
   "execution_count": null,
   "metadata": {},
   "outputs": [],
   "source": []
  }
 ],
 "metadata": {
  "kernelspec": {
   "display_name": "Python 3",
   "language": "python",
   "name": "python3"
  },
  "language_info": {
   "codemirror_mode": {
    "name": "ipython",
    "version": 3
   },
   "file_extension": ".py",
   "mimetype": "text/x-python",
   "name": "python",
   "nbconvert_exporter": "python",
   "pygments_lexer": "ipython3",
   "version": "3.7.9"
  }
 },
 "nbformat": 4,
 "nbformat_minor": 4
}
