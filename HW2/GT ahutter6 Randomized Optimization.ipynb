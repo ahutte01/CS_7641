{
 "cells": [
  {
   "cell_type": "code",
   "execution_count": 104,
   "metadata": {},
   "outputs": [],
   "source": [
    "import pandas as pd\n",
    "import numpy as np \n",
    "import matplotlib.pyplot as plt\n",
    "import os\n",
    "pd.set_option('max_columns', None)\n",
    "pd.set_option('max_rows', None)\n",
    "\n",
    "import warnings\n",
    "warnings.simplefilter(action='ignore', category=FutureWarning)\n",
    "\n",
    "import time\n",
    "\n",
    "from sklearn.model_selection import train_test_split\n",
    "from sklearn.preprocessing import MinMaxScaler, OneHotEncoder\n",
    "from sklearn.metrics import accuracy_score, f1_score"
   ]
  },
  {
   "cell_type": "code",
   "execution_count": 4,
   "metadata": {},
   "outputs": [],
   "source": [
    "import six\n",
    "import sys\n",
    "sys.modules['sklearn.externals.six'] = six\n",
    "import mlrose"
   ]
  },
  {
   "cell_type": "markdown",
   "metadata": {},
   "source": [
    "What is an optimization problem? \n",
    "\n",
    "- We aim to find the best state, according to some objective function. \n",
    "- An example of a state is the weights used in a machine learning model, such as a neural network\n",
    "- State is represented by a one-dimensional vector \n",
    "- \"Best\" state is defined using the Cost Function/Fitness Function/Objective Function \n",
    "- Function takes in a State Array as Input and returns a Fitness Value as Output\n"
   ]
  },
  {
   "cell_type": "markdown",
   "metadata": {},
   "source": [
    "We will make 3 steps to solve an optimization problem with mlrose:\n",
    " - 1) Define fitness function object\n",
    " - 2) Define an optimization problem object\n",
    " - 3) Select and run a randomized optimization algorithm"
   ]
  },
  {
   "cell_type": "markdown",
   "metadata": {},
   "source": [
    "### Tutorial"
   ]
  },
  {
   "cell_type": "markdown",
   "metadata": {},
   "source": [
    "#### Example: 8 Queens "
   ]
  },
  {
   "cell_type": "markdown",
   "metadata": {},
   "source": [
    "Purpose: Given a chess board with 8 queens, place the queens such that none of them can attack each other. \n",
    "    An optimal solution will have one queen per column. \n",
    "    Our State Vector has 8 inputs, for the 8 rows that we are placing our queens in. The First Queen is column 1 and so on"
   ]
  },
  {
   "cell_type": "markdown",
   "metadata": {},
   "source": [
    "#### 1) Define Fitness Function Object"
   ]
  },
  {
   "cell_type": "markdown",
   "metadata": {},
   "source": [
    "This fitness function evaluates the number of pairs of attacking queens for a given state and tries to MINIMIZE this function "
   ]
  },
  {
   "cell_type": "code",
   "execution_count": 6,
   "metadata": {},
   "outputs": [],
   "source": [
    "# Use pre built fitness function: https://mlrose.readthedocs.io/en/stable/source/fitness.html#fitness\n",
    "fitness = mlrose.Queens()"
   ]
  },
  {
   "cell_type": "markdown",
   "metadata": {},
   "source": [
    "#### 2) Define an optimization problem object"
   ]
  },
  {
   "cell_type": "markdown",
   "metadata": {},
   "source": [
    "We pick either Discrete, Continous, or Traveling Salesman types of optimization objects. This problem expects a state vector. We choose discrete. \n",
    "\n",
    "We are solving a minimization problem, length of 8 inputs, using fitness function as above."
   ]
  },
  {
   "cell_type": "code",
   "execution_count": 7,
   "metadata": {},
   "outputs": [],
   "source": [
    "problem = mlrose.DiscreteOpt(length = 8, fitness_fn = fitness, maximize = False, max_val = 8)"
   ]
  },
  {
   "cell_type": "markdown",
   "metadata": {},
   "source": [
    "#### 3) Select and run Randomized Optimization Algorithm"
   ]
  },
  {
   "cell_type": "markdown",
   "metadata": {},
   "source": [
    "Simulated Annealing requires a schedule object, to explain how the Temperature value changes over time, \n",
    "https://mlrose.readthedocs.io/en/stable/source/decay.html#decay\n",
    "Decay of Temp can be Exponential, Geometric, or Arthimetic\n"
   ]
  },
  {
   "cell_type": "markdown",
   "metadata": {},
   "source": [
    "We also need a max_attempts value, for number of attemps the algorithm should make to find a \"better\" state at each step \n",
    "\n",
    "We also need a max_iters value, for number of iterations the algo should run overall\n",
    "\n",
    "We can provide a starting state in the init_state"
   ]
  },
  {
   "cell_type": "markdown",
   "metadata": {},
   "source": [
    "##### Simulated Annealing"
   ]
  },
  {
   "cell_type": "code",
   "execution_count": 11,
   "metadata": {},
   "outputs": [
    {
     "name": "stdout",
     "output_type": "stream",
     "text": [
      "[6 4 7 3 6 2 5 1]\n",
      "2.0\n"
     ]
    }
   ],
   "source": [
    "# Schedule Decay \n",
    "schedule = mlrose.ExpDecay()\n",
    "\n",
    "# Initial Starting Point\n",
    "init_state = np.array([0, 1, 2, 3, 4, 5, 6, 7])\n",
    "\n",
    "# Solve Problem with Simulated annealing \n",
    "best_state, best_fitness = mlrose.simulated_annealing(problem, schedule=schedule,\n",
    "                                                     max_attempts=10, max_iters=1000,\n",
    "                                                     init_state = init_state, random_state = 1)\n",
    "\n",
    "print(best_state)\n",
    "\n",
    "print(best_fitness)"
   ]
  },
  {
   "cell_type": "markdown",
   "metadata": {},
   "source": [
    "The fitness value of \"2\" means there are still 2 pairs of attacking queens"
   ]
  },
  {
   "cell_type": "markdown",
   "metadata": {},
   "source": [
    "Change max_attempts from 10 to 100"
   ]
  },
  {
   "cell_type": "code",
   "execution_count": 12,
   "metadata": {},
   "outputs": [
    {
     "name": "stdout",
     "output_type": "stream",
     "text": [
      "[4 1 3 5 7 2 0 6]\n",
      "0.0\n"
     ]
    }
   ],
   "source": [
    "# Schedule Decay \n",
    "schedule = mlrose.ExpDecay()\n",
    "\n",
    "# Initial Starting Point\n",
    "init_state = np.array([0, 1, 2, 3, 4, 5, 6, 7])\n",
    "\n",
    "# Solve Problem with Simulated annealing \n",
    "best_state, best_fitness = mlrose.simulated_annealing(problem, schedule=schedule,\n",
    "                                                     max_attempts=100, max_iters=1000,\n",
    "                                                     init_state = init_state, random_state = 1)\n",
    "\n",
    "print(best_state)\n",
    "\n",
    "print(best_fitness)"
   ]
  },
  {
   "cell_type": "markdown",
   "metadata": {},
   "source": [
    "By increasing the max_attempts, we get an optimal solution"
   ]
  },
  {
   "cell_type": "markdown",
   "metadata": {},
   "source": [
    "Add the input curve"
   ]
  },
  {
   "cell_type": "code",
   "execution_count": 14,
   "metadata": {},
   "outputs": [
    {
     "name": "stdout",
     "output_type": "stream",
     "text": [
      "[4 1 3 5 7 2 0 6]\n",
      "0.0\n"
     ]
    }
   ],
   "source": [
    "# Schedule Decay \n",
    "schedule = mlrose.ExpDecay()\n",
    "\n",
    "# Initial Starting Point\n",
    "init_state = np.array([0, 1, 2, 3, 4, 5, 6, 7])\n",
    "\n",
    "# Solve Problem with Simulated annealing \n",
    "best_state, best_fitness, fitness_curve = mlrose.simulated_annealing(problem, schedule=schedule,\n",
    "                                                     max_attempts=100, max_iters=1000,\n",
    "                                                     init_state = init_state, random_state = 1,\n",
    "                                                     curve=True)\n",
    "\n",
    "print(best_state)\n",
    "\n",
    "print(best_fitness)\n",
    "\n",
    "#print(fitness_curve)"
   ]
  },
  {
   "cell_type": "markdown",
   "metadata": {},
   "source": [
    "###### Genetic Algorithm"
   ]
  },
  {
   "cell_type": "code",
   "execution_count": 17,
   "metadata": {},
   "outputs": [
    {
     "name": "stdout",
     "output_type": "stream",
     "text": [
      "[2 5 1 5 3 0 4 7]\n",
      "3.0\n"
     ]
    }
   ],
   "source": [
    "best_state, best_fitness, fitness_curve = mlrose.genetic_alg(problem, pop_size = 200, mutation_prob = .10, \n",
    "                                               max_attempts = 10, max_iters = 1000,\n",
    "                                               random_state = 42, curve = True)\n",
    "\n",
    "print(best_state)\n",
    "\n",
    "print(best_fitness)\n",
    "\n",
    "#print(fitness_curve)"
   ]
  },
  {
   "cell_type": "code",
   "execution_count": 18,
   "metadata": {},
   "outputs": [
    {
     "name": "stdout",
     "output_type": "stream",
     "text": [
      "[5 2 6 1 3 7 3 7]\n",
      "2.0\n"
     ]
    }
   ],
   "source": [
    "best_state, best_fitness, fitness_curve = mlrose.genetic_alg(problem, pop_size = 200, mutation_prob = .10, \n",
    "                                               max_attempts = 100, max_iters = 1000,\n",
    "                                               random_state = 42, curve = True)\n",
    "\n",
    "print(best_state)\n",
    "\n",
    "print(best_fitness)\n",
    "\n",
    "#print(fitness_curve)"
   ]
  },
  {
   "cell_type": "code",
   "execution_count": 19,
   "metadata": {},
   "outputs": [
    {
     "name": "stdout",
     "output_type": "stream",
     "text": [
      "[6 3 5 0 4 1 7 2]\n",
      "1.0\n"
     ]
    }
   ],
   "source": [
    "best_state, best_fitness, fitness_curve = mlrose.genetic_alg(problem, pop_size = 200, mutation_prob = .10, \n",
    "                                               max_attempts = 1000, max_iters = 1000,\n",
    "                                               random_state = 42, curve = True)\n",
    "\n",
    "print(best_state)\n",
    "\n",
    "print(best_fitness)\n",
    "\n",
    "#print(fitness_curve)"
   ]
  },
  {
   "cell_type": "code",
   "execution_count": 20,
   "metadata": {},
   "outputs": [
    {
     "name": "stdout",
     "output_type": "stream",
     "text": [
      "[6 4 2 0 5 7 1 3]\n",
      "0.0\n"
     ]
    }
   ],
   "source": [
    "best_state, best_fitness, fitness_curve = mlrose.genetic_alg(problem, pop_size = 200, mutation_prob = .20, \n",
    "                                               max_attempts = 1000, max_iters = 1000,\n",
    "                                               random_state = 42, curve = True)\n",
    "\n",
    "print(best_state)\n",
    "\n",
    "print(best_fitness)\n",
    "\n",
    "#print(fitness_curve)"
   ]
  },
  {
   "cell_type": "code",
   "execution_count": 21,
   "metadata": {},
   "outputs": [
    {
     "name": "stdout",
     "output_type": "stream",
     "text": [
      "[3 6 4 7 0 0 2 5]\n",
      "2.0\n"
     ]
    }
   ],
   "source": [
    "best_state, best_fitness, fitness_curve = mlrose.genetic_alg(problem, pop_size = 200, mutation_prob = .20, \n",
    "                                               max_attempts = 100, max_iters = 1000,\n",
    "                                               random_state = 42, curve = True)\n",
    "\n",
    "print(best_state)\n",
    "\n",
    "print(best_fitness)\n",
    "\n",
    "#print(fitness_curve)"
   ]
  },
  {
   "cell_type": "markdown",
   "metadata": {},
   "source": [
    "##### MIMIC"
   ]
  },
  {
   "cell_type": "code",
   "execution_count": 22,
   "metadata": {},
   "outputs": [
    {
     "name": "stdout",
     "output_type": "stream",
     "text": [
      "[3 6 4 1 5 0 2 4]\n",
      "1.0\n"
     ]
    }
   ],
   "source": [
    "best_state, best_fitness, fitness_curve = mlrose.mimic(problem, pop_size = 200, keep_pct = .20, \n",
    "                                               max_attempts = 10, max_iters = 1000,\n",
    "                                               random_state = 42, curve = True)\n",
    "\n",
    "print(best_state)\n",
    "\n",
    "print(best_fitness)\n",
    "\n",
    "#print(fitness_curve)"
   ]
  },
  {
   "cell_type": "code",
   "execution_count": 23,
   "metadata": {},
   "outputs": [
    {
     "name": "stdout",
     "output_type": "stream",
     "text": [
      "[3 6 4 1 5 0 2 4]\n",
      "1.0\n"
     ]
    }
   ],
   "source": [
    "best_state, best_fitness, fitness_curve = mlrose.mimic(problem, pop_size = 200, keep_pct = .20, \n",
    "                                               max_attempts = 100, max_iters = 1000,\n",
    "                                               random_state = 42, curve = True)\n",
    "\n",
    "print(best_state)\n",
    "\n",
    "print(best_fitness)\n",
    "\n",
    "#print(fitness_curve)"
   ]
  },
  {
   "cell_type": "code",
   "execution_count": 24,
   "metadata": {},
   "outputs": [
    {
     "name": "stdout",
     "output_type": "stream",
     "text": [
      "[5 7 0 0 6 1 6 2]\n",
      "2.0\n"
     ]
    }
   ],
   "source": [
    "best_state, best_fitness, fitness_curve = mlrose.mimic(problem, pop_size = 200, keep_pct = .10, \n",
    "                                               max_attempts = 10, max_iters = 1000,\n",
    "                                               random_state = 42, curve = True)\n",
    "\n",
    "print(best_state)\n",
    "\n",
    "print(best_fitness)\n",
    "\n",
    "#print(fitness_curve)"
   ]
  },
  {
   "cell_type": "code",
   "execution_count": 26,
   "metadata": {},
   "outputs": [
    {
     "name": "stdout",
     "output_type": "stream",
     "text": [
      "[2 4 7 3 0 6 1 5]\n",
      "0.0\n"
     ]
    }
   ],
   "source": [
    "best_state, best_fitness, fitness_curve = mlrose.mimic(problem, pop_size = 200, keep_pct = .50, \n",
    "                                               max_attempts = 10, max_iters = 1000,\n",
    "                                               random_state = 42, curve = True)\n",
    "\n",
    "print(best_state)\n",
    "\n",
    "print(best_fitness)\n",
    "\n",
    "#print(fitness_curve)"
   ]
  },
  {
   "cell_type": "markdown",
   "metadata": {},
   "source": [
    "##### Random Hill Climbing "
   ]
  },
  {
   "cell_type": "code",
   "execution_count": 28,
   "metadata": {},
   "outputs": [
    {
     "name": "stdout",
     "output_type": "stream",
     "text": [
      "[0 3 5 1 6 4 2 7]\n",
      "3.0\n"
     ]
    }
   ],
   "source": [
    "best_state, best_fitness, fitness_curve = mlrose.random_hill_climb(problem, restarts=0,\n",
    "                                               max_attempts = 10, max_iters = 1000,\n",
    "                                               init_state=init_state,\n",
    "                                               random_state = 42, curve = True)\n",
    "\n",
    "print(best_state)\n",
    "\n",
    "print(best_fitness)\n",
    "\n",
    "#print(fitness_curve)"
   ]
  },
  {
   "cell_type": "code",
   "execution_count": 29,
   "metadata": {},
   "outputs": [
    {
     "name": "stdout",
     "output_type": "stream",
     "text": [
      "[0 3 5 1 6 4 2 7]\n",
      "3.0\n"
     ]
    }
   ],
   "source": [
    "best_state, best_fitness, fitness_curve = mlrose.random_hill_climb(problem, restarts=1,\n",
    "                                               max_attempts = 10, max_iters = 1000,\n",
    "                                               init_state=init_state,\n",
    "                                               random_state = 42, curve = True)\n",
    "\n",
    "print(best_state)\n",
    "\n",
    "print(best_fitness)\n",
    "\n",
    "#print(fitness_curve)"
   ]
  },
  {
   "cell_type": "code",
   "execution_count": 32,
   "metadata": {},
   "outputs": [
    {
     "name": "stdout",
     "output_type": "stream",
     "text": [
      "[0 2 5 1 6 4 2 7]\n",
      "2.0\n"
     ]
    }
   ],
   "source": [
    "best_state, best_fitness, fitness_curve = mlrose.random_hill_climb(problem, restarts=0,\n",
    "                                               max_attempts = 1000, max_iters = 1000,\n",
    "                                               init_state=init_state,\n",
    "                                               random_state = 42, curve = True)\n",
    "\n",
    "print(best_state)\n",
    "\n",
    "print(best_fitness)\n",
    "\n",
    "#print(fitness_curve)"
   ]
  },
  {
   "cell_type": "code",
   "execution_count": 35,
   "metadata": {},
   "outputs": [
    {
     "name": "stdout",
     "output_type": "stream",
     "text": [
      "[5 1 4 7 0 6 3 5]\n",
      "1.0\n"
     ]
    }
   ],
   "source": [
    "best_state, best_fitness, fitness_curve = mlrose.random_hill_climb(problem, restarts=5,\n",
    "                                               max_attempts = 10000, max_iters = 1000,\n",
    "                                               init_state=init_state,\n",
    "                                               random_state = 42, curve = True)\n",
    "\n",
    "print(best_state)\n",
    "\n",
    "print(best_fitness)\n",
    "\n",
    "#print(fitness_curve)"
   ]
  },
  {
   "cell_type": "markdown",
   "metadata": {},
   "source": [
    "Variables to Modify: \n",
    "\n",
    "All of them: \n",
    "   - max_iters\n",
    "   - max_attempts \n",
    "    \n",
    "RHC: \n",
    "   - init_state: discrete \n",
    "   - restarts: default 0, range variable  \n",
    "    \n",
    "SA: \n",
    "   - init_state: discrete\n",
    "   - schedule: Exponential, Geometric, Arithmetic\n",
    "    \n",
    "GA: \n",
    "   - pop_size: default 200, range variable  \n",
    "   - mutation_prob: default 0.1, range (0,1)\n",
    "    \n",
    "Mimic: \n",
    "   - pop_size: default: 200, range variable \n",
    "   - keep_pct: default 0.2, range (0,1)"
   ]
  },
  {
   "cell_type": "markdown",
   "metadata": {},
   "source": [
    "#### Tutorial - Machine Learning Weight Optimization Problems "
   ]
  },
  {
   "cell_type": "markdown",
   "metadata": {},
   "source": [
    " Steps to Neural Network  Weight Optimization Problem \n",
    " \n",
    " - 1) Initialize a ML weight optimization problem object\n",
    " - 2) Find optimal weights for a given training dataset by calling the fit method of object init in step 1 \n",
    " - 3) Predict labels for test dataset calling the predict method of obj from step 1"
   ]
  },
  {
   "cell_type": "code",
   "execution_count": 36,
   "metadata": {},
   "outputs": [],
   "source": [
    "from sklearn.datasets import load_iris"
   ]
  },
  {
   "cell_type": "code",
   "execution_count": 41,
   "metadata": {},
   "outputs": [],
   "source": [
    "# data is a dictionary\n",
    "data = load_iris()"
   ]
  },
  {
   "cell_type": "code",
   "execution_count": 42,
   "metadata": {},
   "outputs": [
    {
     "data": {
      "text/plain": [
       "dict_keys(['data', 'target', 'frame', 'target_names', 'DESCR', 'feature_names', 'filename'])"
      ]
     },
     "execution_count": 42,
     "metadata": {},
     "output_type": "execute_result"
    }
   ],
   "source": [
    "data.keys()"
   ]
  },
  {
   "cell_type": "code",
   "execution_count": 38,
   "metadata": {},
   "outputs": [
    {
     "name": "stdout",
     "output_type": "stream",
     "text": [
      "[5.1 3.5 1.4 0.2]\n"
     ]
    }
   ],
   "source": [
    "print(data.data[0])"
   ]
  },
  {
   "cell_type": "code",
   "execution_count": 40,
   "metadata": {},
   "outputs": [
    {
     "name": "stdout",
     "output_type": "stream",
     "text": [
      "['sepal length (cm)', 'sepal width (cm)', 'petal length (cm)', 'petal width (cm)']\n"
     ]
    }
   ],
   "source": [
    "print(data.feature_names)"
   ]
  },
  {
   "cell_type": "code",
   "execution_count": 43,
   "metadata": {},
   "outputs": [
    {
     "name": "stdout",
     "output_type": "stream",
     "text": [
      "0\n"
     ]
    }
   ],
   "source": [
    "print(data.target[0])"
   ]
  },
  {
   "cell_type": "code",
   "execution_count": 44,
   "metadata": {},
   "outputs": [
    {
     "name": "stdout",
     "output_type": "stream",
     "text": [
      "setosa\n"
     ]
    }
   ],
   "source": [
    "print(data.target_names[data.target[0]])"
   ]
  },
  {
   "cell_type": "code",
   "execution_count": 47,
   "metadata": {},
   "outputs": [
    {
     "name": "stdout",
     "output_type": "stream",
     "text": [
      "[0 1 2]\n"
     ]
    }
   ],
   "source": [
    "print(np.unique(data.target))"
   ]
  },
  {
   "cell_type": "code",
   "execution_count": 49,
   "metadata": {},
   "outputs": [
    {
     "name": "stdout",
     "output_type": "stream",
     "text": [
      "setosa\n",
      "versicolor\n",
      "virginica\n"
     ]
    }
   ],
   "source": [
    "print(data.target_names[0])\n",
    "print(data.target_names[1])\n",
    "print(data.target_names[2])"
   ]
  },
  {
   "cell_type": "code",
   "execution_count": 55,
   "metadata": {},
   "outputs": [],
   "source": [
    "## Prep Data \n",
    "X_Train, X_Test, Y_Train, Y_Test = train_test_split(data.data, data.target, \n",
    "                                                   test_size = 0.2, random_state = 3)\n",
    "\n",
    "# Normalize Feature Data \n",
    "scaler = MinMaxScaler()\n",
    "\n",
    "X_Train_Scaled = scaler.fit_transform(X_Train)\n",
    "X_Test_Scaled = scaler.fit_transform(X_Test)\n",
    "\n",
    "# One Hot Encode Target Values \n",
    "one_hot = OneHotEncoder()\n",
    "\n",
    "Y_Train_Hot = one_hot.fit_transform(Y_Train.reshape(-1,1)).todense()\n",
    "Y_Test_Hot = one_hot.fit_transform(Y_Test.reshape(-1,1)).todense()\n"
   ]
  },
  {
   "cell_type": "markdown",
   "metadata": {},
   "source": [
    "Make Neural Network"
   ]
  },
  {
   "cell_type": "markdown",
   "metadata": {},
   "source": [
    "##### Random Hill Climb"
   ]
  },
  {
   "cell_type": "code",
   "execution_count": 56,
   "metadata": {},
   "outputs": [
    {
     "data": {
      "text/plain": [
       "NeuralNetwork(clip_max=5, early_stopping=True, hidden_nodes=[2],\n",
       "              learning_rate=0.0001, max_iters=1000)"
      ]
     },
     "execution_count": 56,
     "metadata": {},
     "output_type": "execute_result"
    }
   ],
   "source": [
    "nn_model1 = mlrose.NeuralNetwork(hidden_nodes = [2], activation = 'relu',\n",
    "                                algorithm = 'random_hill_climb', max_iters=1000,\n",
    "                                bias = True, is_classifier = True, learning_rate = 0.0001,\n",
    "                                early_stopping = True, clip_max = 5, max_attempts = 100, \n",
    "                                random_state = 3)\n",
    "\n",
    "nn_model1.fit(X_Train_Scaled, Y_Train_Hot)"
   ]
  },
  {
   "cell_type": "markdown",
   "metadata": {},
   "source": [
    "Use Neural Network to Predict on Test and Train data"
   ]
  },
  {
   "cell_type": "code",
   "execution_count": 59,
   "metadata": {},
   "outputs": [
    {
     "name": "stdout",
     "output_type": "stream",
     "text": [
      "0.45\n",
      "0.5666666666666667\n"
     ]
    }
   ],
   "source": [
    "# predict labels for Training Set \n",
    "Y_Train_Pred = nn_model1.predict(X_Train_Scaled)\n",
    "\n",
    "Y_Train_Accuracy = accuracy_score(Y_Train_Hot, Y_Train_Pred)\n",
    "\n",
    "print(Y_Train_Accuracy)\n",
    "\n",
    "#predict labels for Testing Set \n",
    "Y_Test_Pred = nn_model1.predict(X_Test_Scaled)\n",
    "\n",
    "Y_Test_Accuracy = accuracy_score(Y_Test_Hot, Y_Test_Pred)\n",
    "\n",
    "print(Y_Test_Accuracy)"
   ]
  },
  {
   "cell_type": "markdown",
   "metadata": {},
   "source": [
    "##### Gradient Descent - same as BackPropogation, similar to Sklearn"
   ]
  },
  {
   "cell_type": "code",
   "execution_count": 60,
   "metadata": {},
   "outputs": [
    {
     "data": {
      "text/plain": [
       "NeuralNetwork(clip_max=5, early_stopping=True, hidden_nodes=[2],\n",
       "              learning_rate=0.0001, max_iters=1000)"
      ]
     },
     "execution_count": 60,
     "metadata": {},
     "output_type": "execute_result"
    }
   ],
   "source": [
    "nn_model2 = mlrose.NeuralNetwork(hidden_nodes = [2], activation = 'relu',\n",
    "                                algorithm = 'gradient_descent', max_iters=1000,\n",
    "                                bias = True, is_classifier = True, learning_rate = 0.0001,\n",
    "                                early_stopping = True, clip_max = 5, max_attempts = 100, \n",
    "                                random_state = 3)\n",
    "\n",
    "nn_model2.fit(X_Train_Scaled, Y_Train_Hot)"
   ]
  },
  {
   "cell_type": "code",
   "execution_count": 61,
   "metadata": {},
   "outputs": [
    {
     "name": "stdout",
     "output_type": "stream",
     "text": [
      "0.625\n",
      "0.6333333333333333\n"
     ]
    }
   ],
   "source": [
    "# predict labels for Training Set \n",
    "Y_Train_Pred = nn_model2.predict(X_Train_Scaled)\n",
    "\n",
    "Y_Train_Accuracy = accuracy_score(Y_Train_Hot, Y_Train_Pred)\n",
    "\n",
    "print(Y_Train_Accuracy)\n",
    "\n",
    "#predict labels for Testing Set \n",
    "Y_Test_Pred = nn_model2.predict(X_Test_Scaled)\n",
    "\n",
    "Y_Test_Accuracy = accuracy_score(Y_Test_Hot, Y_Test_Pred)\n",
    "\n",
    "print(Y_Test_Accuracy)"
   ]
  },
  {
   "cell_type": "markdown",
   "metadata": {},
   "source": [
    "##### Simulated Annealing"
   ]
  },
  {
   "cell_type": "code",
   "execution_count": 63,
   "metadata": {},
   "outputs": [
    {
     "data": {
      "text/plain": [
       "NeuralNetwork(clip_max=5, early_stopping=True, hidden_nodes=[2],\n",
       "              learning_rate=0.0001, max_iters=1000,\n",
       "              schedule=<mlrose.decay.ExpDecay object at 0x7fc12546f390>)"
      ]
     },
     "execution_count": 63,
     "metadata": {},
     "output_type": "execute_result"
    }
   ],
   "source": [
    "nn_model3 = mlrose.NeuralNetwork(hidden_nodes = [2], activation = 'relu',\n",
    "                                algorithm = 'simulated_annealing', max_iters=1000,\n",
    "                                bias = True, is_classifier = True, learning_rate = 0.0001,\n",
    "                                early_stopping = True, clip_max = 5, max_attempts = 100, \n",
    "                                random_state = 3,\n",
    "                                schedule = schedule)\n",
    "\n",
    "nn_model3.fit(X_Train_Scaled, Y_Train_Hot)"
   ]
  },
  {
   "cell_type": "code",
   "execution_count": 64,
   "metadata": {},
   "outputs": [
    {
     "name": "stdout",
     "output_type": "stream",
     "text": [
      "0.4583333333333333\n",
      "0.5666666666666667\n"
     ]
    }
   ],
   "source": [
    "# predict labels for Training Set \n",
    "Y_Train_Pred = nn_model3.predict(X_Train_Scaled)\n",
    "\n",
    "Y_Train_Accuracy = accuracy_score(Y_Train_Hot, Y_Train_Pred)\n",
    "\n",
    "print(Y_Train_Accuracy)\n",
    "\n",
    "#predict labels for Testing Set \n",
    "Y_Test_Pred = nn_model3.predict(X_Test_Scaled)\n",
    "\n",
    "Y_Test_Accuracy = accuracy_score(Y_Test_Hot, Y_Test_Pred)\n",
    "\n",
    "print(Y_Test_Accuracy)"
   ]
  },
  {
   "cell_type": "markdown",
   "metadata": {},
   "source": [
    "##### Genetic Algorithm"
   ]
  },
  {
   "cell_type": "code",
   "execution_count": 65,
   "metadata": {},
   "outputs": [
    {
     "data": {
      "text/plain": [
       "NeuralNetwork(clip_max=5, early_stopping=True, hidden_nodes=[2],\n",
       "              learning_rate=0.0001, max_iters=1000)"
      ]
     },
     "execution_count": 65,
     "metadata": {},
     "output_type": "execute_result"
    }
   ],
   "source": [
    "nn_model4 = mlrose.NeuralNetwork(hidden_nodes = [2], activation = 'relu',\n",
    "                                algorithm = 'genetic_alg', max_iters=1000,\n",
    "                                bias = True, is_classifier = True, learning_rate = 0.0001,\n",
    "                                early_stopping = True, clip_max = 5, max_attempts = 100, \n",
    "                                random_state = 3,\n",
    "                                pop_size=200)\n",
    "\n",
    "nn_model4.fit(X_Train_Scaled, Y_Train_Hot)"
   ]
  },
  {
   "cell_type": "code",
   "execution_count": 66,
   "metadata": {},
   "outputs": [
    {
     "name": "stdout",
     "output_type": "stream",
     "text": [
      "0.9083333333333333\n",
      "0.8666666666666667\n"
     ]
    }
   ],
   "source": [
    "# predict labels for Training Set \n",
    "Y_Train_Pred = nn_model4.predict(X_Train_Scaled)\n",
    "\n",
    "Y_Train_Accuracy = accuracy_score(Y_Train_Hot, Y_Train_Pred)\n",
    "\n",
    "print(Y_Train_Accuracy)\n",
    "\n",
    "#predict labels for Testing Set \n",
    "Y_Test_Pred = nn_model4.predict(X_Test_Scaled)\n",
    "\n",
    "Y_Test_Accuracy = accuracy_score(Y_Test_Hot, Y_Test_Pred)\n",
    "\n",
    "print(Y_Test_Accuracy)"
   ]
  },
  {
   "cell_type": "markdown",
   "metadata": {},
   "source": [
    "TODO: read this documentation, try each algo: https://mlrose.readthedocs.io/en/stable/source/neural.html"
   ]
  },
  {
   "cell_type": "code",
   "execution_count": 67,
   "metadata": {},
   "outputs": [
    {
     "data": {
      "text/plain": [
       "array([ 1.67729476,  0.85173743, -0.86436999, -3.04406682,  1.57281632,\n",
       "        1.20068369,  3.41331195, -0.42434971, -1.93211357,  2.93124779,\n",
       "       -4.73201025,  0.43811079,  4.92900583,  1.47776978,  0.78182121,\n",
       "       -2.37719733])"
      ]
     },
     "execution_count": 67,
     "metadata": {},
     "output_type": "execute_result"
    }
   ],
   "source": [
    "nn_model4.fitted_weights"
   ]
  },
  {
   "cell_type": "code",
   "execution_count": 68,
   "metadata": {},
   "outputs": [
    {
     "data": {
      "text/plain": [
       "0.35066250312650965"
      ]
     },
     "execution_count": 68,
     "metadata": {},
     "output_type": "execute_result"
    }
   ],
   "source": [
    "nn_model4.loss"
   ]
  },
  {
   "cell_type": "code",
   "execution_count": 70,
   "metadata": {},
   "outputs": [
    {
     "name": "stdout",
     "output_type": "stream",
     "text": [
      "1.064378274038072\n",
      "0.8551592021027957\n",
      "1.065387410570692\n",
      "0.35066250312650965\n"
     ]
    }
   ],
   "source": [
    "print(nn_model1.loss)\n",
    "print(nn_model2.loss)\n",
    "print(nn_model3.loss)\n",
    "print(nn_model4.loss)"
   ]
  },
  {
   "cell_type": "code",
   "execution_count": null,
   "metadata": {},
   "outputs": [],
   "source": []
  },
  {
   "cell_type": "markdown",
   "metadata": {},
   "source": [
    "### Data Import"
   ]
  },
  {
   "cell_type": "code",
   "execution_count": 73,
   "metadata": {},
   "outputs": [],
   "source": [
    "data_polling = pd.read_stata(\"Data/cumulative_2006_2018.dta\")"
   ]
  },
  {
   "cell_type": "code",
   "execution_count": 85,
   "metadata": {},
   "outputs": [],
   "source": [
    "inputs = ['year','st','gender', 'age', 'race', 'hispanic', 'educ', 'faminc', 'marstat', 'economy_retro', 'newsint','approval_pres']\n",
    "targets = ['pid3']\n",
    "\n",
    "keep = inputs + targets\n",
    "\n",
    "data_polling = data_polling[(data_polling.year == 2018) & (data_polling.pid3.isin(['Democrat','Republican']) )]\n",
    "\n",
    "polling = data_polling[keep]\n"
   ]
  },
  {
   "cell_type": "code",
   "execution_count": 86,
   "metadata": {},
   "outputs": [],
   "source": [
    "polling.dropna(axis=0, how='any',inplace=True)"
   ]
  },
  {
   "cell_type": "code",
   "execution_count": 87,
   "metadata": {},
   "outputs": [],
   "source": [
    "pd.options.mode.chained_assignment = None  # default='warn'\n",
    "\n",
    "polling['age_band'] = np.NaN\n",
    "polling.loc[ (polling['age'] >= 18) & (polling['age'] <= 29), 'age_band'] = 'Young'\n",
    "polling.loc[ (polling['age'] >= 30) & (polling['age'] <= 49), 'age_band'] = 'Lower-Middle'\n",
    "polling.loc[ (polling['age'] >= 50) & (polling['age'] <= 69), 'age_band'] = 'Upper-Middle'\n",
    "polling.loc[ (polling['age'] >= 70) , 'age_band'] = 'Old'"
   ]
  },
  {
   "cell_type": "code",
   "execution_count": 88,
   "metadata": {},
   "outputs": [],
   "source": [
    "polling.loc[ polling['pid3'] == \"Democrat\", \"Dem_Ind\"] = 1\n",
    "polling.loc[ polling['pid3'] == 'Republican', \"Dem_Ind\"] = 0\n",
    "polling['Dem_Ind'] = polling['Dem_Ind'].astype(int)"
   ]
  },
  {
   "cell_type": "code",
   "execution_count": 89,
   "metadata": {},
   "outputs": [],
   "source": [
    "categorical_polling = ['st','gender', 'age_band', 'race', 'hispanic', 'educ', 'faminc', 'marstat', 'economy_retro', 'newsint','approval_pres']\n"
   ]
  },
  {
   "cell_type": "code",
   "execution_count": 90,
   "metadata": {},
   "outputs": [
    {
     "data": {
      "text/html": [
       "<div>\n",
       "<style scoped>\n",
       "    .dataframe tbody tr th:only-of-type {\n",
       "        vertical-align: middle;\n",
       "    }\n",
       "\n",
       "    .dataframe tbody tr th {\n",
       "        vertical-align: top;\n",
       "    }\n",
       "\n",
       "    .dataframe thead th {\n",
       "        text-align: right;\n",
       "    }\n",
       "</style>\n",
       "<table border=\"1\" class=\"dataframe\">\n",
       "  <thead>\n",
       "    <tr style=\"text-align: right;\">\n",
       "      <th></th>\n",
       "      <th>year</th>\n",
       "      <th>st</th>\n",
       "      <th>gender</th>\n",
       "      <th>age</th>\n",
       "      <th>race</th>\n",
       "      <th>hispanic</th>\n",
       "      <th>educ</th>\n",
       "      <th>faminc</th>\n",
       "      <th>marstat</th>\n",
       "      <th>economy_retro</th>\n",
       "      <th>newsint</th>\n",
       "      <th>approval_pres</th>\n",
       "      <th>pid3</th>\n",
       "      <th>age_band</th>\n",
       "      <th>Dem_Ind</th>\n",
       "    </tr>\n",
       "  </thead>\n",
       "  <tbody>\n",
       "    <tr>\n",
       "      <th>392756</th>\n",
       "      <td>2018</td>\n",
       "      <td>OH</td>\n",
       "      <td>Female</td>\n",
       "      <td>58</td>\n",
       "      <td>White</td>\n",
       "      <td>No</td>\n",
       "      <td>Post-Grad</td>\n",
       "      <td>150k+</td>\n",
       "      <td>Married</td>\n",
       "      <td>Stayed About The Same</td>\n",
       "      <td>Only Now And Then</td>\n",
       "      <td>Approve / Somewhat Approve</td>\n",
       "      <td>Republican</td>\n",
       "      <td>Upper-Middle</td>\n",
       "      <td>0</td>\n",
       "    </tr>\n",
       "    <tr>\n",
       "      <th>392757</th>\n",
       "      <td>2018</td>\n",
       "      <td>KY</td>\n",
       "      <td>Female</td>\n",
       "      <td>66</td>\n",
       "      <td>White</td>\n",
       "      <td>No</td>\n",
       "      <td>Post-Grad</td>\n",
       "      <td>10k - 20k</td>\n",
       "      <td>Divorced</td>\n",
       "      <td>Stayed About The Same</td>\n",
       "      <td>Most Of The Time</td>\n",
       "      <td>Strongly Disapprove</td>\n",
       "      <td>Democrat</td>\n",
       "      <td>Upper-Middle</td>\n",
       "      <td>1</td>\n",
       "    </tr>\n",
       "    <tr>\n",
       "      <th>392758</th>\n",
       "      <td>2018</td>\n",
       "      <td>AZ</td>\n",
       "      <td>Female</td>\n",
       "      <td>88</td>\n",
       "      <td>White</td>\n",
       "      <td>No</td>\n",
       "      <td>High School Graduate</td>\n",
       "      <td>20k - 30k</td>\n",
       "      <td>Widowed</td>\n",
       "      <td>Gotten Much Better</td>\n",
       "      <td>Some Of The Time</td>\n",
       "      <td>Approve / Somewhat Approve</td>\n",
       "      <td>Republican</td>\n",
       "      <td>Old</td>\n",
       "      <td>0</td>\n",
       "    </tr>\n",
       "    <tr>\n",
       "      <th>392760</th>\n",
       "      <td>2018</td>\n",
       "      <td>NC</td>\n",
       "      <td>Male</td>\n",
       "      <td>71</td>\n",
       "      <td>White</td>\n",
       "      <td>No</td>\n",
       "      <td>High School Graduate</td>\n",
       "      <td>50k - 60k</td>\n",
       "      <td>Married</td>\n",
       "      <td>Gotten Much Better</td>\n",
       "      <td>Some Of The Time</td>\n",
       "      <td>Strongly Approve</td>\n",
       "      <td>Republican</td>\n",
       "      <td>Old</td>\n",
       "      <td>0</td>\n",
       "    </tr>\n",
       "    <tr>\n",
       "      <th>392761</th>\n",
       "      <td>2018</td>\n",
       "      <td>PA</td>\n",
       "      <td>Male</td>\n",
       "      <td>86</td>\n",
       "      <td>White</td>\n",
       "      <td>No</td>\n",
       "      <td>4-Year</td>\n",
       "      <td>60k - 70k</td>\n",
       "      <td>Widowed</td>\n",
       "      <td>Gotten Better / Somewhat Better</td>\n",
       "      <td>Most Of The Time</td>\n",
       "      <td>Strongly Approve</td>\n",
       "      <td>Republican</td>\n",
       "      <td>Old</td>\n",
       "      <td>0</td>\n",
       "    </tr>\n",
       "  </tbody>\n",
       "</table>\n",
       "</div>"
      ],
      "text/plain": [
       "        year  st  gender  age   race hispanic                  educ  \\\n",
       "392756  2018  OH  Female   58  White       No             Post-Grad   \n",
       "392757  2018  KY  Female   66  White       No             Post-Grad   \n",
       "392758  2018  AZ  Female   88  White       No  High School Graduate   \n",
       "392760  2018  NC    Male   71  White       No  High School Graduate   \n",
       "392761  2018  PA    Male   86  White       No                4-Year   \n",
       "\n",
       "           faminc   marstat                    economy_retro  \\\n",
       "392756      150k+   Married            Stayed About The Same   \n",
       "392757  10k - 20k  Divorced            Stayed About The Same   \n",
       "392758  20k - 30k   Widowed               Gotten Much Better   \n",
       "392760  50k - 60k   Married               Gotten Much Better   \n",
       "392761  60k - 70k   Widowed  Gotten Better / Somewhat Better   \n",
       "\n",
       "                  newsint               approval_pres        pid3  \\\n",
       "392756  Only Now And Then  Approve / Somewhat Approve  Republican   \n",
       "392757   Most Of The Time         Strongly Disapprove    Democrat   \n",
       "392758   Some Of The Time  Approve / Somewhat Approve  Republican   \n",
       "392760   Some Of The Time            Strongly Approve  Republican   \n",
       "392761   Most Of The Time            Strongly Approve  Republican   \n",
       "\n",
       "            age_band  Dem_Ind  \n",
       "392756  Upper-Middle        0  \n",
       "392757  Upper-Middle        1  \n",
       "392758           Old        0  \n",
       "392760           Old        0  \n",
       "392761           Old        0  "
      ]
     },
     "execution_count": 90,
     "metadata": {},
     "output_type": "execute_result"
    }
   ],
   "source": [
    "polling.head()"
   ]
  },
  {
   "cell_type": "code",
   "execution_count": 93,
   "metadata": {},
   "outputs": [],
   "source": [
    "small_polling = polling.sample(n=10000, random_state = 42)"
   ]
  },
  {
   "cell_type": "code",
   "execution_count": 94,
   "metadata": {},
   "outputs": [],
   "source": [
    "X_polling = small_polling[categorical_polling]\n",
    "\n",
    "y_polling = small_polling.loc[:,'Dem_Ind']\n"
   ]
  },
  {
   "cell_type": "markdown",
   "metadata": {},
   "source": [
    "General Use Functions"
   ]
  },
  {
   "cell_type": "code",
   "execution_count": 95,
   "metadata": {},
   "outputs": [],
   "source": [
    "from sklearn.preprocessing import OneHotEncoder\n",
    "\n",
    "def prep_data(X, y, categoricalVars):\n",
    "\n",
    "    encoder = OneHotEncoder(sparse=False)\n",
    "    X_encoded = pd.DataFrame(encoder.fit_transform(X[categoricalVars]))\n",
    "    X_encoded.columns = encoder.get_feature_names(categoricalVars)\n",
    "    X.drop(categoricalVars, axis = 1, inplace = True)\n",
    "    if X.shape[1] > 0:\n",
    "        OH_X = pd.concat([X, pd.DataFrame(X_encoded, index=X.index)], axis = 1)\n",
    "    else:\n",
    "        OH_X = X_encoded \n",
    "        \n",
    "    X_Train, X_Test, Y_Train, Y_Test = train_test_split(OH_X, y, test_size = .30, train_size = .70, random_state = 42)\n",
    "    return(X_Train, X_Test, Y_Train, Y_Test)"
   ]
  },
  {
   "cell_type": "code",
   "execution_count": 99,
   "metadata": {},
   "outputs": [],
   "source": [
    "X_Train_Polling, X_Test_Polling, Y_Train_Polling, Y_Test_Polling = prep_data(X_polling, y_polling, categorical_polling)\n"
   ]
  },
  {
   "cell_type": "markdown",
   "metadata": {},
   "source": [
    "###### Random Hill Climbing"
   ]
  },
  {
   "cell_type": "code",
   "execution_count": 102,
   "metadata": {},
   "outputs": [
    {
     "data": {
      "text/plain": [
       "NeuralNetwork(clip_max=5, early_stopping=True, hidden_nodes=[2],\n",
       "              learning_rate=0.0001, max_iters=1000)"
      ]
     },
     "execution_count": 102,
     "metadata": {},
     "output_type": "execute_result"
    }
   ],
   "source": [
    "nn_model1 = mlrose.NeuralNetwork(hidden_nodes = [2], activation = 'relu',\n",
    "                                algorithm = 'random_hill_climb', max_iters=1000,\n",
    "                                bias = True, is_classifier=True, learning_rate = 0.0001,\n",
    "                                early_stopping = True, clip_max = 5, max_attempts = 100,\n",
    "                                random_state = 42)\n",
    "\n",
    "nn_model1.fit(X_Train_Polling, Y_Train_Polling)"
   ]
  },
  {
   "cell_type": "code",
   "execution_count": 105,
   "metadata": {},
   "outputs": [
    {
     "name": "stdout",
     "output_type": "stream",
     "text": [
      "0.45685714285714285\n",
      "0.4402237926972909\n",
      "0.4613333333333333\n",
      "0.4408304498269896\n"
     ]
    }
   ],
   "source": [
    "# predict labels for Training Set \n",
    "Y_Train_Pred = nn_model1.predict(X_Train_Polling)\n",
    "\n",
    "Y_Train_Accuracy = accuracy_score(Y_Train_Polling, Y_Train_Pred)\n",
    "Y_Train_F1_Score = f1_score(Y_Train_Polling, Y_Train_Pred)\n",
    "\n",
    "print(Y_Train_Accuracy)\n",
    "print(Y_Train_F1_Score)\n",
    "\n",
    "#predict labels for Testing Set \n",
    "Y_Test_Pred = nn_model1.predict(X_Test_Polling)\n",
    "\n",
    "Y_Test_Accuracy = accuracy_score(Y_Test_Polling, Y_Test_Pred)\n",
    "Y_Test_F1_Score = f1_score(Y_Test_Polling, Y_Test_Pred)\n",
    "\n",
    "print(Y_Test_Accuracy)\n",
    "print(Y_Test_F1_Score)"
   ]
  },
  {
   "cell_type": "code",
   "execution_count": null,
   "metadata": {},
   "outputs": [],
   "source": []
  },
  {
   "cell_type": "code",
   "execution_count": 108,
   "metadata": {},
   "outputs": [
    {
     "data": {
      "text/plain": [
       "NeuralNetwork(clip_max=5, early_stopping=True, hidden_nodes=[2],\n",
       "              learning_rate=0.0001, max_iters=1000)"
      ]
     },
     "execution_count": 108,
     "metadata": {},
     "output_type": "execute_result"
    }
   ],
   "source": [
    "nn_model2 = mlrose.NeuralNetwork(hidden_nodes = [2], activation = 'identity',\n",
    "                                algorithm = 'gradient_descent', max_iters=1000,\n",
    "                                bias = True, is_classifier=True, learning_rate = 0.0001,\n",
    "                                early_stopping = True, clip_max = 5, max_attempts = 100,\n",
    "                                random_state = 42)\n",
    "\n",
    "nn_model2.fit(X_Train_Polling, Y_Train_Polling)"
   ]
  },
  {
   "cell_type": "code",
   "execution_count": 109,
   "metadata": {},
   "outputs": [
    {
     "name": "stdout",
     "output_type": "stream",
     "text": [
      "0.9158571428571428\n",
      "0.9260329021725481\n",
      "0.9146666666666666\n",
      "0.9253644314868805\n"
     ]
    }
   ],
   "source": [
    "# predict labels for Training Set \n",
    "Y_Train_Pred = nn_model2.predict(X_Train_Polling)\n",
    "\n",
    "Y_Train_Accuracy = accuracy_score(Y_Train_Polling, Y_Train_Pred)\n",
    "Y_Train_F1_Score = f1_score(Y_Train_Polling, Y_Train_Pred)\n",
    "\n",
    "print(Y_Train_Accuracy)\n",
    "print(Y_Train_F1_Score)\n",
    "\n",
    "#predict labels for Testing Set \n",
    "Y_Test_Pred = nn_model2.predict(X_Test_Polling)\n",
    "\n",
    "Y_Test_Accuracy = accuracy_score(Y_Test_Polling, Y_Test_Pred)\n",
    "Y_Test_F1_Score = f1_score(Y_Test_Polling, Y_Test_Pred)\n",
    "\n",
    "print(Y_Test_Accuracy)\n",
    "print(Y_Test_F1_Score)"
   ]
  },
  {
   "cell_type": "code",
   "execution_count": null,
   "metadata": {},
   "outputs": [],
   "source": []
  }
 ],
 "metadata": {
  "kernelspec": {
   "display_name": "Python 3",
   "language": "python",
   "name": "python3"
  },
  "language_info": {
   "codemirror_mode": {
    "name": "ipython",
    "version": 3
   },
   "file_extension": ".py",
   "mimetype": "text/x-python",
   "name": "python",
   "nbconvert_exporter": "python",
   "pygments_lexer": "ipython3",
   "version": "3.7.9"
  }
 },
 "nbformat": 4,
 "nbformat_minor": 4
}
