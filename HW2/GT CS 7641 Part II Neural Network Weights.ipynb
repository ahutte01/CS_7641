{
 "cells": [
  {
   "cell_type": "code",
   "execution_count": 315,
   "metadata": {},
   "outputs": [
    {
     "data": {
      "text/plain": [
       "{'divide': 'warn', 'over': 'ignore', 'under': 'ignore', 'invalid': 'warn'}"
      ]
     },
     "execution_count": 315,
     "metadata": {},
     "output_type": "execute_result"
    }
   ],
   "source": [
    "import pandas as pd\n",
    "import numpy as np \n",
    "import matplotlib.pyplot as plt\n",
    "import os\n",
    "pd.set_option('max_columns', None)\n",
    "pd.set_option('max_rows', None)\n",
    "\n",
    "import warnings\n",
    "warnings.simplefilter(action='ignore', category=FutureWarning)\n",
    "\n",
    "import time\n",
    "\n",
    "from sklearn.model_selection import train_test_split, GridSearchCV\n",
    "from sklearn.preprocessing import MinMaxScaler, OneHotEncoder\n",
    "from sklearn.metrics import accuracy_score, f1_score, classification_report\n",
    "\n",
    "np.seterr(over='ignore')"
   ]
  },
  {
   "cell_type": "code",
   "execution_count": 187,
   "metadata": {},
   "outputs": [],
   "source": [
    "import six\n",
    "import sys\n",
    "sys.modules['sklearn.externals.six'] = six\n",
    "import mlrose"
   ]
  },
  {
   "cell_type": "markdown",
   "metadata": {},
   "source": [
    "What is an optimization problem? \n",
    "\n",
    "- We aim to find the best state, according to some objective function. \n",
    "- An example of a state is the weights used in a machine learning model, such as a neural network\n",
    "- State is represented by a one-dimensional vector \n",
    "- \"Best\" state is defined using the Cost Function/Fitness Function/Objective Function \n",
    "- Function takes in a State Array as Input and returns a Fitness Value as Output\n"
   ]
  },
  {
   "cell_type": "markdown",
   "metadata": {},
   "source": [
    "We will make 3 steps to solve an optimization problem with mlrose:\n",
    " - 1) Define fitness function object\n",
    " - 2) Define an optimization problem object\n",
    " - 3) Select and run a randomized optimization algorithm"
   ]
  },
  {
   "cell_type": "markdown",
   "metadata": {},
   "source": [
    "Variables to Modify: \n",
    "\n",
    "All of them: \n",
    "   - max_iters\n",
    "   - max_attempts \n",
    "    \n",
    "RHC: \n",
    "   - init_state: discrete \n",
    "   - restarts: default 0, range variable  \n",
    "    \n",
    "SA: \n",
    "   - init_state: discrete\n",
    "   - schedule: Exponential, Geometric, Arithmetic\n",
    "    \n",
    "GA: \n",
    "   - pop_size: default 200, range variable  \n",
    "   - mutation_prob: default 0.1, range (0,1)\n",
    "    \n",
    "Mimic: \n",
    "   - pop_size: default: 200, range variable \n",
    "   - keep_pct: default 0.2, range (0,1)"
   ]
  },
  {
   "cell_type": "markdown",
   "metadata": {},
   "source": [
    "#### Tutorial - Machine Learning Weight Optimization Problems "
   ]
  },
  {
   "cell_type": "markdown",
   "metadata": {},
   "source": [
    " Steps to Neural Network  Weight Optimization Problem \n",
    " \n",
    " - 1) Initialize a ML weight optimization problem object\n",
    " - 2) Find optimal weights for a given training dataset by calling the fit method of object init in step 1 \n",
    " - 3) Predict labels for test dataset calling the predict method of obj from step 1"
   ]
  },
  {
   "cell_type": "code",
   "execution_count": 188,
   "metadata": {},
   "outputs": [],
   "source": [
    "from sklearn.datasets import load_iris"
   ]
  },
  {
   "cell_type": "code",
   "execution_count": 189,
   "metadata": {},
   "outputs": [],
   "source": [
    "# data is a dictionary\n",
    "data = load_iris()"
   ]
  },
  {
   "cell_type": "code",
   "execution_count": 190,
   "metadata": {},
   "outputs": [
    {
     "data": {
      "text/plain": [
       "dict_keys(['data', 'target', 'frame', 'target_names', 'DESCR', 'feature_names', 'filename'])"
      ]
     },
     "execution_count": 190,
     "metadata": {},
     "output_type": "execute_result"
    }
   ],
   "source": [
    "data.keys()"
   ]
  },
  {
   "cell_type": "code",
   "execution_count": 191,
   "metadata": {},
   "outputs": [
    {
     "name": "stdout",
     "output_type": "stream",
     "text": [
      "[5.1 3.5 1.4 0.2]\n"
     ]
    }
   ],
   "source": [
    "print(data.data[0])"
   ]
  },
  {
   "cell_type": "code",
   "execution_count": 192,
   "metadata": {},
   "outputs": [
    {
     "name": "stdout",
     "output_type": "stream",
     "text": [
      "['sepal length (cm)', 'sepal width (cm)', 'petal length (cm)', 'petal width (cm)']\n"
     ]
    }
   ],
   "source": [
    "print(data.feature_names)"
   ]
  },
  {
   "cell_type": "code",
   "execution_count": 193,
   "metadata": {},
   "outputs": [
    {
     "name": "stdout",
     "output_type": "stream",
     "text": [
      "0\n"
     ]
    }
   ],
   "source": [
    "print(data.target[0])"
   ]
  },
  {
   "cell_type": "code",
   "execution_count": 194,
   "metadata": {},
   "outputs": [
    {
     "name": "stdout",
     "output_type": "stream",
     "text": [
      "setosa\n"
     ]
    }
   ],
   "source": [
    "print(data.target_names[data.target[0]])"
   ]
  },
  {
   "cell_type": "code",
   "execution_count": 195,
   "metadata": {},
   "outputs": [
    {
     "name": "stdout",
     "output_type": "stream",
     "text": [
      "[0 1 2]\n"
     ]
    }
   ],
   "source": [
    "print(np.unique(data.target))"
   ]
  },
  {
   "cell_type": "code",
   "execution_count": 196,
   "metadata": {},
   "outputs": [
    {
     "name": "stdout",
     "output_type": "stream",
     "text": [
      "setosa\n",
      "versicolor\n",
      "virginica\n"
     ]
    }
   ],
   "source": [
    "print(data.target_names[0])\n",
    "print(data.target_names[1])\n",
    "print(data.target_names[2])"
   ]
  },
  {
   "cell_type": "code",
   "execution_count": 197,
   "metadata": {},
   "outputs": [],
   "source": [
    "## Prep Data \n",
    "X_Train, X_Test, Y_Train, Y_Test = train_test_split(data.data, data.target, \n",
    "                                                   test_size = 0.2, random_state = 3)\n",
    "\n",
    "# Normalize Feature Data \n",
    "scaler = MinMaxScaler()\n",
    "\n",
    "X_Train_Scaled = scaler.fit_transform(X_Train)\n",
    "X_Test_Scaled = scaler.fit_transform(X_Test)\n",
    "\n",
    "# One Hot Encode Target Values \n",
    "one_hot = OneHotEncoder()\n",
    "\n",
    "Y_Train_Hot = one_hot.fit_transform(Y_Train.reshape(-1,1)).todense()\n",
    "Y_Test_Hot = one_hot.fit_transform(Y_Test.reshape(-1,1)).todense()\n"
   ]
  },
  {
   "cell_type": "markdown",
   "metadata": {},
   "source": [
    "Make Neural Network"
   ]
  },
  {
   "cell_type": "markdown",
   "metadata": {},
   "source": [
    "##### Random Hill Climb"
   ]
  },
  {
   "cell_type": "code",
   "execution_count": 198,
   "metadata": {},
   "outputs": [
    {
     "data": {
      "text/plain": [
       "NeuralNetwork(clip_max=5, early_stopping=True, hidden_nodes=[2],\n",
       "              learning_rate=0.0001, max_iters=1000)"
      ]
     },
     "execution_count": 198,
     "metadata": {},
     "output_type": "execute_result"
    }
   ],
   "source": [
    "nn_model1 = mlrose.NeuralNetwork(hidden_nodes = [2], activation = 'relu',\n",
    "                                algorithm = 'random_hill_climb', max_iters=1000,\n",
    "                                bias = True, is_classifier = True, learning_rate = 0.0001,\n",
    "                                early_stopping = True, clip_max = 5, max_attempts = 100, \n",
    "                                random_state = 3)\n",
    "\n",
    "nn_model1.fit(X_Train_Scaled, Y_Train_Hot)"
   ]
  },
  {
   "cell_type": "markdown",
   "metadata": {},
   "source": [
    "Use Neural Network to Predict on Test and Train data"
   ]
  },
  {
   "cell_type": "code",
   "execution_count": 199,
   "metadata": {},
   "outputs": [
    {
     "name": "stdout",
     "output_type": "stream",
     "text": [
      "0.45\n",
      "0.5666666666666667\n"
     ]
    }
   ],
   "source": [
    "# predict labels for Training Set \n",
    "Y_Train_Pred = nn_model1.predict(X_Train_Scaled)\n",
    "\n",
    "Y_Train_Accuracy = accuracy_score(Y_Train_Hot, Y_Train_Pred)\n",
    "\n",
    "print(Y_Train_Accuracy)\n",
    "\n",
    "#predict labels for Testing Set \n",
    "Y_Test_Pred = nn_model1.predict(X_Test_Scaled)\n",
    "\n",
    "Y_Test_Accuracy = accuracy_score(Y_Test_Hot, Y_Test_Pred)\n",
    "\n",
    "print(Y_Test_Accuracy)"
   ]
  },
  {
   "cell_type": "markdown",
   "metadata": {},
   "source": [
    "##### Gradient Descent - same as BackPropogation, similar to Sklearn"
   ]
  },
  {
   "cell_type": "code",
   "execution_count": 200,
   "metadata": {},
   "outputs": [
    {
     "data": {
      "text/plain": [
       "NeuralNetwork(clip_max=5, early_stopping=True, hidden_nodes=[2],\n",
       "              learning_rate=0.0001, max_iters=1000)"
      ]
     },
     "execution_count": 200,
     "metadata": {},
     "output_type": "execute_result"
    }
   ],
   "source": [
    "nn_model2 = mlrose.NeuralNetwork(hidden_nodes = [2], activation = 'relu',\n",
    "                                algorithm = 'gradient_descent', max_iters=1000,\n",
    "                                bias = True, is_classifier = True, learning_rate = 0.0001,\n",
    "                                early_stopping = True, clip_max = 5, max_attempts = 100, \n",
    "                                random_state = 3)\n",
    "\n",
    "nn_model2.fit(X_Train_Scaled, Y_Train_Hot)"
   ]
  },
  {
   "cell_type": "code",
   "execution_count": 201,
   "metadata": {},
   "outputs": [
    {
     "name": "stdout",
     "output_type": "stream",
     "text": [
      "0.625\n",
      "0.6333333333333333\n"
     ]
    }
   ],
   "source": [
    "# predict labels for Training Set \n",
    "Y_Train_Pred = nn_model2.predict(X_Train_Scaled)\n",
    "\n",
    "Y_Train_Accuracy = accuracy_score(Y_Train_Hot, Y_Train_Pred)\n",
    "\n",
    "print(Y_Train_Accuracy)\n",
    "\n",
    "#predict labels for Testing Set \n",
    "Y_Test_Pred = nn_model2.predict(X_Test_Scaled)\n",
    "\n",
    "Y_Test_Accuracy = accuracy_score(Y_Test_Hot, Y_Test_Pred)\n",
    "\n",
    "print(Y_Test_Accuracy)"
   ]
  },
  {
   "cell_type": "markdown",
   "metadata": {},
   "source": [
    "##### Simulated Annealing"
   ]
  },
  {
   "cell_type": "code",
   "execution_count": 202,
   "metadata": {},
   "outputs": [
    {
     "data": {
      "text/plain": [
       "NeuralNetwork(clip_max=5, early_stopping=True, hidden_nodes=[2],\n",
       "              learning_rate=0.0001, max_iters=1000,\n",
       "              schedule=<mlrose.decay.GeomDecay object at 0x7f87f3520610>)"
      ]
     },
     "execution_count": 202,
     "metadata": {},
     "output_type": "execute_result"
    }
   ],
   "source": [
    "schedule = mlrose.GeomDecay()\n",
    "nn_model3 = mlrose.NeuralNetwork(hidden_nodes = [2], activation = 'relu',\n",
    "                                algorithm = 'simulated_annealing', max_iters=1000,\n",
    "                                bias = True, is_classifier = True, learning_rate = 0.0001,\n",
    "                                early_stopping = True, clip_max = 5, max_attempts = 100, \n",
    "                                random_state = 3,\n",
    "                                schedule = schedule)\n",
    "\n",
    "nn_model3.fit(X_Train_Scaled, Y_Train_Hot)"
   ]
  },
  {
   "cell_type": "code",
   "execution_count": 203,
   "metadata": {},
   "outputs": [
    {
     "name": "stdout",
     "output_type": "stream",
     "text": [
      "0.4583333333333333\n",
      "0.5666666666666667\n"
     ]
    }
   ],
   "source": [
    "# predict labels for Training Set \n",
    "Y_Train_Pred = nn_model3.predict(X_Train_Scaled)\n",
    "\n",
    "Y_Train_Accuracy = accuracy_score(Y_Train_Hot, Y_Train_Pred)\n",
    "\n",
    "print(Y_Train_Accuracy)\n",
    "\n",
    "#predict labels for Testing Set \n",
    "Y_Test_Pred = nn_model3.predict(X_Test_Scaled)\n",
    "\n",
    "Y_Test_Accuracy = accuracy_score(Y_Test_Hot, Y_Test_Pred)\n",
    "\n",
    "print(Y_Test_Accuracy)"
   ]
  },
  {
   "cell_type": "markdown",
   "metadata": {},
   "source": [
    "##### Genetic Algorithm"
   ]
  },
  {
   "cell_type": "code",
   "execution_count": 204,
   "metadata": {},
   "outputs": [
    {
     "data": {
      "text/plain": [
       "NeuralNetwork(clip_max=5, early_stopping=True, hidden_nodes=[2],\n",
       "              learning_rate=0.0001, max_iters=1000)"
      ]
     },
     "execution_count": 204,
     "metadata": {},
     "output_type": "execute_result"
    }
   ],
   "source": [
    "nn_model4 = mlrose.NeuralNetwork(hidden_nodes = [2], activation = 'relu',\n",
    "                                algorithm = 'genetic_alg', max_iters=1000,\n",
    "                                bias = True, is_classifier = True, learning_rate = 0.0001,\n",
    "                                early_stopping = True, clip_max = 5, max_attempts = 100, \n",
    "                                random_state = 3,\n",
    "                                pop_size=200)\n",
    "\n",
    "nn_model4.fit(X_Train_Scaled, Y_Train_Hot)"
   ]
  },
  {
   "cell_type": "code",
   "execution_count": 205,
   "metadata": {},
   "outputs": [
    {
     "name": "stdout",
     "output_type": "stream",
     "text": [
      "0.9083333333333333\n",
      "0.8666666666666667\n"
     ]
    }
   ],
   "source": [
    "# predict labels for Training Set \n",
    "Y_Train_Pred = nn_model4.predict(X_Train_Scaled)\n",
    "\n",
    "Y_Train_Accuracy = accuracy_score(Y_Train_Hot, Y_Train_Pred)\n",
    "\n",
    "print(Y_Train_Accuracy)\n",
    "\n",
    "#predict labels for Testing Set \n",
    "Y_Test_Pred = nn_model4.predict(X_Test_Scaled)\n",
    "\n",
    "Y_Test_Accuracy = accuracy_score(Y_Test_Hot, Y_Test_Pred)\n",
    "\n",
    "print(Y_Test_Accuracy)"
   ]
  },
  {
   "cell_type": "markdown",
   "metadata": {},
   "source": [
    "TODO: read this documentation, try each algo: https://mlrose.readthedocs.io/en/stable/source/neural.html"
   ]
  },
  {
   "cell_type": "code",
   "execution_count": 206,
   "metadata": {},
   "outputs": [
    {
     "data": {
      "text/plain": [
       "array([ 1.67729476,  0.85173743, -0.86436999, -3.04406682,  1.57281632,\n",
       "        1.20068369,  3.41331195, -0.42434971, -1.93211357,  2.93124779,\n",
       "       -4.73201025,  0.43811079,  4.92900583,  1.47776978,  0.78182121,\n",
       "       -2.37719733])"
      ]
     },
     "execution_count": 206,
     "metadata": {},
     "output_type": "execute_result"
    }
   ],
   "source": [
    "nn_model4.fitted_weights"
   ]
  },
  {
   "cell_type": "code",
   "execution_count": 207,
   "metadata": {},
   "outputs": [
    {
     "data": {
      "text/plain": [
       "0.35066250312650965"
      ]
     },
     "execution_count": 207,
     "metadata": {},
     "output_type": "execute_result"
    }
   ],
   "source": [
    "nn_model4.loss"
   ]
  },
  {
   "cell_type": "code",
   "execution_count": 208,
   "metadata": {},
   "outputs": [
    {
     "name": "stdout",
     "output_type": "stream",
     "text": [
      "1.064378274038072\n",
      "0.8551592021027957\n",
      "1.0653752190634014\n",
      "0.35066250312650965\n"
     ]
    }
   ],
   "source": [
    "print(nn_model1.loss)\n",
    "print(nn_model2.loss)\n",
    "print(nn_model3.loss)\n",
    "print(nn_model4.loss)"
   ]
  },
  {
   "cell_type": "code",
   "execution_count": null,
   "metadata": {},
   "outputs": [],
   "source": []
  },
  {
   "cell_type": "markdown",
   "metadata": {},
   "source": [
    "### Data Import"
   ]
  },
  {
   "cell_type": "code",
   "execution_count": 209,
   "metadata": {},
   "outputs": [],
   "source": [
    "data_polling = pd.read_stata(\"Data/cumulative_2006_2018.dta\")"
   ]
  },
  {
   "cell_type": "code",
   "execution_count": 210,
   "metadata": {},
   "outputs": [],
   "source": [
    "inputs = ['year','st','gender', 'age', 'race', 'hispanic', 'educ', 'faminc', 'marstat', 'economy_retro', 'newsint','approval_pres']\n",
    "targets = ['pid3']\n",
    "\n",
    "keep = inputs + targets\n",
    "\n",
    "data_polling = data_polling[(data_polling.year == 2018) & (data_polling.pid3.isin(['Democrat','Republican']) )]\n",
    "\n",
    "polling = data_polling[keep]\n"
   ]
  },
  {
   "cell_type": "code",
   "execution_count": 211,
   "metadata": {},
   "outputs": [],
   "source": [
    "polling.dropna(axis=0, how='any',inplace=True)"
   ]
  },
  {
   "cell_type": "code",
   "execution_count": 212,
   "metadata": {},
   "outputs": [],
   "source": [
    "pd.options.mode.chained_assignment = None  # default='warn'\n",
    "\n",
    "polling['age_band'] = np.NaN\n",
    "polling.loc[ (polling['age'] >= 18) & (polling['age'] <= 29), 'age_band'] = 'Young'\n",
    "polling.loc[ (polling['age'] >= 30) & (polling['age'] <= 49), 'age_band'] = 'Lower-Middle'\n",
    "polling.loc[ (polling['age'] >= 50) & (polling['age'] <= 69), 'age_band'] = 'Upper-Middle'\n",
    "polling.loc[ (polling['age'] >= 70) , 'age_band'] = 'Old'"
   ]
  },
  {
   "cell_type": "code",
   "execution_count": 213,
   "metadata": {},
   "outputs": [],
   "source": [
    "polling.loc[ polling['pid3'] == \"Democrat\", \"Dem_Ind\"] = 1\n",
    "polling.loc[ polling['pid3'] == 'Republican', \"Dem_Ind\"] = 0\n",
    "polling['Dem_Ind'] = polling['Dem_Ind'].astype(int)"
   ]
  },
  {
   "cell_type": "code",
   "execution_count": 214,
   "metadata": {},
   "outputs": [],
   "source": [
    "categorical_polling = ['st','gender', 'age_band', 'race', 'hispanic', 'educ', 'faminc', 'marstat', 'economy_retro', 'newsint','approval_pres']\n"
   ]
  },
  {
   "cell_type": "code",
   "execution_count": 215,
   "metadata": {},
   "outputs": [
    {
     "data": {
      "text/html": [
       "<div>\n",
       "<style scoped>\n",
       "    .dataframe tbody tr th:only-of-type {\n",
       "        vertical-align: middle;\n",
       "    }\n",
       "\n",
       "    .dataframe tbody tr th {\n",
       "        vertical-align: top;\n",
       "    }\n",
       "\n",
       "    .dataframe thead th {\n",
       "        text-align: right;\n",
       "    }\n",
       "</style>\n",
       "<table border=\"1\" class=\"dataframe\">\n",
       "  <thead>\n",
       "    <tr style=\"text-align: right;\">\n",
       "      <th></th>\n",
       "      <th>year</th>\n",
       "      <th>st</th>\n",
       "      <th>gender</th>\n",
       "      <th>age</th>\n",
       "      <th>race</th>\n",
       "      <th>hispanic</th>\n",
       "      <th>educ</th>\n",
       "      <th>faminc</th>\n",
       "      <th>marstat</th>\n",
       "      <th>economy_retro</th>\n",
       "      <th>newsint</th>\n",
       "      <th>approval_pres</th>\n",
       "      <th>pid3</th>\n",
       "      <th>age_band</th>\n",
       "      <th>Dem_Ind</th>\n",
       "    </tr>\n",
       "  </thead>\n",
       "  <tbody>\n",
       "    <tr>\n",
       "      <th>392756</th>\n",
       "      <td>2018</td>\n",
       "      <td>OH</td>\n",
       "      <td>Female</td>\n",
       "      <td>58</td>\n",
       "      <td>White</td>\n",
       "      <td>No</td>\n",
       "      <td>Post-Grad</td>\n",
       "      <td>150k+</td>\n",
       "      <td>Married</td>\n",
       "      <td>Stayed About The Same</td>\n",
       "      <td>Only Now And Then</td>\n",
       "      <td>Approve / Somewhat Approve</td>\n",
       "      <td>Republican</td>\n",
       "      <td>Upper-Middle</td>\n",
       "      <td>0</td>\n",
       "    </tr>\n",
       "    <tr>\n",
       "      <th>392757</th>\n",
       "      <td>2018</td>\n",
       "      <td>KY</td>\n",
       "      <td>Female</td>\n",
       "      <td>66</td>\n",
       "      <td>White</td>\n",
       "      <td>No</td>\n",
       "      <td>Post-Grad</td>\n",
       "      <td>10k - 20k</td>\n",
       "      <td>Divorced</td>\n",
       "      <td>Stayed About The Same</td>\n",
       "      <td>Most Of The Time</td>\n",
       "      <td>Strongly Disapprove</td>\n",
       "      <td>Democrat</td>\n",
       "      <td>Upper-Middle</td>\n",
       "      <td>1</td>\n",
       "    </tr>\n",
       "    <tr>\n",
       "      <th>392758</th>\n",
       "      <td>2018</td>\n",
       "      <td>AZ</td>\n",
       "      <td>Female</td>\n",
       "      <td>88</td>\n",
       "      <td>White</td>\n",
       "      <td>No</td>\n",
       "      <td>High School Graduate</td>\n",
       "      <td>20k - 30k</td>\n",
       "      <td>Widowed</td>\n",
       "      <td>Gotten Much Better</td>\n",
       "      <td>Some Of The Time</td>\n",
       "      <td>Approve / Somewhat Approve</td>\n",
       "      <td>Republican</td>\n",
       "      <td>Old</td>\n",
       "      <td>0</td>\n",
       "    </tr>\n",
       "    <tr>\n",
       "      <th>392760</th>\n",
       "      <td>2018</td>\n",
       "      <td>NC</td>\n",
       "      <td>Male</td>\n",
       "      <td>71</td>\n",
       "      <td>White</td>\n",
       "      <td>No</td>\n",
       "      <td>High School Graduate</td>\n",
       "      <td>50k - 60k</td>\n",
       "      <td>Married</td>\n",
       "      <td>Gotten Much Better</td>\n",
       "      <td>Some Of The Time</td>\n",
       "      <td>Strongly Approve</td>\n",
       "      <td>Republican</td>\n",
       "      <td>Old</td>\n",
       "      <td>0</td>\n",
       "    </tr>\n",
       "    <tr>\n",
       "      <th>392761</th>\n",
       "      <td>2018</td>\n",
       "      <td>PA</td>\n",
       "      <td>Male</td>\n",
       "      <td>86</td>\n",
       "      <td>White</td>\n",
       "      <td>No</td>\n",
       "      <td>4-Year</td>\n",
       "      <td>60k - 70k</td>\n",
       "      <td>Widowed</td>\n",
       "      <td>Gotten Better / Somewhat Better</td>\n",
       "      <td>Most Of The Time</td>\n",
       "      <td>Strongly Approve</td>\n",
       "      <td>Republican</td>\n",
       "      <td>Old</td>\n",
       "      <td>0</td>\n",
       "    </tr>\n",
       "  </tbody>\n",
       "</table>\n",
       "</div>"
      ],
      "text/plain": [
       "        year  st  gender  age   race hispanic                  educ  \\\n",
       "392756  2018  OH  Female   58  White       No             Post-Grad   \n",
       "392757  2018  KY  Female   66  White       No             Post-Grad   \n",
       "392758  2018  AZ  Female   88  White       No  High School Graduate   \n",
       "392760  2018  NC    Male   71  White       No  High School Graduate   \n",
       "392761  2018  PA    Male   86  White       No                4-Year   \n",
       "\n",
       "           faminc   marstat                    economy_retro  \\\n",
       "392756      150k+   Married            Stayed About The Same   \n",
       "392757  10k - 20k  Divorced            Stayed About The Same   \n",
       "392758  20k - 30k   Widowed               Gotten Much Better   \n",
       "392760  50k - 60k   Married               Gotten Much Better   \n",
       "392761  60k - 70k   Widowed  Gotten Better / Somewhat Better   \n",
       "\n",
       "                  newsint               approval_pres        pid3  \\\n",
       "392756  Only Now And Then  Approve / Somewhat Approve  Republican   \n",
       "392757   Most Of The Time         Strongly Disapprove    Democrat   \n",
       "392758   Some Of The Time  Approve / Somewhat Approve  Republican   \n",
       "392760   Some Of The Time            Strongly Approve  Republican   \n",
       "392761   Most Of The Time            Strongly Approve  Republican   \n",
       "\n",
       "            age_band  Dem_Ind  \n",
       "392756  Upper-Middle        0  \n",
       "392757  Upper-Middle        1  \n",
       "392758           Old        0  \n",
       "392760           Old        0  \n",
       "392761           Old        0  "
      ]
     },
     "execution_count": 215,
     "metadata": {},
     "output_type": "execute_result"
    }
   ],
   "source": [
    "polling.head()"
   ]
  },
  {
   "cell_type": "code",
   "execution_count": 216,
   "metadata": {},
   "outputs": [],
   "source": [
    "small_polling = polling.sample(n=10000, random_state = 42)"
   ]
  },
  {
   "cell_type": "code",
   "execution_count": 269,
   "metadata": {},
   "outputs": [
    {
     "data": {
      "text/plain": [
       "1    5678\n",
       "0    4322\n",
       "Name: Dem_Ind, dtype: int64"
      ]
     },
     "execution_count": 269,
     "metadata": {},
     "output_type": "execute_result"
    }
   ],
   "source": [
    "small_polling['Dem_Ind'].value_counts()"
   ]
  },
  {
   "cell_type": "code",
   "execution_count": 217,
   "metadata": {},
   "outputs": [],
   "source": [
    "X_polling = small_polling[categorical_polling]\n",
    "\n",
    "y_polling = small_polling.loc[:,'Dem_Ind']\n"
   ]
  },
  {
   "cell_type": "markdown",
   "metadata": {},
   "source": [
    "#### Dataset #2"
   ]
  },
  {
   "cell_type": "code",
   "execution_count": 218,
   "metadata": {},
   "outputs": [
    {
     "name": "stdout",
     "output_type": "stream",
     "text": [
      "(32561, 15)\n"
     ]
    },
    {
     "data": {
      "text/html": [
       "<div>\n",
       "<style scoped>\n",
       "    .dataframe tbody tr th:only-of-type {\n",
       "        vertical-align: middle;\n",
       "    }\n",
       "\n",
       "    .dataframe tbody tr th {\n",
       "        vertical-align: top;\n",
       "    }\n",
       "\n",
       "    .dataframe thead th {\n",
       "        text-align: right;\n",
       "    }\n",
       "</style>\n",
       "<table border=\"1\" class=\"dataframe\">\n",
       "  <thead>\n",
       "    <tr style=\"text-align: right;\">\n",
       "      <th></th>\n",
       "      <th>age</th>\n",
       "      <th>workclass</th>\n",
       "      <th>fnlwgt</th>\n",
       "      <th>education</th>\n",
       "      <th>education.num</th>\n",
       "      <th>marital.status</th>\n",
       "      <th>occupation</th>\n",
       "      <th>relationship</th>\n",
       "      <th>race</th>\n",
       "      <th>sex</th>\n",
       "      <th>capital.gain</th>\n",
       "      <th>capital.loss</th>\n",
       "      <th>hours.per.week</th>\n",
       "      <th>native.country</th>\n",
       "      <th>income</th>\n",
       "    </tr>\n",
       "  </thead>\n",
       "  <tbody>\n",
       "    <tr>\n",
       "      <th>0</th>\n",
       "      <td>90</td>\n",
       "      <td>?</td>\n",
       "      <td>77053</td>\n",
       "      <td>HS-grad</td>\n",
       "      <td>9</td>\n",
       "      <td>Widowed</td>\n",
       "      <td>?</td>\n",
       "      <td>Not-in-family</td>\n",
       "      <td>White</td>\n",
       "      <td>Female</td>\n",
       "      <td>0</td>\n",
       "      <td>4356</td>\n",
       "      <td>40</td>\n",
       "      <td>United-States</td>\n",
       "      <td>&lt;=50K</td>\n",
       "    </tr>\n",
       "    <tr>\n",
       "      <th>1</th>\n",
       "      <td>82</td>\n",
       "      <td>Private</td>\n",
       "      <td>132870</td>\n",
       "      <td>HS-grad</td>\n",
       "      <td>9</td>\n",
       "      <td>Widowed</td>\n",
       "      <td>Exec-managerial</td>\n",
       "      <td>Not-in-family</td>\n",
       "      <td>White</td>\n",
       "      <td>Female</td>\n",
       "      <td>0</td>\n",
       "      <td>4356</td>\n",
       "      <td>18</td>\n",
       "      <td>United-States</td>\n",
       "      <td>&lt;=50K</td>\n",
       "    </tr>\n",
       "    <tr>\n",
       "      <th>2</th>\n",
       "      <td>66</td>\n",
       "      <td>?</td>\n",
       "      <td>186061</td>\n",
       "      <td>Some-college</td>\n",
       "      <td>10</td>\n",
       "      <td>Widowed</td>\n",
       "      <td>?</td>\n",
       "      <td>Unmarried</td>\n",
       "      <td>Black</td>\n",
       "      <td>Female</td>\n",
       "      <td>0</td>\n",
       "      <td>4356</td>\n",
       "      <td>40</td>\n",
       "      <td>United-States</td>\n",
       "      <td>&lt;=50K</td>\n",
       "    </tr>\n",
       "    <tr>\n",
       "      <th>3</th>\n",
       "      <td>54</td>\n",
       "      <td>Private</td>\n",
       "      <td>140359</td>\n",
       "      <td>7th-8th</td>\n",
       "      <td>4</td>\n",
       "      <td>Divorced</td>\n",
       "      <td>Machine-op-inspct</td>\n",
       "      <td>Unmarried</td>\n",
       "      <td>White</td>\n",
       "      <td>Female</td>\n",
       "      <td>0</td>\n",
       "      <td>3900</td>\n",
       "      <td>40</td>\n",
       "      <td>United-States</td>\n",
       "      <td>&lt;=50K</td>\n",
       "    </tr>\n",
       "    <tr>\n",
       "      <th>4</th>\n",
       "      <td>41</td>\n",
       "      <td>Private</td>\n",
       "      <td>264663</td>\n",
       "      <td>Some-college</td>\n",
       "      <td>10</td>\n",
       "      <td>Separated</td>\n",
       "      <td>Prof-specialty</td>\n",
       "      <td>Own-child</td>\n",
       "      <td>White</td>\n",
       "      <td>Female</td>\n",
       "      <td>0</td>\n",
       "      <td>3900</td>\n",
       "      <td>40</td>\n",
       "      <td>United-States</td>\n",
       "      <td>&lt;=50K</td>\n",
       "    </tr>\n",
       "  </tbody>\n",
       "</table>\n",
       "</div>"
      ],
      "text/plain": [
       "   age workclass  fnlwgt     education  education.num marital.status  \\\n",
       "0   90         ?   77053       HS-grad              9        Widowed   \n",
       "1   82   Private  132870       HS-grad              9        Widowed   \n",
       "2   66         ?  186061  Some-college             10        Widowed   \n",
       "3   54   Private  140359       7th-8th              4       Divorced   \n",
       "4   41   Private  264663  Some-college             10      Separated   \n",
       "\n",
       "          occupation   relationship   race     sex  capital.gain  \\\n",
       "0                  ?  Not-in-family  White  Female             0   \n",
       "1    Exec-managerial  Not-in-family  White  Female             0   \n",
       "2                  ?      Unmarried  Black  Female             0   \n",
       "3  Machine-op-inspct      Unmarried  White  Female             0   \n",
       "4     Prof-specialty      Own-child  White  Female             0   \n",
       "\n",
       "   capital.loss  hours.per.week native.country income  \n",
       "0          4356              40  United-States  <=50K  \n",
       "1          4356              18  United-States  <=50K  \n",
       "2          4356              40  United-States  <=50K  \n",
       "3          3900              40  United-States  <=50K  \n",
       "4          3900              40  United-States  <=50K  "
      ]
     },
     "execution_count": 218,
     "metadata": {},
     "output_type": "execute_result"
    }
   ],
   "source": [
    "# Originall Retrieved From: http://archive.ics.uci.edu/ml/datasets/Adult\n",
    "# CSV Retrieved From: https://www.kaggle.com/uciml/adult-census-income\n",
    "# URL: https://drive.google.com/file/d/1wuWJPeacMhHQSXdITZx1_pktoU-ZRb8n/view?usp=sharing\n",
    "data_income = pd.read_csv(\"Data/adult.csv\")\n",
    "\n",
    "print(data_income.shape)\n",
    "\n",
    "data_income.head()"
   ]
  },
  {
   "cell_type": "code",
   "execution_count": 219,
   "metadata": {},
   "outputs": [],
   "source": [
    "# Response Variable \n",
    "data_income.loc[ data_income['income'] == \">50K\", \"income\"] = 1\n",
    "data_income.loc[ data_income['income'] == '<=50K', \"income\"] = 0\n",
    "data_income['income'] = data_income['income'].astype(int)"
   ]
  },
  {
   "cell_type": "code",
   "execution_count": 220,
   "metadata": {},
   "outputs": [
    {
     "data": {
      "text/plain": [
       "<AxesSubplot:>"
      ]
     },
     "execution_count": 220,
     "metadata": {},
     "output_type": "execute_result"
    },
    {
     "data": {
      "image/png": "[encoded data removed]",
      "text/plain": [
       "<Figure size 432x288 with 1 Axes>"
      ]
     },
     "metadata": {
      "needs_background": "light"
     },
     "output_type": "display_data"
    }
   ],
   "source": [
    "# Feature Engineering\n",
    "data_income['native_USA'] = 0 \n",
    "data_income.loc[ data_income['native.country'] == \"United-States\", \"native_USA\"] = 1\n",
    "data_income.loc[ data_income['native.country'] != \"United-States\", \"native_USA\"] = 0\n",
    "\n",
    "data_income.age.hist()"
   ]
  },
  {
   "cell_type": "code",
   "execution_count": 221,
   "metadata": {},
   "outputs": [
    {
     "data": {
      "text/plain": [
       "<AxesSubplot:>"
      ]
     },
     "execution_count": 221,
     "metadata": {},
     "output_type": "execute_result"
    },
    {
     "data": {
      "image/png": "[encoded data removed]",
      "text/plain": [
       "<Figure size 432x288 with 1 Axes>"
      ]
     },
     "metadata": {
      "needs_background": "light"
     },
     "output_type": "display_data"
    }
   ],
   "source": [
    "data_income['age_band'] = np.NaN\n",
    "data_income.loc[ (data_income['age'] <= 29), 'age_band'] = 'Young'\n",
    "data_income.loc[ (data_income['age'] >= 30) & (data_income['age'] <= 49), 'age_band'] = 'Lower-Middle'\n",
    "data_income.loc[ (data_income['age'] >= 50) & (data_income['age'] <= 69), 'age_band'] = 'Upper-Middle'\n",
    "data_income.loc[ (data_income['age'] >= 70) , 'age_band'] = 'Old'\n",
    "\n",
    "data_income['age_band'].value_counts()\n",
    "\n",
    "data_income['hours.per.week'].hist()"
   ]
  },
  {
   "cell_type": "code",
   "execution_count": 222,
   "metadata": {},
   "outputs": [],
   "source": [
    "data_income['hours_band'] = np.NaN\n",
    "data_income.loc[ (data_income['hours.per.week']) < 40, \"hours_band\"] = 'Low'\n",
    "data_income.loc[ (data_income['hours.per.week']) == 40, \"hours_band\"] = 'Average'\n",
    "data_income.loc[ (data_income['hours.per.week']) > 40, \"hours_band\"] = 'High'\n",
    "\n",
    "data_income['native_USA'].value_counts()\n",
    "\n",
    "data_income['hours_band'].value_counts()\n",
    "\n",
    "data_income.columns\n",
    "\n",
    "categorical_income = ['workclass','education','marital.status','occupation','relationship','race','sex','native_USA','age_band','hours_band']\n",
    "\n",
    "\n",
    "data_income['income'].value_counts()\n",
    "\n",
    "data_income.head()\n",
    "\n",
    "small_income = data_income.sample(10000,random_state=42)\n",
    "\n",
    "X_income = small_income[categorical_income]\n",
    "\n",
    "y_income = small_income.loc[:,'income']"
   ]
  },
  {
   "cell_type": "markdown",
   "metadata": {},
   "source": [
    "General Use Functions"
   ]
  },
  {
   "cell_type": "code",
   "execution_count": 223,
   "metadata": {},
   "outputs": [],
   "source": [
    "from sklearn.preprocessing import OneHotEncoder\n",
    "\n",
    "def prep_data(X, y, categoricalVars):\n",
    "\n",
    "    encoder = OneHotEncoder(sparse=False)\n",
    "    X_encoded = pd.DataFrame(encoder.fit_transform(X[categoricalVars]))\n",
    "    X_encoded.columns = encoder.get_feature_names(categoricalVars)\n",
    "    X.drop(categoricalVars, axis = 1, inplace = True)\n",
    "    if X.shape[1] > 0:\n",
    "        OH_X = pd.concat([X, pd.DataFrame(X_encoded, index=X.index)], axis = 1)\n",
    "    else:\n",
    "        OH_X = X_encoded \n",
    "        \n",
    "    X_Train, X_Test, Y_Train, Y_Test = train_test_split(OH_X, y, test_size = .30, train_size = .70, random_state = 42)\n",
    "    return(X_Train, X_Test, Y_Train, Y_Test)"
   ]
  },
  {
   "cell_type": "code",
   "execution_count": 224,
   "metadata": {},
   "outputs": [],
   "source": [
    "X_Train_Polling, X_Test_Polling, Y_Train_Polling, Y_Test_Polling = prep_data(X_polling, y_polling, categorical_polling)\n"
   ]
  },
  {
   "cell_type": "code",
   "execution_count": 225,
   "metadata": {},
   "outputs": [],
   "source": [
    "X_Train_Income, X_Test_Income, Y_Train_Income, Y_Test_Income = prep_data(X_income, y_income, categorical_income)\n"
   ]
  },
  {
   "cell_type": "markdown",
   "metadata": {},
   "source": [
    "##### BackPropogation - Baseline from Prior Assignment"
   ]
  },
  {
   "cell_type": "code",
   "execution_count": 226,
   "metadata": {},
   "outputs": [
    {
     "data": {
      "text/plain": [
       "NeuralNetwork(clip_max=5, hidden_nodes=[156], learning_rate=0.01,\n",
       "              max_iters=2000)"
      ]
     },
     "execution_count": 226,
     "metadata": {},
     "output_type": "execute_result"
    }
   ],
   "source": [
    "nn_backprop_1 = mlrose.NeuralNetwork(hidden_nodes = [156], activation = 'identity',\n",
    "                                algorithm = 'gradient_descent', max_iters=2000,\n",
    "                                bias = True, is_classifier=True, learning_rate = 0.01,\n",
    "                                early_stopping = False, \n",
    "                                clip_max = 5, max_attempts = 100,\n",
    "                                random_state = 42, curve = True)\n",
    "\n",
    "nn_backprop_1.fit(X_Train_Polling, Y_Train_Polling) # takes np array init weights, must equal number of nodes "
   ]
  },
  {
   "cell_type": "code",
   "execution_count": 227,
   "metadata": {},
   "outputs": [
    {
     "name": "stdout",
     "output_type": "stream",
     "text": [
      "Polling, Train Accuracy:  0.48\n",
      "Polling, Train F1 Score:  0.3969516235917827\n",
      "\n",
      "Polling, Test Accuracy:  0.485\n",
      "Polling, Test F1 Scores:  0.3876337693222354\n",
      "              precision    recall  f1-score   support\n",
      "\n",
      "           0       0.44      0.75      0.56      1294\n",
      "           1       0.60      0.29      0.39      1706\n",
      "\n",
      "    accuracy                           0.48      3000\n",
      "   macro avg       0.52      0.52      0.47      3000\n",
      "weighted avg       0.53      0.48      0.46      3000\n",
      "\n"
     ]
    }
   ],
   "source": [
    "# predict labels for Training Set \n",
    "Y_Train_Pred = nn_backprop_1.predict(X_Train_Polling)\n",
    "\n",
    "Y_Train_Accuracy = accuracy_score(Y_Train_Polling, Y_Train_Pred)\n",
    "Y_Train_F1_Score = f1_score(Y_Train_Polling, Y_Train_Pred)\n",
    "\n",
    "print(\"Polling, Train Accuracy: \",Y_Train_Accuracy)\n",
    "print(\"Polling, Train F1 Score: \", Y_Train_F1_Score)\n",
    "\n",
    "#predict labels for Testing Set \n",
    "Y_Test_Pred = nn_backprop_1.predict(X_Test_Polling)\n",
    "\n",
    "Y_Test_Accuracy = accuracy_score(Y_Test_Polling, Y_Test_Pred)\n",
    "Y_Test_F1_Score = f1_score(Y_Test_Polling, Y_Test_Pred)\n",
    "\n",
    "print()\n",
    "print(\"Polling, Test Accuracy: \", Y_Test_Accuracy)\n",
    "print(\"Polling, Test F1 Scores: \", Y_Test_F1_Score)\n",
    "\n",
    "print (classification_report(Y_Test_Polling, Y_Test_Pred))"
   ]
  },
  {
   "cell_type": "code",
   "execution_count": 228,
   "metadata": {},
   "outputs": [
    {
     "data": {
      "text/plain": [
       "2000"
      ]
     },
     "execution_count": 228,
     "metadata": {},
     "output_type": "execute_result"
    }
   ],
   "source": [
    "len(nn_backprop_1.fitness_curve)"
   ]
  },
  {
   "cell_type": "code",
   "execution_count": 229,
   "metadata": {},
   "outputs": [
    {
     "data": {
      "image/png": "[encoded data removed]",
      "text/plain": [
       "<Figure size 432x288 with 1 Axes>"
      ]
     },
     "metadata": {
      "needs_background": "light"
     },
     "output_type": "display_data"
    }
   ],
   "source": [
    "x = np.arange(1, 2001, 1)\n",
    "y = nn_backprop_1.fitness_curve\n",
    "\n",
    "plt.plot(x, y)\n",
    "plt.title(\"Fitness of Neural Network using Gradient Descent\")\n",
    "plt.show()"
   ]
  },
  {
   "cell_type": "markdown",
   "metadata": {},
   "source": [
    "Data 1 with better learning rate, to match results from A1"
   ]
  },
  {
   "cell_type": "code",
   "execution_count": 366,
   "metadata": {},
   "outputs": [
    {
     "name": "stdout",
     "output_type": "stream",
     "text": [
      "83.5241219997406\n"
     ]
    }
   ],
   "source": [
    "start = time.time()\n",
    "nn_backprop_1 = mlrose.NeuralNetwork(hidden_nodes = [156], activation = 'identity',\n",
    "                                algorithm = 'gradient_descent', max_iters=2000,\n",
    "                                bias = True, is_classifier=True, learning_rate = 0.0001,\n",
    "                                early_stopping = False, \n",
    "                                clip_max = 5, max_attempts = 100,\n",
    "                                random_state = 42, curve = True)\n",
    "\n",
    "\n",
    "nn_backprop_1.fit(X_Train_Polling, Y_Train_Polling) # takes np array init weights, must equal number of nodes \n",
    "end = time.time()\n",
    "elapsed = end-start\n",
    "print(elapsed)"
   ]
  },
  {
   "cell_type": "code",
   "execution_count": 367,
   "metadata": {},
   "outputs": [
    {
     "name": "stdout",
     "output_type": "stream",
     "text": [
      "Polling, Train F1 Score:  0.9285445183975889\n",
      "Polling, Test F1 Scores:  0.9215514727325751\n",
      "              precision    recall  f1-score   support\n",
      "\n",
      "           0       0.90      0.89      0.90      1294\n",
      "           1       0.92      0.93      0.92      1706\n",
      "\n",
      "    accuracy                           0.91      3000\n",
      "   macro avg       0.91      0.91      0.91      3000\n",
      "weighted avg       0.91      0.91      0.91      3000\n",
      "\n"
     ]
    }
   ],
   "source": [
    "# predict labels for Training Set \n",
    "Y_Train_Pred = nn_backprop_1.predict(X_Train_Polling)\n",
    "Y_Train_F1_Score = f1_score(Y_Train_Polling, Y_Train_Pred)\n",
    "print(\"Polling, Train F1 Score: \", Y_Train_F1_Score)\n",
    "\n",
    "#predict labels for Testing Set \n",
    "Y_Test_Pred = nn_backprop_1.predict(X_Test_Polling)\n",
    "Y_Test_F1_Score = f1_score(Y_Test_Polling, Y_Test_Pred)\n",
    "print(\"Polling, Test F1 Scores: \", Y_Test_F1_Score)\n",
    "\n",
    "print (classification_report(Y_Test_Polling, Y_Test_Pred))"
   ]
  },
  {
   "cell_type": "code",
   "execution_count": 368,
   "metadata": {},
   "outputs": [
    {
     "data": {
      "text/plain": [
       "array([ -5.85773628, -14.94002808, -14.86826266, ...,  -0.24076524,\n",
       "        -0.24076426,  -0.24076513])"
      ]
     },
     "execution_count": 368,
     "metadata": {},
     "output_type": "execute_result"
    }
   ],
   "source": [
    "nn_backprop_1.fitness_curve"
   ]
  },
  {
   "cell_type": "code",
   "execution_count": 369,
   "metadata": {},
   "outputs": [
    {
     "data": {
      "image/png": "[encoded data removed]",
      "text/plain": [
       "<Figure size 432x288 with 1 Axes>"
      ]
     },
     "metadata": {
      "needs_background": "light"
     },
     "output_type": "display_data"
    }
   ],
   "source": [
    "x = np.arange(1, 2001, 1)\n",
    "y = nn_backprop_1.fitness_curve*-1\n",
    "\n",
    "plt.plot(x, y)\n",
    "plt.xlabel('Iterations')\n",
    "plt.ylabel('Error')\n",
    "plt.title(\"Fitness of Neural Network using Gradient Descent\")\n",
    "plt.show()"
   ]
  },
  {
   "cell_type": "code",
   "execution_count": 236,
   "metadata": {},
   "outputs": [
    {
     "name": "stdout",
     "output_type": "stream",
     "text": [
      "learning rate: 0.0001\n",
      "Polling, Train F1 Score:  0.9285445183975889\n",
      "\n",
      "Polling, Test F1 Scores:  0.9215514727325751\n",
      "learning rate: 0.001\n",
      "Polling, Train F1 Score:  0.3969516235917827\n",
      "\n",
      "Polling, Test F1 Scores:  0.3876337693222354\n",
      "learning rate: 0.01\n",
      "Polling, Train F1 Score:  0.3969516235917827\n",
      "\n",
      "Polling, Test F1 Scores:  0.3876337693222354\n",
      "learning rate: 0.05\n",
      "Polling, Train F1 Score:  0.3969516235917827\n",
      "\n",
      "Polling, Test F1 Scores:  0.3876337693222354\n",
      "learning rate: 0.1\n",
      "Polling, Train F1 Score:  0.3969516235917827\n",
      "\n",
      "Polling, Test F1 Scores:  0.3876337693222354\n",
      "learning rate: 0.25\n",
      "Polling, Train F1 Score:  0.3969516235917827\n",
      "\n",
      "Polling, Test F1 Scores:  0.3876337693222354\n",
      "learning rate: 0.5\n",
      "Polling, Train F1 Score:  0.3969516235917827\n",
      "\n",
      "Polling, Test F1 Scores:  0.3876337693222354\n",
      "learning rate: 0.75\n",
      "Polling, Train F1 Score:  0.3969516235917827\n",
      "\n",
      "Polling, Test F1 Scores:  0.3876337693222354\n"
     ]
    }
   ],
   "source": [
    "learning_rate = [0.0001, 0.001, 0.01, 0.05, 0.10, 0.25, 0.50, 0.75]\n",
    "\n",
    "for num in learning_rate:\n",
    "    \n",
    "    print(\"learning rate:\",num)\n",
    "    nn = mlrose.NeuralNetwork(hidden_nodes = [156], activation = 'identity',\n",
    "                                    algorithm = 'gradient_descent', max_iters=2000,\n",
    "                                    bias = True, is_classifier=True, learning_rate = num,\n",
    "                                    early_stopping = True, clip_max = 5, max_attempts = 100,\n",
    "                                    random_state = 42, curve = True)\n",
    "\n",
    "    nn.fit(X_Train_Polling, Y_Train_Polling)\n",
    "    \n",
    "    # predict labels for Training Set \n",
    "    Y_Train_Pred = nn.predict(X_Train_Polling)\n",
    "    Y_Train_F1_Score = f1_score(Y_Train_Polling, Y_Train_Pred)\n",
    "    print(\"Polling, Train F1 Score: \", Y_Train_F1_Score)\n",
    "\n",
    "    #predict labels for Testing Set \n",
    "    Y_Test_Pred = nn.predict(X_Test_Polling)\n",
    "    Y_Test_F1_Score = f1_score(Y_Test_Polling, Y_Test_Pred)\n",
    "    print()\n",
    "    print(\"Polling, Test F1 Scores: \", Y_Test_F1_Score)\n",
    "    "
   ]
  },
  {
   "cell_type": "markdown",
   "metadata": {},
   "source": [
    "Data 2"
   ]
  },
  {
   "cell_type": "code",
   "execution_count": 237,
   "metadata": {},
   "outputs": [
    {
     "data": {
      "text/plain": [
       "NeuralNetwork(clip_max=5, hidden_nodes=[1], learning_rate=0.05, max_iters=2000)"
      ]
     },
     "execution_count": 237,
     "metadata": {},
     "output_type": "execute_result"
    }
   ],
   "source": [
    "nn_backprop_2 = mlrose.NeuralNetwork(hidden_nodes = [1], activation = 'tanh',\n",
    "                                algorithm = 'gradient_descent', max_iters=2000,\n",
    "                                bias = True, is_classifier=True, learning_rate = 0.05,\n",
    "                                early_stopping = False, \n",
    "                                clip_max = 5, max_attempts = 100,\n",
    "                                random_state = 42, curve = True)\n",
    "\n",
    "nn_backprop_2.fit(X_Train_Income, Y_Train_Income) # takes np array init weights, must equal number of nodes "
   ]
  },
  {
   "cell_type": "code",
   "execution_count": 238,
   "metadata": {},
   "outputs": [
    {
     "name": "stdout",
     "output_type": "stream",
     "text": [
      "Income, Train F1 Score:  0.24008278716798895\n",
      "\n",
      "Income, Test F1 Scores:  0.2447388932190179\n",
      "              precision    recall  f1-score   support\n",
      "\n",
      "           0       0.77      0.83      0.79      2268\n",
      "           1       0.28      0.21      0.24       732\n",
      "\n",
      "    accuracy                           0.68      3000\n",
      "   macro avg       0.53      0.52      0.52      3000\n",
      "weighted avg       0.65      0.68      0.66      3000\n",
      "\n"
     ]
    }
   ],
   "source": [
    "# predict labels for Training Set \n",
    "Y_Train_Pred = nn_backprop_2.predict(X_Train_Income)\n",
    "\n",
    "Y_Train_F1_Score = f1_score(Y_Train_Income, Y_Train_Pred)\n",
    "\n",
    "print(\"Income, Train F1 Score: \", Y_Train_F1_Score)\n",
    "\n",
    "#predict labels for Testing Set \n",
    "Y_Test_Pred = nn_backprop_2.predict(X_Test_Income)\n",
    "\n",
    "Y_Test_F1_Score = f1_score(Y_Test_Income, Y_Test_Pred)\n",
    "\n",
    "print()\n",
    "print(\"Income, Test F1 Scores: \", Y_Test_F1_Score)\n",
    "\n",
    "print (classification_report(Y_Test_Income, Y_Test_Pred))"
   ]
  },
  {
   "cell_type": "code",
   "execution_count": 261,
   "metadata": {},
   "outputs": [
    {
     "data": {
      "image/png": "[encoded data removed]",
      "text/plain": [
       "<Figure size 432x288 with 1 Axes>"
      ]
     },
     "metadata": {
      "needs_background": "light"
     },
     "output_type": "display_data"
    }
   ],
   "source": [
    "x = np.arange(1, 2001, 1)\n",
    "y = nn_backprop_2.fitness_curve*-1\n",
    "\n",
    "plt.plot(x, y)\n",
    "plt.xlabel('Iterations')\n",
    "plt.ylabel('Error')\n",
    "plt.title(\"Fitness of Neural Network using BackPropogation\")\n",
    "plt.show()"
   ]
  },
  {
   "cell_type": "markdown",
   "metadata": {},
   "source": [
    "###### Random Hill Climbing"
   ]
  },
  {
   "cell_type": "code",
   "execution_count": 240,
   "metadata": {},
   "outputs": [
    {
     "data": {
      "text/plain": [
       "NeuralNetwork(clip_max=5, early_stopping=True, hidden_nodes=[156],\n",
       "              learning_rate=0.0001, max_iters=2000)"
      ]
     },
     "execution_count": 240,
     "metadata": {},
     "output_type": "execute_result"
    }
   ],
   "source": [
    "nn_rhc_1 = mlrose.NeuralNetwork(hidden_nodes = [156], activation = 'identity',\n",
    "                                algorithm = 'random_hill_climb', max_iters=2000,\n",
    "                                bias = True, is_classifier=True, learning_rate = 0.0001,\n",
    "                                early_stopping = True, clip_max = 5, max_attempts = 100,\n",
    "                                random_state = 42, curve=True,\n",
    "                                restarts = 0 )\n",
    "\n",
    "nn_rhc_1.fit(X_Train_Polling, Y_Train_Polling)"
   ]
  },
  {
   "cell_type": "code",
   "execution_count": 241,
   "metadata": {},
   "outputs": [
    {
     "name": "stdout",
     "output_type": "stream",
     "text": [
      "Polling, Train F1 Score:  0.3972171608414775\n",
      "\n",
      "Polling, Test F1 Scores:  0.3876337693222354\n"
     ]
    }
   ],
   "source": [
    "# predict labels for Training Set \n",
    "Y_Train_Pred = nn_rhc_1.predict(X_Train_Polling)\n",
    "\n",
    "Y_Train_F1_Score = f1_score(Y_Train_Polling, Y_Train_Pred)\n",
    "\n",
    "print(\"Polling, Train F1 Score: \", Y_Train_F1_Score)\n",
    "\n",
    "#predict labels for Testing Set \n",
    "Y_Test_Pred = nn_rhc_1.predict(X_Test_Polling)\n",
    "\n",
    "Y_Test_F1_Score = f1_score(Y_Test_Polling, Y_Test_Pred)\n",
    "\n",
    "print()\n",
    "print(\"Polling, Test F1 Scores: \", Y_Test_F1_Score)"
   ]
  },
  {
   "cell_type": "code",
   "execution_count": 262,
   "metadata": {},
   "outputs": [
    {
     "data": {
      "image/png": "[encoded data removed]",
      "text/plain": [
       "<Figure size 432x288 with 1 Axes>"
      ]
     },
     "metadata": {
      "needs_background": "light"
     },
     "output_type": "display_data"
    }
   ],
   "source": [
    "x = np.arange(1, 2001, 1)\n",
    "y = nn_rhc_1.fitness_curve*-1\n",
    "\n",
    "plt.plot(x, y)\n",
    "plt.xlabel('Iterations')\n",
    "plt.ylabel('Error')\n",
    "plt.title(\"Fitness of Neural Network using RHC\")\n",
    "plt.show()"
   ]
  },
  {
   "cell_type": "markdown",
   "metadata": {},
   "source": [
    "Restarts"
   ]
  },
  {
   "cell_type": "code",
   "execution_count": 243,
   "metadata": {
    "scrolled": true
   },
   "outputs": [
    {
     "name": "stdout",
     "output_type": "stream",
     "text": [
      "restarts: 1\n",
      "Polling, Train F1 Score:  0.3972171608414775\n",
      "\n",
      "Polling, Test F1 Scores:  0.3876337693222354\n",
      "restarts: 5\n",
      "Polling, Train F1 Score:  0.3974826101358065\n",
      "\n",
      "Polling, Test F1 Scores:  0.3876337693222354\n",
      "restarts: 10\n",
      "Polling, Train F1 Score:  0.3972171608414775\n",
      "\n",
      "Polling, Test F1 Scores:  0.3876337693222354\n",
      "restarts: 10\n",
      "Polling, Train F1 Score:  0.3972171608414775\n",
      "\n",
      "Polling, Test F1 Scores:  0.3876337693222354\n"
     ]
    }
   ],
   "source": [
    "restarts = [1, 5, 10, 10]\n",
    "\n",
    "for num in restarts:\n",
    "    \n",
    "    print(\"restarts:\",num)\n",
    "    nn_rhc = mlrose.NeuralNetwork(hidden_nodes = [156], activation = 'identity',\n",
    "                                    algorithm = 'random_hill_climb', max_iters=2000,\n",
    "                                    bias = True, is_classifier=True, learning_rate = 0.0001,\n",
    "                                    early_stopping = True, clip_max = 5, max_attempts = 100,\n",
    "                                    random_state = 42, curve = True,\n",
    "                                    restarts = int(num),\n",
    "                                    )\n",
    "\n",
    "    nn_rhc.fit(X_Train_Polling, Y_Train_Polling)\n",
    "    \n",
    "    # predict labels for Training Set \n",
    "    Y_Train_Pred = nn_rhc.predict(X_Train_Polling)\n",
    "    Y_Train_F1_Score = f1_score(Y_Train_Polling, Y_Train_Pred)\n",
    "    print(\"Polling, Train F1 Score: \", Y_Train_F1_Score)\n",
    "\n",
    "    #predict labels for Testing Set \n",
    "    Y_Test_Pred = nn_rhc.predict(X_Test_Polling)\n",
    "    Y_Test_F1_Score = f1_score(Y_Test_Polling, Y_Test_Pred)\n",
    "    print()\n",
    "    print(\"Polling, Test F1 Scores: \", Y_Test_F1_Score)\n",
    "    "
   ]
  },
  {
   "cell_type": "code",
   "execution_count": 284,
   "metadata": {},
   "outputs": [
    {
     "name": "stdout",
     "output_type": "stream",
     "text": [
      "restarts: 1\n",
      "Polling, Train F1 Score:  0.7827070503958778\n",
      "Polling, Test F1 Scores:  0.7812775978804827\n",
      "restarts: 5\n",
      "Polling, Train F1 Score:  0.8105671716539375\n",
      "Polling, Test F1 Scores:  0.811408614668219\n",
      "restarts: 10\n",
      "Polling, Train F1 Score:  0.8257464512971121\n",
      "Polling, Test F1 Scores:  0.8250355618776672\n",
      "restarts: 50\n",
      "Polling, Train F1 Score:  0.8393704721458906\n",
      "Polling, Test F1 Scores:  0.8386530014641288\n"
     ]
    }
   ],
   "source": [
    "restarts = [1, 5, 10, 50]\n",
    "\n",
    "rhc_restarts_dict = {\n",
    "    'restarts': [],\n",
    "    'y_train_F1_score':[],\n",
    "    'y_test_F1_score':[],\n",
    "    'fitness_curve': []\n",
    "}\n",
    "\n",
    "for num in restarts:\n",
    "    \n",
    "\n",
    "    print(\"restarts:\",num)\n",
    "    nn_rhc = mlrose.NeuralNetwork(hidden_nodes = [156], activation = 'identity',\n",
    "                                    algorithm = 'random_hill_climb', max_iters=2000,\n",
    "                                    bias = True, is_classifier=True, learning_rate = 0.75,\n",
    "                                    early_stopping = True, clip_max = 5, max_attempts = 100,\n",
    "                                    random_state = 42, curve = True,\n",
    "                                    restarts = int(num),\n",
    "                                    )\n",
    "\n",
    "    nn_rhc.fit(X_Train_Polling, Y_Train_Polling)\n",
    "    \n",
    "    # predict labels for Training Set \n",
    "    Y_Train_Pred = nn_rhc.predict(X_Train_Polling)\n",
    "    Y_Train_F1_Score = f1_score(Y_Train_Polling, Y_Train_Pred)\n",
    "    print(\"Polling, Train F1 Score: \", Y_Train_F1_Score)\n",
    "\n",
    "    #predict labels for Testing Set \n",
    "    Y_Test_Pred = nn_rhc.predict(X_Test_Polling)\n",
    "    Y_Test_F1_Score = f1_score(Y_Test_Polling, Y_Test_Pred)\n",
    "    print(\"Polling, Test F1 Scores: \", Y_Test_F1_Score)\n",
    "    \n",
    "    rhc_restarts_dict['restarts'].append(num)\n",
    "    rhc_restarts_dict['y_train_F1_score'].append(Y_Train_F1_Score)\n",
    "    rhc_restarts_dict['y_test_F1_score'].append(Y_Test_F1_Score)\n",
    "    rhc_restarts_dict['fitness_curve'].append(nn_rhc.fitness_curve)\n",
    "    "
   ]
  },
  {
   "cell_type": "code",
   "execution_count": 303,
   "metadata": {},
   "outputs": [
    {
     "data": {
      "image/png": "[encoded data removed]",
      "text/plain": [
       "<Figure size 432x288 with 1 Axes>"
      ]
     },
     "metadata": {
      "needs_background": "light"
     },
     "output_type": "display_data"
    }
   ],
   "source": [
    "for i in range(0,len(rhc_restarts_dict)):\n",
    "    y = rhc_restarts_dict['fitness_curve'][i]*-1\n",
    "    label = rhc_restarts_dict['restarts'][i]\n",
    "    \n",
    "    plt.plot(y, label = label)\n",
    "\n",
    "plt.xlabel('Iterations')\n",
    "plt.ylabel('Error')\n",
    "plt.title('The Effect of Restarts \\non Fitness Curves for RHC')\n",
    "plt.legend(title = 'Restarts')\n",
    "plt.show()"
   ]
  },
  {
   "cell_type": "code",
   "execution_count": 283,
   "metadata": {},
   "outputs": [
    {
     "name": "stdout",
     "output_type": "stream",
     "text": [
      "restarts: 70.0\n"
     ]
    },
    {
     "ename": "KeyboardInterrupt",
     "evalue": "",
     "output_type": "error",
     "traceback": [
      "\u001b[0;31m---------------------------------------------------------------------------\u001b[0m",
      "\u001b[0;31mKeyboardInterrupt\u001b[0m                         Traceback (most recent call last)",
      "\u001b[0;32m<ipython-input-283-32f47418ca54>\u001b[0m in \u001b[0;36m<module>\u001b[0;34m\u001b[0m\n\u001b[1;32m     24\u001b[0m                                     )\n\u001b[1;32m     25\u001b[0m \u001b[0;34m\u001b[0m\u001b[0m\n\u001b[0;32m---> 26\u001b[0;31m     \u001b[0mnn_rhc\u001b[0m\u001b[0;34m.\u001b[0m\u001b[0mfit\u001b[0m\u001b[0;34m(\u001b[0m\u001b[0mX_Train_Polling\u001b[0m\u001b[0;34m,\u001b[0m \u001b[0mY_Train_Polling\u001b[0m\u001b[0;34m)\u001b[0m\u001b[0;34m\u001b[0m\u001b[0;34m\u001b[0m\u001b[0m\n\u001b[0m\u001b[1;32m     27\u001b[0m \u001b[0;34m\u001b[0m\u001b[0m\n\u001b[1;32m     28\u001b[0m     \u001b[0;31m# predict labels for Training Set\u001b[0m\u001b[0;34m\u001b[0m\u001b[0;34m\u001b[0m\u001b[0;34m\u001b[0m\u001b[0m\n",
      "\u001b[0;32m~/anaconda3/lib/python3.7/site-packages/mlrose/neural.py\u001b[0m in \u001b[0;36mfit\u001b[0;34m(self, X, y, init_weights)\u001b[0m\n\u001b[1;32m    550\u001b[0m                                           \u001b[0mmax_iters\u001b[0m\u001b[0;34m=\u001b[0m\u001b[0mself\u001b[0m\u001b[0;34m.\u001b[0m\u001b[0mmax_iters\u001b[0m\u001b[0;34m,\u001b[0m\u001b[0;34m\u001b[0m\u001b[0;34m\u001b[0m\u001b[0m\n\u001b[1;32m    551\u001b[0m                                           \u001b[0mrestarts\u001b[0m\u001b[0;34m=\u001b[0m\u001b[0;36m0\u001b[0m\u001b[0;34m,\u001b[0m \u001b[0minit_state\u001b[0m\u001b[0;34m=\u001b[0m\u001b[0minit_weights\u001b[0m\u001b[0;34m,\u001b[0m\u001b[0;34m\u001b[0m\u001b[0;34m\u001b[0m\u001b[0m\n\u001b[0;32m--> 552\u001b[0;31m                                           curve=self.curve)\n\u001b[0m\u001b[1;32m    553\u001b[0m                 \u001b[0;32melse\u001b[0m\u001b[0;34m:\u001b[0m\u001b[0;34m\u001b[0m\u001b[0;34m\u001b[0m\u001b[0m\n\u001b[1;32m    554\u001b[0m                     current_weights, current_loss = random_hill_climb(\n",
      "\u001b[0;32m~/anaconda3/lib/python3.7/site-packages/mlrose/algorithms.py\u001b[0m in \u001b[0;36mrandom_hill_climb\u001b[0;34m(problem, max_attempts, max_iters, restarts, init_state, curve, random_state)\u001b[0m\n\u001b[1;32m    201\u001b[0m             \u001b[0;31m# move to that state and reset attempts counter\u001b[0m\u001b[0;34m\u001b[0m\u001b[0;34m\u001b[0m\u001b[0;34m\u001b[0m\u001b[0m\n\u001b[1;32m    202\u001b[0m             \u001b[0;32mif\u001b[0m \u001b[0mnext_fitness\u001b[0m \u001b[0;34m>\u001b[0m \u001b[0mproblem\u001b[0m\u001b[0;34m.\u001b[0m\u001b[0mget_fitness\u001b[0m\u001b[0;34m(\u001b[0m\u001b[0;34m)\u001b[0m\u001b[0;34m:\u001b[0m\u001b[0;34m\u001b[0m\u001b[0;34m\u001b[0m\u001b[0m\n\u001b[0;32m--> 203\u001b[0;31m                 \u001b[0mproblem\u001b[0m\u001b[0;34m.\u001b[0m\u001b[0mset_state\u001b[0m\u001b[0;34m(\u001b[0m\u001b[0mnext_state\u001b[0m\u001b[0;34m)\u001b[0m\u001b[0;34m\u001b[0m\u001b[0;34m\u001b[0m\u001b[0m\n\u001b[0m\u001b[1;32m    204\u001b[0m                 \u001b[0mattempts\u001b[0m \u001b[0;34m=\u001b[0m \u001b[0;36m0\u001b[0m\u001b[0;34m\u001b[0m\u001b[0;34m\u001b[0m\u001b[0m\n\u001b[1;32m    205\u001b[0m \u001b[0;34m\u001b[0m\u001b[0m\n",
      "\u001b[0;32m~/anaconda3/lib/python3.7/site-packages/mlrose/opt_probs.py\u001b[0m in \u001b[0;36mset_state\u001b[0;34m(self, new_state)\u001b[0m\n\u001b[1;32m    222\u001b[0m \u001b[0;34m\u001b[0m\u001b[0m\n\u001b[1;32m    223\u001b[0m         \u001b[0mself\u001b[0m\u001b[0;34m.\u001b[0m\u001b[0mstate\u001b[0m \u001b[0;34m=\u001b[0m \u001b[0mnew_state\u001b[0m\u001b[0;34m\u001b[0m\u001b[0;34m\u001b[0m\u001b[0m\n\u001b[0;32m--> 224\u001b[0;31m         \u001b[0mself\u001b[0m\u001b[0;34m.\u001b[0m\u001b[0mfitness\u001b[0m \u001b[0;34m=\u001b[0m \u001b[0mself\u001b[0m\u001b[0;34m.\u001b[0m\u001b[0meval_fitness\u001b[0m\u001b[0;34m(\u001b[0m\u001b[0mself\u001b[0m\u001b[0;34m.\u001b[0m\u001b[0mstate\u001b[0m\u001b[0;34m)\u001b[0m\u001b[0;34m\u001b[0m\u001b[0;34m\u001b[0m\u001b[0m\n\u001b[0m\u001b[1;32m    225\u001b[0m \u001b[0;34m\u001b[0m\u001b[0m\n\u001b[1;32m    226\u001b[0m \u001b[0;34m\u001b[0m\u001b[0m\n",
      "\u001b[0;32m~/anaconda3/lib/python3.7/site-packages/mlrose/opt_probs.py\u001b[0m in \u001b[0;36meval_fitness\u001b[0;34m(self, state)\u001b[0m\n\u001b[1;32m     96\u001b[0m             \u001b[0;32mraise\u001b[0m \u001b[0mException\u001b[0m\u001b[0;34m(\u001b[0m\u001b[0;34m\"state length must match problem length\"\u001b[0m\u001b[0;34m)\u001b[0m\u001b[0;34m\u001b[0m\u001b[0;34m\u001b[0m\u001b[0m\n\u001b[1;32m     97\u001b[0m \u001b[0;34m\u001b[0m\u001b[0m\n\u001b[0;32m---> 98\u001b[0;31m         \u001b[0mfitness\u001b[0m \u001b[0;34m=\u001b[0m \u001b[0mself\u001b[0m\u001b[0;34m.\u001b[0m\u001b[0mmaximize\u001b[0m\u001b[0;34m*\u001b[0m\u001b[0mself\u001b[0m\u001b[0;34m.\u001b[0m\u001b[0mfitness_fn\u001b[0m\u001b[0;34m.\u001b[0m\u001b[0mevaluate\u001b[0m\u001b[0;34m(\u001b[0m\u001b[0mstate\u001b[0m\u001b[0;34m)\u001b[0m\u001b[0;34m\u001b[0m\u001b[0;34m\u001b[0m\u001b[0m\n\u001b[0m\u001b[1;32m     99\u001b[0m \u001b[0;34m\u001b[0m\u001b[0m\n\u001b[1;32m    100\u001b[0m         \u001b[0;32mreturn\u001b[0m \u001b[0mfitness\u001b[0m\u001b[0;34m\u001b[0m\u001b[0;34m\u001b[0m\u001b[0m\n",
      "\u001b[0;32m~/anaconda3/lib/python3.7/site-packages/mlrose/neural.py\u001b[0m in \u001b[0;36mevaluate\u001b[0;34m(self, state)\u001b[0m\n\u001b[1;32m    310\u001b[0m \u001b[0;34m\u001b[0m\u001b[0m\n\u001b[1;32m    311\u001b[0m         \u001b[0;31m# Evaluate loss function\u001b[0m\u001b[0;34m\u001b[0m\u001b[0;34m\u001b[0m\u001b[0;34m\u001b[0m\u001b[0m\n\u001b[0;32m--> 312\u001b[0;31m         \u001b[0mfitness\u001b[0m \u001b[0;34m=\u001b[0m \u001b[0mself\u001b[0m\u001b[0;34m.\u001b[0m\u001b[0mloss\u001b[0m\u001b[0;34m(\u001b[0m\u001b[0mself\u001b[0m\u001b[0;34m.\u001b[0m\u001b[0my_true\u001b[0m\u001b[0;34m,\u001b[0m \u001b[0mself\u001b[0m\u001b[0;34m.\u001b[0m\u001b[0my_pred\u001b[0m\u001b[0;34m)\u001b[0m\u001b[0;34m\u001b[0m\u001b[0;34m\u001b[0m\u001b[0m\n\u001b[0m\u001b[1;32m    313\u001b[0m \u001b[0;34m\u001b[0m\u001b[0m\n\u001b[1;32m    314\u001b[0m         \u001b[0;32mreturn\u001b[0m \u001b[0mfitness\u001b[0m\u001b[0;34m\u001b[0m\u001b[0;34m\u001b[0m\u001b[0m\n",
      "\u001b[0;32m~/anaconda3/lib/python3.7/site-packages/sklearn/utils/validation.py\u001b[0m in \u001b[0;36minner_f\u001b[0;34m(*args, **kwargs)\u001b[0m\n\u001b[1;32m     70\u001b[0m                           FutureWarning)\n\u001b[1;32m     71\u001b[0m         \u001b[0mkwargs\u001b[0m\u001b[0;34m.\u001b[0m\u001b[0mupdate\u001b[0m\u001b[0;34m(\u001b[0m\u001b[0;34m{\u001b[0m\u001b[0mk\u001b[0m\u001b[0;34m:\u001b[0m \u001b[0marg\u001b[0m \u001b[0;32mfor\u001b[0m \u001b[0mk\u001b[0m\u001b[0;34m,\u001b[0m \u001b[0marg\u001b[0m \u001b[0;32min\u001b[0m \u001b[0mzip\u001b[0m\u001b[0;34m(\u001b[0m\u001b[0msig\u001b[0m\u001b[0;34m.\u001b[0m\u001b[0mparameters\u001b[0m\u001b[0;34m,\u001b[0m \u001b[0margs\u001b[0m\u001b[0;34m)\u001b[0m\u001b[0;34m}\u001b[0m\u001b[0;34m)\u001b[0m\u001b[0;34m\u001b[0m\u001b[0;34m\u001b[0m\u001b[0m\n\u001b[0;32m---> 72\u001b[0;31m         \u001b[0;32mreturn\u001b[0m \u001b[0mf\u001b[0m\u001b[0;34m(\u001b[0m\u001b[0;34m**\u001b[0m\u001b[0mkwargs\u001b[0m\u001b[0;34m)\u001b[0m\u001b[0;34m\u001b[0m\u001b[0;34m\u001b[0m\u001b[0m\n\u001b[0m\u001b[1;32m     73\u001b[0m     \u001b[0;32mreturn\u001b[0m \u001b[0minner_f\u001b[0m\u001b[0;34m\u001b[0m\u001b[0;34m\u001b[0m\u001b[0m\n\u001b[1;32m     74\u001b[0m \u001b[0;34m\u001b[0m\u001b[0m\n",
      "\u001b[0;32m~/anaconda3/lib/python3.7/site-packages/sklearn/metrics/_classification.py\u001b[0m in \u001b[0;36mlog_loss\u001b[0;34m(y_true, y_pred, eps, normalize, sample_weight, labels)\u001b[0m\n\u001b[1;32m   2204\u001b[0m                              'got {0}.'.format(lb.classes_))\n\u001b[1;32m   2205\u001b[0m \u001b[0;34m\u001b[0m\u001b[0m\n\u001b[0;32m-> 2206\u001b[0;31m     \u001b[0mtransformed_labels\u001b[0m \u001b[0;34m=\u001b[0m \u001b[0mlb\u001b[0m\u001b[0;34m.\u001b[0m\u001b[0mtransform\u001b[0m\u001b[0;34m(\u001b[0m\u001b[0my_true\u001b[0m\u001b[0;34m)\u001b[0m\u001b[0;34m\u001b[0m\u001b[0;34m\u001b[0m\u001b[0m\n\u001b[0m\u001b[1;32m   2207\u001b[0m \u001b[0;34m\u001b[0m\u001b[0m\n\u001b[1;32m   2208\u001b[0m     \u001b[0;32mif\u001b[0m \u001b[0mtransformed_labels\u001b[0m\u001b[0;34m.\u001b[0m\u001b[0mshape\u001b[0m\u001b[0;34m[\u001b[0m\u001b[0;36m1\u001b[0m\u001b[0;34m]\u001b[0m \u001b[0;34m==\u001b[0m \u001b[0;36m1\u001b[0m\u001b[0;34m:\u001b[0m\u001b[0;34m\u001b[0m\u001b[0;34m\u001b[0m\u001b[0m\n",
      "\u001b[0;32m~/anaconda3/lib/python3.7/site-packages/sklearn/preprocessing/_label.py\u001b[0m in \u001b[0;36mtransform\u001b[0;34m(self, y)\u001b[0m\n\u001b[1;32m    489\u001b[0m                               \u001b[0mpos_label\u001b[0m\u001b[0;34m=\u001b[0m\u001b[0mself\u001b[0m\u001b[0;34m.\u001b[0m\u001b[0mpos_label\u001b[0m\u001b[0;34m,\u001b[0m\u001b[0;34m\u001b[0m\u001b[0;34m\u001b[0m\u001b[0m\n\u001b[1;32m    490\u001b[0m                               \u001b[0mneg_label\u001b[0m\u001b[0;34m=\u001b[0m\u001b[0mself\u001b[0m\u001b[0;34m.\u001b[0m\u001b[0mneg_label\u001b[0m\u001b[0;34m,\u001b[0m\u001b[0;34m\u001b[0m\u001b[0;34m\u001b[0m\u001b[0m\n\u001b[0;32m--> 491\u001b[0;31m                               sparse_output=self.sparse_output)\n\u001b[0m\u001b[1;32m    492\u001b[0m \u001b[0;34m\u001b[0m\u001b[0m\n\u001b[1;32m    493\u001b[0m     \u001b[0;32mdef\u001b[0m \u001b[0minverse_transform\u001b[0m\u001b[0;34m(\u001b[0m\u001b[0mself\u001b[0m\u001b[0;34m,\u001b[0m \u001b[0mY\u001b[0m\u001b[0;34m,\u001b[0m \u001b[0mthreshold\u001b[0m\u001b[0;34m=\u001b[0m\u001b[0;32mNone\u001b[0m\u001b[0;34m)\u001b[0m\u001b[0;34m:\u001b[0m\u001b[0;34m\u001b[0m\u001b[0;34m\u001b[0m\u001b[0m\n",
      "\u001b[0;32m~/anaconda3/lib/python3.7/site-packages/sklearn/utils/validation.py\u001b[0m in \u001b[0;36minner_f\u001b[0;34m(*args, **kwargs)\u001b[0m\n\u001b[1;32m     70\u001b[0m                           FutureWarning)\n\u001b[1;32m     71\u001b[0m         \u001b[0mkwargs\u001b[0m\u001b[0;34m.\u001b[0m\u001b[0mupdate\u001b[0m\u001b[0;34m(\u001b[0m\u001b[0;34m{\u001b[0m\u001b[0mk\u001b[0m\u001b[0;34m:\u001b[0m \u001b[0marg\u001b[0m \u001b[0;32mfor\u001b[0m \u001b[0mk\u001b[0m\u001b[0;34m,\u001b[0m \u001b[0marg\u001b[0m \u001b[0;32min\u001b[0m \u001b[0mzip\u001b[0m\u001b[0;34m(\u001b[0m\u001b[0msig\u001b[0m\u001b[0;34m.\u001b[0m\u001b[0mparameters\u001b[0m\u001b[0;34m,\u001b[0m \u001b[0margs\u001b[0m\u001b[0;34m)\u001b[0m\u001b[0;34m}\u001b[0m\u001b[0;34m)\u001b[0m\u001b[0;34m\u001b[0m\u001b[0;34m\u001b[0m\u001b[0m\n\u001b[0;32m---> 72\u001b[0;31m         \u001b[0;32mreturn\u001b[0m \u001b[0mf\u001b[0m\u001b[0;34m(\u001b[0m\u001b[0;34m**\u001b[0m\u001b[0mkwargs\u001b[0m\u001b[0;34m)\u001b[0m\u001b[0;34m\u001b[0m\u001b[0;34m\u001b[0m\u001b[0m\n\u001b[0m\u001b[1;32m     73\u001b[0m     \u001b[0;32mreturn\u001b[0m \u001b[0minner_f\u001b[0m\u001b[0;34m\u001b[0m\u001b[0;34m\u001b[0m\u001b[0m\n\u001b[1;32m     74\u001b[0m \u001b[0;34m\u001b[0m\u001b[0m\n",
      "\u001b[0;32m~/anaconda3/lib/python3.7/site-packages/sklearn/preprocessing/_label.py\u001b[0m in \u001b[0;36mlabel_binarize\u001b[0;34m(y, classes, neg_label, pos_label, sparse_output)\u001b[0m\n\u001b[1;32m    627\u001b[0m         \u001b[0mpos_label\u001b[0m \u001b[0;34m=\u001b[0m \u001b[0;34m-\u001b[0m\u001b[0mneg_label\u001b[0m\u001b[0;34m\u001b[0m\u001b[0;34m\u001b[0m\u001b[0m\n\u001b[1;32m    628\u001b[0m \u001b[0;34m\u001b[0m\u001b[0m\n\u001b[0;32m--> 629\u001b[0;31m     \u001b[0my_type\u001b[0m \u001b[0;34m=\u001b[0m \u001b[0mtype_of_target\u001b[0m\u001b[0;34m(\u001b[0m\u001b[0my\u001b[0m\u001b[0;34m)\u001b[0m\u001b[0;34m\u001b[0m\u001b[0;34m\u001b[0m\u001b[0m\n\u001b[0m\u001b[1;32m    630\u001b[0m     \u001b[0;32mif\u001b[0m \u001b[0;34m'multioutput'\u001b[0m \u001b[0;32min\u001b[0m \u001b[0my_type\u001b[0m\u001b[0;34m:\u001b[0m\u001b[0;34m\u001b[0m\u001b[0;34m\u001b[0m\u001b[0m\n\u001b[1;32m    631\u001b[0m         raise ValueError(\"Multioutput target data is not supported with label \"\n",
      "\u001b[0;32m~/anaconda3/lib/python3.7/site-packages/sklearn/utils/multiclass.py\u001b[0m in \u001b[0;36mtype_of_target\u001b[0;34m(y)\u001b[0m\n\u001b[1;32m    288\u001b[0m         \u001b[0;32mreturn\u001b[0m \u001b[0;34m'continuous'\u001b[0m \u001b[0;34m+\u001b[0m \u001b[0msuffix\u001b[0m\u001b[0;34m\u001b[0m\u001b[0;34m\u001b[0m\u001b[0m\n\u001b[1;32m    289\u001b[0m \u001b[0;34m\u001b[0m\u001b[0m\n\u001b[0;32m--> 290\u001b[0;31m     \u001b[0;32mif\u001b[0m \u001b[0;34m(\u001b[0m\u001b[0mlen\u001b[0m\u001b[0;34m(\u001b[0m\u001b[0mnp\u001b[0m\u001b[0;34m.\u001b[0m\u001b[0munique\u001b[0m\u001b[0;34m(\u001b[0m\u001b[0my\u001b[0m\u001b[0;34m)\u001b[0m\u001b[0;34m)\u001b[0m \u001b[0;34m>\u001b[0m \u001b[0;36m2\u001b[0m\u001b[0;34m)\u001b[0m \u001b[0;32mor\u001b[0m \u001b[0;34m(\u001b[0m\u001b[0my\u001b[0m\u001b[0;34m.\u001b[0m\u001b[0mndim\u001b[0m \u001b[0;34m>=\u001b[0m \u001b[0;36m2\u001b[0m \u001b[0;32mand\u001b[0m \u001b[0mlen\u001b[0m\u001b[0;34m(\u001b[0m\u001b[0my\u001b[0m\u001b[0;34m[\u001b[0m\u001b[0;36m0\u001b[0m\u001b[0;34m]\u001b[0m\u001b[0;34m)\u001b[0m \u001b[0;34m>\u001b[0m \u001b[0;36m1\u001b[0m\u001b[0;34m)\u001b[0m\u001b[0;34m:\u001b[0m\u001b[0;34m\u001b[0m\u001b[0;34m\u001b[0m\u001b[0m\n\u001b[0m\u001b[1;32m    291\u001b[0m         \u001b[0;32mreturn\u001b[0m \u001b[0;34m'multiclass'\u001b[0m \u001b[0;34m+\u001b[0m \u001b[0msuffix\u001b[0m  \u001b[0;31m# [1, 2, 3] or [[1., 2., 3]] or [[1, 2]]\u001b[0m\u001b[0;34m\u001b[0m\u001b[0;34m\u001b[0m\u001b[0m\n\u001b[1;32m    292\u001b[0m     \u001b[0;32melse\u001b[0m\u001b[0;34m:\u001b[0m\u001b[0;34m\u001b[0m\u001b[0;34m\u001b[0m\u001b[0m\n",
      "\u001b[0;32m<__array_function__ internals>\u001b[0m in \u001b[0;36munique\u001b[0;34m(*args, **kwargs)\u001b[0m\n",
      "\u001b[0;32m~/anaconda3/lib/python3.7/site-packages/numpy/lib/arraysetops.py\u001b[0m in \u001b[0;36munique\u001b[0;34m(ar, return_index, return_inverse, return_counts, axis)\u001b[0m\n\u001b[1;32m    261\u001b[0m     \u001b[0mar\u001b[0m \u001b[0;34m=\u001b[0m \u001b[0mnp\u001b[0m\u001b[0;34m.\u001b[0m\u001b[0masanyarray\u001b[0m\u001b[0;34m(\u001b[0m\u001b[0mar\u001b[0m\u001b[0;34m)\u001b[0m\u001b[0;34m\u001b[0m\u001b[0;34m\u001b[0m\u001b[0m\n\u001b[1;32m    262\u001b[0m     \u001b[0;32mif\u001b[0m \u001b[0maxis\u001b[0m \u001b[0;32mis\u001b[0m \u001b[0;32mNone\u001b[0m\u001b[0;34m:\u001b[0m\u001b[0;34m\u001b[0m\u001b[0;34m\u001b[0m\u001b[0m\n\u001b[0;32m--> 263\u001b[0;31m         \u001b[0mret\u001b[0m \u001b[0;34m=\u001b[0m \u001b[0m_unique1d\u001b[0m\u001b[0;34m(\u001b[0m\u001b[0mar\u001b[0m\u001b[0;34m,\u001b[0m \u001b[0mreturn_index\u001b[0m\u001b[0;34m,\u001b[0m \u001b[0mreturn_inverse\u001b[0m\u001b[0;34m,\u001b[0m \u001b[0mreturn_counts\u001b[0m\u001b[0;34m)\u001b[0m\u001b[0;34m\u001b[0m\u001b[0;34m\u001b[0m\u001b[0m\n\u001b[0m\u001b[1;32m    264\u001b[0m         \u001b[0;32mreturn\u001b[0m \u001b[0m_unpack_tuple\u001b[0m\u001b[0;34m(\u001b[0m\u001b[0mret\u001b[0m\u001b[0;34m)\u001b[0m\u001b[0;34m\u001b[0m\u001b[0;34m\u001b[0m\u001b[0m\n\u001b[1;32m    265\u001b[0m \u001b[0;34m\u001b[0m\u001b[0m\n",
      "\u001b[0;32m~/anaconda3/lib/python3.7/site-packages/numpy/lib/arraysetops.py\u001b[0m in \u001b[0;36m_unique1d\u001b[0;34m(ar, return_index, return_inverse, return_counts)\u001b[0m\n\u001b[1;32m    309\u001b[0m         \u001b[0maux\u001b[0m \u001b[0;34m=\u001b[0m \u001b[0mar\u001b[0m\u001b[0;34m[\u001b[0m\u001b[0mperm\u001b[0m\u001b[0;34m]\u001b[0m\u001b[0;34m\u001b[0m\u001b[0;34m\u001b[0m\u001b[0m\n\u001b[1;32m    310\u001b[0m     \u001b[0;32melse\u001b[0m\u001b[0;34m:\u001b[0m\u001b[0;34m\u001b[0m\u001b[0;34m\u001b[0m\u001b[0m\n\u001b[0;32m--> 311\u001b[0;31m         \u001b[0mar\u001b[0m\u001b[0;34m.\u001b[0m\u001b[0msort\u001b[0m\u001b[0;34m(\u001b[0m\u001b[0;34m)\u001b[0m\u001b[0;34m\u001b[0m\u001b[0;34m\u001b[0m\u001b[0m\n\u001b[0m\u001b[1;32m    312\u001b[0m         \u001b[0maux\u001b[0m \u001b[0;34m=\u001b[0m \u001b[0mar\u001b[0m\u001b[0;34m\u001b[0m\u001b[0;34m\u001b[0m\u001b[0m\n\u001b[1;32m    313\u001b[0m     \u001b[0mmask\u001b[0m \u001b[0;34m=\u001b[0m \u001b[0mnp\u001b[0m\u001b[0;34m.\u001b[0m\u001b[0mempty\u001b[0m\u001b[0;34m(\u001b[0m\u001b[0maux\u001b[0m\u001b[0;34m.\u001b[0m\u001b[0mshape\u001b[0m\u001b[0;34m,\u001b[0m \u001b[0mdtype\u001b[0m\u001b[0;34m=\u001b[0m\u001b[0mnp\u001b[0m\u001b[0;34m.\u001b[0m\u001b[0mbool_\u001b[0m\u001b[0;34m)\u001b[0m\u001b[0;34m\u001b[0m\u001b[0;34m\u001b[0m\u001b[0m\n",
      "\u001b[0;31mKeyboardInterrupt\u001b[0m: "
     ]
    }
   ],
   "source": [
    "restarts_prob = [0.01, 0.10, 0.25, 0.50, 0.75, 1.0, 2.0]\n",
    "\n",
    "rhc_restarts_dict = {\n",
    "    'restarts': [],\n",
    "    'y_train_F1_score':[],\n",
    "    'y_test_F1_score':[],\n",
    "    'fitness_curve': [],\n",
    "    'runtime':[]\n",
    "}\n",
    "\n",
    "for num in restarts_prob:\n",
    "    start = time.time()\n",
    "    \n",
    "    # Vary restarts by population size \n",
    "    num_restarts = len(X_Train_Polling)*num\n",
    "\n",
    "    print(\"restarts:\",num_restarts)\n",
    "    nn_rhc = mlrose.NeuralNetwork(hidden_nodes = [156], activation = 'identity',\n",
    "                                    algorithm = 'random_hill_climb', max_iters=2000,\n",
    "                                    bias = True, is_classifier=True, learning_rate = 0.75,\n",
    "                                    early_stopping = True, clip_max = 5, max_attempts = 100,\n",
    "                                    random_state = 42, curve = True,\n",
    "                                    restarts = int(num_restarts),\n",
    "                                    )\n",
    "\n",
    "    nn_rhc.fit(X_Train_Polling, Y_Train_Polling)\n",
    "    \n",
    "    # predict labels for Training Set \n",
    "    Y_Train_Pred = nn_rhc.predict(X_Train_Polling)\n",
    "    Y_Train_F1_Score = f1_score(Y_Train_Polling, Y_Train_Pred)\n",
    "    print(\"Polling, Train F1 Score: \", Y_Train_F1_Score)\n",
    "\n",
    "    #predict labels for Testing Set \n",
    "    Y_Test_Pred = nn_rhc.predict(X_Test_Polling)\n",
    "    Y_Test_F1_Score = f1_score(Y_Test_Polling, Y_Test_Pred)\n",
    "    print(\"Polling, Test F1 Scores: \", Y_Test_F1_Score)\n",
    "    \n",
    "    end = time.time()\n",
    "    elapsed = end-start\n",
    "    rhc_restarts_dict['restarts'].append(num)\n",
    "    rhc_restarts_dict['y_train_F1_score'].append(Y_Train_F1_Score)\n",
    "    rhc_restarts_dict['y_test_F1_score'].append(Y_Test_F1_Score)\n",
    "    rhc_restarts_dict['fitness_curve'].append(nn_rhc.fitness_curve)\n",
    "    rhc_restarts_dict['runtime'].append(elapsed)\n",
    "    "
   ]
  },
  {
   "cell_type": "markdown",
   "metadata": {},
   "source": [
    "learning rate"
   ]
  },
  {
   "cell_type": "code",
   "execution_count": 244,
   "metadata": {},
   "outputs": [
    {
     "name": "stdout",
     "output_type": "stream",
     "text": [
      "learning rate: 0.0001\n",
      "Polling, Train F1 Score:  0.3972171608414775\n",
      "\n",
      "Polling, Test F1 Scores:  0.3876337693222354\n",
      "learning rate: 0.001\n",
      "Polling, Train F1 Score:  0.3992068737607402\n",
      "\n",
      "Polling, Test F1 Scores:  0.3905138339920948\n",
      "learning rate: 0.01\n",
      "Polling, Train F1 Score:  0.41162149001785425\n",
      "\n",
      "Polling, Test F1 Scores:  0.4040325707638619\n",
      "learning rate: 0.05\n",
      "Polling, Train F1 Score:  0.4682395644283121\n",
      "\n",
      "Polling, Test F1 Scores:  0.46886184681460275\n",
      "learning rate: 0.1\n",
      "Polling, Train F1 Score:  0.5290088074933594\n",
      "\n",
      "Polling, Test F1 Scores:  0.5318376773342132\n",
      "learning rate: 0.25\n",
      "Polling, Train F1 Score:  0.6226391494684177\n",
      "\n",
      "Polling, Test F1 Scores:  0.6259946949602122\n",
      "learning rate: 0.5\n",
      "Polling, Train F1 Score:  0.7108178762604256\n",
      "\n",
      "Polling, Test F1 Scores:  0.7196234186525449\n",
      "learning rate: 0.75\n",
      "Polling, Train F1 Score:  0.7827070503958778\n",
      "\n",
      "Polling, Test F1 Scores:  0.7812775978804827\n"
     ]
    }
   ],
   "source": [
    "learning_rate = [0.0001, 0.001, 0.01, 0.05, 0.10, 0.25, 0.50, 0.75]\n",
    "\n",
    "for num in learning_rate:\n",
    "    \n",
    "    print(\"learning rate:\",num)\n",
    "    nn_rhc = mlrose.NeuralNetwork(hidden_nodes = [156], activation = 'identity',\n",
    "                                    algorithm = 'random_hill_climb', max_iters=2000,\n",
    "                                    bias = True, is_classifier=True, learning_rate = num,\n",
    "                                    early_stopping = True, clip_max = 5, max_attempts = 100,\n",
    "                                    random_state = 42, curve = True,\n",
    "                                    restarts = 1)\n",
    "\n",
    "    nn_rhc.fit(X_Train_Polling, Y_Train_Polling)\n",
    "    \n",
    "    # predict labels for Training Set \n",
    "    Y_Train_Pred = nn_rhc.predict(X_Train_Polling)\n",
    "    Y_Train_F1_Score = f1_score(Y_Train_Polling, Y_Train_Pred)\n",
    "    print(\"Polling, Train F1 Score: \", Y_Train_F1_Score)\n",
    "\n",
    "    #predict labels for Testing Set \n",
    "    Y_Test_Pred = nn_rhc.predict(X_Test_Polling)\n",
    "    Y_Test_F1_Score = f1_score(Y_Test_Polling, Y_Test_Pred)\n",
    "    print()\n",
    "    print(\"Polling, Test F1 Scores: \", Y_Test_F1_Score)\n",
    "    "
   ]
  },
  {
   "cell_type": "code",
   "execution_count": 287,
   "metadata": {},
   "outputs": [
    {
     "name": "stdout",
     "output_type": "stream",
     "text": [
      "learning rate: 0.6\n",
      "Polling, Train F1 Score:  0.7933990021747473\n",
      "Polling, Test F1 Scores:  0.7947572237116474\n",
      "learning rate: 0.75\n",
      "Polling, Train F1 Score:  0.8257464512971121\n",
      "Polling, Test F1 Scores:  0.8250355618776672\n",
      "learning rate: 0.9\n",
      "Polling, Train F1 Score:  0.8477575757575758\n",
      "Polling, Test F1 Scores:  0.839038189533239\n",
      "learning rate: 0.95\n",
      "Polling, Train F1 Score:  0.8545213087045757\n",
      "Polling, Test F1 Scores:  0.8458075407990996\n"
     ]
    }
   ],
   "source": [
    "learning_rate = [0.60, 0.75, .90, 0.95]\n",
    "\n",
    "rhc_LR_dict = {\n",
    "    'learning_rate': [],\n",
    "    'y_train_F1_score':[],\n",
    "    'y_test_F1_score':[],\n",
    "    'fitness_curve': [],\n",
    "    'runtime':[]\n",
    "}\n",
    "\n",
    "for num in learning_rate:\n",
    "    start = time.time()\n",
    "    print(\"learning rate:\",num)\n",
    "    nn = mlrose.NeuralNetwork(hidden_nodes = [156], activation = 'identity',\n",
    "                                    algorithm = 'random_hill_climb', max_iters=2000,\n",
    "                                    bias = True, is_classifier=True, learning_rate = num,\n",
    "                                    early_stopping = True, clip_max = 5, max_attempts = 100,\n",
    "                                    random_state = 42, curve = True,\n",
    "                                    restarts = 10)\n",
    "\n",
    "    nn.fit(X_Train_Polling, Y_Train_Polling)\n",
    "    \n",
    "    # predict labels for Training Set \n",
    "    Y_Train_Pred = nn.predict(X_Train_Polling)\n",
    "    Y_Train_F1_Score = f1_score(Y_Train_Polling, Y_Train_Pred)\n",
    "    print(\"Polling, Train F1 Score: \", Y_Train_F1_Score)\n",
    "\n",
    "    #predict labels for Testing Set \n",
    "    Y_Test_Pred = nn.predict(X_Test_Polling)\n",
    "    Y_Test_F1_Score = f1_score(Y_Test_Polling, Y_Test_Pred)\n",
    "    print(\"Polling, Test F1 Scores: \", Y_Test_F1_Score)\n",
    "    \n",
    "    end = time.time()\n",
    "    elapsed = end-start\n",
    "    rhc_LR_dict['learning_rate'].append(num)\n",
    "    rhc_LR_dict['y_train_F1_score'].append(Y_Train_F1_Score)\n",
    "    rhc_LR_dict['y_test_F1_score'].append(Y_Test_F1_Score)\n",
    "    rhc_LR_dict['fitness_curve'].append(nn.fitness_curve)\n",
    "    rhc_LR_dict['runtime'].append(elapsed)\n",
    "    "
   ]
  },
  {
   "cell_type": "code",
   "execution_count": 300,
   "metadata": {},
   "outputs": [
    {
     "data": {
      "image/png": "[encoded data removed]",
      "text/plain": [
       "<Figure size 432x288 with 1 Axes>"
      ]
     },
     "metadata": {
      "needs_background": "light"
     },
     "output_type": "display_data"
    }
   ],
   "source": [
    "for i in range(0,len(rhc_LR_dict)-1):\n",
    "    y = rhc_LR_dict['fitness_curve'][i]*-1\n",
    "    label = rhc_LR_dict['learning_rate'][i]\n",
    "    \n",
    "    plt.plot(y, label = label)\n",
    "\n",
    "plt.xlabel('Iterations')\n",
    "plt.ylabel('Error')\n",
    "plt.title('The Effect of Learning Rate \\non Fitness Curves for RHC')\n",
    "plt.legend(title = 'Learning Rate')\n",
    "plt.show()"
   ]
  },
  {
   "cell_type": "code",
   "execution_count": 371,
   "metadata": {},
   "outputs": [
    {
     "name": "stdout",
     "output_type": "stream",
     "text": [
      "learning rate: 0.0001\n"
     ]
    },
    {
     "ename": "KeyboardInterrupt",
     "evalue": "",
     "output_type": "error",
     "traceback": [
      "\u001b[0;31m---------------------------------------------------------------------------\u001b[0m",
      "\u001b[0;31mKeyboardInterrupt\u001b[0m                         Traceback (most recent call last)",
      "\u001b[0;32m<ipython-input-371-0362e0bc2868>\u001b[0m in \u001b[0;36m<module>\u001b[0;34m\u001b[0m\n\u001b[1;32m     19\u001b[0m                                     restarts = 10)\n\u001b[1;32m     20\u001b[0m \u001b[0;34m\u001b[0m\u001b[0m\n\u001b[0;32m---> 21\u001b[0;31m     \u001b[0mnn\u001b[0m\u001b[0;34m.\u001b[0m\u001b[0mfit\u001b[0m\u001b[0;34m(\u001b[0m\u001b[0mX_Train_Polling\u001b[0m\u001b[0;34m,\u001b[0m \u001b[0mY_Train_Polling\u001b[0m\u001b[0;34m)\u001b[0m\u001b[0;34m\u001b[0m\u001b[0;34m\u001b[0m\u001b[0m\n\u001b[0m\u001b[1;32m     22\u001b[0m \u001b[0;34m\u001b[0m\u001b[0m\n\u001b[1;32m     23\u001b[0m     \u001b[0;31m# predict labels for Training Set\u001b[0m\u001b[0;34m\u001b[0m\u001b[0;34m\u001b[0m\u001b[0;34m\u001b[0m\u001b[0m\n",
      "\u001b[0;32m~/anaconda3/lib/python3.7/site-packages/mlrose/neural.py\u001b[0m in \u001b[0;36mfit\u001b[0;34m(self, X, y, init_weights)\u001b[0m\n\u001b[1;32m    550\u001b[0m                                           \u001b[0mmax_iters\u001b[0m\u001b[0;34m=\u001b[0m\u001b[0mself\u001b[0m\u001b[0;34m.\u001b[0m\u001b[0mmax_iters\u001b[0m\u001b[0;34m,\u001b[0m\u001b[0;34m\u001b[0m\u001b[0;34m\u001b[0m\u001b[0m\n\u001b[1;32m    551\u001b[0m                                           \u001b[0mrestarts\u001b[0m\u001b[0;34m=\u001b[0m\u001b[0;36m0\u001b[0m\u001b[0;34m,\u001b[0m \u001b[0minit_state\u001b[0m\u001b[0;34m=\u001b[0m\u001b[0minit_weights\u001b[0m\u001b[0;34m,\u001b[0m\u001b[0;34m\u001b[0m\u001b[0;34m\u001b[0m\u001b[0m\n\u001b[0;32m--> 552\u001b[0;31m                                           curve=self.curve)\n\u001b[0m\u001b[1;32m    553\u001b[0m                 \u001b[0;32melse\u001b[0m\u001b[0;34m:\u001b[0m\u001b[0;34m\u001b[0m\u001b[0;34m\u001b[0m\u001b[0m\n\u001b[1;32m    554\u001b[0m                     current_weights, current_loss = random_hill_climb(\n",
      "\u001b[0;32m~/anaconda3/lib/python3.7/site-packages/mlrose/algorithms.py\u001b[0m in \u001b[0;36mrandom_hill_climb\u001b[0;34m(problem, max_attempts, max_iters, restarts, init_state, curve, random_state)\u001b[0m\n\u001b[1;32m    196\u001b[0m             \u001b[0;31m# Find random neighbor and evaluate fitness\u001b[0m\u001b[0;34m\u001b[0m\u001b[0;34m\u001b[0m\u001b[0;34m\u001b[0m\u001b[0m\n\u001b[1;32m    197\u001b[0m             \u001b[0mnext_state\u001b[0m \u001b[0;34m=\u001b[0m \u001b[0mproblem\u001b[0m\u001b[0;34m.\u001b[0m\u001b[0mrandom_neighbor\u001b[0m\u001b[0;34m(\u001b[0m\u001b[0;34m)\u001b[0m\u001b[0;34m\u001b[0m\u001b[0;34m\u001b[0m\u001b[0m\n\u001b[0;32m--> 198\u001b[0;31m             \u001b[0mnext_fitness\u001b[0m \u001b[0;34m=\u001b[0m \u001b[0mproblem\u001b[0m\u001b[0;34m.\u001b[0m\u001b[0meval_fitness\u001b[0m\u001b[0;34m(\u001b[0m\u001b[0mnext_state\u001b[0m\u001b[0;34m)\u001b[0m\u001b[0;34m\u001b[0m\u001b[0;34m\u001b[0m\u001b[0m\n\u001b[0m\u001b[1;32m    199\u001b[0m \u001b[0;34m\u001b[0m\u001b[0m\n\u001b[1;32m    200\u001b[0m             \u001b[0;31m# If best neighbor is an improvement,\u001b[0m\u001b[0;34m\u001b[0m\u001b[0;34m\u001b[0m\u001b[0;34m\u001b[0m\u001b[0m\n",
      "\u001b[0;32m~/anaconda3/lib/python3.7/site-packages/mlrose/opt_probs.py\u001b[0m in \u001b[0;36meval_fitness\u001b[0;34m(self, state)\u001b[0m\n\u001b[1;32m     96\u001b[0m             \u001b[0;32mraise\u001b[0m \u001b[0mException\u001b[0m\u001b[0;34m(\u001b[0m\u001b[0;34m\"state length must match problem length\"\u001b[0m\u001b[0;34m)\u001b[0m\u001b[0;34m\u001b[0m\u001b[0;34m\u001b[0m\u001b[0m\n\u001b[1;32m     97\u001b[0m \u001b[0;34m\u001b[0m\u001b[0m\n\u001b[0;32m---> 98\u001b[0;31m         \u001b[0mfitness\u001b[0m \u001b[0;34m=\u001b[0m \u001b[0mself\u001b[0m\u001b[0;34m.\u001b[0m\u001b[0mmaximize\u001b[0m\u001b[0;34m*\u001b[0m\u001b[0mself\u001b[0m\u001b[0;34m.\u001b[0m\u001b[0mfitness_fn\u001b[0m\u001b[0;34m.\u001b[0m\u001b[0mevaluate\u001b[0m\u001b[0;34m(\u001b[0m\u001b[0mstate\u001b[0m\u001b[0;34m)\u001b[0m\u001b[0;34m\u001b[0m\u001b[0;34m\u001b[0m\u001b[0m\n\u001b[0m\u001b[1;32m     99\u001b[0m \u001b[0;34m\u001b[0m\u001b[0m\n\u001b[1;32m    100\u001b[0m         \u001b[0;32mreturn\u001b[0m \u001b[0mfitness\u001b[0m\u001b[0;34m\u001b[0m\u001b[0;34m\u001b[0m\u001b[0m\n",
      "\u001b[0;32m~/anaconda3/lib/python3.7/site-packages/mlrose/neural.py\u001b[0m in \u001b[0;36mevaluate\u001b[0;34m(self, state)\u001b[0m\n\u001b[1;32m    300\u001b[0m         \u001b[0;32mfor\u001b[0m \u001b[0mi\u001b[0m \u001b[0;32min\u001b[0m \u001b[0mrange\u001b[0m\u001b[0;34m(\u001b[0m\u001b[0mlen\u001b[0m\u001b[0;34m(\u001b[0m\u001b[0mself\u001b[0m\u001b[0;34m.\u001b[0m\u001b[0mweights\u001b[0m\u001b[0;34m)\u001b[0m\u001b[0;34m)\u001b[0m\u001b[0;34m:\u001b[0m\u001b[0;34m\u001b[0m\u001b[0;34m\u001b[0m\u001b[0m\n\u001b[1;32m    301\u001b[0m             \u001b[0;31m# Multiple inputs by weights\u001b[0m\u001b[0;34m\u001b[0m\u001b[0;34m\u001b[0m\u001b[0;34m\u001b[0m\u001b[0m\n\u001b[0;32m--> 302\u001b[0;31m             \u001b[0moutputs\u001b[0m \u001b[0;34m=\u001b[0m \u001b[0mnp\u001b[0m\u001b[0;34m.\u001b[0m\u001b[0mdot\u001b[0m\u001b[0;34m(\u001b[0m\u001b[0minputs\u001b[0m\u001b[0;34m,\u001b[0m \u001b[0mself\u001b[0m\u001b[0;34m.\u001b[0m\u001b[0mweights\u001b[0m\u001b[0;34m[\u001b[0m\u001b[0mi\u001b[0m\u001b[0;34m]\u001b[0m\u001b[0;34m)\u001b[0m\u001b[0;34m\u001b[0m\u001b[0;34m\u001b[0m\u001b[0m\n\u001b[0m\u001b[1;32m    303\u001b[0m             \u001b[0mself\u001b[0m\u001b[0;34m.\u001b[0m\u001b[0minputs_list\u001b[0m\u001b[0;34m.\u001b[0m\u001b[0mappend\u001b[0m\u001b[0;34m(\u001b[0m\u001b[0minputs\u001b[0m\u001b[0;34m)\u001b[0m\u001b[0;34m\u001b[0m\u001b[0;34m\u001b[0m\u001b[0m\n\u001b[1;32m    304\u001b[0m \u001b[0;34m\u001b[0m\u001b[0m\n",
      "\u001b[0;32m<__array_function__ internals>\u001b[0m in \u001b[0;36mdot\u001b[0;34m(*args, **kwargs)\u001b[0m\n",
      "\u001b[0;31mKeyboardInterrupt\u001b[0m: "
     ]
    }
   ],
   "source": [
    "learning_rate = [0.0001, 0.001, 0.01, 0.05, 0.10, 0.25, 0.50, 0.75]\n",
    "\n",
    "rhc_LR_dict2 = {\n",
    "    'learning_rate': [],\n",
    "    'y_train_F1_score':[],\n",
    "    'y_test_F1_score':[],\n",
    "    'fitness_curve': [],\n",
    "    'runtime':[]\n",
    "}\n",
    "\n",
    "for num in learning_rate:\n",
    "    start = time.time()\n",
    "    print(\"learning rate:\",num)\n",
    "    nn = mlrose.NeuralNetwork(hidden_nodes = [156], activation = 'identity',\n",
    "                                    algorithm = 'random_hill_climb', max_iters=2000,\n",
    "                                    bias = True, is_classifier=True, learning_rate = num,\n",
    "                                    early_stopping = True, clip_max = 5, max_attempts = 100,\n",
    "                                    random_state = 42, curve = True,\n",
    "                                    restarts = 10)\n",
    "\n",
    "    nn.fit(X_Train_Polling, Y_Train_Polling)\n",
    "    \n",
    "    # predict labels for Training Set \n",
    "    Y_Train_Pred = nn.predict(X_Train_Polling)\n",
    "    Y_Train_F1_Score = f1_score(Y_Train_Polling, Y_Train_Pred)\n",
    "    print(\"Polling, Train F1 Score: \", Y_Train_F1_Score)\n",
    "\n",
    "    #predict labels for Testing Set \n",
    "    Y_Test_Pred = nn.predict(X_Test_Polling)\n",
    "    Y_Test_F1_Score = f1_score(Y_Test_Polling, Y_Test_Pred)\n",
    "    print(\"Polling, Test F1 Scores: \", Y_Test_F1_Score)\n",
    "    \n",
    "    end = time.time()\n",
    "    elapsed = end-start\n",
    "    rhc_LR_dict2['learning_rate'].append(num)\n",
    "    rhc_LR_dict2['y_train_F1_score'].append(Y_Train_F1_Score)\n",
    "    rhc_LR_dict2['y_test_F1_score'].append(Y_Test_F1_Score)\n",
    "    rhc_LR_dict2['fitness_curve'].append(nn.fitness_curve)\n",
    "    rhc_LR_dict2['runtime'].append(elapsed)\n",
    "    "
   ]
  },
  {
   "cell_type": "markdown",
   "metadata": {},
   "source": [
    "##### Simulated Annealing"
   ]
  },
  {
   "cell_type": "code",
   "execution_count": 245,
   "metadata": {},
   "outputs": [
    {
     "data": {
      "text/plain": [
       "NeuralNetwork(clip_max=5, early_stopping=True, hidden_nodes=[156],\n",
       "              learning_rate=0.0001, max_iters=2000,\n",
       "              schedule=<mlrose.decay.GeomDecay object at 0x7f87a09b0550>)"
      ]
     },
     "execution_count": 245,
     "metadata": {},
     "output_type": "execute_result"
    }
   ],
   "source": [
    "nn_sa_1 = mlrose.NeuralNetwork(hidden_nodes = [156], activation = 'identity',\n",
    "                                algorithm = 'simulated_annealing', max_iters=2000,\n",
    "                                bias = True, is_classifier=True, learning_rate = 0.0001,\n",
    "                                early_stopping = True, clip_max = 5, max_attempts = 100,\n",
    "                                random_state = 42, schedule = mlrose.GeomDecay(), curve=True)\n",
    "\n",
    "nn_sa_1.fit(X_Train_Polling, Y_Train_Polling)"
   ]
  },
  {
   "cell_type": "code",
   "execution_count": 246,
   "metadata": {},
   "outputs": [
    {
     "name": "stdout",
     "output_type": "stream",
     "text": [
      "Polling, Train F1 Score:  0.3969516235917827\n",
      "\n",
      "Polling, Test F1 Scores:  0.3876337693222354\n"
     ]
    }
   ],
   "source": [
    "# predict labels for Training Set \n",
    "Y_Train_Pred = nn_sa_1.predict(X_Train_Polling)\n",
    "\n",
    "Y_Train_F1_Score = f1_score(Y_Train_Polling, Y_Train_Pred)\n",
    "\n",
    "print(\"Polling, Train F1 Score: \", Y_Train_F1_Score)\n",
    "\n",
    "#predict labels for Testing Set \n",
    "Y_Test_Pred = nn_sa_1.predict(X_Test_Polling)\n",
    "\n",
    "Y_Test_F1_Score = f1_score(Y_Test_Polling, Y_Test_Pred)\n",
    "\n",
    "print()\n",
    "print(\"Polling, Test F1 Scores: \", Y_Test_F1_Score)"
   ]
  },
  {
   "cell_type": "code",
   "execution_count": 263,
   "metadata": {},
   "outputs": [
    {
     "data": {
      "image/png": "[encoded data removed]",
      "text/plain": [
       "<Figure size 432x288 with 1 Axes>"
      ]
     },
     "metadata": {
      "needs_background": "light"
     },
     "output_type": "display_data"
    }
   ],
   "source": [
    "x = np.arange(1, 2001, 1)\n",
    "y = nn_sa_1.fitness_curve*-1\n",
    "\n",
    "plt.plot(x, y)\n",
    "plt.xlabel('Iterations')\n",
    "plt.ylabel('Error')\n",
    "plt.title(\"Fitness of Neural Network using SA\")\n",
    "plt.show()"
   ]
  },
  {
   "cell_type": "markdown",
   "metadata": {},
   "source": [
    "schedule"
   ]
  },
  {
   "cell_type": "code",
   "execution_count": 248,
   "metadata": {},
   "outputs": [
    {
     "name": "stdout",
     "output_type": "stream",
     "text": [
      "schedule: <mlrose.decay.GeomDecay object at 0x7f87a093b290>\n",
      "Polling, Train F1 Score:  0.3969516235917827\n",
      "\n",
      "Polling, Test F1 Scores:  0.3876337693222354\n",
      "schedule: <mlrose.decay.ArithDecay object at 0x7f87a094e3d0>\n",
      "Polling, Train F1 Score:  0.3969516235917827\n",
      "\n",
      "Polling, Test F1 Scores:  0.3876337693222354\n",
      "schedule: <mlrose.decay.ExpDecay object at 0x7f87a0931b10>\n",
      "Polling, Train F1 Score:  0.3969516235917827\n",
      "\n",
      "Polling, Test F1 Scores:  0.3876337693222354\n"
     ]
    }
   ],
   "source": [
    "schedules = [mlrose.GeomDecay(), mlrose.ArithDecay(), mlrose.ExpDecay()]\n",
    "\n",
    "for sched in schedules:\n",
    "    \n",
    "    print(\"schedule:\",sched)\n",
    "    nn = mlrose.NeuralNetwork(hidden_nodes = [156], activation = 'identity',\n",
    "                                    algorithm = 'simulated_annealing', max_iters=2000,\n",
    "                                    bias = True, is_classifier=True, learning_rate = 0.0001,\n",
    "                                    early_stopping = True, clip_max = 5, max_attempts = 100,\n",
    "                                    random_state = 42, curve = True,\n",
    "                                    schedule = sched )\n",
    "\n",
    "    nn.fit(X_Train_Polling, Y_Train_Polling)\n",
    "    \n",
    "    # predict labels for Training Set \n",
    "    Y_Train_Pred = nn.predict(X_Train_Polling)\n",
    "    Y_Train_F1_Score = f1_score(Y_Train_Polling, Y_Train_Pred)\n",
    "    print(\"Polling, Train F1 Score: \", Y_Train_F1_Score)\n",
    "\n",
    "    #predict labels for Testing Set \n",
    "    Y_Test_Pred = nn.predict(X_Test_Polling)\n",
    "    Y_Test_F1_Score = f1_score(Y_Test_Polling, Y_Test_Pred)\n",
    "    print()\n",
    "    print(\"Polling, Test F1 Scores: \", Y_Test_F1_Score)\n",
    "    "
   ]
  },
  {
   "cell_type": "markdown",
   "metadata": {},
   "source": [
    "learning_rate"
   ]
  },
  {
   "cell_type": "code",
   "execution_count": 249,
   "metadata": {},
   "outputs": [
    {
     "name": "stdout",
     "output_type": "stream",
     "text": [
      "learning rate: 0.0001\n",
      "Polling, Train F1 Score:  0.3969516235917827\n",
      "\n",
      "Polling, Test F1 Scores:  0.3876337693222354\n",
      "learning rate: 0.001\n",
      "Polling, Train F1 Score:  0.39741679085941384\n",
      "\n",
      "Polling, Test F1 Scores:  0.3869944488501189\n",
      "learning rate: 0.01\n",
      "Polling, Train F1 Score:  0.40309058030577016\n",
      "\n",
      "Polling, Test F1 Scores:  0.3943329397874853\n",
      "learning rate: 0.05\n",
      "Polling, Train F1 Score:  0.44134253450439154\n",
      "\n",
      "Polling, Test F1 Scores:  0.43452380952380953\n",
      "learning rate: 0.1\n",
      "Polling, Train F1 Score:  0.4857438321760969\n",
      "\n",
      "Polling, Test F1 Scores:  0.4898813677599442\n",
      "learning rate: 0.25\n",
      "Polling, Train F1 Score:  0.5894601542416452\n",
      "\n",
      "Polling, Test F1 Scores:  0.5959504381988516\n",
      "learning rate: 0.5\n",
      "Polling, Train F1 Score:  0.6454384634824362\n",
      "\n",
      "Polling, Test F1 Scores:  0.6527071492671254\n",
      "learning rate: 0.75\n",
      "Polling, Train F1 Score:  0.7064125676023693\n",
      "\n",
      "Polling, Test F1 Scores:  0.7067030633909613\n"
     ]
    }
   ],
   "source": [
    "learning_rate = [0.0001, 0.001, 0.01, 0.05, 0.10, 0.25, 0.50, 0.75]\n",
    "\n",
    "for num in learning_rate:\n",
    "    \n",
    "    print(\"learning rate:\",num)\n",
    "    nn = mlrose.NeuralNetwork(hidden_nodes = [156], activation = 'identity',\n",
    "                                    algorithm = 'simulated_annealing', max_iters=2000,\n",
    "                                    bias = True, is_classifier=True, learning_rate = num,\n",
    "                                    early_stopping = True, clip_max = 5, max_attempts = 100,\n",
    "                                    random_state = 42, curve = True,\n",
    "                                    schedule = mlrose.GeomDecay())\n",
    "\n",
    "    nn.fit(X_Train_Polling, Y_Train_Polling)\n",
    "    \n",
    "    # predict labels for Training Set \n",
    "    Y_Train_Pred = nn.predict(X_Train_Polling)\n",
    "    Y_Train_F1_Score = f1_score(Y_Train_Polling, Y_Train_Pred)\n",
    "    print(\"Polling, Train F1 Score: \", Y_Train_F1_Score)\n",
    "\n",
    "    #predict labels for Testing Set \n",
    "    Y_Test_Pred = nn.predict(X_Test_Polling)\n",
    "    Y_Test_F1_Score = f1_score(Y_Test_Polling, Y_Test_Pred)\n",
    "    print()\n",
    "    print(\"Polling, Test F1 Scores: \", Y_Test_F1_Score)\n",
    "    "
   ]
  },
  {
   "cell_type": "code",
   "execution_count": 280,
   "metadata": {},
   "outputs": [
    {
     "name": "stdout",
     "output_type": "stream",
     "text": [
      "learning rate: 0.0001\n",
      "Polling, Train F1 Score:  0.3969516235917827\n",
      "Polling, Test F1 Scores:  0.3876337693222354\n",
      "learning rate: 0.001\n",
      "Polling, Train F1 Score:  0.39741679085941384\n",
      "Polling, Test F1 Scores:  0.3869944488501189\n",
      "learning rate: 0.01\n",
      "Polling, Train F1 Score:  0.40309058030577016\n",
      "Polling, Test F1 Scores:  0.3943329397874853\n",
      "learning rate: 0.05\n",
      "Polling, Train F1 Score:  0.44134253450439154\n",
      "Polling, Test F1 Scores:  0.43452380952380953\n",
      "learning rate: 0.1\n",
      "Polling, Train F1 Score:  0.4857438321760969\n",
      "Polling, Test F1 Scores:  0.4898813677599442\n",
      "learning rate: 0.25\n",
      "Polling, Train F1 Score:  0.5894601542416452\n",
      "Polling, Test F1 Scores:  0.5959504381988516\n",
      "learning rate: 0.5\n",
      "Polling, Train F1 Score:  0.6454384634824362\n",
      "Polling, Test F1 Scores:  0.6527071492671254\n",
      "learning rate: 0.6\n",
      "Polling, Train F1 Score:  0.6675981201575003\n",
      "Polling, Test F1 Scores:  0.6770802042655453\n",
      "learning rate: 0.75\n",
      "Polling, Train F1 Score:  0.7064125676023693\n",
      "Polling, Test F1 Scores:  0.7067030633909613\n",
      "learning rate: 0.9\n",
      "Polling, Train F1 Score:  0.7752681388012618\n",
      "Polling, Test F1 Scores:  0.7736406619385343\n",
      "learning rate: 0.95\n",
      "Polling, Train F1 Score:  0.767618810028689\n",
      "Polling, Test F1 Scores:  0.7599645704162975\n"
     ]
    }
   ],
   "source": [
    "learning_rate = [0.0001, 0.001, 0.01, 0.05, 0.10, 0.25, 0.50, 0.60, 0.75, .90, 0.95]\n",
    "\n",
    "sa_LR_dict = {\n",
    "    'learning_rate': [],\n",
    "    'y_train_F1_score':[],\n",
    "    'y_test_F1_score':[],\n",
    "    'fitness_curve': [],\n",
    "    'runtime':[]\n",
    "}\n",
    "\n",
    "for num in learning_rate:\n",
    "    start = time.time()\n",
    "    print(\"learning rate:\",num)\n",
    "    nn = mlrose.NeuralNetwork(hidden_nodes = [156], activation = 'identity',\n",
    "                                    algorithm = 'simulated_annealing', max_iters=2000,\n",
    "                                    bias = True, is_classifier=True, learning_rate = num,\n",
    "                                    early_stopping = True, clip_max = 5, max_attempts = 100,\n",
    "                                    random_state = 42, curve = True,\n",
    "                                    schedule = mlrose.GeomDecay())\n",
    "\n",
    "    nn.fit(X_Train_Polling, Y_Train_Polling)\n",
    "    \n",
    "    # predict labels for Training Set \n",
    "    Y_Train_Pred = nn.predict(X_Train_Polling)\n",
    "    Y_Train_F1_Score = f1_score(Y_Train_Polling, Y_Train_Pred)\n",
    "    print(\"Polling, Train F1 Score: \", Y_Train_F1_Score)\n",
    "\n",
    "    #predict labels for Testing Set \n",
    "    Y_Test_Pred = nn.predict(X_Test_Polling)\n",
    "    Y_Test_F1_Score = f1_score(Y_Test_Polling, Y_Test_Pred)\n",
    "    print(\"Polling, Test F1 Scores: \", Y_Test_F1_Score)\n",
    "    \n",
    "    end = time.time()\n",
    "    elapsed = end-start\n",
    "    sa_LR_dict['learning_rate'].append(num)\n",
    "    sa_LR_dict['y_train_F1_score'].append(Y_Train_F1_Score)\n",
    "    sa_LR_dict['y_test_F1_score'].append(Y_Test_F1_Score)\n",
    "    sa_LR_dict['fitness_curve'].append(nn.fitness_curve)\n",
    "    sa_LR_dict['runtime'].append(elapsed)\n",
    "    \n",
    "    "
   ]
  },
  {
   "cell_type": "code",
   "execution_count": 313,
   "metadata": {},
   "outputs": [
    {
     "data": {
      "text/plain": [
       "[29.705255031585693,\n",
       " 28.350053787231445,\n",
       " 27.90383291244507,\n",
       " 27.592477083206177,\n",
       " 25.4814670085907,\n",
       " 23.03993797302246,\n",
       " 22.623136043548584,\n",
       " 22.300074815750122,\n",
       " 22.226893186569214,\n",
       " 21.933329105377197,\n",
       " 23.678389072418213]"
      ]
     },
     "execution_count": 313,
     "metadata": {},
     "output_type": "execute_result"
    }
   ],
   "source": [
    "sa_LR_dict['runtime']"
   ]
  },
  {
   "cell_type": "code",
   "execution_count": 325,
   "metadata": {},
   "outputs": [
    {
     "data": {
      "text/plain": [
       "[array([-5.85773664, -5.85773717, -5.85773753, ..., -5.85803738,\n",
       "        -5.85803722, -5.85803723]),\n",
       " array([-5.85773988, -5.8577452 , -5.85774875, ..., -5.85960558,\n",
       "        -5.85960664, -5.85959647]),\n",
       " array([-5.85777231, -5.85782548, -5.85786042, ..., -5.80834474,\n",
       "        -5.8082446 , -5.80811292]),\n",
       " array([-5.85791663, -5.85818283, -5.8583577 , ..., -5.35946632,\n",
       "        -5.3594485 , -5.35964737]),\n",
       " array([-5.85809756, -5.85863074, -5.85898092, ..., -4.83006503,\n",
       "        -4.83009323, -4.82987072]),\n",
       " array([-5.85864376, -5.85998262, -5.86085973, ..., -3.87548312,\n",
       "        -3.87547854, -3.87566232]),\n",
       " array([-5.85956551, -5.86226274, -5.86402657, ..., -2.83599595,\n",
       "        -2.8363056 , -2.83503908]),\n",
       " array([-5.8599382 , -5.86318413, -5.86530467, ..., -2.50409059,\n",
       "        -2.50444663, -2.50368741]),\n",
       " array([-5.86050148, -5.86457616, -5.86723523, ..., -2.06714966,\n",
       "        -2.06720297, -2.06608955]),\n",
       " array([-5.86106986, -5.86597999, -5.86918   , ..., -1.58933494,\n",
       "        -1.58955626, -1.58955626]),\n",
       " array([-5.86126045, -5.86645055, -5.86983192, ..., -1.52813224,\n",
       "        -1.5281638 , -1.5280266 ])]"
      ]
     },
     "execution_count": 325,
     "metadata": {},
     "output_type": "execute_result"
    }
   ],
   "source": [
    "sa_LR_dict['fitness_curve']"
   ]
  },
  {
   "cell_type": "code",
   "execution_count": 337,
   "metadata": {},
   "outputs": [
    {
     "data": {
      "image/png": "[encoded data removed]",
      "text/plain": [
       "<Figure size 432x288 with 1 Axes>"
      ]
     },
     "metadata": {
      "needs_background": "light"
     },
     "output_type": "display_data"
    }
   ],
   "source": [
    "plt.clf()\n",
    "\n",
    "x = sa_LR_dict['learning_rate']\n",
    "y = sa_LR_dict['runtime']\n",
    "plt.xlabel('Learning Rate')\n",
    "plt.ylabel('Runtime (sec)')\n",
    "plt.title(\"The Effect of Learning Rate \\non Runtime for SA\")\n",
    "plt.plot(x, y)\n",
    "plt.show()"
   ]
  },
  {
   "cell_type": "code",
   "execution_count": 338,
   "metadata": {},
   "outputs": [
    {
     "data": {
      "image/png": "[encoded data removed]",
      "text/plain": [
       "<Figure size 432x288 with 1 Axes>"
      ]
     },
     "metadata": {
      "needs_background": "light"
     },
     "output_type": "display_data"
    }
   ],
   "source": [
    "for i in range(0,len(sa_LR_dict['learning_rate'])):\n",
    "    y = sa_LR_dict['fitness_curve'][i]*-1\n",
    "    label = sa_LR_dict['learning_rate'][i]\n",
    "    \n",
    "    plt.plot(y, label = label)\n",
    "\n",
    "plt.xlabel('Iterations')\n",
    "plt.ylabel('Error')\n",
    "plt.title('The Effect of Learning Rate \\non Fitness Curves for SA')\n",
    "plt.legend(title = 'Learning Rate')\n",
    "plt.show()"
   ]
  },
  {
   "cell_type": "markdown",
   "metadata": {},
   "source": [
    "##### Genetic Algorithm"
   ]
  },
  {
   "cell_type": "code",
   "execution_count": 250,
   "metadata": {},
   "outputs": [
    {
     "data": {
      "text/plain": [
       "NeuralNetwork(clip_max=5, early_stopping=True, hidden_nodes=[156],\n",
       "              learning_rate=0.0001, max_iters=2000, mutation_prob=0.2)"
      ]
     },
     "execution_count": 250,
     "metadata": {},
     "output_type": "execute_result"
    }
   ],
   "source": [
    "nn_ga_1 = mlrose.NeuralNetwork(hidden_nodes = [156], activation = 'identity',\n",
    "                                algorithm = 'genetic_alg', max_iters=2000,\n",
    "                                bias = True, is_classifier=True, learning_rate = 0.0001,\n",
    "                                early_stopping = True, clip_max = 5, max_attempts = 100,\n",
    "                                random_state = 42, curve = True,\n",
    "                                pop_size = 200, mutation_prob = 0.2)\n",
    "\n",
    "nn_ga_1.fit(X_Train_Polling, Y_Train_Polling)"
   ]
  },
  {
   "cell_type": "code",
   "execution_count": 251,
   "metadata": {},
   "outputs": [
    {
     "name": "stdout",
     "output_type": "stream",
     "text": [
      "Polling, Train F1 Score:  0.8108176100628931\n",
      "\n",
      "Polling, Test F1 Scores:  0.8111638954869358\n"
     ]
    }
   ],
   "source": [
    "# predict labels for Training Set \n",
    "Y_Train_Pred = nn_ga_1.predict(X_Train_Polling)\n",
    "\n",
    "Y_Train_F1_Score = f1_score(Y_Train_Polling, Y_Train_Pred)\n",
    "\n",
    "print(\"Polling, Train F1 Score: \", Y_Train_F1_Score)\n",
    "\n",
    "#predict labels for Testing Set \n",
    "Y_Test_Pred = nn_ga_1.predict(X_Test_Polling)\n",
    "\n",
    "Y_Test_F1_Score = f1_score(Y_Test_Polling, Y_Test_Pred)\n",
    "\n",
    "print()\n",
    "print(\"Polling, Test F1 Scores: \", Y_Test_F1_Score)"
   ]
  },
  {
   "cell_type": "code",
   "execution_count": 322,
   "metadata": {},
   "outputs": [
    {
     "data": {
      "text/plain": [
       "0"
      ]
     },
     "execution_count": 322,
     "metadata": {},
     "output_type": "execute_result"
    }
   ],
   "source": [
    "len(nn_ga_1.fitness_curve)"
   ]
  },
  {
   "cell_type": "code",
   "execution_count": 267,
   "metadata": {},
   "outputs": [
    {
     "data": {
      "image/png": "[encoded data removed]",
      "text/plain": [
       "<Figure size 432x288 with 1 Axes>"
      ]
     },
     "metadata": {
      "needs_background": "light"
     },
     "output_type": "display_data"
    }
   ],
   "source": [
    "x = np.arange(1, len(nn_ga_1.fitness_curve)+1, 1)\n",
    "y = nn_ga_1.fitness_curve*-1\n",
    "\n",
    "plt.plot(x, y)\n",
    "plt.xlabel('Iterations')\n",
    "plt.ylabel('Error')\n",
    "plt.title(\"Fitness of Neural Network using GA\")\n",
    "plt.show()"
   ]
  },
  {
   "cell_type": "code",
   "execution_count": 254,
   "metadata": {},
   "outputs": [],
   "source": [
    "#nn_ga_1.fitted_weights\n",
    "\n",
    "#nn_ga_1.loss\n",
    "\n",
    "#nn_ga_1.predicted_probs\n",
    "\n",
    "#nn_ga_1.fitness_curve"
   ]
  },
  {
   "cell_type": "markdown",
   "metadata": {},
   "source": [
    "pop_size"
   ]
  },
  {
   "cell_type": "code",
   "execution_count": null,
   "metadata": {},
   "outputs": [],
   "source": [
    "start = time.time()\n",
    "nn_ga_2 = mlrose.NeuralNetwork(hidden_nodes = [156], activation = 'identity',\n",
    "                                algorithm = 'genetic_alg', \n",
    "                                max_iters=2000,\n",
    "                                bias = True, is_classifier=True, learning_rate = 0.9,\n",
    "                                early_stopping = True, clip_max = 5, max_attempts = 100,\n",
    "                                random_state = 42, curve = True,\n",
    "                                pop_size = 200, mutation_prob = 0.9)\n",
    "\n",
    "nn_ga_2.fit(X_Train_Polling, Y_Train_Polling)\n",
    "\n",
    "end = time.time()\n",
    "elapsed_ga_2 = end-start\n",
    "print(elapsed_ga_2)"
   ]
  },
  {
   "cell_type": "code",
   "execution_count": null,
   "metadata": {},
   "outputs": [],
   "source": [
    "# predict labels for Training Set \n",
    "Y_Train_Pred = nn_ga_2.predict(X_Train_Polling)\n",
    "Y_Train_F1_Score = f1_score(Y_Train_Polling, Y_Train_Pred)\n",
    "\n",
    "print(\"Polling, Train F1 Score: \", Y_Train_F1_Score)\n",
    "\n",
    "#predict labels for Testing Set \n",
    "Y_Test_Pred = nn_ga_2.predict(X_Test_Polling)\n",
    "Y_Test_F1_Score = f1_score(Y_Test_Polling, Y_Test_Pred)\n",
    "\n",
    "print(\"Polling, Test F1 Scores: \", Y_Test_F1_Score)\n"
   ]
  },
  {
   "cell_type": "markdown",
   "metadata": {},
   "source": [
    "optimal for GA: with mutation_prob .70 and iters 2000\n"
   ]
  },
  {
   "cell_type": "code",
   "execution_count": 345,
   "metadata": {},
   "outputs": [
    {
     "name": "stdout",
     "output_type": "stream",
     "text": [
      "3171.166615009308\n",
      "Polling, Train F1 Score:  0.8504495977283484\n",
      "Polling, Test F1 Scores:  0.8562019758507136\n"
     ]
    },
    {
     "data": {
      "text/plain": [
       "array([-9.38898498, -9.07329834, -7.83114128, -7.83114128, -5.66321047,\n",
       "       -5.66321047, -5.66321047, -5.66321047, -5.66321047, -5.66321047,\n",
       "       -5.66321047, -5.66321047, -5.66321047, -5.66321047, -5.66321047,\n",
       "       -5.66321047, -5.66321047, -5.66321047, -5.66321047, -5.66321047,\n",
       "       -5.66321047, -5.66321047, -5.66321047, -5.66321047, -5.66321047,\n",
       "       -5.66321047, -5.66321047, -5.66321047, -5.66321047, -5.66321047,\n",
       "       -5.66321047, -5.66321047, -5.66321047, -5.66321047, -5.66321047,\n",
       "       -5.66321047, -5.66321047, -5.66321047, -5.66321047, -5.66321047,\n",
       "       -5.66321047, -5.66321047, -5.66321047, -5.66321047, -5.66321047,\n",
       "       -5.66321047, -5.66321047, -5.66321047, -5.66321047, -5.66321047,\n",
       "       -5.66321047, -5.66321047, -5.66321047, -5.66321047, -5.66321047,\n",
       "       -5.66321047, -5.66321047, -5.66321047, -5.66321047, -5.66321047,\n",
       "       -5.66321047, -5.66321047, -5.66321047, -5.66321047, -5.66321047,\n",
       "       -5.66321047, -5.66321047, -5.66321047, -5.66321047, -5.66321047,\n",
       "       -5.66321047, -5.66321047, -5.66321047, -5.66321047, -5.66321047,\n",
       "       -5.66321047, -5.66321047, -5.66321047, -5.66321047, -5.66321047,\n",
       "       -5.66321047, -5.66321047, -5.66321047, -5.66321047, -5.66321047,\n",
       "       -5.66321047, -5.66321047, -5.66321047, -5.66321047, -5.66321047,\n",
       "       -5.66321047, -5.66321047, -5.66321047, -5.66321047, -5.66321047,\n",
       "       -5.66321047, -5.66321047, -5.66321047, -5.66321047, -5.66321047,\n",
       "       -5.66321047, -5.66321047, -5.66321047, -5.66321047, -5.66321047])"
      ]
     },
     "execution_count": 345,
     "metadata": {},
     "output_type": "execute_result"
    }
   ],
   "source": [
    "start = time.time()\n",
    "nn_ga_3 = mlrose.NeuralNetwork(hidden_nodes = [156], activation = 'identity',\n",
    "                                algorithm = 'genetic_alg', \n",
    "                               max_iters=2000,\n",
    "                                bias = True, is_classifier=True, learning_rate = 0.9,\n",
    "                                early_stopping = True, clip_max = 5, max_attempts = 100,\n",
    "                                random_state = 42, curve = True,\n",
    "                                pop_size = 200, mutation_prob = 0.7)\n",
    "\n",
    "nn_ga_3.fit(X_Train_Polling, Y_Train_Polling)\n",
    "\n",
    "end = time.time()\n",
    "elapsed_ga_3 = end-start\n",
    "print(elapsed_ga_3)\n",
    "\n",
    "# predict labels for Training Set \n",
    "Y_Train_Pred = nn_ga_3.predict(X_Train_Polling)\n",
    "Y_Train_F1_Score = f1_score(Y_Train_Polling, Y_Train_Pred)\n",
    "\n",
    "print(\"Polling, Train F1 Score: \", Y_Train_F1_Score)\n",
    "\n",
    "#predict labels for Testing Set \n",
    "Y_Test_Pred = nn_ga_3.predict(X_Test_Polling)\n",
    "Y_Test_F1_Score = f1_score(Y_Test_Polling, Y_Test_Pred)\n",
    "\n",
    "print(\"Polling, Test F1 Scores: \", Y_Test_F1_Score)\n",
    "\n",
    "nn_ga_3.fitness_curve"
   ]
  },
  {
   "cell_type": "code",
   "execution_count": 364,
   "metadata": {},
   "outputs": [
    {
     "data": {
      "image/png": "[encoded data removed]",
      "text/plain": [
       "<Figure size 432x288 with 1 Axes>"
      ]
     },
     "metadata": {
      "needs_background": "light"
     },
     "output_type": "display_data"
    }
   ],
   "source": [
    "y = nn_ga_3.fitness_curve*-1\n",
    "\n",
    "plt.ylabel('Error')\n",
    "plt.xlabel('Iterations')\n",
    "plt.title('GA with mutation_prob .70 \\nand pop_size 200')\n",
    "plt.plot(y)\n",
    "plt.show()"
   ]
  },
  {
   "cell_type": "code",
   "execution_count": 330,
   "metadata": {},
   "outputs": [
    {
     "name": "stdout",
     "output_type": "stream",
     "text": [
      "50\n",
      "Polling, Train F1 Score:  0.7500619271736437\n",
      "Polling, Test F1 Scores:  0.7456165564817475\n",
      "100\n",
      "Polling, Train F1 Score:  0.7628029127372568\n",
      "Polling, Test F1 Scores:  0.7634738899748673\n",
      "200\n",
      "Polling, Train F1 Score:  0.7625768267698612\n",
      "Polling, Test F1 Scores:  0.7772585669781932\n"
     ]
    }
   ],
   "source": [
    "#pop_size_list = [.05, .10, .25, .50, .75, 1.0, 1.50, 2.0, 2.50, 3.0, 5.0]\n",
    "#problem_length = len(X_Train_Polling)\n",
    "\n",
    "pop_size_list = [50, 100, 200]\n",
    "\n",
    "ga_popsize_dict = {\n",
    "    'pop_size': [],\n",
    "    'y_train_F1_score':[],\n",
    "    'y_test_F1_score':[],\n",
    "    'fitness_curve': [],\n",
    "    'runtime':[]\n",
    "}\n",
    "\n",
    "for num in pop_size_list:\n",
    "    \n",
    "    start = time.time()\n",
    "    \n",
    "    size = num\n",
    "    #size = problem_length * num\n",
    "    print(size)\n",
    "    \n",
    "    nn = mlrose.NeuralNetwork(hidden_nodes = [156], activation = 'identity',\n",
    "                                    algorithm = 'genetic_alg', \n",
    "                                    #max_iters=2000,\n",
    "                                    max_iters=100,\n",
    "                                    bias = True, is_classifier=True, learning_rate = 0.01,\n",
    "                                    early_stopping = True, clip_max = 5, max_attempts = 100,\n",
    "                                    random_state = 42, curve = True,\n",
    "                                    pop_size = size, mutation_prob = 0.)\n",
    "\n",
    "    nn.fit(X_Train_Polling, Y_Train_Polling)\n",
    "    \n",
    "    # predict labels for Training Set \n",
    "    Y_Train_Pred = nn.predict(X_Train_Polling)\n",
    "    Y_Train_F1_Score = f1_score(Y_Train_Polling, Y_Train_Pred)\n",
    "    print(\"Polling, Train F1 Score: \", Y_Train_F1_Score)\n",
    "\n",
    "    #predict labels for Testing Set \n",
    "    Y_Test_Pred = nn.predict(X_Test_Polling)\n",
    "    Y_Test_F1_Score = f1_score(Y_Test_Polling, Y_Test_Pred)\n",
    "    print(\"Polling, Test F1 Scores: \", Y_Test_F1_Score)\n",
    "    \n",
    "    end = time.time()\n",
    "    elapsed = end-start\n",
    "    ga_popsize_dict['pop_size'].append(size)\n",
    "    ga_popsize_dict['y_train_F1_score'].append(Y_Train_F1_Score)\n",
    "    ga_popsize_dict['y_test_F1_score'].append(Y_Test_F1_Score)\n",
    "    ga_popsize_dict['fitness_curve'].append(nn.fitness_curve)\n",
    "    ga_popsize_dict['runtime'].append(elapsed)\n",
    "    \n",
    "    "
   ]
  },
  {
   "cell_type": "code",
   "execution_count": 339,
   "metadata": {},
   "outputs": [
    {
     "name": "stdout",
     "output_type": "stream",
     "text": [
      "50\n",
      "Polling, Train F1 Score:  0.8287996006987771\n",
      "Polling, Test F1 Scores:  0.8292682926829268\n",
      "100\n",
      "Polling, Train F1 Score:  0.8346530041918957\n",
      "Polling, Test F1 Scores:  0.8406742794997282\n",
      "200\n"
     ]
    },
    {
     "ename": "KeyboardInterrupt",
     "evalue": "",
     "output_type": "error",
     "traceback": [
      "\u001b[0;31m---------------------------------------------------------------------------\u001b[0m",
      "\u001b[0;31mKeyboardInterrupt\u001b[0m                         Traceback (most recent call last)",
      "\u001b[0;32m<ipython-input-339-b12fe6529e75>\u001b[0m in \u001b[0;36m<module>\u001b[0;34m\u001b[0m\n\u001b[1;32m     29\u001b[0m                                     pop_size = size, mutation_prob = 0.9)\n\u001b[1;32m     30\u001b[0m \u001b[0;34m\u001b[0m\u001b[0m\n\u001b[0;32m---> 31\u001b[0;31m     \u001b[0mnn\u001b[0m\u001b[0;34m.\u001b[0m\u001b[0mfit\u001b[0m\u001b[0;34m(\u001b[0m\u001b[0mX_Train_Polling\u001b[0m\u001b[0;34m,\u001b[0m \u001b[0mY_Train_Polling\u001b[0m\u001b[0;34m)\u001b[0m\u001b[0;34m\u001b[0m\u001b[0;34m\u001b[0m\u001b[0m\n\u001b[0m\u001b[1;32m     32\u001b[0m \u001b[0;34m\u001b[0m\u001b[0m\n\u001b[1;32m     33\u001b[0m     \u001b[0;31m# predict labels for Training Set\u001b[0m\u001b[0;34m\u001b[0m\u001b[0;34m\u001b[0m\u001b[0;34m\u001b[0m\u001b[0m\n",
      "\u001b[0;32m~/anaconda3/lib/python3.7/site-packages/mlrose/neural.py\u001b[0m in \u001b[0;36mfit\u001b[0;34m(self, X, y, init_weights)\u001b[0m\n\u001b[1;32m    595\u001b[0m                     \u001b[0mself\u001b[0m\u001b[0;34m.\u001b[0m\u001b[0mmax_iters\u001b[0m\u001b[0;34m,\u001b[0m\u001b[0;34m\u001b[0m\u001b[0;34m\u001b[0m\u001b[0m\n\u001b[1;32m    596\u001b[0m                     \u001b[0mmax_iters\u001b[0m\u001b[0;34m=\u001b[0m\u001b[0mself\u001b[0m\u001b[0;34m.\u001b[0m\u001b[0mmax_iters\u001b[0m\u001b[0;34m,\u001b[0m\u001b[0;34m\u001b[0m\u001b[0;34m\u001b[0m\u001b[0m\n\u001b[0;32m--> 597\u001b[0;31m                     curve=self.curve)\n\u001b[0m\u001b[1;32m    598\u001b[0m             \u001b[0;32melse\u001b[0m\u001b[0;34m:\u001b[0m\u001b[0;34m\u001b[0m\u001b[0;34m\u001b[0m\u001b[0m\n\u001b[1;32m    599\u001b[0m                 fitted_weights, loss = genetic_alg(\n",
      "\u001b[0;32m~/anaconda3/lib/python3.7/site-packages/mlrose/algorithms.py\u001b[0m in \u001b[0;36mgenetic_alg\u001b[0;34m(problem, pop_size, mutation_prob, max_attempts, max_iters, curve, random_state)\u001b[0m\n\u001b[1;32m    426\u001b[0m \u001b[0;34m\u001b[0m\u001b[0m\n\u001b[1;32m    427\u001b[0m             \u001b[0;31m# Create offspring\u001b[0m\u001b[0;34m\u001b[0m\u001b[0;34m\u001b[0m\u001b[0;34m\u001b[0m\u001b[0m\n\u001b[0;32m--> 428\u001b[0;31m             \u001b[0mchild\u001b[0m \u001b[0;34m=\u001b[0m \u001b[0mproblem\u001b[0m\u001b[0;34m.\u001b[0m\u001b[0mreproduce\u001b[0m\u001b[0;34m(\u001b[0m\u001b[0mparent_1\u001b[0m\u001b[0;34m,\u001b[0m \u001b[0mparent_2\u001b[0m\u001b[0;34m,\u001b[0m \u001b[0mmutation_prob\u001b[0m\u001b[0;34m)\u001b[0m\u001b[0;34m\u001b[0m\u001b[0;34m\u001b[0m\u001b[0m\n\u001b[0m\u001b[1;32m    429\u001b[0m             \u001b[0mnext_gen\u001b[0m\u001b[0;34m.\u001b[0m\u001b[0mappend\u001b[0m\u001b[0;34m(\u001b[0m\u001b[0mchild\u001b[0m\u001b[0;34m)\u001b[0m\u001b[0;34m\u001b[0m\u001b[0;34m\u001b[0m\u001b[0m\n\u001b[1;32m    430\u001b[0m \u001b[0;34m\u001b[0m\u001b[0m\n",
      "\u001b[0;32m~/anaconda3/lib/python3.7/site-packages/mlrose/opt_probs.py\u001b[0m in \u001b[0;36mreproduce\u001b[0;34m(self, parent_1, parent_2, mutation_prob)\u001b[0m\n\u001b[1;32m    848\u001b[0m \u001b[0;34m\u001b[0m\u001b[0m\n\u001b[1;32m    849\u001b[0m         \u001b[0;32mfor\u001b[0m \u001b[0mi\u001b[0m \u001b[0;32min\u001b[0m \u001b[0mmutate\u001b[0m\u001b[0;34m:\u001b[0m\u001b[0;34m\u001b[0m\u001b[0;34m\u001b[0m\u001b[0m\n\u001b[0;32m--> 850\u001b[0;31m             \u001b[0mchild\u001b[0m\u001b[0;34m[\u001b[0m\u001b[0mi\u001b[0m\u001b[0;34m]\u001b[0m \u001b[0;34m=\u001b[0m \u001b[0mnp\u001b[0m\u001b[0;34m.\u001b[0m\u001b[0mrandom\u001b[0m\u001b[0;34m.\u001b[0m\u001b[0muniform\u001b[0m\u001b[0;34m(\u001b[0m\u001b[0mself\u001b[0m\u001b[0;34m.\u001b[0m\u001b[0mmin_val\u001b[0m\u001b[0;34m,\u001b[0m \u001b[0mself\u001b[0m\u001b[0;34m.\u001b[0m\u001b[0mmax_val\u001b[0m\u001b[0;34m)\u001b[0m\u001b[0;34m\u001b[0m\u001b[0;34m\u001b[0m\u001b[0m\n\u001b[0m\u001b[1;32m    851\u001b[0m \u001b[0;34m\u001b[0m\u001b[0m\n\u001b[1;32m    852\u001b[0m         \u001b[0;32mreturn\u001b[0m \u001b[0mchild\u001b[0m\u001b[0;34m\u001b[0m\u001b[0;34m\u001b[0m\u001b[0m\n",
      "\u001b[0;31mKeyboardInterrupt\u001b[0m: "
     ]
    }
   ],
   "source": [
    "#pop_size_list = [.05, .10, .25, .50, .75, 1.0, 1.50, 2.0, 2.50, 3.0, 5.0]\n",
    "#problem_length = len(X_Train_Polling)\n",
    "\n",
    "pop_size_list = [50, 100, 200, 350, 700, 1400]\n",
    "\n",
    "ga_popsize_dict2 = {\n",
    "    'pop_size': [],\n",
    "    'y_train_F1_score':[],\n",
    "    'y_test_F1_score':[],\n",
    "    'fitness_curve': [],\n",
    "    'runtime':[]\n",
    "}\n",
    "\n",
    "for num in pop_size_list:\n",
    "    \n",
    "    start = time.time()\n",
    "    \n",
    "    size = num\n",
    "    #size = problem_length * num\n",
    "    print(size)\n",
    "    \n",
    "    nn = mlrose.NeuralNetwork(hidden_nodes = [156], activation = 'identity',\n",
    "                                    algorithm = 'genetic_alg', \n",
    "                                    #max_iters=2000,\n",
    "                                    max_iters=1000,\n",
    "                                    bias = True, is_classifier=True, learning_rate = 0.01,\n",
    "                                    early_stopping = True, clip_max = 5, max_attempts = 100,\n",
    "                                    random_state = 42, curve = True,\n",
    "                                    pop_size = size, mutation_prob = 0.9)\n",
    "\n",
    "    nn.fit(X_Train_Polling, Y_Train_Polling)\n",
    "    \n",
    "    # predict labels for Training Set \n",
    "    Y_Train_Pred = nn.predict(X_Train_Polling)\n",
    "    Y_Train_F1_Score = f1_score(Y_Train_Polling, Y_Train_Pred)\n",
    "    print(\"Polling, Train F1 Score: \", Y_Train_F1_Score)\n",
    "\n",
    "    #predict labels for Testing Set \n",
    "    Y_Test_Pred = nn.predict(X_Test_Polling)\n",
    "    Y_Test_F1_Score = f1_score(Y_Test_Polling, Y_Test_Pred)\n",
    "    print(\"Polling, Test F1 Scores: \", Y_Test_F1_Score)\n",
    "    \n",
    "    end = time.time()\n",
    "    elapsed = end-start\n",
    "    ga_popsize_dict2['pop_size'].append(size)\n",
    "    ga_popsize_dict2['y_train_F1_score'].append(Y_Train_F1_Score)\n",
    "    ga_popsize_dict2['y_test_F1_score'].append(Y_Test_F1_Score)\n",
    "    ga_popsize_dict2['fitness_curve'].append(nn.fitness_curve)\n",
    "    ga_popsize_dict2['runtime'].append(elapsed)\n",
    "    \n",
    "    "
   ]
  },
  {
   "cell_type": "markdown",
   "metadata": {},
   "source": [
    "mutation_prob"
   ]
  },
  {
   "cell_type": "code",
   "execution_count": 256,
   "metadata": {},
   "outputs": [
    {
     "name": "stdout",
     "output_type": "stream",
     "text": [
      "mutation_prob: 0.1\n",
      "Polling, Train F1 Score:  0.8415398388540734\n",
      "\n",
      "Polling, Test F1 Scores:  0.8405496499870364\n",
      "mutation_prob: 0.2\n",
      "Polling, Train F1 Score:  0.8108176100628931\n",
      "\n",
      "Polling, Test F1 Scores:  0.8111638954869358\n",
      "mutation_prob: 0.30000000000000004\n",
      "Polling, Train F1 Score:  0.8400702987697716\n",
      "\n",
      "Polling, Test F1 Scores:  0.8333333333333334\n",
      "mutation_prob: 0.4\n",
      "Polling, Train F1 Score:  0.8349349227587883\n",
      "\n",
      "Polling, Test F1 Scores:  0.8244274809160306\n",
      "mutation_prob: 0.5\n",
      "Polling, Train F1 Score:  0.8257575757575757\n",
      "\n",
      "Polling, Test F1 Scores:  0.825997045790251\n",
      "mutation_prob: 0.6\n",
      "Polling, Train F1 Score:  0.8679060665362036\n",
      "\n",
      "Polling, Test F1 Scores:  0.8664219147133579\n",
      "mutation_prob: 0.7000000000000001\n",
      "Polling, Train F1 Score:  0.8504495977283484\n",
      "\n",
      "Polling, Test F1 Scores:  0.8562019758507136\n",
      "mutation_prob: 0.8\n",
      "Polling, Train F1 Score:  0.8556002009040683\n",
      "\n",
      "Polling, Test F1 Scores:  0.8530612244897959\n",
      "mutation_prob: 0.9\n",
      "Polling, Train F1 Score:  0.8599439775910364\n",
      "\n",
      "Polling, Test F1 Scores:  0.8724035608308606\n"
     ]
    }
   ],
   "source": [
    "mutation_prob_list = np.arange(0.1, 1, 0.1) \n",
    "\n",
    "for num in mutation_prob_list:\n",
    "    \n",
    "    print(\"mutation_prob:\",num)\n",
    "    nn = mlrose.NeuralNetwork(hidden_nodes = [156], activation = 'identity',\n",
    "                                    algorithm = 'genetic_alg', max_iters=2000,\n",
    "                                    bias = True, is_classifier=True, learning_rate = 0.01,\n",
    "                                    early_stopping = True, clip_max = 5, max_attempts = 100,\n",
    "                                    random_state = 42, curve = True,\n",
    "                                    pop_size = 200, mutation_prob = num)\n",
    "\n",
    "    nn.fit(X_Train_Polling, Y_Train_Polling)\n",
    "    \n",
    "    # predict labels for Training Set \n",
    "    Y_Train_Pred = nn.predict(X_Train_Polling)\n",
    "    Y_Train_F1_Score = f1_score(Y_Train_Polling, Y_Train_Pred)\n",
    "    print(\"Polling, Train F1 Score: \", Y_Train_F1_Score)\n",
    "\n",
    "    #predict labels for Testing Set \n",
    "    Y_Test_Pred = nn.predict(X_Test_Polling)\n",
    "    Y_Test_F1_Score = f1_score(Y_Test_Polling, Y_Test_Pred)\n",
    "    print()\n",
    "    print(\"Polling, Test F1 Scores: \", Y_Test_F1_Score)\n",
    "    "
   ]
  },
  {
   "cell_type": "code",
   "execution_count": 343,
   "metadata": {},
   "outputs": [
    {
     "name": "stdout",
     "output_type": "stream",
     "text": [
      "mutation_prob: 0.1\n",
      "Polling, Train F1 Score:  0.8084597920898553\n",
      "Polling, Test F1 Scores:  0.8094972067039107\n",
      "mutation_prob: 0.2\n",
      "Polling, Train F1 Score:  0.8108176100628931\n",
      "Polling, Test F1 Scores:  0.8111638954869358\n",
      "mutation_prob: 0.30000000000000004\n",
      "Polling, Train F1 Score:  0.8400702987697716\n",
      "Polling, Test F1 Scores:  0.8333333333333334\n",
      "mutation_prob: 0.4\n",
      "Polling, Train F1 Score:  0.8349349227587883\n",
      "Polling, Test F1 Scores:  0.8244274809160306\n",
      "mutation_prob: 0.5\n",
      "Polling, Train F1 Score:  0.8257575757575757\n",
      "Polling, Test F1 Scores:  0.825997045790251\n",
      "mutation_prob: 0.6\n",
      "Polling, Train F1 Score:  0.8265371340917806\n",
      "Polling, Test F1 Scores:  0.8366745283018868\n",
      "mutation_prob: 0.7000000000000001\n",
      "Polling, Train F1 Score:  0.8504495977283484\n",
      "Polling, Test F1 Scores:  0.8562019758507136\n",
      "mutation_prob: 0.8\n",
      "Polling, Train F1 Score:  0.8556002009040683\n",
      "Polling, Test F1 Scores:  0.8530612244897959\n",
      "mutation_prob: 0.9\n",
      "Polling, Train F1 Score:  0.8167149358709144\n",
      "Polling, Test F1 Scores:  0.8221369161868203\n"
     ]
    }
   ],
   "source": [
    "mutation_prob_list = np.arange(0.1, 1, 0.1) \n",
    "ga_mutation_dict = {\n",
    "    'mutation_prob':[],\n",
    "    'y_train_F1_score':[],\n",
    "    'y_test_F1_score':[],\n",
    "    'fitness_curve': [],\n",
    "    'runtime':[]\n",
    "    \n",
    "}\n",
    "\n",
    "for num in mutation_prob_list:\n",
    "    start = time.time()\n",
    "    print(\"mutation_prob:\",num)\n",
    "    nn = mlrose.NeuralNetwork(hidden_nodes = [156], activation = 'identity',\n",
    "                                    algorithm = 'genetic_alg', \n",
    "                                    #max_iters=2000,\n",
    "                                    max_iters=100,\n",
    "                                    bias = True, is_classifier=True, learning_rate = 0.01,\n",
    "                                    early_stopping = True, clip_max = 5, max_attempts = 100,\n",
    "                                    random_state = 42, curve = True,\n",
    "                                    pop_size = 200, mutation_prob = num)\n",
    "\n",
    "    nn.fit(X_Train_Polling, Y_Train_Polling)\n",
    "    \n",
    "    # predict labels for Training Set \n",
    "    Y_Train_Pred = nn.predict(X_Train_Polling)\n",
    "    Y_Train_F1_Score = f1_score(Y_Train_Polling, Y_Train_Pred)\n",
    "    print(\"Polling, Train F1 Score: \", Y_Train_F1_Score)\n",
    "\n",
    "    #predict labels for Testing Set \n",
    "    Y_Test_Pred = nn.predict(X_Test_Polling)\n",
    "    Y_Test_F1_Score = f1_score(Y_Test_Polling, Y_Test_Pred)\n",
    "    print(\"Polling, Test F1 Scores: \", Y_Test_F1_Score)\n",
    "    \n",
    "    end = time.time()\n",
    "    elapsed = end-start\n",
    "    ga_mutation_dict['mutation_prob'].append(num)\n",
    "    ga_mutation_dict['y_train_F1_score'].append(Y_Train_F1_Score)\n",
    "    ga_mutation_dict['y_test_F1_score'].append(Y_Test_F1_Score)\n",
    "    ga_mutation_dict['fitness_curve'].append(nn.fitness_curve)\n",
    "    ga_mutation_dict['runtime'].append(elapsed)\n",
    "    "
   ]
  },
  {
   "cell_type": "code",
   "execution_count": 353,
   "metadata": {},
   "outputs": [
    {
     "data": {
      "image/png": "[encoded data removed]",
      "text/plain": [
       "<Figure size 432x288 with 1 Axes>"
      ]
     },
     "metadata": {
      "needs_background": "light"
     },
     "output_type": "display_data"
    }
   ],
   "source": [
    "\n",
    "\n",
    "for i in range(0,len(ga_mutation_dict['mutation_prob'])):\n",
    "    y = ga_mutation_dict['fitness_curve'][i]*-1\n",
    "    label = ga_mutation_dict['mutation_prob'][i]\n",
    "    \n",
    "    plt.plot(y, label = label)\n",
    "\n",
    "plt.xlabel('Iterations')\n",
    "plt.ylabel('Error')\n",
    "plt.title('The Effect of Mutation Prob \\non Fitness Curves for GA')\n",
    "plt.legend(title = 'Mutation Prob', bbox_to_anchor=(1.05, 1), loc='upper left',fontsize='small', fancybox=True)\n",
    "plt.show()"
   ]
  },
  {
   "cell_type": "code",
   "execution_count": 360,
   "metadata": {},
   "outputs": [
    {
     "data": {
      "image/png": "[encoded data removed]",
      "text/plain": [
       "<Figure size 432x288 with 1 Axes>"
      ]
     },
     "metadata": {
      "needs_background": "light"
     },
     "output_type": "display_data"
    }
   ],
   "source": [
    "y = ga_mutation_dict['runtime']\n",
    "x = ga_mutation_dict['mutation_prob']\n",
    "\n",
    "plt.ylabel('Runtime (sec)')\n",
    "plt.xlabel('Mutation Prob')\n",
    "plt.title('The Effect of Mutation Prob \\non Runtime for GA')\n",
    "plt.plot(x,y)\n",
    "plt.show()"
   ]
  },
  {
   "cell_type": "markdown",
   "metadata": {},
   "source": [
    "learning_rate"
   ]
  },
  {
   "cell_type": "code",
   "execution_count": 257,
   "metadata": {},
   "outputs": [
    {
     "name": "stdout",
     "output_type": "stream",
     "text": [
      "learning rate: 0.0001\n",
      "Polling, Train F1 Score:  0.8108176100628931\n",
      "\n",
      "Polling, Test F1 Scores:  0.8111638954869358\n",
      "learning rate: 0.001\n",
      "Polling, Train F1 Score:  0.8108176100628931\n",
      "\n",
      "Polling, Test F1 Scores:  0.8111638954869358\n",
      "learning rate: 0.01\n",
      "Polling, Train F1 Score:  0.8108176100628931\n",
      "\n",
      "Polling, Test F1 Scores:  0.8111638954869358\n",
      "learning rate: 0.05\n",
      "Polling, Train F1 Score:  0.8108176100628931\n",
      "\n",
      "Polling, Test F1 Scores:  0.8111638954869358\n",
      "learning rate: 0.1\n",
      "Polling, Train F1 Score:  0.8108176100628931\n",
      "\n",
      "Polling, Test F1 Scores:  0.8111638954869358\n",
      "learning rate: 0.25\n",
      "Polling, Train F1 Score:  0.8108176100628931\n",
      "\n",
      "Polling, Test F1 Scores:  0.8111638954869358\n",
      "learning rate: 0.5\n",
      "Polling, Train F1 Score:  0.8108176100628931\n",
      "\n",
      "Polling, Test F1 Scores:  0.8111638954869358\n",
      "learning rate: 0.75\n",
      "Polling, Train F1 Score:  0.8108176100628931\n",
      "\n",
      "Polling, Test F1 Scores:  0.8111638954869358\n"
     ]
    }
   ],
   "source": [
    "learning_rate = [0.0001, 0.001, 0.01, 0.05, 0.10, 0.25, 0.50, 0.75]\n",
    "\n",
    "for num in learning_rate:\n",
    "    \n",
    "    print(\"learning rate:\",num)\n",
    "    nn = mlrose.NeuralNetwork(hidden_nodes = [156], activation = 'identity',\n",
    "                                    algorithm = 'genetic_alg', max_iters=2000,\n",
    "                                    bias = True, is_classifier=True, learning_rate = num,\n",
    "                                    early_stopping = True, clip_max = 5, max_attempts = 100,\n",
    "                                    random_state = 42, curve = True,\n",
    "                                    pop_size = 200, mutation_prob = .2)\n",
    "\n",
    "    nn.fit(X_Train_Polling, Y_Train_Polling)\n",
    "    \n",
    "    # predict labels for Training Set \n",
    "    Y_Train_Pred = nn.predict(X_Train_Polling)\n",
    "    Y_Train_F1_Score = f1_score(Y_Train_Polling, Y_Train_Pred)\n",
    "    print(\"Polling, Train F1 Score: \", Y_Train_F1_Score)\n",
    "\n",
    "    #predict labels for Testing Set \n",
    "    Y_Test_Pred = nn.predict(X_Test_Polling)\n",
    "    Y_Test_F1_Score = f1_score(Y_Test_Polling, Y_Test_Pred)\n",
    "    print()\n",
    "    print(\"Polling, Test F1 Scores: \", Y_Test_F1_Score)\n",
    "    "
   ]
  },
  {
   "cell_type": "code",
   "execution_count": null,
   "metadata": {},
   "outputs": [],
   "source": []
  }
 ],
 "metadata": {
  "kernelspec": {
   "display_name": "Python 3",
   "language": "python",
   "name": "python3"
  },
  "language_info": {
   "codemirror_mode": {
    "name": "ipython",
    "version": 3
   },
   "file_extension": ".py",
   "mimetype": "text/x-python",
   "name": "python",
   "nbconvert_exporter": "python",
   "pygments_lexer": "ipython3",
   "version": "3.7.9"
  }
 },
 "nbformat": 4,
 "nbformat_minor": 4
}
