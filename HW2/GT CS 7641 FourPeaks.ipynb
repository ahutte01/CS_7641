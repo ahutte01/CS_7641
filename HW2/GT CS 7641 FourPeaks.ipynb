{
 "cells": [
  {
   "cell_type": "code",
   "execution_count": 1,
   "metadata": {},
   "outputs": [],
   "source": [
    "import pandas as pd\n",
    "import numpy as np \n",
    "import matplotlib.pyplot as plt\n",
    "import os\n",
    "pd.set_option('max_columns', None)\n",
    "pd.set_option('max_rows', None)\n",
    "\n",
    "import warnings\n",
    "warnings.simplefilter(action='ignore', category=FutureWarning)\n",
    "\n",
    "import time\n",
    "\n",
    "from sklearn.model_selection import train_test_split\n",
    "from sklearn.preprocessing import MinMaxScaler, OneHotEncoder\n",
    "from sklearn.metrics import accuracy_score, f1_score"
   ]
  },
  {
   "cell_type": "code",
   "execution_count": 2,
   "metadata": {},
   "outputs": [],
   "source": [
    "import six\n",
    "import sys\n",
    "sys.modules['sklearn.externals.six'] = six\n",
    "import mlrose"
   ]
  },
  {
   "cell_type": "markdown",
   "metadata": {},
   "source": [
    "## Part 1"
   ]
  },
  {
   "cell_type": "markdown",
   "metadata": {},
   "source": [
    "What is an optimization problem? \n",
    "\n",
    "- We aim to find the best state, according to some objective function. \n",
    "- An example of a state is the weights used in a machine learning model, such as a neural network\n",
    "- State is represented by a one-dimensional vector \n",
    "- \"Best\" state is defined using the Cost Function/Fitness Function/Objective Function \n",
    "- Function takes in a State Array as Input and returns a Fitness Value as Output\n"
   ]
  },
  {
   "cell_type": "markdown",
   "metadata": {},
   "source": [
    "We will make 3 steps to solve an optimization problem with mlrose:\n",
    " - 1) Define fitness function object\n",
    " - 2) Define an optimization problem object\n",
    " - 3) Select and run a randomized optimization algorithm"
   ]
  },
  {
   "cell_type": "markdown",
   "metadata": {},
   "source": [
    "#### 1) Define Fitness Function Object"
   ]
  },
  {
   "cell_type": "code",
   "execution_count": 6,
   "metadata": {},
   "outputs": [],
   "source": [
    "fitness1 = mlrose.FourPeaks(t_pct=0.1)\n",
    "\n",
    "#fitness2 = mlrose.MaxKColor(edges=)\n",
    "#fitness3 = mlrose.FlipFlop()"
   ]
  },
  {
   "cell_type": "markdown",
   "metadata": {},
   "source": [
    "#### 2) Define an Optimization Problem Object"
   ]
  },
  {
   "cell_type": "code",
   "execution_count": 153,
   "metadata": {},
   "outputs": [],
   "source": [
    "#this requires a LENGTH - we can tune this \n",
    "\n",
    "problem1 = mlrose.DiscreteOpt(length = 100, fitness_fn = fitness1, maximize = True)"
   ]
  },
  {
   "cell_type": "markdown",
   "metadata": {},
   "source": [
    "#### 3) Select and Run Randomized Optimization Algorithm"
   ]
  },
  {
   "cell_type": "markdown",
   "metadata": {},
   "source": [
    "##### Find Optimzal Parameters for RHC, SA, GA, Mimic for the Four Peaks Problem "
   ]
  },
  {
   "cell_type": "markdown",
   "metadata": {},
   "source": [
    "RHC - Modify init_state and restarts"
   ]
  },
  {
   "cell_type": "code",
   "execution_count": 157,
   "metadata": {},
   "outputs": [
    {
     "name": "stdout",
     "output_type": "stream",
     "text": [
      "1.0\n",
      "1.0\n",
      "3.0\n",
      "3.0\n",
      "4.0\n",
      "4.0\n",
      "5.0\n",
      "5.0\n",
      "5.0\n",
      "5.0\n",
      "8.0\n"
     ]
    }
   ],
   "source": [
    "#init_state = np.array([1, 0, 1, 0, 1, 0, 1, 0, 1, 0])\n",
    "restarts_list = np.arange(0, 11, 1)\n",
    "\n",
    "\n",
    "for num in restarts_list:\n",
    "    \n",
    "    best_state, best_fitness = mlrose.random_hill_climb(problem=problem1, restarts = int(num),\n",
    "                                                   max_attempts = 10, max_iters = 1000,\n",
    "                                                   #init_state=init_state, \n",
    "                                                        random_state = 42)\n",
    "    #print(best_state)\n",
    "    print(best_fitness)\n"
   ]
  },
  {
   "cell_type": "code",
   "execution_count": 159,
   "metadata": {},
   "outputs": [
    {
     "name": "stdout",
     "output_type": "stream",
     "text": [
      "1.0\n",
      "20.0\n",
      "26.0\n",
      "26.0\n",
      "26.0\n"
     ]
    }
   ],
   "source": [
    "max_attempts_list = [10, 100, 1000, 10000, 100000]\n",
    "\n",
    "for num in max_attempts_list:\n",
    "    \n",
    "    best_state, best_fitness = mlrose.random_hill_climb(problem=problem1, restarts = 1,\n",
    "                                                   max_attempts = int(num), max_iters = 1000,\n",
    "                                                   #init_state=init_state, \n",
    "                                                   random_state = 42)\n",
    "    #print(best_state)\n",
    "    print(best_fitness)\n"
   ]
  },
  {
   "cell_type": "code",
   "execution_count": 161,
   "metadata": {},
   "outputs": [
    {
     "name": "stdout",
     "output_type": "stream",
     "text": [
      "1.0\n",
      "1.0\n",
      "1.0\n",
      "1.0\n",
      "1.0\n"
     ]
    }
   ],
   "source": [
    "max_iters_list = [10, 100, 1000, 10000, 100000]\n",
    "\n",
    "for num in max_iters_list:\n",
    "    \n",
    "    best_state, best_fitness = mlrose.random_hill_climb(problem=problem1, restarts = 1,\n",
    "                                                   max_attempts = 10, max_iters = int(num),\n",
    "                                                   #init_state=init_state, \n",
    "                                                    random_state = 42)\n",
    "    #print(best_state)\n",
    "    print(best_fitness)\n"
   ]
  },
  {
   "cell_type": "markdown",
   "metadata": {},
   "source": [
    "##### Simulated Annealing"
   ]
  },
  {
   "cell_type": "code",
   "execution_count": 163,
   "metadata": {},
   "outputs": [
    {
     "name": "stdout",
     "output_type": "stream",
     "text": [
      "32.0\n"
     ]
    }
   ],
   "source": [
    "scheduleG = mlrose.GeomDecay()\n",
    "scheduleA = mlrose.ArithDecay()\n",
    "scheduleE = mlrose.ExpDecay()\n",
    "\n",
    "best_state, best_fitness = mlrose.simulated_annealing(problem=problem1, schedule = scheduleG,\n",
    "                                               max_attempts = 10, max_iters = 1000,\n",
    "                                               #init_state=init_state, \n",
    "                                                    random_state = 42)\n",
    "\n",
    "#print(best_state)\n",
    "\n",
    "print(best_fitness)"
   ]
  },
  {
   "cell_type": "code",
   "execution_count": 165,
   "metadata": {},
   "outputs": [
    {
     "name": "stdout",
     "output_type": "stream",
     "text": [
      "14.0\n"
     ]
    }
   ],
   "source": [
    "best_state, best_fitness = mlrose.simulated_annealing(problem=problem1, schedule = scheduleA,\n",
    "                                               max_attempts = 10, max_iters = 1000,\n",
    "                                               #init_state=init_state, \n",
    "                                                    random_state = 42)\n",
    "\n",
    "#print(best_state)\n",
    "\n",
    "print(best_fitness)"
   ]
  },
  {
   "cell_type": "code",
   "execution_count": 166,
   "metadata": {},
   "outputs": [
    {
     "name": "stdout",
     "output_type": "stream",
     "text": [
      "18.0\n"
     ]
    }
   ],
   "source": [
    "best_state, best_fitness = mlrose.simulated_annealing(problem=problem1, schedule = scheduleE,\n",
    "                                               max_attempts = 10, max_iters = 1000,\n",
    "                                               #init_state=init_state, \n",
    "                                                    random_state = 42)\n",
    "\n",
    "#print(best_state)\n",
    "\n",
    "print(best_fitness)"
   ]
  },
  {
   "cell_type": "markdown",
   "metadata": {},
   "source": [
    "Max Attempts"
   ]
  },
  {
   "cell_type": "code",
   "execution_count": 173,
   "metadata": {},
   "outputs": [
    {
     "name": "stdout",
     "output_type": "stream",
     "text": [
      "32.0\n",
      "32.0\n",
      "32.0\n",
      "32.0\n",
      "32.0\n"
     ]
    },
    {
     "name": "stderr",
     "output_type": "stream",
     "text": [
      "/Users/amandahutter/anaconda3/lib/python3.7/site-packages/mlrose/algorithms.py:311: RuntimeWarning: overflow encountered in exp\n",
      "  prob = np.exp(delta_e/temp)\n"
     ]
    }
   ],
   "source": [
    "max_attempts_list = [10, 100, 1000, 10000, 100000]\n",
    "\n",
    "for num in max_attempts_list:\n",
    "    \n",
    "    best_state, best_fitness = mlrose.simulated_annealing(problem=problem1, schedule = scheduleG,\n",
    "                                                   max_attempts = num, max_iters = 1000,\n",
    "                                                   #init_state=init_state, \n",
    "                                                        random_state = 42)\n",
    "\n",
    "    #print(best_state)\n",
    "    print(best_fitness)\n"
   ]
  },
  {
   "cell_type": "markdown",
   "metadata": {},
   "source": [
    "Max Iters"
   ]
  },
  {
   "cell_type": "code",
   "execution_count": 174,
   "metadata": {},
   "outputs": [
    {
     "name": "stdout",
     "output_type": "stream",
     "text": [
      "1.0\n",
      "1.0\n",
      "32.0\n",
      "51.0\n",
      "51.0\n"
     ]
    }
   ],
   "source": [
    "max_iters_list = [10, 100, 1000, 10000, 100000]\n",
    "\n",
    "for num in max_iters_list:\n",
    "    \n",
    "    best_state, best_fitness = mlrose.simulated_annealing(problem=problem1, schedule = scheduleG,\n",
    "                                                   max_attempts = 10, max_iters = num,\n",
    "                                                   #init_state=init_state, \n",
    "                                                        random_state = 42)\n",
    "    \n",
    "    #print(best_state)\n",
    "    print(best_fitness)\n"
   ]
  },
  {
   "cell_type": "markdown",
   "metadata": {},
   "source": [
    "##### Genetic Alg"
   ]
  },
  {
   "cell_type": "code",
   "execution_count": 167,
   "metadata": {},
   "outputs": [
    {
     "name": "stdout",
     "output_type": "stream",
     "text": [
      "114.0\n"
     ]
    }
   ],
   "source": [
    "best_state, best_fitness = mlrose.genetic_alg(problem=problem1, \n",
    "                                              pop_size = 200, mutation_prob = 0.1,\n",
    "                                              max_attempts = 10, max_iters = 1000,\n",
    "                                               random_state = 42)\n",
    "\n",
    "\n",
    "print(best_fitness)"
   ]
  },
  {
   "cell_type": "markdown",
   "metadata": {},
   "source": [
    "pop_size"
   ]
  },
  {
   "cell_type": "code",
   "execution_count": 191,
   "metadata": {},
   "outputs": [
    {
     "name": "stdout",
     "output_type": "stream",
     "text": [
      "pop_size: 10.0  best_fitness: 8.0\n",
      "pop_size: 25.0  best_fitness: 15.0\n",
      "pop_size: 50.0  best_fitness: 26.0\n",
      "pop_size: 75.0  best_fitness: 16.0\n",
      "pop_size: 100.0  best_fitness: 115.0\n",
      "pop_size: 150.0  best_fitness: 14.0\n",
      "pop_size: 200.0  best_fitness: 114.0\n",
      "pop_size: 250.0  best_fitness: 17.0\n",
      "pop_size: 300.0  best_fitness: 117.0\n",
      "pop_size: 500.0  best_fitness: 120.0\n"
     ]
    }
   ],
   "source": [
    "pop_size_list = [.10, .25, .50, .75, 1.0, 1.50, 2.0, 2.50, 3.0, 5.0]\n",
    "problem_length = problem1.length\n",
    "\n",
    "for num in pop_size_list:\n",
    "    size =  problem_length*num\n",
    "    best_state, best_fitness = mlrose.genetic_alg(problem=problem1, \n",
    "                                                  pop_size = int(size), mutation_prob = 0.1,\n",
    "                                                   max_attempts = 10, max_iters = 1000,\n",
    "                                                        random_state = 42)\n",
    "\n",
    "    print(\"pop_size:\", size, \" best_fitness:\", best_fitness)\n"
   ]
  },
  {
   "cell_type": "markdown",
   "metadata": {},
   "source": [
    "mutation_prob"
   ]
  },
  {
   "cell_type": "code",
   "execution_count": 180,
   "metadata": {},
   "outputs": [
    {
     "name": "stdout",
     "output_type": "stream",
     "text": [
      "mutation_prob: 0.1 best_fitness: 114.0\n",
      "mutation_prob: 0.2 best_fitness: 17.0\n",
      "mutation_prob: 0.30000000000000004 best_fitness: 13.0\n",
      "mutation_prob: 0.4 best_fitness: 12.0\n",
      "mutation_prob: 0.5 best_fitness: 13.0\n",
      "mutation_prob: 0.6 best_fitness: 12.0\n",
      "mutation_prob: 0.7000000000000001 best_fitness: 15.0\n",
      "mutation_prob: 0.8 best_fitness: 14.0\n",
      "mutation_prob: 0.9 best_fitness: 12.0\n"
     ]
    }
   ],
   "source": [
    "mutation_prob_list = np.arange(0.1, 1, 0.1) \n",
    "\n",
    "for num in mutation_prob_list:\n",
    "    best_state, best_fitness = mlrose.genetic_alg(problem=problem1, \n",
    "                                                  pop_size = 200, mutation_prob = num,\n",
    "                                                   max_attempts = 10, max_iters = 1000,\n",
    "                                                        random_state = 42)\n",
    "\n",
    "    print(\"mutation_prob:\", num, \"best_fitness:\", best_fitness)"
   ]
  },
  {
   "cell_type": "markdown",
   "metadata": {},
   "source": [
    "max_iters"
   ]
  },
  {
   "cell_type": "code",
   "execution_count": 195,
   "metadata": {},
   "outputs": [
    {
     "name": "stdout",
     "output_type": "stream",
     "text": [
      "max_iters 10  best_fitness: 112.0\n",
      "max_iters 100  best_fitness: 120.0\n",
      "max_iters 1000  best_fitness: 120.0\n",
      "max_iters 10000  best_fitness: 120.0\n",
      "max_iters 100000  best_fitness: 120.0\n"
     ]
    }
   ],
   "source": [
    "max_iters_list = [10, 100, 1000, 10000, 100000]\n",
    "\n",
    "for num in max_iters_list:\n",
    "    best_state, best_fitness = mlrose.genetic_alg(problem=problem1, \n",
    "                                                  pop_size = 5*problem1.length, mutation_prob = 0.1,\n",
    "                                                   max_attempts = 10, max_iters = num,\n",
    "                                                        random_state = 42)\n",
    "\n",
    "    print(\"max_iters\",num ,\" best_fitness:\", best_fitness)\n"
   ]
  },
  {
   "cell_type": "markdown",
   "metadata": {},
   "source": [
    "max_attempts"
   ]
  },
  {
   "cell_type": "code",
   "execution_count": 194,
   "metadata": {},
   "outputs": [
    {
     "name": "stdout",
     "output_type": "stream",
     "text": [
      "max_attempts 10  best_fitness: 120.0\n",
      "max_attempts 100  best_fitness: 122.0\n",
      "max_attempts 1000  best_fitness: 127.0\n",
      "max_attempts 10000  best_fitness: 127.0\n",
      "max_attempts 100000  best_fitness: 127.0\n"
     ]
    }
   ],
   "source": [
    "max_attempts_list = [10, 100, 1000, 10000, 100000]\n",
    "\n",
    "for num in max_attempts_list:\n",
    "    best_state, best_fitness = mlrose.genetic_alg(problem=problem1, \n",
    "                                                  pop_size = 5*problem1.length, mutation_prob = 0.1,\n",
    "                                                   max_attempts = num, max_iters = 1000,\n",
    "                                                    random_state = 42)\n",
    "\n",
    "    print(\"max_attempts\",num ,\" best_fitness:\", best_fitness)\n"
   ]
  },
  {
   "cell_type": "markdown",
   "metadata": {},
   "source": [
    "##### Mimic "
   ]
  },
  {
   "cell_type": "markdown",
   "metadata": {},
   "source": [
    "keep_pct"
   ]
  },
  {
   "cell_type": "code",
   "execution_count": 196,
   "metadata": {},
   "outputs": [
    {
     "name": "stdout",
     "output_type": "stream",
     "text": [
      "keep_pct: 0.1  best_fitness: 114.0\n",
      "keep_pct: 0.2  best_fitness: 20.0\n",
      "keep_pct: 0.30000000000000004  best_fitness: 26.0\n",
      "keep_pct: 0.4  best_fitness: 115.0\n",
      "keep_pct: 0.5  best_fitness: 13.0\n",
      "keep_pct: 0.6  best_fitness: 12.0\n",
      "keep_pct: 0.7000000000000001  best_fitness: 12.0\n",
      "keep_pct: 0.8  best_fitness: 11.0\n",
      "keep_pct: 0.9  best_fitness: 11.0\n"
     ]
    }
   ],
   "source": [
    "keep_pct_list = np.arange(0.1, 1, 0.1) \n",
    "\n",
    "for num in keep_pct_list:\n",
    "    best_state, best_fitness = mlrose.mimic(problem=problem1, \n",
    "                                                  pop_size = 200, keep_pct = num,\n",
    "                                                   max_attempts = 10, max_iters = 1000,\n",
    "                                                        random_state = 42)\n",
    "\n",
    "    print(\"keep_pct:\", num,\" best_fitness:\",best_fitness)"
   ]
  },
  {
   "cell_type": "markdown",
   "metadata": {},
   "source": [
    "pop_size"
   ]
  },
  {
   "cell_type": "code",
   "execution_count": 188,
   "metadata": {},
   "outputs": [
    {
     "name": "stdout",
     "output_type": "stream",
     "text": [
      "pop_size: 10.0  best_fitness: 6.0\n",
      "pop_size: 25.0  best_fitness: 10.0\n"
     ]
    },
    {
     "ename": "KeyboardInterrupt",
     "evalue": "",
     "output_type": "error",
     "traceback": [
      "\u001b[0;31m---------------------------------------------------------------------------\u001b[0m",
      "\u001b[0;31mKeyboardInterrupt\u001b[0m                         Traceback (most recent call last)",
      "\u001b[0;32m<ipython-input-188-be469a939840>\u001b[0m in \u001b[0;36m<module>\u001b[0;34m\u001b[0m\n\u001b[1;32m     10\u001b[0m                                                    \u001b[0mmax_attempts\u001b[0m \u001b[0;34m=\u001b[0m \u001b[0;36m10\u001b[0m\u001b[0;34m,\u001b[0m \u001b[0mmax_iters\u001b[0m \u001b[0;34m=\u001b[0m \u001b[0;36m1000\u001b[0m\u001b[0;34m,\u001b[0m\u001b[0;34m\u001b[0m\u001b[0;34m\u001b[0m\u001b[0m\n\u001b[1;32m     11\u001b[0m                                                    \u001b[0;31m#init_state=init_state,\u001b[0m\u001b[0;34m\u001b[0m\u001b[0;34m\u001b[0m\u001b[0;34m\u001b[0m\u001b[0m\n\u001b[0;32m---> 12\u001b[0;31m                                                         random_state = 42)\n\u001b[0m\u001b[1;32m     13\u001b[0m \u001b[0;34m\u001b[0m\u001b[0m\n\u001b[1;32m     14\u001b[0m     \u001b[0;31m#print(best_state)\u001b[0m\u001b[0;34m\u001b[0m\u001b[0;34m\u001b[0m\u001b[0;34m\u001b[0m\u001b[0m\n",
      "\u001b[0;32m~/anaconda3/lib/python3.7/site-packages/mlrose/algorithms.py\u001b[0m in \u001b[0;36mmimic\u001b[0;34m(problem, pop_size, keep_pct, max_attempts, max_iters, curve, random_state, fast_mimic)\u001b[0m\n\u001b[1;32m    553\u001b[0m \u001b[0;34m\u001b[0m\u001b[0m\n\u001b[1;32m    554\u001b[0m         \u001b[0;31m# Update probability estimates\u001b[0m\u001b[0;34m\u001b[0m\u001b[0;34m\u001b[0m\u001b[0;34m\u001b[0m\u001b[0m\n\u001b[0;32m--> 555\u001b[0;31m         \u001b[0mproblem\u001b[0m\u001b[0;34m.\u001b[0m\u001b[0meval_node_probs\u001b[0m\u001b[0;34m(\u001b[0m\u001b[0;34m)\u001b[0m\u001b[0;34m\u001b[0m\u001b[0;34m\u001b[0m\u001b[0m\n\u001b[0m\u001b[1;32m    556\u001b[0m \u001b[0;34m\u001b[0m\u001b[0m\n\u001b[1;32m    557\u001b[0m         \u001b[0;31m# Generate new sample\u001b[0m\u001b[0;34m\u001b[0m\u001b[0;34m\u001b[0m\u001b[0;34m\u001b[0m\u001b[0m\n",
      "\u001b[0;32m~/anaconda3/lib/python3.7/site-packages/mlrose/opt_probs.py\u001b[0m in \u001b[0;36meval_node_probs\u001b[0;34m(self)\u001b[0m\n\u001b[1;32m    284\u001b[0m                     mutual_info[i, j] = -1 * mutual_info_score(\n\u001b[1;32m    285\u001b[0m                         \u001b[0mself\u001b[0m\u001b[0;34m.\u001b[0m\u001b[0mkeep_sample\u001b[0m\u001b[0;34m[\u001b[0m\u001b[0;34m:\u001b[0m\u001b[0;34m,\u001b[0m \u001b[0mi\u001b[0m\u001b[0;34m]\u001b[0m\u001b[0;34m,\u001b[0m\u001b[0;34m\u001b[0m\u001b[0;34m\u001b[0m\u001b[0m\n\u001b[0;32m--> 286\u001b[0;31m                         self.keep_sample[:, j])\n\u001b[0m\u001b[1;32m    287\u001b[0m \u001b[0;34m\u001b[0m\u001b[0m\n\u001b[1;32m    288\u001b[0m         \u001b[0;32melif\u001b[0m \u001b[0mself\u001b[0m\u001b[0;34m.\u001b[0m\u001b[0mmimic_speed\u001b[0m\u001b[0;34m:\u001b[0m\u001b[0;34m\u001b[0m\u001b[0;34m\u001b[0m\u001b[0m\n",
      "\u001b[0;32m~/anaconda3/lib/python3.7/site-packages/sklearn/utils/validation.py\u001b[0m in \u001b[0;36minner_f\u001b[0;34m(*args, **kwargs)\u001b[0m\n\u001b[1;32m     70\u001b[0m                           FutureWarning)\n\u001b[1;32m     71\u001b[0m         \u001b[0mkwargs\u001b[0m\u001b[0;34m.\u001b[0m\u001b[0mupdate\u001b[0m\u001b[0;34m(\u001b[0m\u001b[0;34m{\u001b[0m\u001b[0mk\u001b[0m\u001b[0;34m:\u001b[0m \u001b[0marg\u001b[0m \u001b[0;32mfor\u001b[0m \u001b[0mk\u001b[0m\u001b[0;34m,\u001b[0m \u001b[0marg\u001b[0m \u001b[0;32min\u001b[0m \u001b[0mzip\u001b[0m\u001b[0;34m(\u001b[0m\u001b[0msig\u001b[0m\u001b[0;34m.\u001b[0m\u001b[0mparameters\u001b[0m\u001b[0;34m,\u001b[0m \u001b[0margs\u001b[0m\u001b[0;34m)\u001b[0m\u001b[0;34m}\u001b[0m\u001b[0;34m)\u001b[0m\u001b[0;34m\u001b[0m\u001b[0;34m\u001b[0m\u001b[0m\n\u001b[0;32m---> 72\u001b[0;31m         \u001b[0;32mreturn\u001b[0m \u001b[0mf\u001b[0m\u001b[0;34m(\u001b[0m\u001b[0;34m**\u001b[0m\u001b[0mkwargs\u001b[0m\u001b[0;34m)\u001b[0m\u001b[0;34m\u001b[0m\u001b[0;34m\u001b[0m\u001b[0m\n\u001b[0m\u001b[1;32m     73\u001b[0m     \u001b[0;32mreturn\u001b[0m \u001b[0minner_f\u001b[0m\u001b[0;34m\u001b[0m\u001b[0;34m\u001b[0m\u001b[0m\n\u001b[1;32m     74\u001b[0m \u001b[0;34m\u001b[0m\u001b[0m\n",
      "\u001b[0;32m~/anaconda3/lib/python3.7/site-packages/sklearn/metrics/cluster/_supervised.py\u001b[0m in \u001b[0;36mmutual_info_score\u001b[0;34m(labels_true, labels_pred, contingency)\u001b[0m\n\u001b[1;32m    624\u001b[0m     \u001b[0;32mif\u001b[0m \u001b[0mcontingency\u001b[0m \u001b[0;32mis\u001b[0m \u001b[0;32mNone\u001b[0m\u001b[0;34m:\u001b[0m\u001b[0;34m\u001b[0m\u001b[0;34m\u001b[0m\u001b[0m\n\u001b[1;32m    625\u001b[0m         \u001b[0mlabels_true\u001b[0m\u001b[0;34m,\u001b[0m \u001b[0mlabels_pred\u001b[0m \u001b[0;34m=\u001b[0m \u001b[0mcheck_clusterings\u001b[0m\u001b[0;34m(\u001b[0m\u001b[0mlabels_true\u001b[0m\u001b[0;34m,\u001b[0m \u001b[0mlabels_pred\u001b[0m\u001b[0;34m)\u001b[0m\u001b[0;34m\u001b[0m\u001b[0;34m\u001b[0m\u001b[0m\n\u001b[0;32m--> 626\u001b[0;31m         \u001b[0mcontingency\u001b[0m \u001b[0;34m=\u001b[0m \u001b[0mcontingency_matrix\u001b[0m\u001b[0;34m(\u001b[0m\u001b[0mlabels_true\u001b[0m\u001b[0;34m,\u001b[0m \u001b[0mlabels_pred\u001b[0m\u001b[0;34m,\u001b[0m \u001b[0msparse\u001b[0m\u001b[0;34m=\u001b[0m\u001b[0;32mTrue\u001b[0m\u001b[0;34m)\u001b[0m\u001b[0;34m\u001b[0m\u001b[0;34m\u001b[0m\u001b[0m\n\u001b[0m\u001b[1;32m    627\u001b[0m     \u001b[0;32melse\u001b[0m\u001b[0;34m:\u001b[0m\u001b[0;34m\u001b[0m\u001b[0;34m\u001b[0m\u001b[0m\n\u001b[1;32m    628\u001b[0m         contingency = check_array(contingency,\n",
      "\u001b[0;32m~/anaconda3/lib/python3.7/site-packages/sklearn/utils/validation.py\u001b[0m in \u001b[0;36minner_f\u001b[0;34m(*args, **kwargs)\u001b[0m\n\u001b[1;32m     70\u001b[0m                           FutureWarning)\n\u001b[1;32m     71\u001b[0m         \u001b[0mkwargs\u001b[0m\u001b[0;34m.\u001b[0m\u001b[0mupdate\u001b[0m\u001b[0;34m(\u001b[0m\u001b[0;34m{\u001b[0m\u001b[0mk\u001b[0m\u001b[0;34m:\u001b[0m \u001b[0marg\u001b[0m \u001b[0;32mfor\u001b[0m \u001b[0mk\u001b[0m\u001b[0;34m,\u001b[0m \u001b[0marg\u001b[0m \u001b[0;32min\u001b[0m \u001b[0mzip\u001b[0m\u001b[0;34m(\u001b[0m\u001b[0msig\u001b[0m\u001b[0;34m.\u001b[0m\u001b[0mparameters\u001b[0m\u001b[0;34m,\u001b[0m \u001b[0margs\u001b[0m\u001b[0;34m)\u001b[0m\u001b[0;34m}\u001b[0m\u001b[0;34m)\u001b[0m\u001b[0;34m\u001b[0m\u001b[0;34m\u001b[0m\u001b[0m\n\u001b[0;32m---> 72\u001b[0;31m         \u001b[0;32mreturn\u001b[0m \u001b[0mf\u001b[0m\u001b[0;34m(\u001b[0m\u001b[0;34m**\u001b[0m\u001b[0mkwargs\u001b[0m\u001b[0;34m)\u001b[0m\u001b[0;34m\u001b[0m\u001b[0;34m\u001b[0m\u001b[0m\n\u001b[0m\u001b[1;32m     73\u001b[0m     \u001b[0;32mreturn\u001b[0m \u001b[0minner_f\u001b[0m\u001b[0;34m\u001b[0m\u001b[0;34m\u001b[0m\u001b[0m\n\u001b[1;32m     74\u001b[0m \u001b[0;34m\u001b[0m\u001b[0m\n",
      "\u001b[0;32m~/anaconda3/lib/python3.7/site-packages/sklearn/metrics/cluster/_supervised.py\u001b[0m in \u001b[0;36mcontingency_matrix\u001b[0;34m(labels_true, labels_pred, eps, sparse)\u001b[0m\n\u001b[1;32m    125\u001b[0m                                  (class_idx, cluster_idx)),\n\u001b[1;32m    126\u001b[0m                                 \u001b[0mshape\u001b[0m\u001b[0;34m=\u001b[0m\u001b[0;34m(\u001b[0m\u001b[0mn_classes\u001b[0m\u001b[0;34m,\u001b[0m \u001b[0mn_clusters\u001b[0m\u001b[0;34m)\u001b[0m\u001b[0;34m,\u001b[0m\u001b[0;34m\u001b[0m\u001b[0;34m\u001b[0m\u001b[0m\n\u001b[0;32m--> 127\u001b[0;31m                                 dtype=np.int)\n\u001b[0m\u001b[1;32m    128\u001b[0m     \u001b[0;32mif\u001b[0m \u001b[0msparse\u001b[0m\u001b[0;34m:\u001b[0m\u001b[0;34m\u001b[0m\u001b[0;34m\u001b[0m\u001b[0m\n\u001b[1;32m    129\u001b[0m         \u001b[0mcontingency\u001b[0m \u001b[0;34m=\u001b[0m \u001b[0mcontingency\u001b[0m\u001b[0;34m.\u001b[0m\u001b[0mtocsr\u001b[0m\u001b[0;34m(\u001b[0m\u001b[0;34m)\u001b[0m\u001b[0;34m\u001b[0m\u001b[0;34m\u001b[0m\u001b[0m\n",
      "\u001b[0;32m~/anaconda3/lib/python3.7/site-packages/scipy/sparse/coo.py\u001b[0m in \u001b[0;36m__init__\u001b[0;34m(self, arg1, shape, dtype, copy)\u001b[0m\n\u001b[1;32m    127\u001b[0m \u001b[0;34m\u001b[0m\u001b[0m\n\u001b[1;32m    128\u001b[0m     \u001b[0;32mdef\u001b[0m \u001b[0m__init__\u001b[0m\u001b[0;34m(\u001b[0m\u001b[0mself\u001b[0m\u001b[0;34m,\u001b[0m \u001b[0marg1\u001b[0m\u001b[0;34m,\u001b[0m \u001b[0mshape\u001b[0m\u001b[0;34m=\u001b[0m\u001b[0;32mNone\u001b[0m\u001b[0;34m,\u001b[0m \u001b[0mdtype\u001b[0m\u001b[0;34m=\u001b[0m\u001b[0;32mNone\u001b[0m\u001b[0;34m,\u001b[0m \u001b[0mcopy\u001b[0m\u001b[0;34m=\u001b[0m\u001b[0;32mFalse\u001b[0m\u001b[0;34m)\u001b[0m\u001b[0;34m:\u001b[0m\u001b[0;34m\u001b[0m\u001b[0;34m\u001b[0m\u001b[0m\n\u001b[0;32m--> 129\u001b[0;31m         \u001b[0m_data_matrix\u001b[0m\u001b[0;34m.\u001b[0m\u001b[0m__init__\u001b[0m\u001b[0;34m(\u001b[0m\u001b[0mself\u001b[0m\u001b[0;34m)\u001b[0m\u001b[0;34m\u001b[0m\u001b[0;34m\u001b[0m\u001b[0m\n\u001b[0m\u001b[1;32m    130\u001b[0m \u001b[0;34m\u001b[0m\u001b[0m\n\u001b[1;32m    131\u001b[0m         \u001b[0;32mif\u001b[0m \u001b[0misinstance\u001b[0m\u001b[0;34m(\u001b[0m\u001b[0marg1\u001b[0m\u001b[0;34m,\u001b[0m \u001b[0mtuple\u001b[0m\u001b[0;34m)\u001b[0m\u001b[0;34m:\u001b[0m\u001b[0;34m\u001b[0m\u001b[0;34m\u001b[0m\u001b[0m\n",
      "\u001b[0;32m~/anaconda3/lib/python3.7/site-packages/scipy/sparse/data.py\u001b[0m in \u001b[0;36m__init__\u001b[0;34m(self)\u001b[0m\n\u001b[1;32m     21\u001b[0m \u001b[0;32mclass\u001b[0m \u001b[0m_data_matrix\u001b[0m\u001b[0;34m(\u001b[0m\u001b[0mspmatrix\u001b[0m\u001b[0;34m)\u001b[0m\u001b[0;34m:\u001b[0m\u001b[0;34m\u001b[0m\u001b[0;34m\u001b[0m\u001b[0m\n\u001b[1;32m     22\u001b[0m     \u001b[0;32mdef\u001b[0m \u001b[0m__init__\u001b[0m\u001b[0;34m(\u001b[0m\u001b[0mself\u001b[0m\u001b[0;34m)\u001b[0m\u001b[0;34m:\u001b[0m\u001b[0;34m\u001b[0m\u001b[0;34m\u001b[0m\u001b[0m\n\u001b[0;32m---> 23\u001b[0;31m         \u001b[0mspmatrix\u001b[0m\u001b[0;34m.\u001b[0m\u001b[0m__init__\u001b[0m\u001b[0;34m(\u001b[0m\u001b[0mself\u001b[0m\u001b[0;34m)\u001b[0m\u001b[0;34m\u001b[0m\u001b[0;34m\u001b[0m\u001b[0m\n\u001b[0m\u001b[1;32m     24\u001b[0m \u001b[0;34m\u001b[0m\u001b[0m\n\u001b[1;32m     25\u001b[0m     \u001b[0;32mdef\u001b[0m \u001b[0m_get_dtype\u001b[0m\u001b[0;34m(\u001b[0m\u001b[0mself\u001b[0m\u001b[0;34m)\u001b[0m\u001b[0;34m:\u001b[0m\u001b[0;34m\u001b[0m\u001b[0;34m\u001b[0m\u001b[0m\n",
      "\u001b[0;32m~/anaconda3/lib/python3.7/site-packages/scipy/sparse/base.py\u001b[0m in \u001b[0;36m__init__\u001b[0;34m(self, maxprint)\u001b[0m\n\u001b[1;32m     68\u001b[0m     \u001b[0mndim\u001b[0m \u001b[0;34m=\u001b[0m \u001b[0;36m2\u001b[0m\u001b[0;34m\u001b[0m\u001b[0;34m\u001b[0m\u001b[0m\n\u001b[1;32m     69\u001b[0m \u001b[0;34m\u001b[0m\u001b[0m\n\u001b[0;32m---> 70\u001b[0;31m     \u001b[0;32mdef\u001b[0m \u001b[0m__init__\u001b[0m\u001b[0;34m(\u001b[0m\u001b[0mself\u001b[0m\u001b[0;34m,\u001b[0m \u001b[0mmaxprint\u001b[0m\u001b[0;34m=\u001b[0m\u001b[0mMAXPRINT\u001b[0m\u001b[0;34m)\u001b[0m\u001b[0;34m:\u001b[0m\u001b[0;34m\u001b[0m\u001b[0;34m\u001b[0m\u001b[0m\n\u001b[0m\u001b[1;32m     71\u001b[0m         \u001b[0mself\u001b[0m\u001b[0;34m.\u001b[0m\u001b[0m_shape\u001b[0m \u001b[0;34m=\u001b[0m \u001b[0;32mNone\u001b[0m\u001b[0;34m\u001b[0m\u001b[0;34m\u001b[0m\u001b[0m\n\u001b[1;32m     72\u001b[0m         \u001b[0;32mif\u001b[0m \u001b[0mself\u001b[0m\u001b[0;34m.\u001b[0m\u001b[0m__class__\u001b[0m\u001b[0;34m.\u001b[0m\u001b[0m__name__\u001b[0m \u001b[0;34m==\u001b[0m \u001b[0;34m'spmatrix'\u001b[0m\u001b[0;34m:\u001b[0m\u001b[0;34m\u001b[0m\u001b[0;34m\u001b[0m\u001b[0m\n",
      "\u001b[0;31mKeyboardInterrupt\u001b[0m: "
     ]
    }
   ],
   "source": [
    "pop_size_list = [.10, .25, .50, .75, 1.0, 1.50, 2.0, 2.50, 3.0, 5.0]\n",
    "problem_length = problem1.length\n",
    "\n",
    "\n",
    "for num in pop_size_list:\n",
    "    size =  num * problem_length\n",
    "    \n",
    "    best_state, best_fitness = mlrose.mimic(problem=problem1, \n",
    "                                                  pop_size = int(size), keep_pct = 0.20,\n",
    "                                                   max_attempts = 10, max_iters = 1000,\n",
    "                                                        random_state = 42)\n",
    "\n",
    "\n",
    "    print(\"pop_size:\", size, \" best_fitness:\",best_fitness)"
   ]
  },
  {
   "cell_type": "markdown",
   "metadata": {},
   "source": [
    "max_iters"
   ]
  },
  {
   "cell_type": "code",
   "execution_count": null,
   "metadata": {},
   "outputs": [],
   "source": [
    "max_iters_list = [10, 100, 1000, 10000, 100000]\n",
    "\n",
    "for num in max_iters_list:\n",
    "    \n",
    "    best_state, best_fitness = mlrose.mimic(problem=problem1, \n",
    "                                              pop_size = problem1.length*5, keep_pct = 0.20,\n",
    "                                               max_attempts = 10, max_iters = int(num),\n",
    "                                                    random_state = 42)\n",
    "\n",
    "\n",
    "    print(\"max_iters:\", num, \" best_fitness:\",best_fitness)\n"
   ]
  },
  {
   "cell_type": "markdown",
   "metadata": {},
   "source": [
    "max_attempts"
   ]
  },
  {
   "cell_type": "code",
   "execution_count": null,
   "metadata": {},
   "outputs": [],
   "source": [
    "max_attempts_list = [10, 100, 1000, 10000, 100000]\n",
    "\n",
    "for num in max_attempts_list:\n",
    "    \n",
    "    best_state, best_fitness = mlrose.mimic(problem=problem1, \n",
    "                                              pop_size = problem1.length*5, keep_pct = 0.20,\n",
    "                                               max_attempts = int(num), max_iters = 1000,\n",
    "                                                    random_state = 42)\n",
    "\n",
    "\n",
    "    print(\"max_attempts:\", num, \" best_fitness:\",best_fitness)\n",
    "    "
   ]
  },
  {
   "cell_type": "code",
   "execution_count": null,
   "metadata": {},
   "outputs": [],
   "source": []
  },
  {
   "cell_type": "code",
   "execution_count": null,
   "metadata": {},
   "outputs": [],
   "source": []
  },
  {
   "cell_type": "code",
   "execution_count": 108,
   "metadata": {},
   "outputs": [
    {
     "name": "stdout",
     "output_type": "stream",
     "text": [
      "<function random_hill_climb at 0x7feee32d0a70>\n",
      "[0 1 0 0 0 1 0 0 0 1]\n",
      "0.0\n",
      "<function simulated_annealing at 0x7feee32d0cb0>\n",
      "[1 1 1 1 1 1 1 1 0 0]\n",
      "18.0\n",
      "<function genetic_alg at 0x7feee32d0f80>\n",
      "[1 1 0 0 0 0 0 0 0 0]\n",
      "18.0\n",
      "<function mimic at 0x7feee32d0830>\n",
      "[1 1 1 1 1 1 1 1 0 0]\n",
      "18.0\n"
     ]
    }
   ],
   "source": [
    "list_algorithms = [mlrose.random_hill_climb , mlrose.simulated_annealing , mlrose.genetic_alg , mlrose.mimic]\n",
    "\n",
    "init_state = [1, 1, 1, 1, 1, 1, 1, 1, 1, 1]\n",
    "\n",
    "for alg in list_algorithms:\n",
    "    bs, bf =  alg(problem=problem1, random_state = 42)\n",
    "    print(alg)\n",
    "    print(bs)\n",
    "    print(bf)"
   ]
  },
  {
   "cell_type": "code",
   "execution_count": 134,
   "metadata": {},
   "outputs": [
    {
     "name": "stdout",
     "output_type": "stream",
     "text": [
      "algorithm <function random_hill_climb at 0x7feee32d0a70>\n",
      "init_state [1, 0, 1, 0, 1, 0, 1, 0, 1, 0]\n",
      "restarts 1\n",
      "[0 1 0 0 0 1 0 0 0 1]\n",
      "0.0\n",
      "algorithm <function simulated_annealing at 0x7feee32d0cb0>\n",
      "init_state [1, 0, 1, 0, 1, 0, 1, 0, 1, 0]\n",
      "schedule <mlrose.decay.GeomDecay object at 0x7feee34230d0>\n",
      "[1 1 1 1 1 1 1 1 0 0]\n",
      "18.0\n",
      "algorithm <function genetic_alg at 0x7feee32d0f80>\n",
      "pop_size 200\n",
      "mutation_prob 0.1\n",
      "[1 1 0 0 0 0 0 0 0 0]\n",
      "18.0\n",
      "algorithm <function mimic at 0x7feee32d0830>\n",
      "pop_size 200\n",
      "keep_pct 0.2\n",
      "[1 1 1 1 1 1 1 1 0 0]\n",
      "18.0\n"
     ]
    }
   ],
   "source": [
    "dict_algs = {\n",
    "    'RHC': {\"algorithm\": mlrose.random_hill_climb, \n",
    "            \"init_state\": [1, 0, 1, 0, 1, 0, 1, 0, 1, 0],\n",
    "            \"restarts\": 1},\n",
    "    'SA': {\"algorithm\": mlrose.simulated_annealing,\n",
    "          \"init_state\": [1, 0, 1, 0, 1, 0, 1, 0, 1, 0],\n",
    "           \"schedule\": mlrose.GeomDecay(init_temp=10, decay=0.95, min_temp=1)},\n",
    "    'GA': {\"algorithm\": mlrose.genetic_alg,\n",
    "          \"pop_size\": 200,\n",
    "          \"mutation_prob\": .1},\n",
    "    'MIMIC': {\"algorithm\": mlrose.mimic,\n",
    "             \"pop_size\": 200,\n",
    "             \"keep_pct\": 0.2}\n",
    "}\n",
    "\n",
    "for key, value in dict_algs.items():\n",
    "    #print(key)\n",
    "    #print(value)\n",
    "    #print(dict_algs[alg])\n",
    "    a = value['algorithm']\n",
    "    for keys, vals in value.items():\n",
    "        print(keys, vals)\n",
    "        \n",
    "\n",
    "    bs, bf =  a(problem=problem1, random_state = 42)\n",
    "    print(bs)\n",
    "    print(bf)\n",
    "    \n"
   ]
  },
  {
   "cell_type": "code",
   "execution_count": null,
   "metadata": {},
   "outputs": [],
   "source": []
  },
  {
   "cell_type": "code",
   "execution_count": null,
   "metadata": {},
   "outputs": [],
   "source": []
  }
 ],
 "metadata": {
  "kernelspec": {
   "display_name": "Python 3",
   "language": "python",
   "name": "python3"
  },
  "language_info": {
   "codemirror_mode": {
    "name": "ipython",
    "version": 3
   },
   "file_extension": ".py",
   "mimetype": "text/x-python",
   "name": "python",
   "nbconvert_exporter": "python",
   "pygments_lexer": "ipython3",
   "version": "3.7.9"
  }
 },
 "nbformat": 4,
 "nbformat_minor": 4
}
