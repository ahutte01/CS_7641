{
 "cells": [
  {
   "cell_type": "code",
   "execution_count": 113,
   "metadata": {},
   "outputs": [],
   "source": [
    "import pandas as pd\n",
    "import numpy as np \n",
    "import matplotlib.pyplot as plt\n",
    "import os\n",
    "pd.set_option('max_columns', None)\n",
    "pd.set_option('max_rows', None)\n",
    "\n",
    "import warnings\n",
    "warnings.simplefilter(action='ignore', category=FutureWarning)\n",
    "\n",
    "import time\n",
    "\n",
    "from sklearn.model_selection import train_test_split\n",
    "from sklearn.preprocessing import MinMaxScaler, OneHotEncoder\n",
    "from sklearn.metrics import accuracy_score, f1_score\n",
    "\n",
    "import random"
   ]
  },
  {
   "cell_type": "code",
   "execution_count": 114,
   "metadata": {},
   "outputs": [],
   "source": [
    "import six\n",
    "import sys\n",
    "sys.modules['sklearn.externals.six'] = six\n",
    "import mlrose"
   ]
  },
  {
   "cell_type": "code",
   "execution_count": null,
   "metadata": {},
   "outputs": [],
   "source": [
    "\n"
   ]
  },
  {
   "cell_type": "markdown",
   "metadata": {},
   "source": [
    "Define Best Parameters for Each Algorithm"
   ]
  },
  {
   "cell_type": "markdown",
   "metadata": {},
   "source": [
    "### FourPeaks - Highlights Strength of GA"
   ]
  },
  {
   "cell_type": "code",
   "execution_count": 115,
   "metadata": {},
   "outputs": [
    {
     "name": "stdout",
     "output_type": "stream",
     "text": [
      "Trying Input Length 20\n",
      "...Finished RHC in 0.18235111236572266\n",
      "...Finished SA in 0.0027379989624023438\n",
      "...Finished GA in 0.5937478542327881\n",
      "...Finished MIMIC in 2.1878411769866943\n",
      "Trying Input Length 40\n",
      "...Finished RHC in 0.355571985244751\n",
      "...Finished SA in 0.012552976608276367\n",
      "...Finished GA in 1.1507339477539062\n",
      "...Finished MIMIC in 9.596315860748291\n",
      "Trying Input Length 60\n",
      "...Finished RHC in 0.514570951461792\n",
      "...Finished SA in 0.02035999298095703\n"
     ]
    },
    {
     "name": "stderr",
     "output_type": "stream",
     "text": [
      "/Users/amandahutter/anaconda3/lib/python3.7/site-packages/mlrose/algorithms.py:311: RuntimeWarning: overflow encountered in exp\n",
      "  prob = np.exp(delta_e/temp)\n"
     ]
    },
    {
     "name": "stdout",
     "output_type": "stream",
     "text": [
      "...Finished GA in 1.8936829566955566\n",
      "...Finished MIMIC in 39.08250403404236\n",
      "Trying Input Length 80\n",
      "...Finished RHC in 0.6785109043121338\n",
      "...Finished SA in 0.029362201690673828\n"
     ]
    },
    {
     "name": "stderr",
     "output_type": "stream",
     "text": [
      "/Users/amandahutter/anaconda3/lib/python3.7/site-packages/mlrose/algorithms.py:311: RuntimeWarning: overflow encountered in exp\n",
      "  prob = np.exp(delta_e/temp)\n"
     ]
    },
    {
     "name": "stdout",
     "output_type": "stream",
     "text": [
      "...Finished GA in 2.73838472366333\n",
      "...Finished MIMIC in 82.67671203613281\n",
      "Trying Input Length 100\n",
      "...Finished RHC in 0.8043289184570312\n",
      "...Finished SA in 0.029754161834716797\n"
     ]
    },
    {
     "name": "stderr",
     "output_type": "stream",
     "text": [
      "/Users/amandahutter/anaconda3/lib/python3.7/site-packages/mlrose/algorithms.py:311: RuntimeWarning: overflow encountered in exp\n",
      "  prob = np.exp(delta_e/temp)\n"
     ]
    },
    {
     "name": "stdout",
     "output_type": "stream",
     "text": [
      "...Finished GA in 3.7159857749938965\n",
      "...Finished MIMIC in 87.15370917320251\n",
      "Trying Input Length 120\n",
      "...Finished RHC in 0.9403841495513916\n",
      "...Finished SA in 0.02812480926513672\n"
     ]
    },
    {
     "name": "stderr",
     "output_type": "stream",
     "text": [
      "/Users/amandahutter/anaconda3/lib/python3.7/site-packages/mlrose/algorithms.py:311: RuntimeWarning: overflow encountered in exp\n",
      "  prob = np.exp(delta_e/temp)\n"
     ]
    },
    {
     "name": "stdout",
     "output_type": "stream",
     "text": [
      "...Finished GA in 4.650873899459839\n",
      "...Finished MIMIC in 150.84881830215454\n",
      "[37.0, 40.0, 103.0, 48.0, 42.0, 34.0]\n",
      "[37.0, 64.0, 94.0, 23.0, 32.0, 19.0]\n",
      "[35.0, 60.0, 80.0, 104.0, 122.0, 136.0]\n",
      "[37.0, 59.0, 79.0, 112.0, 115.0, 28.0]\n"
     ]
    }
   ],
   "source": [
    "LENGTHS = [20, 40, 60, 80, 100, 120]\n",
    "\n",
    "bf1_rhc_list = []\n",
    "bf1_sa_list = []\n",
    "bf1_ga_list = []\n",
    "bf1_mim_list = []\n",
    "\n",
    "rhc_dict1 = { 'lengths' : [],\n",
    "             'best_fits' : [],\n",
    "             'runtime' : [], \n",
    "             'fit_curves' : []}\n",
    "sa_dict1 = { 'lengths' : [],\n",
    "             'best_fits' : [],\n",
    "             'runtime' : [], \n",
    "             'fit_curves' : []}\n",
    "ga_dict1 = { 'lengths' : [],\n",
    "             'best_fits' : [],\n",
    "             'runtime' : [], \n",
    "             'fit_curves' : []}\n",
    "mimic_dict1 = { 'lengths' : [],\n",
    "             'best_fits' : [],\n",
    "             'runtime' : [], \n",
    "             'fit_curves' : []}\n",
    "\n",
    "for i in range(0, len(LENGTHS)):\n",
    "    \n",
    "    length = LENGTHS[i]\n",
    "    print(\"Trying Input Length\", str(length))\n",
    "    \n",
    "    rhc_dict1['lengths'].append(length)\n",
    "    sa_dict1['lengths'].append(length)\n",
    "    ga_dict1['lengths'].append(length)\n",
    "    mimic_dict1['lengths'].append(length)\n",
    "    \n",
    "    # Step 1\n",
    "    fitness1 = mlrose.FourPeaks(t_pct=0.1)\n",
    "    \n",
    "    # Step 2\n",
    "    problem1 = mlrose.DiscreteOpt(length = length, fitness_fn = fitness1, maximize = True, max_val = 2)\n",
    "\n",
    "    # Step 3 \n",
    "    # RHC \n",
    "    start = time.time()\n",
    "    bs1_rhc, bf1_rhc, curve1_rhc = mlrose.random_hill_climb(problem = problem1, \n",
    "                                               max_attempts = 1000, max_iters = 1000, \n",
    "                                               restarts = int(.50*length), \n",
    "                                               random_state = 42, curve = True)\n",
    "    end_rhc = time.time()\n",
    "    rhc_dict1['runtime'].append(end_rhc-start)\n",
    "    rhc_dict1['best_fits'].append(bf1_rhc)\n",
    "    rhc_dict1['fit_curves'].append(curve1_rhc)\n",
    "    print(\"...Finished RHC in \"+str(end_rhc-start))\n",
    "    # SA \n",
    "    bs1_sa, bf1_sa, curve1_sa = mlrose.simulated_annealing(problem=problem1, \n",
    "                                               max_attempts=10, max_iters = 1000, \n",
    "                                               schedule = mlrose.GeomDecay(),\n",
    "                                               random_state = 42, curve = True)\n",
    "    end_sa = time.time()\n",
    "    sa_dict1['runtime'].append(end_sa-end_rhc)\n",
    "    sa_dict1['best_fits'].append(bf1_sa)\n",
    "    sa_dict1['fit_curves'].append(curve1_sa)\n",
    "    print(\"...Finished SA in \"+str(end_sa-end_rhc))\n",
    "\n",
    "    # GA \n",
    "    bs1_ga, bf1_ga, curve1_ga = mlrose.genetic_alg(problem=problem1, \n",
    "                                               pop_size = int(5*length), mutation_prob = 0.10,\n",
    "                                               max_attempts=1000, max_iters = 100,                                           \n",
    "                                               random_state = 42, curve = True)\n",
    "    end_ga = time.time()\n",
    "    ga_dict1['runtime'].append(end_ga-end_sa)\n",
    "    ga_dict1['best_fits'].append(bf1_ga)\n",
    "    ga_dict1['fit_curves'].append(curve1_ga)\n",
    "    print(\"...Finished GA in \"+ str(end_ga-end_sa))\n",
    "    \n",
    "    # MIMIC \n",
    "    bs1_mim, bf1_mim, curve1_mim = mlrose.mimic(problem=problem1, \n",
    "                                               pop_size = int(5*length), keep_pct = 0.40,\n",
    "                                               max_attempts = 10, max_iters = 100,\n",
    "                                               random_state = 42, curve = True)\n",
    "     \n",
    "    end_mimic = time.time()\n",
    "    mimic_dict1['runtime'].append(end_mimic-end_ga)\n",
    "    mimic_dict1['best_fits'].append(bf1_mim)\n",
    "    mimic_dict1['fit_curves'].append(curve1_mim)\n",
    "    print(\"...Finished MIMIC in \"+ str(end_mimic-end_ga))\n",
    "    \n",
    "    bf1_rhc_list.append(bf1_rhc)\n",
    "    bf1_sa_list.append(bf1_sa)\n",
    "    bf1_ga_list.append(bf1_ga)\n",
    "    bf1_mim_list.append(bf1_mim)\n",
    "    \n",
    "\n",
    "print(bf1_rhc_list)\n",
    "print(bf1_sa_list)\n",
    "print(bf1_ga_list)\n",
    "print(bf1_mim_list)"
   ]
  },
  {
   "cell_type": "code",
   "execution_count": 116,
   "metadata": {},
   "outputs": [
    {
     "data": {
      "image/png": "[encoded data removed]",
      "text/plain": [
       "<Figure size 432x288 with 1 Axes>"
      ]
     },
     "metadata": {
      "needs_background": "light"
     },
     "output_type": "display_data"
    }
   ],
   "source": [
    "plt.clf()\n",
    "plt.plot(rhc_dict1['lengths'], rhc_dict1['best_fits'], label = \"RHC\", color = 'blue')\n",
    "plt.plot(sa_dict1['lengths'], sa_dict1['best_fits'], label = \"SA\", color = 'green')\n",
    "plt.plot(ga_dict1['lengths'], ga_dict1['best_fits'], label = \"GA\", color = 'orange')\n",
    "plt.plot(mimic_dict1['lengths'], mimic_dict1['best_fits'], label = \"MIMIC\", color = 'maroon')\n",
    "\n",
    "plt.xlabel(\"Length of Input Vector\")\n",
    "plt.ylabel(\"Best Fitness\")\n",
    "plt.title(\"FourPeaks Fitness by \\nLength of Input Vector\")\n",
    "plt.legend()\n",
    "plt.tight_layout()\n",
    "plt.savefig(\"Part1_FourPeaks_Fitness.png\")\n",
    "plt.show()"
   ]
  },
  {
   "cell_type": "code",
   "execution_count": 117,
   "metadata": {},
   "outputs": [
    {
     "data": {
      "image/png": "[encoded data removed]",
      "text/plain": [
       "<Figure size 432x288 with 1 Axes>"
      ]
     },
     "metadata": {
      "needs_background": "light"
     },
     "output_type": "display_data"
    }
   ],
   "source": [
    "plt.clf()\n",
    "plt.plot(rhc_dict1['lengths'], rhc_dict1['runtime'], label = \"RHC\", color = 'blue')\n",
    "plt.plot(sa_dict1['lengths'], sa_dict1['runtime'], label = \"SA\", color = 'green')\n",
    "plt.plot(ga_dict1['lengths'], ga_dict1['runtime'], label = \"GA\", color = 'orange')\n",
    "plt.plot(mimic_dict1['lengths'], mimic_dict1['runtime'], label = \"MIMIC\", color = 'maroon')\n",
    "\n",
    "\n",
    "plt.xlabel(\"Length of Input Vector\")\n",
    "plt.ylabel(\"Runtime\")\n",
    "plt.title(\"FourPeaks Runtime by \\nLength of Input Vector\")\n",
    "plt.legend()\n",
    "plt.tight_layout()\n",
    "plt.savefig(\"Part1_FourPeaks_Runtime.png\")\n",
    "plt.show()"
   ]
  },
  {
   "cell_type": "code",
   "execution_count": null,
   "metadata": {},
   "outputs": [],
   "source": []
  },
  {
   "cell_type": "markdown",
   "metadata": {},
   "source": [
    "### FlipFlop - Highlights Strength of SA"
   ]
  },
  {
   "cell_type": "code",
   "execution_count": 118,
   "metadata": {},
   "outputs": [
    {
     "name": "stdout",
     "output_type": "stream",
     "text": [
      "Trying Input Length 20\n",
      "...Finished RHC in 0.032814979553222656\n",
      "...Finished SA in 0.0038728713989257812\n",
      "...Finished GA in 0.028484106063842773\n",
      "...Finished MIMIC in 2.010038137435913\n",
      "Trying Input Length 40\n",
      "...Finished RHC in 0.08586311340332031\n",
      "...Finished SA in 0.02737903594970703\n",
      "...Finished GA in 0.06411385536193848\n"
     ]
    },
    {
     "name": "stderr",
     "output_type": "stream",
     "text": [
      "/Users/amandahutter/anaconda3/lib/python3.7/site-packages/mlrose/algorithms.py:311: RuntimeWarning: overflow encountered in exp\n",
      "  prob = np.exp(delta_e/temp)\n"
     ]
    },
    {
     "name": "stdout",
     "output_type": "stream",
     "text": [
      "...Finished MIMIC in 10.66156792640686\n",
      "Trying Input Length 60\n",
      "...Finished RHC in 0.16383981704711914\n",
      "...Finished SA in 0.03276801109313965\n",
      "...Finished GA in 0.10642218589782715\n",
      "...Finished MIMIC in 28.58409285545349\n",
      "Trying Input Length 80\n",
      "...Finished RHC in 0.26581311225891113\n",
      "...Finished SA in 0.04026174545288086\n",
      "...Finished GA in 0.16584300994873047\n"
     ]
    },
    {
     "name": "stderr",
     "output_type": "stream",
     "text": [
      "/Users/amandahutter/anaconda3/lib/python3.7/site-packages/mlrose/algorithms.py:311: RuntimeWarning: overflow encountered in exp\n",
      "  prob = np.exp(delta_e/temp)\n"
     ]
    },
    {
     "name": "stdout",
     "output_type": "stream",
     "text": [
      "...Finished MIMIC in 53.118115186691284\n",
      "Trying Input Length 100\n",
      "...Finished RHC in 0.4001941680908203\n",
      "...Finished SA in 0.0465090274810791\n"
     ]
    },
    {
     "name": "stderr",
     "output_type": "stream",
     "text": [
      "/Users/amandahutter/anaconda3/lib/python3.7/site-packages/mlrose/algorithms.py:311: RuntimeWarning: overflow encountered in exp\n",
      "  prob = np.exp(delta_e/temp)\n"
     ]
    },
    {
     "name": "stdout",
     "output_type": "stream",
     "text": [
      "...Finished GA in 0.2393937110900879\n",
      "...Finished MIMIC in 92.97168207168579\n",
      "Trying Input Length 120\n",
      "...Finished RHC in 0.5402147769927979\n",
      "...Finished SA in 0.05433917045593262\n"
     ]
    },
    {
     "name": "stderr",
     "output_type": "stream",
     "text": [
      "/Users/amandahutter/anaconda3/lib/python3.7/site-packages/mlrose/algorithms.py:311: RuntimeWarning: overflow encountered in exp\n",
      "  prob = np.exp(delta_e/temp)\n"
     ]
    },
    {
     "name": "stdout",
     "output_type": "stream",
     "text": [
      "...Finished GA in 0.3451271057128906\n",
      "...Finished MIMIC in 170.9201319217682\n",
      "[18.0, 37.0, 54.0, 67.0, 81.0, 98.0]\n",
      "[19.0, 38.0, 54.0, 76.0, 92.0, 108.0]\n",
      "[16.0, 30.0, 42.0, 55.0, 69.0, 79.0]\n",
      "[19.0, 38.0, 55.0, 75.0, 93.0, 113.0]\n"
     ]
    }
   ],
   "source": [
    "LENGTHS = [20, 40, 60, 80, 100, 120]\n",
    "\n",
    "bf2_rhc_list = []\n",
    "bf2_sa_list = []\n",
    "bf2_ga_list = []\n",
    "bf2_mim_list = []\n",
    "\n",
    "rhc_dict2 = { 'lengths' : [],\n",
    "             'best_fits' : [],\n",
    "             'runtime' : [], \n",
    "             'fit_curves' : []}\n",
    "sa_dict2 = { 'lengths' : [],\n",
    "             'best_fits' : [],\n",
    "             'runtime' : [], \n",
    "             'fit_curves' : []}\n",
    "ga_dict2 = { 'lengths' : [],\n",
    "             'best_fits' : [],\n",
    "             'runtime' : [], \n",
    "             'fit_curves' : []}\n",
    "mimic_dict2 = { 'lengths' : [],\n",
    "             'best_fits' : [],\n",
    "             'runtime' : [], \n",
    "             'fit_curves' : []}\n",
    "\n",
    "for i in range(0, len(LENGTHS)):\n",
    "    \n",
    "    length = LENGTHS[i]\n",
    "    \n",
    "    print(\"Trying Input Length\", str(length))\n",
    "    \n",
    "    rhc_dict2['lengths'].append(length)\n",
    "    sa_dict2['lengths'].append(length)\n",
    "    ga_dict2['lengths'].append(length)\n",
    "    mimic_dict2['lengths'].append(length)\n",
    "    \n",
    "    # Step 1\n",
    "    fitness2 = mlrose.FlipFlop()\n",
    "    \n",
    "    # Step 2\n",
    "    problem2 = mlrose.DiscreteOpt(length = length, fitness_fn = fitness2, maximize = True, max_val = 2)\n",
    "    \n",
    "    # Step 3 \n",
    "    # RHC \n",
    "    start = time.time()\n",
    "    bs2_rhc, bf2_rhc, curve2_rhc = mlrose.random_hill_climb(problem = problem2, \n",
    "                                               max_attempts = 1000, max_iters = 100, \n",
    "                                               restarts = int(1.0*length), \n",
    "                                               random_state = 42, curve = True)\n",
    "    end_rhc = time.time()\n",
    "    rhc_dict2['runtime'].append(end_rhc-start)\n",
    "    rhc_dict2['best_fits'].append(bf2_rhc)\n",
    "    rhc_dict2['fit_curves'].append(curve2_rhc)\n",
    "    print(\"...Finished RHC in \"+str(end_rhc-start))\n",
    "    \n",
    "    # SA \n",
    "    bs2_sa, bf2_sa, curve2_sa = mlrose.simulated_annealing(problem=problem2, \n",
    "                                               max_attempts=100, max_iters = 1000, \n",
    "                                               schedule = mlrose.GeomDecay(),\n",
    "                                               random_state = 42, curve = True)\n",
    "    end_sa = time.time()\n",
    "    sa_dict2['runtime'].append(end_sa-end_rhc)\n",
    "    sa_dict2['best_fits'].append(bf2_sa)\n",
    "    sa_dict2['fit_curves'].append(curve2_sa)\n",
    "    print(\"...Finished SA in \"+str(end_sa-end_rhc))\n",
    "\n",
    "    # GA \n",
    "    bs2_ga, bf2_ga, curve2_ga = mlrose.genetic_alg(problem=problem2, \n",
    "                                               pop_size = int(2*length), mutation_prob = 0.20,\n",
    "                                               max_attempts=1000, max_iters = 10,                                           \n",
    "                                               random_state = 42, curve = True)\n",
    "    end_ga = time.time()\n",
    "    ga_dict2['runtime'].append(end_ga-end_sa)\n",
    "    ga_dict2['best_fits'].append(bf2_ga)\n",
    "    ga_dict2['fit_curves'].append(curve2_ga)\n",
    "    print(\"...Finished GA in \"+str(end_ga-end_sa))\n",
    "    \n",
    "    # MIMIC \n",
    "    bs2_mim, bf2_mim, curve2_mim = mlrose.mimic(problem=problem2, \n",
    "                                               pop_size = int(5*length), keep_pct = 0.40,\n",
    "                                               max_attempts = 10, max_iters = 100,\n",
    "                                               random_state = 42, curve = True)\n",
    "    \n",
    "    end_mimic = time.time()\n",
    "    mimic_dict2['runtime'].append(end_mimic-end_ga)\n",
    "    mimic_dict2['best_fits'].append(bf2_mim)\n",
    "    mimic_dict2['fit_curves'].append(curve2_mim)\n",
    "    print(\"...Finished MIMIC in \"+str(end_mimic-end_ga))\n",
    "    \n",
    "    \n",
    "    bf2_rhc_list.append(bf2_rhc)\n",
    "    bf2_sa_list.append(bf2_sa)\n",
    "    bf2_ga_list.append(bf2_ga)\n",
    "    bf2_mim_list.append(bf2_mim)\n",
    "    \n",
    "\n",
    "print(bf2_rhc_list)\n",
    "print(bf2_sa_list)\n",
    "print(bf2_ga_list)\n",
    "print(bf2_mim_list)"
   ]
  },
  {
   "cell_type": "code",
   "execution_count": 119,
   "metadata": {},
   "outputs": [
    {
     "data": {
      "image/png": "[encoded data removed]",
      "text/plain": [
       "<Figure size 432x288 with 1 Axes>"
      ]
     },
     "metadata": {
      "needs_background": "light"
     },
     "output_type": "display_data"
    }
   ],
   "source": [
    "plt.clf()\n",
    "plt.plot(rhc_dict2['lengths'], rhc_dict2['best_fits'], label = \"RHC\", color = 'blue')\n",
    "plt.plot(sa_dict2['lengths'], sa_dict2['best_fits'], label = \"SA\", color = 'green')\n",
    "plt.plot(ga_dict2['lengths'], ga_dict2['best_fits'], label = \"GA\", color = 'orange')\n",
    "plt.plot(mimic_dict2['lengths'], mimic_dict2['best_fits'], label = \"MIMIC\", color = 'maroon')\n",
    "\n",
    "plt.xlabel(\"Length of Input Vector\")\n",
    "plt.ylabel(\"Best Fitness\")\n",
    "plt.title(\"FlipFlop Fitness by \\nLength of Input Vector\")\n",
    "plt.legend()\n",
    "plt.tight_layout()\n",
    "plt.savefig(\"Part1_FlipFlop_Fitness.png\")\n",
    "plt.show()"
   ]
  },
  {
   "cell_type": "code",
   "execution_count": 120,
   "metadata": {},
   "outputs": [
    {
     "data": {
      "image/png": "[encoded data removed]",
      "text/plain": [
       "<Figure size 432x288 with 1 Axes>"
      ]
     },
     "metadata": {
      "needs_background": "light"
     },
     "output_type": "display_data"
    }
   ],
   "source": [
    "plt.clf()\n",
    "plt.plot(rhc_dict2['lengths'], rhc_dict2['runtime'], label = \"RHC\", color = 'blue')\n",
    "plt.plot(sa_dict2['lengths'], sa_dict2['runtime'], label = \"SA\", color = 'green')\n",
    "plt.plot(ga_dict2['lengths'], ga_dict2['runtime'], label = \"GA\", color = 'orange')\n",
    "plt.plot(mimic_dict2['lengths'], mimic_dict2['runtime'], label = \"MIMIC\", color = 'maroon')\n",
    "\n",
    "\n",
    "plt.xlabel(\"Length of Input Vector\")\n",
    "plt.ylabel(\"Runtime\")\n",
    "plt.title(\"FlipFlop Runtime by \\nLength of Input Vector\")\n",
    "plt.legend()\n",
    "plt.tight_layout()\n",
    "plt.savefig(\"Part1_FlipFlop_Runtime.png\")\n",
    "plt.show()"
   ]
  },
  {
   "cell_type": "markdown",
   "metadata": {},
   "source": [
    "### Knapsack"
   ]
  },
  {
   "cell_type": "code",
   "execution_count": 121,
   "metadata": {},
   "outputs": [
    {
     "name": "stdout",
     "output_type": "stream",
     "text": [
      "Trying Input Length 20\n",
      "...Finished RHC in 0.12201213836669922\n",
      "...Finished SA in 0.034230947494506836\n",
      "...Finished GA in 0.6942217350006104\n",
      "...Finished MIMIC in 2.8296101093292236\n",
      "Trying Input Length 40\n",
      "...Finished RHC in 0.2501187324523926\n",
      "...Finished SA in 0.03761005401611328\n"
     ]
    },
    {
     "name": "stderr",
     "output_type": "stream",
     "text": [
      "/Users/amandahutter/anaconda3/lib/python3.7/site-packages/mlrose/algorithms.py:311: RuntimeWarning: overflow encountered in exp\n",
      "  prob = np.exp(delta_e/temp)\n"
     ]
    },
    {
     "name": "stdout",
     "output_type": "stream",
     "text": [
      "...Finished GA in 1.527771234512329\n",
      "...Finished MIMIC in 8.320228815078735\n",
      "Trying Input Length 60\n",
      "...Finished RHC in 0.37855100631713867\n",
      "...Finished SA in 0.044547080993652344\n"
     ]
    },
    {
     "name": "stderr",
     "output_type": "stream",
     "text": [
      "/Users/amandahutter/anaconda3/lib/python3.7/site-packages/mlrose/algorithms.py:311: RuntimeWarning: overflow encountered in exp\n",
      "  prob = np.exp(delta_e/temp)\n"
     ]
    },
    {
     "name": "stdout",
     "output_type": "stream",
     "text": [
      "...Finished GA in 2.5684280395507812\n",
      "...Finished MIMIC in 43.51320505142212\n",
      "Trying Input Length 80\n",
      "...Finished RHC in 0.5319819450378418\n",
      "...Finished SA in 0.05266213417053223\n"
     ]
    },
    {
     "name": "stderr",
     "output_type": "stream",
     "text": [
      "/Users/amandahutter/anaconda3/lib/python3.7/site-packages/mlrose/algorithms.py:311: RuntimeWarning: overflow encountered in exp\n",
      "  prob = np.exp(delta_e/temp)\n"
     ]
    },
    {
     "name": "stdout",
     "output_type": "stream",
     "text": [
      "...Finished GA in 3.8479387760162354\n",
      "...Finished MIMIC in 26.403215169906616\n",
      "Trying Input Length 100\n",
      "...Finished RHC in 0.7093818187713623\n",
      "...Finished SA in 0.061370134353637695\n"
     ]
    },
    {
     "name": "stderr",
     "output_type": "stream",
     "text": [
      "/Users/amandahutter/anaconda3/lib/python3.7/site-packages/mlrose/algorithms.py:311: RuntimeWarning: overflow encountered in exp\n",
      "  prob = np.exp(delta_e/temp)\n"
     ]
    },
    {
     "name": "stdout",
     "output_type": "stream",
     "text": [
      "...Finished GA in 5.305761098861694\n",
      "...Finished MIMIC in 38.44133281707764\n",
      "Trying Input Length 120\n",
      "...Finished RHC in 0.914452075958252\n",
      "...Finished SA in 0.07050967216491699\n",
      "...Finished GA in 6.981284141540527\n",
      "...Finished MIMIC in 303.6042711734772\n",
      "[409.0, 953.0, 1396.0, 1759.0, 2392.0, 2669.0]\n",
      "[390.0, 679.0, 1201.0, 1624.0, 2239.0, 0.0]\n",
      "[507.0, 1103.0, 1633.0, 2124.0, 2741.0, 3276.0]\n",
      "[438.0, 970.0, 1512.0, 1984.0, 2497.0, 3126.0]\n"
     ]
    }
   ],
   "source": [
    "LENGTHS = [20, 40, 60, 80, 100, 120]\n",
    "\n",
    "bf3_rhc_list = []\n",
    "bf3_sa_list = []\n",
    "bf3_ga_list = []\n",
    "bf3_mim_list = []\n",
    "\n",
    "rhc_dict3 = { 'lengths' : [],\n",
    "             'best_fits' : [],\n",
    "             'runtime' : [], \n",
    "             'fit_curves' : []}\n",
    "sa_dict3 = { 'lengths' : [],\n",
    "             'best_fits' : [],\n",
    "             'runtime' : [], \n",
    "             'fit_curves' : []}\n",
    "ga_dict3 = { 'lengths' : [],\n",
    "             'best_fits' : [],\n",
    "             'runtime' : [], \n",
    "             'fit_curves' : []}\n",
    "mimic_dict3 = { 'lengths' : [],\n",
    "             'best_fits' : [],\n",
    "             'runtime' : [], \n",
    "             'fit_curves' : []\n",
    "            #,'num_evals_to_best': []\n",
    "              }\n",
    "\n",
    "for i in range(0, len(LENGTHS)):\n",
    "   \n",
    "    length = LENGTHS[i]\n",
    "    print(\"Trying Input Length\", str(length))\n",
    "    \n",
    "    rhc_dict3['lengths'].append(length)\n",
    "    sa_dict3['lengths'].append(length)\n",
    "    ga_dict3['lengths'].append(length)\n",
    "    mimic_dict3['lengths'].append(length)\n",
    "    \n",
    "    # Step 1\n",
    "    random.seed(42)\n",
    "    weights = []\n",
    "    values = []\n",
    "\n",
    "    for i in range(length):    \n",
    "        weights.append(random.randint(1, 100))\n",
    "        values.append(random.randint(1, 100))\n",
    "        \n",
    "    fitness3 = mlrose.Knapsack(weights=weights, values=values, max_weight_pct = 0.35)\n",
    "    \n",
    "    # Step 2\n",
    "    problem3 = mlrose.DiscreteOpt(length = length, fitness_fn = fitness3, maximize = True, max_val = 2)\n",
    "    \n",
    "    # Step 3 \n",
    "    # RHC \n",
    "    start = time.time()\n",
    "    bs3_rhc, bf3_rhc, curve3_rhc = mlrose.random_hill_climb(problem = problem3, \n",
    "                                               max_attempts = 100, max_iters = 1000, \n",
    "                                               restarts = int(2.0*length), \n",
    "                                               random_state = 42, curve = True)\n",
    "    end_rhc = time.time()\n",
    "    rhc_dict3['runtime'].append(end_rhc-start)\n",
    "    rhc_dict3['best_fits'].append(bf3_rhc)\n",
    "    rhc_dict3['fit_curves'].append(curve3_rhc)\n",
    "    print(\"...Finished RHC in \"+str(end_rhc-start))\n",
    "    \n",
    "    # SA \n",
    "    bs3_sa, bf3_sa, curve3_sa = mlrose.simulated_annealing(problem=problem3, \n",
    "                                               max_attempts=1000, max_iters = 1000, \n",
    "                                               schedule = mlrose.GeomDecay(),\n",
    "                                               random_state = 42, curve = True)\n",
    "    end_sa = time.time()\n",
    "    sa_dict3['runtime'].append(end_sa-end_rhc)\n",
    "    sa_dict3['best_fits'].append(bf3_sa)\n",
    "    sa_dict3['fit_curves'].append(curve3_sa)\n",
    "    print(\"...Finished SA in \"+str(end_sa-end_rhc))\n",
    "\n",
    "    # GA \n",
    "    bs3_ga, bf3_ga, curve3_ga = mlrose.genetic_alg(problem=problem3, \n",
    "                                               pop_size = int(5*length), mutation_prob = 0.20,\n",
    "                                               max_attempts=100, max_iters = 100,                                           \n",
    "                                               random_state = 42, curve = True)\n",
    "    end_ga = time.time()\n",
    "    ga_dict3['runtime'].append(end_ga-end_sa)\n",
    "    ga_dict3['best_fits'].append(bf3_ga)\n",
    "    ga_dict3['fit_curves'].append(curve3_ga)\n",
    "    print(\"...Finished GA in \"+str(end_ga-end_sa))\n",
    "    \n",
    "    # MIMIC \n",
    "    bs3_mim, bf3_mim, curve3_mim = mlrose.mimic(problem=problem3, \n",
    "                                               pop_size = int(5*length), keep_pct = 0.40,\n",
    "                                               max_attempts = 10, max_iters = 100,\n",
    "                                               random_state = 42, curve = True)\n",
    "    \n",
    "    end_mimic = time.time()\n",
    "    mimic_dict3['runtime'].append(end_mimic-end_ga)\n",
    "    mimic_dict3['best_fits'].append(bf3_mim)\n",
    "    mimic_dict3['fit_curves'].append(curve3_mim)\n",
    "    \n",
    "    #arr1 = bf3_mim.tolist()\n",
    "    #print(arr1)\n",
    "    #arr2 = list(curve3_ga)\n",
    "    #print(arr2)\n",
    "    #num_evals = arr2.index(arr1) + 1\n",
    "    #print(num_evals)\n",
    "    #mimic_dict3['num_evals_to_best'] = num_evals\n",
    "    print(\"...Finished MIMIC in \"+str(end_mimic-end_ga))\n",
    "    \n",
    "    \n",
    "    bf3_rhc_list.append(bf3_rhc)\n",
    "    bf3_sa_list.append(bf3_sa)\n",
    "    bf3_ga_list.append(bf3_ga)\n",
    "    bf3_mim_list.append(bf3_mim)\n",
    "    \n",
    "\n",
    "print(bf3_rhc_list)\n",
    "print(bf3_sa_list)\n",
    "print(bf3_ga_list)\n",
    "print(bf3_mim_list)"
   ]
  },
  {
   "cell_type": "code",
   "execution_count": 122,
   "metadata": {},
   "outputs": [
    {
     "data": {
      "text/plain": [
       "{'lengths': [20, 40, 60, 80, 100, 120],\n",
       " 'best_fits': [438.0, 970.0, 1512.0, 1984.0, 2497.0, 3126.0],\n",
       " 'runtime': [2.8296101093292236,\n",
       "  8.320228815078735,\n",
       "  43.51320505142212,\n",
       "  26.403215169906616,\n",
       "  38.44133281707764,\n",
       "  303.6042711734772],\n",
       " 'fit_curves': [array([386., 386., 386., 386., 389., 389., 389., 389., 389., 389., 389.,\n",
       "         389., 438., 438., 438., 438., 438., 438., 438., 438., 438., 438.,\n",
       "         438.]),\n",
       "  array([818., 818., 818., 880., 880., 929., 970., 970., 970., 970., 970.,\n",
       "         970., 970., 970., 970., 970., 970.]),\n",
       "  array([1357., 1357., 1357., 1357., 1357., 1357., 1357., 1357., 1357.,\n",
       "         1375., 1375., 1375., 1375., 1375., 1375., 1375., 1375., 1397.,\n",
       "         1397., 1397., 1397., 1397., 1397., 1397., 1397., 1397., 1397.,\n",
       "         1492., 1512., 1512., 1512., 1512., 1512., 1512., 1512., 1512.,\n",
       "         1512., 1512., 1512.]),\n",
       "  array([1838., 1838., 1984., 1984., 1984., 1984., 1984., 1984., 1984.,\n",
       "         1984., 1984., 1984., 1984.]),\n",
       "  array([   0., 2497., 2497., 2497., 2497., 2497., 2497., 2497., 2497.,\n",
       "         2497., 2497., 2497.]),\n",
       "  array([   0., 2526., 2526., 2526., 2855., 2855., 2855., 2855., 2855.,\n",
       "         2855., 2855., 2855., 2855., 2855., 3126., 3126., 3126., 3126.,\n",
       "         3126., 3126., 3126., 3126., 3126., 3126., 3126.])]}"
      ]
     },
     "execution_count": 122,
     "metadata": {},
     "output_type": "execute_result"
    }
   ],
   "source": [
    "mimic_dict3"
   ]
  },
  {
   "cell_type": "code",
   "execution_count": 123,
   "metadata": {},
   "outputs": [
    {
     "name": "stdout",
     "output_type": "stream",
     "text": [
      "13\n",
      "7\n",
      "29\n",
      "3\n",
      "2\n",
      "15\n"
     ]
    }
   ],
   "source": [
    "for i in range(0, len(LENGTHS)):\n",
    "    #print(i)\n",
    "    #print(mimic_dict3['best_fits'][i])\n",
    "    arr1 = mimic_dict3['best_fits'][i].tolist()\n",
    "\n",
    "    #print(mimic_dict3['fit_curves'][i])\n",
    "    arr2 = list(mimic_dict3['fit_curves'][i])\n",
    "\n",
    "    num_evals = arr2.index(arr1) + 1\n",
    "    print(num_evals)"
   ]
  },
  {
   "cell_type": "code",
   "execution_count": 124,
   "metadata": {},
   "outputs": [
    {
     "data": {
      "image/png": "[encoded data removed]",
      "text/plain": [
       "<Figure size 432x288 with 1 Axes>"
      ]
     },
     "metadata": {
      "needs_background": "light"
     },
     "output_type": "display_data"
    }
   ],
   "source": [
    "plt.clf()\n",
    "plt.plot(rhc_dict3['lengths'], rhc_dict3['best_fits'], label = \"RHC\", color = 'blue')\n",
    "plt.plot(sa_dict3['lengths'], sa_dict3['best_fits'], label = \"SA\", color = 'green')\n",
    "plt.plot(ga_dict3['lengths'], ga_dict3['best_fits'], label = \"GA\", color = 'orange')\n",
    "plt.plot(mimic_dict3['lengths'], mimic_dict3['best_fits'], label = \"MIMIC\", color = 'maroon')\n",
    "\n",
    "plt.xlabel(\"Length of Input Vector\")\n",
    "plt.ylabel(\"Best Fitness\")\n",
    "plt.title(\"KnapSack Fitness by \\nLength of Input Vector\")\n",
    "plt.legend()\n",
    "plt.tight_layout()\n",
    "plt.savefig(\"Part1_KnapSack_Fitness.png\")\n",
    "plt.show()"
   ]
  },
  {
   "cell_type": "code",
   "execution_count": 125,
   "metadata": {},
   "outputs": [
    {
     "data": {
      "image/png": "[encoded data removed]",
      "text/plain": [
       "<Figure size 432x288 with 1 Axes>"
      ]
     },
     "metadata": {
      "needs_background": "light"
     },
     "output_type": "display_data"
    }
   ],
   "source": [
    "plt.clf()\n",
    "plt.plot(rhc_dict3['lengths'], rhc_dict3['runtime'], label = \"RHC\", color = 'blue')\n",
    "plt.plot(sa_dict3['lengths'], sa_dict3['runtime'], label = \"SA\", color = 'green')\n",
    "plt.plot(ga_dict3['lengths'], ga_dict3['runtime'], label = \"GA\", color = 'orange')\n",
    "plt.plot(mimic_dict3['lengths'], mimic_dict3['runtime'], label = \"MIMIC\", color = 'maroon')\n",
    "\n",
    "plt.xlabel(\"Length of Input Vector\")\n",
    "plt.ylabel(\"Runtime\")\n",
    "plt.title(\"KnapSack Runtime by \\nLength of Input Vector\")\n",
    "plt.legend()\n",
    "plt.tight_layout()\n",
    "plt.savefig(\"Part1_Runtime_Fitness.png\")\n",
    "plt.show()"
   ]
  },
  {
   "cell_type": "code",
   "execution_count": null,
   "metadata": {},
   "outputs": [],
   "source": []
  }
 ],
 "metadata": {
  "kernelspec": {
   "display_name": "Python 3",
   "language": "python",
   "name": "python3"
  },
  "language_info": {
   "codemirror_mode": {
    "name": "ipython",
    "version": 3
   },
   "file_extension": ".py",
   "mimetype": "text/x-python",
   "name": "python",
   "nbconvert_exporter": "python",
   "pygments_lexer": "ipython3",
   "version": "3.7.9"
  }
 },
 "nbformat": 4,
 "nbformat_minor": 4
}
